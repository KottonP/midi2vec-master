{
 "cells": [
  {
   "cell_type": "code",
   "execution_count": 4,
   "metadata": {
    "collapsed": true
   },
   "outputs": [
    {
     "name": "stderr",
     "output_type": "stream",
     "text": [
      "Intel(R) Extension for Scikit-learn* enabled (https://github.com/intel/scikit-learn-intelex)\n"
     ]
    },
    {
     "ename": "ModuleNotFoundError",
     "evalue": "No module named 'seaborn'",
     "output_type": "error",
     "traceback": [
      "\u001B[1;31m---------------------------------------------------------------------------\u001B[0m",
      "\u001B[1;31mModuleNotFoundError\u001B[0m                       Traceback (most recent call last)",
      "\u001B[1;32m~\\AppData\\Local\\Temp\\ipykernel_12432\\2203657322.py\u001B[0m in \u001B[0;36m<module>\u001B[1;34m\u001B[0m\n\u001B[0;32m     21\u001B[0m \u001B[1;32mfrom\u001B[0m \u001B[0msklearn\u001B[0m\u001B[1;33m.\u001B[0m\u001B[0mmodel_selection\u001B[0m \u001B[1;32mimport\u001B[0m \u001B[0mcross_val_score\u001B[0m\u001B[1;33m,\u001B[0m \u001B[0mcross_val_predict\u001B[0m\u001B[1;33m,\u001B[0m \u001B[0mcross_validate\u001B[0m\u001B[1;33m,\u001B[0m \u001B[0mKFold\u001B[0m\u001B[1;33m,\u001B[0m \u001B[0mRepeatedKFold\u001B[0m\u001B[1;33m\u001B[0m\u001B[1;33m\u001B[0m\u001B[0m\n\u001B[0;32m     22\u001B[0m \u001B[1;32mfrom\u001B[0m \u001B[0msklearn\u001B[0m\u001B[1;33m.\u001B[0m\u001B[0mpreprocessing\u001B[0m \u001B[1;32mimport\u001B[0m \u001B[0mLabelBinarizer\u001B[0m\u001B[1;33m\u001B[0m\u001B[1;33m\u001B[0m\u001B[0m\n\u001B[1;32m---> 23\u001B[1;33m \u001B[1;32mfrom\u001B[0m \u001B[0mutils\u001B[0m \u001B[1;32mimport\u001B[0m \u001B[0mOneHotEncoder\u001B[0m\u001B[1;33m\u001B[0m\u001B[1;33m\u001B[0m\u001B[0m\n\u001B[0m\u001B[0;32m     24\u001B[0m \u001B[1;32mfrom\u001B[0m \u001B[0multility_functions\u001B[0m \u001B[1;32mimport\u001B[0m \u001B[0mOneCycleScheduler\u001B[0m\u001B[1;33m\u001B[0m\u001B[1;33m\u001B[0m\u001B[0m\n\u001B[0;32m     25\u001B[0m \u001B[1;33m\u001B[0m\u001B[0m\n",
      "\u001B[1;32m~\\Documents\\midi2vec\\midi2vec-master\\utils.py\u001B[0m in \u001B[0;36m<module>\u001B[1;34m\u001B[0m\n\u001B[0;32m      8\u001B[0m \u001B[1;32mfrom\u001B[0m \u001B[0msklearn\u001B[0m\u001B[1;33m.\u001B[0m\u001B[0mpreprocessing\u001B[0m \u001B[1;32mimport\u001B[0m \u001B[0mnormalize\u001B[0m\u001B[1;33m\u001B[0m\u001B[1;33m\u001B[0m\u001B[0m\n\u001B[0;32m      9\u001B[0m \u001B[1;32mfrom\u001B[0m \u001B[0mcollections\u001B[0m \u001B[1;32mimport\u001B[0m \u001B[0mCounter\u001B[0m\u001B[1;33m\u001B[0m\u001B[1;33m\u001B[0m\u001B[0m\n\u001B[1;32m---> 10\u001B[1;33m \u001B[1;32mimport\u001B[0m \u001B[0mseaborn\u001B[0m \u001B[1;32mas\u001B[0m \u001B[0msns\u001B[0m\u001B[1;33m\u001B[0m\u001B[1;33m\u001B[0m\u001B[0m\n\u001B[0m\u001B[0;32m     11\u001B[0m \u001B[1;33m\u001B[0m\u001B[0m\n\u001B[0;32m     12\u001B[0m \u001B[1;33m\u001B[0m\u001B[0m\n",
      "\u001B[1;31mModuleNotFoundError\u001B[0m: No module named 'seaborn'"
     ]
    }
   ],
   "source": [
    "import os\n",
    "\n",
    "import matplotlib.pyplot as plt\n",
    "import math\n",
    "import networkx as nx\n",
    "import numpy as np\n",
    "import pandas as pd\n",
    "from gensim.models import KeyedVectors\n",
    "from sklearnex import patch_sklearn\n",
    "from tqdm.notebook import tqdm\n",
    "\n",
    "patch_sklearn()\n",
    "\n",
    "import tensorflow as tf\n",
    "from tensorflow import keras\n",
    "from keras import layers\n",
    "# from keras.wrappers.scikit_learn import KerasClassifier\n",
    "from scikeras.wrappers import KerasClassifier\n",
    "\n",
    "from sklearn.metrics import ConfusionMatrixDisplay\n",
    "from sklearn.model_selection import cross_val_score, cross_val_predict, cross_validate, KFold, RepeatedKFold\n",
    "from sklearn.preprocessing import LabelBinarizer\n",
    "from utils import OneHotEncoder\n",
    "from ultility_functions import OneCycleScheduler\n",
    "\n",
    "\n",
    "print(tf.__version__)\n",
    "print(tf.keras.__version__)\n",
    "random_state = 2111"
   ]
  },
  {
   "cell_type": "code",
   "execution_count": 4,
   "outputs": [
    {
     "ename": "SyntaxError",
     "evalue": "invalid syntax (3942081228.py, line 2)",
     "output_type": "error",
     "traceback": [
      "\u001B[1;36m  File \u001B[1;32m\"C:\\Users\\pvamvakas\\AppData\\Local\\Temp\\ipykernel_9956\\3942081228.py\"\u001B[1;36m, line \u001B[1;32m2\u001B[0m\n\u001B[1;33m    ids = df.id.tolist()cannot import name 'sparse_lsqr' from 'sklearn.utils.fixes'\u001B[0m\n\u001B[1;37m                        ^\u001B[0m\n\u001B[1;31mSyntaxError\u001B[0m\u001B[1;31m:\u001B[0m invalid syntax\n"
     ]
    }
   ],
   "source": [
    "df = pd.read_csv('./slac/Contents of SLAC/slac.csv', usecols=['id','genre', 'subgenre', 'title'])\n",
    "ids = df.id.tolist()\n",
    "path = './slac/embeddings/'\n",
    "emb = KeyedVectors.load_word2vec_format(path+'slac.bin')\n",
    "data = np.array([emb[i] for i in ids])\n",
    "emb_sets = {\n",
    "    'ALL' : data,\n",
    "}"
   ],
   "metadata": {
    "collapsed": false
   }
  },
  {
   "cell_type": "code",
   "execution_count": 95,
   "outputs": [
    {
     "name": "stdout",
     "output_type": "stream",
     "text": [
      "genre.shape=(250, 1)\n",
      "lb.classes_=['Blues' 'Classical' 'Jazz' 'Rap' 'Rock']\n",
      "data.shape=(250, 100)\n",
      "lb_labels.shape=(250, 5)\n",
      "(num_input, num_output)=(100, 5)\n"
     ]
    }
   ],
   "source": [
    "genre = np.array(df.genre).reshape(-1, 1)\n",
    "\n",
    "lb = LabelBinarizer()\n",
    "lb_labels = lb.fit_transform(genre)\n",
    "\n",
    "num_input, num_output = data.shape[1], lb_labels.shape[1]\n",
    "\n",
    "print(f'genre.shape={genre.shape}',\n",
    "      f'lb.classes_={lb.classes_}',\n",
    "      f'data.shape={data.shape}',\n",
    "      f'lb_labels.shape={lb_labels.shape}',\n",
    "      f'(num_input, num_output)={(num_input, num_output)}', sep='\\n')\n"
   ],
   "metadata": {
    "collapsed": false
   }
  },
  {
   "cell_type": "code",
   "execution_count": 100,
   "outputs": [],
   "source": [
    "def create_n_model(n_layers=1, kernel_init:str=None, activation_fn:str=\"relu\"):\n",
    "    model = keras.Sequential()\n",
    "    # Input Layer\n",
    "    model.add(layers.Dense(100, activation=activation_fn, kernel_initializer=kernel_init, input_shape=(num_input,)))\n",
    "    # Hidden Layers\n",
    "    for _ in range(n_layers):\n",
    "        model.add(layers.Dense(100, activation=activation_fn, kernel_initializer=kernel_init))\n",
    "    # Output Layers\n",
    "    model.add(layers.Dense(num_output, activation='sigmoid'))\n",
    "\n",
    "    model.compile(optimizer=keras.optimizers.Nadam(learning_rate=.01),\n",
    "                  loss=keras.losses.CategoricalCrossentropy(from_logits=False),\n",
    "                  metrics=[keras.metrics.CategoricalAccuracy(name='accuracy')])\n",
    "\n",
    "    return model"
   ],
   "metadata": {
    "collapsed": false
   }
  },
  {
   "cell_type": "code",
   "execution_count": 101,
   "outputs": [],
   "source": [
    "net_params = {\"n_layers\" : 1, \"kernel_init\" : \"he_normal\", \"activation_fn\" : \"selu\", \"epochs\" : 10, \"batch_size\" : 50}\n",
    "\n",
    "onecycle = OneCycleScheduler(math.ceil(len(data) / net_params[\"batch_size\"]) * net_params[\"epochs\"], max_rate=0.05)\n",
    "\n",
    "fit_params = {\"callbacks\" : onecycle}"
   ],
   "metadata": {
    "collapsed": false
   }
  },
  {
   "cell_type": "code",
   "execution_count": 102,
   "outputs": [
    {
     "name": "stderr",
     "output_type": "stream",
     "text": [
      "[Parallel(n_jobs=-1)]: Using backend LokyBackend with 12 concurrent workers.\n"
     ]
    },
    {
     "name": "stdout",
     "output_type": "stream",
     "text": [
      "[0.92 0.84 0.92 0.8  0.84 0.96 0.84 0.88 0.68 0.8 ]\n",
      "Accuracy: 0.848 (0.075)\n"
     ]
    },
    {
     "name": "stderr",
     "output_type": "stream",
     "text": [
      "[Parallel(n_jobs=-1)]: Done  10 out of  10 | elapsed:    8.4s finished\n"
     ]
    }
   ],
   "source": [
    "neural_network = KerasClassifier(model=create_n_model,\n",
    "                                 verbose=0,\n",
    "                                 **net_params)\n",
    "\n",
    "\n",
    "scores = cross_val_score(neural_network, data, lb_labels,\n",
    "                         cv=KFold(10, shuffle=True, random_state=random_state), n_jobs=-1, verbose=1,\n",
    "                         fit_params=fit_params)\n",
    "\n",
    "print(scores)\n",
    "m = np.mean(scores)\n",
    "s = np.std(scores)\n",
    "print('Accuracy: %.3f (%.3f)' % (m, s))"
   ],
   "metadata": {
    "collapsed": false
   }
  },
  {
   "cell_type": "code",
   "execution_count": 51,
   "outputs": [
    {
     "data": {
      "text/plain": "  0%|          | 0/1 [00:00<?, ?it/s]",
      "application/vnd.jupyter.widget-view+json": {
       "version_major": 2,
       "version_minor": 0,
       "model_id": "6892b12f97f3405d8a2d5b5d9bb6e48d"
      }
     },
     "metadata": {},
     "output_type": "display_data"
    },
    {
     "name": "stdout",
     "output_type": "stream",
     "text": [
      "ALL\n",
      "[0.16 0.12 0.08 0.08 0.   0.08 0.04 0.08 0.12 0.12]\n"
     ]
    },
    {
     "data": {
      "text/plain": "{'ALL': 0.08800000000000001}"
     },
     "execution_count": 51,
     "metadata": {},
     "output_type": "execute_result"
    }
   ],
   "source": [
    "scores_5c = {}\n",
    "scores_5c_all = {}\n",
    "for name, d in tqdm(emb_sets.items()):\n",
    "    print(name)\n",
    "    scores = cross_val_score(neural_network, d, lb_labels,\n",
    "                             cv=KFold(10, shuffle=True, random_state=random_state), n_jobs=-1, verbose=0)\n",
    "    print(scores)\n",
    "    scores_5c[name] = np.mean(scores)\n",
    "    scores_5c_all[name] = scores\n",
    "\n",
    "scores_5c"
   ],
   "metadata": {
    "collapsed": false
   }
  }
 ],
 "metadata": {
  "kernelspec": {
   "display_name": "Python 3",
   "language": "python",
   "name": "python3"
  },
  "language_info": {
   "codemirror_mode": {
    "name": "ipython",
    "version": 2
   },
   "file_extension": ".py",
   "mimetype": "text/x-python",
   "name": "python",
   "nbconvert_exporter": "python",
   "pygments_lexer": "ipython2",
   "version": "2.7.6"
  }
 },
 "nbformat": 4,
 "nbformat_minor": 0
}
