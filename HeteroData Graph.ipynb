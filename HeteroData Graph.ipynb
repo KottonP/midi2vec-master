{
 "cells": [
  {
   "cell_type": "code",
   "execution_count": 26,
   "metadata": {},
   "outputs": [
    {
     "name": "stdout",
     "output_type": "stream",
     "text": [
      "1.7.3\n",
      "3.6.2\n",
      "2.8.4\n"
     ]
    }
   ],
   "source": [
    "import os\n",
    "from typing import Optional\n",
    "\n",
    "import scipy\n",
    "\n",
    "# from mido import MidiFile\n",
    "import networkx as nx\n",
    "from networkx_viewer import Viewer\n",
    "import matplotlib\n",
    "import matplotlib.pyplot as plt\n",
    "\n",
    "import math\n",
    "import numpy as np\n",
    "import pandas as pd\n",
    "\n",
    "from torch_geometric.data import HeteroData\n",
    "\n",
    "\n",
    "print(scipy.__version__)\n",
    "print(matplotlib.__version__)\n",
    "print(nx.__version__)"
   ]
  },
  {
   "cell_type": "code",
   "execution_count": 27,
   "metadata": {},
   "outputs": [],
   "source": [
    "def complete_graph(input_path) -> nx.Graph:\n",
    "    edgelists = [qf for qf in os.listdir(input_path)\n",
    "                 if qf.endswith('.edgelist') and not qf.startswith('_')]\n",
    "    g = None\n",
    "\n",
    "    print('loading edgelists...')\n",
    "    for eg in edgelists:\n",
    "        print('- ' + eg)\n",
    "        h = nx.read_edgelist(os.path.join(input_path, eg), nodetype=str, create_using=nx.DiGraph(), delimiter=' ')\n",
    "        for edge in h.edges():\n",
    "            h[edge[0]][edge[1]]['weight'] = 1\n",
    "\n",
    "        g = h if g is None else nx.compose(g, h)\n",
    "\n",
    "    g = g.to_undirected()\n",
    "\n",
    "    print('Nodes: %d' % nx.number_of_nodes(g))\n",
    "    print('Edges: %d' % nx.number_of_edges(g))\n",
    "    return g\n"
   ]
  },
  {
   "cell_type": "code",
   "execution_count": 28,
   "metadata": {},
   "outputs": [
    {
     "name": "stdout",
     "output_type": "stream",
     "text": [
      "loading edgelists...\n",
      "- full_edgelist.edgelist\n",
      "- notes.edgelist\n",
      "- program.edgelist\n",
      "- tempo.edgelist\n",
      "- time.signature.edgelist\n",
      "Nodes: 2703\n",
      "Edges: 19366\n"
     ]
    }
   ],
   "source": [
    "G = complete_graph(\".\\slac\\embeddings\\Test Edgelists\")"
   ]
  },
  {
   "cell_type": "code",
   "execution_count": 29,
   "metadata": {},
   "outputs": [],
   "source": [
    "nodes = pd.DataFrame((list(G.nodes)), columns=['name'])\n",
    "edges = pd.DataFrame(np.array(list(G.edges)), columns=['source', 'target'])"
   ]
  },
  {
   "cell_type": "code",
   "execution_count": 30,
   "metadata": {},
   "outputs": [
    {
     "data": {
      "text/plain": [
       "['11', '6', '9']"
      ]
     },
     "execution_count": 30,
     "metadata": {},
     "output_type": "execute_result"
    }
   ],
   "source": [
    "note_groups = [n for n in nodes['name'] if n[0] == 'g' and n[1] in [str(i) for i in range(10)] + ['-'] ]\n",
    "\n",
    "not_group_nodes = [n for n in nodes['name'] if n not in note_groups]\n",
    "\n",
    "url = [n for n in not_group_nodes if n[:4] == 'http']\n",
    "program_nodes = []\n",
    "note_nodes = []\n",
    "for u in url:\n",
    "    if \"programs\" in u:\n",
    "        program_nodes.append(u)\n",
    "    elif \"notes\" in u:\n",
    "        note_nodes.append(u)\n",
    "    else:\n",
    "        print(u)\n",
    "\n",
    "name_nodes = [n for n in not_group_nodes if n[0] == '-']\n",
    "dur_nodes = [n for n in not_group_nodes if n[:3] == 'dur']\n",
    "vel_nodes = [n for n in not_group_nodes if n[:3] == 'vel']\n",
    "time_nodes = [n for n in not_group_nodes if n[:4] == 'time']\n",
    "tempo_nodes = [n for n in not_group_nodes if n not in set(dur_nodes).union(vel_nodes, time_nodes, name_nodes, url)]\n",
    "\n",
    "tempo_nodes"
   ]
  },
  {
   "cell_type": "code",
   "execution_count": 31,
   "metadata": {},
   "outputs": [
    {
     "data": {
      "text/plain": [
       "dict_keys(['note_group', 'pitch', 'program', 'MIDI', 'duration', 'velocity', 'time_sig', 'tempo'])"
      ]
     },
     "execution_count": 31,
     "metadata": {},
     "output_type": "execute_result"
    }
   ],
   "source": [
    "node_categories = {\"note_group\": note_groups,\n",
    "                    \"pitch\": note_nodes,\n",
    "                    \"program\": program_nodes,\n",
    "                    \"MIDI\": name_nodes,\n",
    "                    \"duration\": dur_nodes,\n",
    "                    \"velocity\": vel_nodes,\n",
    "                    \"time_sig\": time_nodes,\n",
    "                    \"tempo\": tempo_nodes\n",
    "                   }\n",
    "\n",
    "node_categories.keys()"
   ]
  },
  {
   "cell_type": "code",
   "execution_count": 32,
   "metadata": {},
   "outputs": [],
   "source": [
    "def add_edge_names(edges_pd: pd.DataFrame, node_cat: dict) -> pd.DataFrame:\n",
    "    edge_type = []\n",
    "\n",
    "    edge_name_source = None\n",
    "    edge_name_target = None\n",
    "\n",
    "    augmented_edges_pd = edges_pd.copy()\n",
    "\n",
    "    for i in range(len(edges.index)):\n",
    "        for name in node_cat.keys():\n",
    "            if edges.iloc[i]['source'] in node_cat[name]:\n",
    "                edge_name_source = name + \"__\"\n",
    "                break\n",
    "        for name in node_cat.keys():\n",
    "            if edges.iloc[i]['target'] in node_cat[name]:\n",
    "                edge_name_target = name\n",
    "                break\n",
    "                \n",
    "        edge_name = edge_name_source + edge_name_target\n",
    "        edge_type.append(edge_name)\n",
    "        \n",
    "    augmented_edges_pd['edge_type'] = edge_type\n",
    "    return augmented_edges_pd\n"
   ]
  },
  {
   "cell_type": "code",
   "execution_count": 33,
   "metadata": {},
   "outputs": [],
   "source": [
    "edges_2 = add_edge_names(edges, node_categories)\n"
   ]
  },
  {
   "cell_type": "code",
   "execution_count": 34,
   "metadata": {},
   "outputs": [
    {
     "data": {
      "text/plain": [
       "{'MIDI__note_group',\n",
       " 'MIDI__program',\n",
       " 'MIDI__tempo',\n",
       " 'MIDI__time_sig',\n",
       " 'duration__note_group',\n",
       " 'note_group__MIDI',\n",
       " 'note_group__duration',\n",
       " 'note_group__pitch',\n",
       " 'note_group__velocity',\n",
       " 'pitch__note_group',\n",
       " 'program__MIDI',\n",
       " 'time_sig__MIDI',\n",
       " 'velocity__note_group'}"
      ]
     },
     "execution_count": 34,
     "metadata": {},
     "output_type": "execute_result"
    }
   ],
   "source": [
    "set(edges_2['edge_type'])"
   ]
  },
  {
   "cell_type": "code",
   "execution_count": 35,
   "metadata": {},
   "outputs": [
    {
     "data": {
      "text/html": [
       "<div>\n",
       "<style scoped>\n",
       "    .dataframe tbody tr th:only-of-type {\n",
       "        vertical-align: middle;\n",
       "    }\n",
       "\n",
       "    .dataframe tbody tr th {\n",
       "        vertical-align: top;\n",
       "    }\n",
       "\n",
       "    .dataframe thead th {\n",
       "        text-align: right;\n",
       "    }\n",
       "</style>\n",
       "<table border=\"1\" class=\"dataframe\">\n",
       "  <thead>\n",
       "    <tr style=\"text-align: right;\">\n",
       "      <th></th>\n",
       "      <th>source</th>\n",
       "      <th>target</th>\n",
       "    </tr>\n",
       "  </thead>\n",
       "  <tbody>\n",
       "    <tr>\n",
       "      <th>933</th>\n",
       "      <td>-Albert_King_-_Born_Under_A_Bad_Sign</td>\n",
       "      <td>http://purl.org/midi-ld/programs/30</td>\n",
       "    </tr>\n",
       "    <tr>\n",
       "      <th>934</th>\n",
       "      <td>-Albert_King_-_Born_Under_A_Bad_Sign</td>\n",
       "      <td>http://purl.org/midi-ld/programs/0</td>\n",
       "    </tr>\n",
       "    <tr>\n",
       "      <th>935</th>\n",
       "      <td>-Albert_King_-_Born_Under_A_Bad_Sign</td>\n",
       "      <td>http://purl.org/midi-ld/programs/33</td>\n",
       "    </tr>\n",
       "    <tr>\n",
       "      <th>9697</th>\n",
       "      <td>-B_B_King_-_How_Blue_Can_You_Get</td>\n",
       "      <td>http://purl.org/midi-ld/programs/17</td>\n",
       "    </tr>\n",
       "    <tr>\n",
       "      <th>9698</th>\n",
       "      <td>-B_B_King_-_How_Blue_Can_You_Get</td>\n",
       "      <td>http://purl.org/midi-ld/programs/4</td>\n",
       "    </tr>\n",
       "    <tr>\n",
       "      <th>9699</th>\n",
       "      <td>-B_B_King_-_How_Blue_Can_You_Get</td>\n",
       "      <td>http://purl.org/midi-ld/programs/26</td>\n",
       "    </tr>\n",
       "    <tr>\n",
       "      <th>9700</th>\n",
       "      <td>-B_B_King_-_How_Blue_Can_You_Get</td>\n",
       "      <td>http://purl.org/midi-ld/programs/61</td>\n",
       "    </tr>\n",
       "    <tr>\n",
       "      <th>9701</th>\n",
       "      <td>-B_B_King_-_How_Blue_Can_You_Get</td>\n",
       "      <td>http://purl.org/midi-ld/programs/56</td>\n",
       "    </tr>\n",
       "    <tr>\n",
       "      <th>9702</th>\n",
       "      <td>-B_B_King_-_How_Blue_Can_You_Get</td>\n",
       "      <td>http://purl.org/midi-ld/programs/66</td>\n",
       "    </tr>\n",
       "    <tr>\n",
       "      <th>9703</th>\n",
       "      <td>-B_B_King_-_How_Blue_Can_You_Get</td>\n",
       "      <td>http://purl.org/midi-ld/programs/35</td>\n",
       "    </tr>\n",
       "    <tr>\n",
       "      <th>18861</th>\n",
       "      <td>-B_B_King_-_Rock_Me_Baby</td>\n",
       "      <td>http://purl.org/midi-ld/programs/1</td>\n",
       "    </tr>\n",
       "    <tr>\n",
       "      <th>18862</th>\n",
       "      <td>-B_B_King_-_Rock_Me_Baby</td>\n",
       "      <td>http://purl.org/midi-ld/programs/2</td>\n",
       "    </tr>\n",
       "    <tr>\n",
       "      <th>18863</th>\n",
       "      <td>-B_B_King_-_Rock_Me_Baby</td>\n",
       "      <td>http://purl.org/midi-ld/programs/27</td>\n",
       "    </tr>\n",
       "    <tr>\n",
       "      <th>18864</th>\n",
       "      <td>-B_B_King_-_Rock_Me_Baby</td>\n",
       "      <td>http://purl.org/midi-ld/programs/61</td>\n",
       "    </tr>\n",
       "  </tbody>\n",
       "</table>\n",
       "</div>"
      ],
      "text/plain": [
       "                                     source  \\\n",
       "933    -Albert_King_-_Born_Under_A_Bad_Sign   \n",
       "934    -Albert_King_-_Born_Under_A_Bad_Sign   \n",
       "935    -Albert_King_-_Born_Under_A_Bad_Sign   \n",
       "9697       -B_B_King_-_How_Blue_Can_You_Get   \n",
       "9698       -B_B_King_-_How_Blue_Can_You_Get   \n",
       "9699       -B_B_King_-_How_Blue_Can_You_Get   \n",
       "9700       -B_B_King_-_How_Blue_Can_You_Get   \n",
       "9701       -B_B_King_-_How_Blue_Can_You_Get   \n",
       "9702       -B_B_King_-_How_Blue_Can_You_Get   \n",
       "9703       -B_B_King_-_How_Blue_Can_You_Get   \n",
       "18861              -B_B_King_-_Rock_Me_Baby   \n",
       "18862              -B_B_King_-_Rock_Me_Baby   \n",
       "18863              -B_B_King_-_Rock_Me_Baby   \n",
       "18864              -B_B_King_-_Rock_Me_Baby   \n",
       "\n",
       "                                    target  \n",
       "933    http://purl.org/midi-ld/programs/30  \n",
       "934     http://purl.org/midi-ld/programs/0  \n",
       "935    http://purl.org/midi-ld/programs/33  \n",
       "9697   http://purl.org/midi-ld/programs/17  \n",
       "9698    http://purl.org/midi-ld/programs/4  \n",
       "9699   http://purl.org/midi-ld/programs/26  \n",
       "9700   http://purl.org/midi-ld/programs/61  \n",
       "9701   http://purl.org/midi-ld/programs/56  \n",
       "9702   http://purl.org/midi-ld/programs/66  \n",
       "9703   http://purl.org/midi-ld/programs/35  \n",
       "18861   http://purl.org/midi-ld/programs/1  \n",
       "18862   http://purl.org/midi-ld/programs/2  \n",
       "18863  http://purl.org/midi-ld/programs/27  \n",
       "18864  http://purl.org/midi-ld/programs/61  "
      ]
     },
     "execution_count": 35,
     "metadata": {},
     "output_type": "execute_result"
    }
   ],
   "source": [
    "edges_2.loc[edges_2['edge_type'] == 'MIDI__program', ['source', 'target']]"
   ]
  },
  {
   "cell_type": "code",
   "execution_count": 36,
   "metadata": {},
   "outputs": [
    {
     "data": {
      "text/html": [
       "<div>\n",
       "<style scoped>\n",
       "    .dataframe tbody tr th:only-of-type {\n",
       "        vertical-align: middle;\n",
       "    }\n",
       "\n",
       "    .dataframe tbody tr th {\n",
       "        vertical-align: top;\n",
       "    }\n",
       "\n",
       "    .dataframe thead th {\n",
       "        text-align: right;\n",
       "    }\n",
       "</style>\n",
       "<table border=\"1\" class=\"dataframe\">\n",
       "  <thead>\n",
       "    <tr style=\"text-align: right;\">\n",
       "      <th></th>\n",
       "      <th>source</th>\n",
       "      <th>target</th>\n",
       "    </tr>\n",
       "  </thead>\n",
       "  <tbody>\n",
       "    <tr>\n",
       "      <th>7102</th>\n",
       "      <td>http://purl.org/midi-ld/programs/30</td>\n",
       "      <td>-B_B_King_-_Rock_Me_Baby</td>\n",
       "    </tr>\n",
       "    <tr>\n",
       "      <th>7103</th>\n",
       "      <td>http://purl.org/midi-ld/programs/0</td>\n",
       "      <td>-B_B_King_-_How_Blue_Can_You_Get</td>\n",
       "    </tr>\n",
       "    <tr>\n",
       "      <th>7104</th>\n",
       "      <td>http://purl.org/midi-ld/programs/0</td>\n",
       "      <td>-B_B_King_-_Rock_Me_Baby</td>\n",
       "    </tr>\n",
       "    <tr>\n",
       "      <th>7105</th>\n",
       "      <td>http://purl.org/midi-ld/programs/33</td>\n",
       "      <td>-B_B_King_-_Rock_Me_Baby</td>\n",
       "    </tr>\n",
       "  </tbody>\n",
       "</table>\n",
       "</div>"
      ],
      "text/plain": [
       "                                   source                            target\n",
       "7102  http://purl.org/midi-ld/programs/30          -B_B_King_-_Rock_Me_Baby\n",
       "7103   http://purl.org/midi-ld/programs/0  -B_B_King_-_How_Blue_Can_You_Get\n",
       "7104   http://purl.org/midi-ld/programs/0          -B_B_King_-_Rock_Me_Baby\n",
       "7105  http://purl.org/midi-ld/programs/33          -B_B_King_-_Rock_Me_Baby"
      ]
     },
     "execution_count": 36,
     "metadata": {},
     "output_type": "execute_result"
    }
   ],
   "source": [
    "edges_2.loc[edges_2['edge_type'] == 'program__MIDI', ['source', 'target']]"
   ]
  },
  {
   "cell_type": "code",
   "execution_count": 37,
   "metadata": {},
   "outputs": [],
   "source": [
    "main_edge_types = [\"MIDI__has__tempo\",\n",
    "                   \"MIDI__in__time_sig\",\n",
    "                   \"MIDI__has__program\",\n",
    "                   \"MIDI__has__note_group\",\n",
    "                   \"note_group__has__velocity\",\n",
    "                   \"note_group__has__duration\",\n",
    "                   \"note_group__contains__pitch\"]\n",
    "\n",
    "\n",
    "# 'duration__note_group',\n",
    "# 'note__note_group',\n",
    "# 'velocity__note_group'\n",
    "\n",
    "# 'note_group__MIDI',\n",
    "# 'program__MIDI',\n",
    "# 'time_sig__MIDI',\n"
   ]
  },
  {
   "cell_type": "code",
   "execution_count": 38,
   "metadata": {},
   "outputs": [],
   "source": [
    "def reverse_edge(df: pd.DataFrame, row: int, inplace: bool = False) -> Optional[pd.DataFrame]:\n",
    "    if inplace:\n",
    "        df.iloc[row]['source'], df.iloc[row]['target'] = df.iloc[row]['target'], df.iloc[row]['source']\n",
    "        return None\n",
    "    elif not inplace:\n",
    "        tmp = df.copy()\n",
    "        tmp.iloc[row]['source'], tmp.iloc[row]['target'] = tmp.iloc[row]['target'], tmp.iloc[row]['source']\n",
    "        return tmp\n",
    "\n",
    "\n",
    "def format_edge_name(source: str, target: str) -> str:\n",
    "    edge_name = \"\"\n",
    "\n",
    "    if source == \"MIDI\":\n",
    "        if target == \"tempo\":\n",
    "            edge_name = source + \"__has__\" + target\n",
    "        elif target == \"time_sig\":\n",
    "            edge_name = source + \"__in__\" + target\n",
    "        elif target == \"program\":\n",
    "            edge_name = source + \"__has__\" + target\n",
    "        elif target == \"note_group\":\n",
    "            edge_name = source + \"__has__\" + target\n",
    "    elif source == \"note_group\":\n",
    "        if target == \"velocity\":\n",
    "            edge_name = source + \"__has__\" + target\n",
    "        elif target == \"duration\":\n",
    "            edge_name = source + \"__has__\" + target\n",
    "        elif target == \"pitch\":\n",
    "            edge_name = source + \"__contains__\" + target\n",
    "    else:\n",
    "        edge_name = source + \"__?__\" + target\n",
    "        print(\"Not known edge detected: \" + edge_name)\n",
    "        return edge_name\n",
    "\n",
    "    return edge_name\n",
    "    \n",
    "\n",
    "def add_edge_names2(edges_df: pd.DataFrame, node_cat: dict) -> pd.DataFrame:\n",
    "    edge_type = []\n",
    "\n",
    "    edge_name_source = \"\"\n",
    "    edge_name_target = \"\"\n",
    "\n",
    "    augmented_edges_df = edges_df.copy()\n",
    "\n",
    "    for i in range(len(edges_df.index)):\n",
    "        for name in node_cat.keys():\n",
    "            if edges_df.iloc[i]['source'] in node_cat[name]:\n",
    "                edge_name_source = name\n",
    "                break\n",
    "        for name in node_cat.keys():\n",
    "            if edges_df.iloc[i]['target'] in node_cat[name]:\n",
    "                edge_name_target = name\n",
    "                break\n",
    "\n",
    "        if (edge_name_source not in (\"MIDI\", \"note_group\")) or (edge_name_source == \"note_group\" and edge_name_target == \"MIDI\"):\n",
    "            reverse_edge(augmented_edges_df, row=i, inplace=True)\n",
    "            edge_name_source, edge_name_target = edge_name_target, edge_name_source\n",
    "\n",
    "        edge_name = format_edge_name(edge_name_source, edge_name_target)\n",
    "        edge_type.append(edge_name)\n",
    "\n",
    "    augmented_edges_df['edge_type'] = edge_type\n",
    "    return augmented_edges_df\n"
   ]
  },
  {
   "cell_type": "code",
   "execution_count": 39,
   "metadata": {},
   "outputs": [],
   "source": [
    "edges_3 = add_edge_names2(edges, node_categories)"
   ]
  },
  {
   "cell_type": "code",
   "execution_count": 40,
   "metadata": {},
   "outputs": [
    {
     "data": {
      "text/plain": [
       "{'MIDI__has__note_group',\n",
       " 'MIDI__has__program',\n",
       " 'MIDI__has__tempo',\n",
       " 'MIDI__in__time_sig',\n",
       " 'note_group__contains__pitch',\n",
       " 'note_group__has__duration',\n",
       " 'note_group__has__velocity'}"
      ]
     },
     "execution_count": 40,
     "metadata": {},
     "output_type": "execute_result"
    }
   ],
   "source": [
    "set(edges_3['edge_type'])"
   ]
  },
  {
   "cell_type": "code",
   "execution_count": 41,
   "metadata": {},
   "outputs": [
    {
     "data": {
      "text/html": [
       "<div>\n",
       "<style scoped>\n",
       "    .dataframe tbody tr th:only-of-type {\n",
       "        vertical-align: middle;\n",
       "    }\n",
       "\n",
       "    .dataframe tbody tr th {\n",
       "        vertical-align: top;\n",
       "    }\n",
       "\n",
       "    .dataframe thead th {\n",
       "        text-align: right;\n",
       "    }\n",
       "</style>\n",
       "<table border=\"1\" class=\"dataframe\">\n",
       "  <thead>\n",
       "    <tr style=\"text-align: right;\">\n",
       "      <th></th>\n",
       "      <th>source</th>\n",
       "      <th>target</th>\n",
       "    </tr>\n",
       "  </thead>\n",
       "  <tbody>\n",
       "    <tr>\n",
       "      <th>933</th>\n",
       "      <td>-Albert_King_-_Born_Under_A_Bad_Sign</td>\n",
       "      <td>http://purl.org/midi-ld/programs/30</td>\n",
       "    </tr>\n",
       "    <tr>\n",
       "      <th>934</th>\n",
       "      <td>-Albert_King_-_Born_Under_A_Bad_Sign</td>\n",
       "      <td>http://purl.org/midi-ld/programs/0</td>\n",
       "    </tr>\n",
       "    <tr>\n",
       "      <th>935</th>\n",
       "      <td>-Albert_King_-_Born_Under_A_Bad_Sign</td>\n",
       "      <td>http://purl.org/midi-ld/programs/33</td>\n",
       "    </tr>\n",
       "    <tr>\n",
       "      <th>7102</th>\n",
       "      <td>-B_B_King_-_Rock_Me_Baby</td>\n",
       "      <td>http://purl.org/midi-ld/programs/30</td>\n",
       "    </tr>\n",
       "    <tr>\n",
       "      <th>7103</th>\n",
       "      <td>-B_B_King_-_How_Blue_Can_You_Get</td>\n",
       "      <td>http://purl.org/midi-ld/programs/0</td>\n",
       "    </tr>\n",
       "    <tr>\n",
       "      <th>7104</th>\n",
       "      <td>-B_B_King_-_Rock_Me_Baby</td>\n",
       "      <td>http://purl.org/midi-ld/programs/0</td>\n",
       "    </tr>\n",
       "    <tr>\n",
       "      <th>7105</th>\n",
       "      <td>-B_B_King_-_Rock_Me_Baby</td>\n",
       "      <td>http://purl.org/midi-ld/programs/33</td>\n",
       "    </tr>\n",
       "    <tr>\n",
       "      <th>9697</th>\n",
       "      <td>-B_B_King_-_How_Blue_Can_You_Get</td>\n",
       "      <td>http://purl.org/midi-ld/programs/17</td>\n",
       "    </tr>\n",
       "    <tr>\n",
       "      <th>9698</th>\n",
       "      <td>-B_B_King_-_How_Blue_Can_You_Get</td>\n",
       "      <td>http://purl.org/midi-ld/programs/4</td>\n",
       "    </tr>\n",
       "    <tr>\n",
       "      <th>9699</th>\n",
       "      <td>-B_B_King_-_How_Blue_Can_You_Get</td>\n",
       "      <td>http://purl.org/midi-ld/programs/26</td>\n",
       "    </tr>\n",
       "    <tr>\n",
       "      <th>9700</th>\n",
       "      <td>-B_B_King_-_How_Blue_Can_You_Get</td>\n",
       "      <td>http://purl.org/midi-ld/programs/61</td>\n",
       "    </tr>\n",
       "    <tr>\n",
       "      <th>9701</th>\n",
       "      <td>-B_B_King_-_How_Blue_Can_You_Get</td>\n",
       "      <td>http://purl.org/midi-ld/programs/56</td>\n",
       "    </tr>\n",
       "    <tr>\n",
       "      <th>9702</th>\n",
       "      <td>-B_B_King_-_How_Blue_Can_You_Get</td>\n",
       "      <td>http://purl.org/midi-ld/programs/66</td>\n",
       "    </tr>\n",
       "    <tr>\n",
       "      <th>9703</th>\n",
       "      <td>-B_B_King_-_How_Blue_Can_You_Get</td>\n",
       "      <td>http://purl.org/midi-ld/programs/35</td>\n",
       "    </tr>\n",
       "    <tr>\n",
       "      <th>18861</th>\n",
       "      <td>-B_B_King_-_Rock_Me_Baby</td>\n",
       "      <td>http://purl.org/midi-ld/programs/1</td>\n",
       "    </tr>\n",
       "    <tr>\n",
       "      <th>18862</th>\n",
       "      <td>-B_B_King_-_Rock_Me_Baby</td>\n",
       "      <td>http://purl.org/midi-ld/programs/2</td>\n",
       "    </tr>\n",
       "    <tr>\n",
       "      <th>18863</th>\n",
       "      <td>-B_B_King_-_Rock_Me_Baby</td>\n",
       "      <td>http://purl.org/midi-ld/programs/27</td>\n",
       "    </tr>\n",
       "    <tr>\n",
       "      <th>18864</th>\n",
       "      <td>-B_B_King_-_Rock_Me_Baby</td>\n",
       "      <td>http://purl.org/midi-ld/programs/61</td>\n",
       "    </tr>\n",
       "  </tbody>\n",
       "</table>\n",
       "</div>"
      ],
      "text/plain": [
       "                                     source  \\\n",
       "933    -Albert_King_-_Born_Under_A_Bad_Sign   \n",
       "934    -Albert_King_-_Born_Under_A_Bad_Sign   \n",
       "935    -Albert_King_-_Born_Under_A_Bad_Sign   \n",
       "7102               -B_B_King_-_Rock_Me_Baby   \n",
       "7103       -B_B_King_-_How_Blue_Can_You_Get   \n",
       "7104               -B_B_King_-_Rock_Me_Baby   \n",
       "7105               -B_B_King_-_Rock_Me_Baby   \n",
       "9697       -B_B_King_-_How_Blue_Can_You_Get   \n",
       "9698       -B_B_King_-_How_Blue_Can_You_Get   \n",
       "9699       -B_B_King_-_How_Blue_Can_You_Get   \n",
       "9700       -B_B_King_-_How_Blue_Can_You_Get   \n",
       "9701       -B_B_King_-_How_Blue_Can_You_Get   \n",
       "9702       -B_B_King_-_How_Blue_Can_You_Get   \n",
       "9703       -B_B_King_-_How_Blue_Can_You_Get   \n",
       "18861              -B_B_King_-_Rock_Me_Baby   \n",
       "18862              -B_B_King_-_Rock_Me_Baby   \n",
       "18863              -B_B_King_-_Rock_Me_Baby   \n",
       "18864              -B_B_King_-_Rock_Me_Baby   \n",
       "\n",
       "                                    target  \n",
       "933    http://purl.org/midi-ld/programs/30  \n",
       "934     http://purl.org/midi-ld/programs/0  \n",
       "935    http://purl.org/midi-ld/programs/33  \n",
       "7102   http://purl.org/midi-ld/programs/30  \n",
       "7103    http://purl.org/midi-ld/programs/0  \n",
       "7104    http://purl.org/midi-ld/programs/0  \n",
       "7105   http://purl.org/midi-ld/programs/33  \n",
       "9697   http://purl.org/midi-ld/programs/17  \n",
       "9698    http://purl.org/midi-ld/programs/4  \n",
       "9699   http://purl.org/midi-ld/programs/26  \n",
       "9700   http://purl.org/midi-ld/programs/61  \n",
       "9701   http://purl.org/midi-ld/programs/56  \n",
       "9702   http://purl.org/midi-ld/programs/66  \n",
       "9703   http://purl.org/midi-ld/programs/35  \n",
       "18861   http://purl.org/midi-ld/programs/1  \n",
       "18862   http://purl.org/midi-ld/programs/2  \n",
       "18863  http://purl.org/midi-ld/programs/27  \n",
       "18864  http://purl.org/midi-ld/programs/61  "
      ]
     },
     "execution_count": 41,
     "metadata": {},
     "output_type": "execute_result"
    }
   ],
   "source": [
    "edges_3.loc[edges_3['edge_type'] == \"MIDI__has__program\", ['source', 'target', ]]"
   ]
  },
  {
   "cell_type": "code",
   "execution_count": 55,
   "metadata": {},
   "outputs": [],
   "source": [
    "def add_node_cat(nodes_df: pd.DataFrame, node_cat: dict) -> pd.DataFrame:\n",
    "    node_type = []\n",
    "    augumented_nodes_df = nodes_df.copy()\n",
    "    for i in range(len(nodes_df.index)):\n",
    "        for key in node_cat.keys():\n",
    "            if nodes.iloc[i]['name'] in node_cat[key]:\n",
    "                node_type.append(key)\n",
    "    augumented_nodes_df['node_type'] = node_type\n",
    "    \n",
    "    return augumented_nodes_df\n"
   ]
  },
  {
   "cell_type": "code",
   "execution_count": 56,
   "metadata": {},
   "outputs": [],
   "source": [
    "nodes_2 = add_node_cat(nodes, node_categories)"
   ]
  },
  {
   "cell_type": "code",
   "execution_count": 57,
   "metadata": {},
   "outputs": [
    {
     "data": {
      "text/plain": [
       "{'MIDI',\n",
       " 'duration',\n",
       " 'note_group',\n",
       " 'pitch',\n",
       " 'program',\n",
       " 'tempo',\n",
       " 'time_sig',\n",
       " 'velocity'}"
      ]
     },
     "execution_count": 57,
     "metadata": {},
     "output_type": "execute_result"
    }
   ],
   "source": [
    "set(nodes_2[\"node_type\"])"
   ]
  },
  {
   "cell_type": "code",
   "execution_count": 58,
   "metadata": {},
   "outputs": [],
   "source": [
    "def add_types(nodes_df: pd.DataFrame, edges_df: pd.DataFrame, node_cat: dict) -> (pd.DataFrame, pd.DataFrame):\n",
    "    return add_node_cat(nodes_df, node_categories), add_edge_names2(edges_df, node_categories)"
   ]
  },
  {
   "cell_type": "code",
   "execution_count": 59,
   "metadata": {},
   "outputs": [],
   "source": [
    "nodes_f, edges_f = add_types(nodes, edges, node_categories)"
   ]
  },
  {
   "cell_type": "code",
   "execution_count": null,
   "metadata": {},
   "outputs": [],
   "source": []
  }
 ],
 "metadata": {
  "kernelspec": {
   "display_name": "Python 3 (ipykernel)",
   "language": "python",
   "name": "python3"
  },
  "language_info": {
   "codemirror_mode": {
    "name": "ipython",
    "version": 3
   },
   "file_extension": ".py",
   "mimetype": "text/x-python",
   "name": "python",
   "nbconvert_exporter": "python",
   "pygments_lexer": "ipython3",
   "version": "3.9.15"
  }
 },
 "nbformat": 4,
 "nbformat_minor": 1
}
