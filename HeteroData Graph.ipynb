{
 "cells": [
  {
   "cell_type": "code",
   "execution_count": 1,
   "metadata": {
    "collapsed": true
   },
   "outputs": [
    {
     "name": "stdout",
     "output_type": "stream",
     "text": [
      "1.7.3\n",
      "3.6.2\n",
      "2.8.4\n"
     ]
    }
   ],
   "source": [
    "import os\n",
    "import scipy\n",
    "\n",
    "from mido import MidiFile\n",
    "import networkx as nx\n",
    "from networkx_viewer import Viewer\n",
    "import matplotlib\n",
    "import matplotlib.pyplot as plt\n",
    "\n",
    "import math\n",
    "import numpy as np\n",
    "import pandas as pd\n",
    "\n",
    "from torch_geometric.data import HeteroData\n",
    "\n",
    "\n",
    "print(scipy.__version__)\n",
    "print(matplotlib.__version__)\n",
    "print(nx.__version__)"
   ]
  },
  {
   "cell_type": "code",
   "execution_count": 2,
   "outputs": [],
   "source": [
    "def complete_graph(input_path) -> nx.Graph:\n",
    "    edgelists = [qf for qf in os.listdir(input_path)\n",
    "                 if qf.endswith('.edgelist') and not qf.startswith('_')]\n",
    "    g = None\n",
    "\n",
    "    print('loading edgelists...')\n",
    "    for eg in edgelists:\n",
    "        print('- ' + eg)\n",
    "        h = nx.read_edgelist(os.path.join(input_path, eg), nodetype=str, create_using=nx.DiGraph(), delimiter=' ')\n",
    "        for edge in h.edges():\n",
    "            h[edge[0]][edge[1]]['weight'] = 1\n",
    "\n",
    "        g = h if g is None else nx.compose(g, h)\n",
    "\n",
    "    g = g.to_undirected()\n",
    "\n",
    "    print('Nodes: %d' % nx.number_of_nodes(g))\n",
    "    print('Edges: %d' % nx.number_of_edges(g))\n",
    "    return g\n"
   ],
   "metadata": {
    "collapsed": false
   }
  },
  {
   "cell_type": "code",
   "execution_count": 3,
   "outputs": [
    {
     "name": "stdout",
     "output_type": "stream",
     "text": [
      "loading edgelists...\n",
      "- full_edgelist.edgelist\n",
      "- notes.edgelist\n",
      "- program.edgelist\n",
      "- tempo.edgelist\n",
      "- time.signature.edgelist\n",
      "Nodes: 2703\n",
      "Edges: 19366\n"
     ]
    }
   ],
   "source": [
    "G = complete_graph(\"C:\\\\Users\\\\vamvp\\Desktop\\Test Edgelists\")"
   ],
   "metadata": {
    "collapsed": false
   }
  },
  {
   "cell_type": "code",
   "execution_count": 47,
   "outputs": [],
   "source": [
    "nodes = pd.DataFrame((list(G.nodes)), columns=['name'])\n",
    "edges = pd.DataFrame(np.array(list(G.edges)), columns=['source', 'target'])"
   ],
   "metadata": {
    "collapsed": false
   }
  },
  {
   "cell_type": "code",
   "execution_count": 105,
   "outputs": [
    {
     "data": {
      "text/plain": "['11', '6', '9']"
     },
     "execution_count": 105,
     "metadata": {},
     "output_type": "execute_result"
    }
   ],
   "source": [
    "note_groups = [n for n in nodes['name'] if n[0] == 'g' and n[1] in [str(i) for i in range(10)] + ['-'] ]\n",
    "\n",
    "not_group_nodes = [n for n in nodes['name'] if n not in note_groups]\n",
    "\n",
    "url = [n for n in not_group_nodes if n[:4] == 'http']\n",
    "program_nodes = []\n",
    "note_nodes = []\n",
    "for u in url:\n",
    "    if \"programs\" in u:\n",
    "        program_nodes.append(u)\n",
    "    elif \"notes\" in u:\n",
    "        note_nodes.append(u)\n",
    "    else:\n",
    "        print(u)\n",
    "\n",
    "name_nodes = [n for n in not_group_nodes if n[0] == '-']\n",
    "dur_nodes = [n for n in not_group_nodes if n[:3] == 'dur']\n",
    "vel_nodes = [n for n in not_group_nodes if n[:3] == 'vel']\n",
    "time_nodes = [n for n in not_group_nodes if n[:4] == 'time']\n",
    "tempo_nodes = [n for n in not_group_nodes if n not in set(dur_nodes).union(vel_nodes, time_nodes, name_nodes, url)]\n",
    "\n",
    "tempo_nodes"
   ],
   "metadata": {
    "collapsed": false
   }
  },
  {
   "cell_type": "code",
   "execution_count": 106,
   "outputs": [
    {
     "data": {
      "text/plain": "dict_keys(['note_group', 'note', 'program', 'song_name', 'duration', 'velocity', 'time_sig', 'tempo'])"
     },
     "execution_count": 106,
     "metadata": {},
     "output_type": "execute_result"
    }
   ],
   "source": [
    "node_categories = {\"note_group\": note_groups,\n",
    "                    \"note\": note_nodes,\n",
    "                    \"program\": program_nodes,\n",
    "                    \"song_name\": name_nodes,\n",
    "                    \"duration\": dur_nodes,\n",
    "                    \"velocity\": vel_nodes,\n",
    "                    \"time_sig\": time_nodes,\n",
    "                    \"tempo\": tempo_nodes\n",
    "                   }\n",
    "\n",
    "node_categories.keys()"
   ],
   "metadata": {
    "collapsed": false
   }
  },
  {
   "cell_type": "code",
   "execution_count": 108,
   "outputs": [],
   "source": [
    "def add_edge_names(edges_pd: pd.DataFrame, node_cat: dict):\n",
    "    edge_type = []\n",
    "    augmented_edges_pd = edges_pd.copy()\n",
    "    \n",
    "    for i in range(len(edges.index)):\n",
    "        for name in node_cat.keys():\n",
    "            if edges.iloc[i]['source'] in node_cat[name]:\n",
    "                edge_name_source = name + \"__\"\n",
    "                break\n",
    "        for name in node_cat.keys():\n",
    "            if edges.iloc[i]['target'] in node_cat[name]:\n",
    "                edge_name_target = name\n",
    "                break\n",
    "                \n",
    "        edge_name = edge_name_source + edge_name_target\n",
    "        edge_type.append(edge_name)\n",
    "        \n",
    "    augmented_edges_pd['edge_type'] = edge_type\n",
    "    return augmented_edges_pd\n"
   ],
   "metadata": {
    "collapsed": false
   }
  },
  {
   "cell_type": "code",
   "execution_count": 109,
   "outputs": [],
   "source": [
    "edges_2 = add_edge_names(edges, node_categories)\n"
   ],
   "metadata": {
    "collapsed": false
   }
  },
  {
   "cell_type": "code",
   "execution_count": 110,
   "outputs": [
    {
     "data": {
      "text/plain": "{'duration__note_group',\n 'note__note_group',\n 'note_group__duration',\n 'note_group__note',\n 'note_group__song_name',\n 'note_group__velocity',\n 'program__song_name',\n 'song_name__note_group',\n 'song_name__program',\n 'song_name__tempo',\n 'song_name__time_sig',\n 'time_sig__song_name',\n 'velocity__note_group'}"
     },
     "execution_count": 110,
     "metadata": {},
     "output_type": "execute_result"
    }
   ],
   "source": [
    "set(edges_2['edge_type'])"
   ],
   "metadata": {
    "collapsed": false
   }
  },
  {
   "cell_type": "code",
   "execution_count": 93,
   "outputs": [
    {
     "data": {
      "text/plain": "                                     source  \\\n933    -Albert_King_-_Born_Under_A_Bad_Sign   \n934    -Albert_King_-_Born_Under_A_Bad_Sign   \n935    -Albert_King_-_Born_Under_A_Bad_Sign   \n9697       -B_B_King_-_How_Blue_Can_You_Get   \n9698       -B_B_King_-_How_Blue_Can_You_Get   \n9699       -B_B_King_-_How_Blue_Can_You_Get   \n9700       -B_B_King_-_How_Blue_Can_You_Get   \n9701       -B_B_King_-_How_Blue_Can_You_Get   \n9702       -B_B_King_-_How_Blue_Can_You_Get   \n9703       -B_B_King_-_How_Blue_Can_You_Get   \n18861              -B_B_King_-_Rock_Me_Baby   \n18862              -B_B_King_-_Rock_Me_Baby   \n18863              -B_B_King_-_Rock_Me_Baby   \n18864              -B_B_King_-_Rock_Me_Baby   \n\n                                    target  \n933    http://purl.org/midi-ld/programs/30  \n934     http://purl.org/midi-ld/programs/0  \n935    http://purl.org/midi-ld/programs/33  \n9697   http://purl.org/midi-ld/programs/17  \n9698    http://purl.org/midi-ld/programs/4  \n9699   http://purl.org/midi-ld/programs/26  \n9700   http://purl.org/midi-ld/programs/61  \n9701   http://purl.org/midi-ld/programs/56  \n9702   http://purl.org/midi-ld/programs/66  \n9703   http://purl.org/midi-ld/programs/35  \n18861   http://purl.org/midi-ld/programs/1  \n18862   http://purl.org/midi-ld/programs/2  \n18863  http://purl.org/midi-ld/programs/27  \n18864  http://purl.org/midi-ld/programs/61  ",
      "text/html": "<div>\n<style scoped>\n    .dataframe tbody tr th:only-of-type {\n        vertical-align: middle;\n    }\n\n    .dataframe tbody tr th {\n        vertical-align: top;\n    }\n\n    .dataframe thead th {\n        text-align: right;\n    }\n</style>\n<table border=\"1\" class=\"dataframe\">\n  <thead>\n    <tr style=\"text-align: right;\">\n      <th></th>\n      <th>source</th>\n      <th>target</th>\n    </tr>\n  </thead>\n  <tbody>\n    <tr>\n      <th>933</th>\n      <td>-Albert_King_-_Born_Under_A_Bad_Sign</td>\n      <td>http://purl.org/midi-ld/programs/30</td>\n    </tr>\n    <tr>\n      <th>934</th>\n      <td>-Albert_King_-_Born_Under_A_Bad_Sign</td>\n      <td>http://purl.org/midi-ld/programs/0</td>\n    </tr>\n    <tr>\n      <th>935</th>\n      <td>-Albert_King_-_Born_Under_A_Bad_Sign</td>\n      <td>http://purl.org/midi-ld/programs/33</td>\n    </tr>\n    <tr>\n      <th>9697</th>\n      <td>-B_B_King_-_How_Blue_Can_You_Get</td>\n      <td>http://purl.org/midi-ld/programs/17</td>\n    </tr>\n    <tr>\n      <th>9698</th>\n      <td>-B_B_King_-_How_Blue_Can_You_Get</td>\n      <td>http://purl.org/midi-ld/programs/4</td>\n    </tr>\n    <tr>\n      <th>9699</th>\n      <td>-B_B_King_-_How_Blue_Can_You_Get</td>\n      <td>http://purl.org/midi-ld/programs/26</td>\n    </tr>\n    <tr>\n      <th>9700</th>\n      <td>-B_B_King_-_How_Blue_Can_You_Get</td>\n      <td>http://purl.org/midi-ld/programs/61</td>\n    </tr>\n    <tr>\n      <th>9701</th>\n      <td>-B_B_King_-_How_Blue_Can_You_Get</td>\n      <td>http://purl.org/midi-ld/programs/56</td>\n    </tr>\n    <tr>\n      <th>9702</th>\n      <td>-B_B_King_-_How_Blue_Can_You_Get</td>\n      <td>http://purl.org/midi-ld/programs/66</td>\n    </tr>\n    <tr>\n      <th>9703</th>\n      <td>-B_B_King_-_How_Blue_Can_You_Get</td>\n      <td>http://purl.org/midi-ld/programs/35</td>\n    </tr>\n    <tr>\n      <th>18861</th>\n      <td>-B_B_King_-_Rock_Me_Baby</td>\n      <td>http://purl.org/midi-ld/programs/1</td>\n    </tr>\n    <tr>\n      <th>18862</th>\n      <td>-B_B_King_-_Rock_Me_Baby</td>\n      <td>http://purl.org/midi-ld/programs/2</td>\n    </tr>\n    <tr>\n      <th>18863</th>\n      <td>-B_B_King_-_Rock_Me_Baby</td>\n      <td>http://purl.org/midi-ld/programs/27</td>\n    </tr>\n    <tr>\n      <th>18864</th>\n      <td>-B_B_King_-_Rock_Me_Baby</td>\n      <td>http://purl.org/midi-ld/programs/61</td>\n    </tr>\n  </tbody>\n</table>\n</div>"
     },
     "execution_count": 93,
     "metadata": {},
     "output_type": "execute_result"
    }
   ],
   "source": [
    "edges_2.loc[edges_2['edge_type'] == 'song_name__note', ['source', 'target']]"
   ],
   "metadata": {
    "collapsed": false
   }
  },
  {
   "cell_type": "code",
   "execution_count": null,
   "outputs": [],
   "source": [],
   "metadata": {
    "collapsed": false
   }
  }
 ],
 "metadata": {
  "kernelspec": {
   "display_name": "Python 3",
   "language": "python",
   "name": "python3"
  },
  "language_info": {
   "codemirror_mode": {
    "name": "ipython",
    "version": 2
   },
   "file_extension": ".py",
   "mimetype": "text/x-python",
   "name": "python",
   "nbconvert_exporter": "python",
   "pygments_lexer": "ipython2",
   "version": "2.7.6"
  }
 },
 "nbformat": 4,
 "nbformat_minor": 0
}
