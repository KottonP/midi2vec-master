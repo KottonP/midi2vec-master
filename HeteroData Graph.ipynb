{
 "cells": [
  {
   "cell_type": "code",
   "execution_count": 52,
   "metadata": {
    "collapsed": true
   },
   "outputs": [
    {
     "name": "stdout",
     "output_type": "stream",
     "text": [
      "1.7.3\n",
      "3.6.2\n",
      "2.8.4\n"
     ]
    }
   ],
   "source": [
    "import os\n",
    "from typing import Optional\n",
    "\n",
    "import scipy\n",
    "\n",
    "# from mido import MidiFile\n",
    "import networkx as nx\n",
    "from networkx_viewer import Viewer\n",
    "import matplotlib\n",
    "import matplotlib.pyplot as plt\n",
    "\n",
    "import math\n",
    "import numpy as np\n",
    "import pandas as pd\n",
    "\n",
    "from torch_geometric.data import HeteroData\n",
    "\n",
    "\n",
    "print(scipy.__version__)\n",
    "print(matplotlib.__version__)\n",
    "print(nx.__version__)"
   ]
  },
  {
   "cell_type": "code",
   "execution_count": 53,
   "outputs": [],
   "source": [
    "def complete_graph(input_path) -> nx.Graph:\n",
    "    edgelists = [qf for qf in os.listdir(input_path)\n",
    "                 if qf.endswith('.edgelist') and not qf.startswith('_')]\n",
    "    g = None\n",
    "\n",
    "    print('loading edgelists...')\n",
    "    for eg in edgelists:\n",
    "        print('- ' + eg)\n",
    "        h = nx.read_edgelist(os.path.join(input_path, eg), nodetype=str, create_using=nx.DiGraph(), delimiter=' ')\n",
    "        for edge in h.edges():\n",
    "            h[edge[0]][edge[1]]['weight'] = 1\n",
    "\n",
    "        g = h if g is None else nx.compose(g, h)\n",
    "\n",
    "    g = g.to_undirected()\n",
    "\n",
    "    print('Nodes: %d' % nx.number_of_nodes(g))\n",
    "    print('Edges: %d' % nx.number_of_edges(g))\n",
    "    return g\n"
   ],
   "metadata": {
    "collapsed": false
   }
  },
  {
   "cell_type": "code",
   "execution_count": 54,
   "outputs": [
    {
     "name": "stdout",
     "output_type": "stream",
     "text": [
      "loading edgelists...\n",
      "- full_edgelist.edgelist\n",
      "- notes.edgelist\n",
      "- program.edgelist\n",
      "- tempo.edgelist\n",
      "- time.signature.edgelist\n",
      "Nodes: 2703\n",
      "Edges: 19366\n"
     ]
    }
   ],
   "source": [
    "G = complete_graph(\"C:\\\\Users\\\\vamvp\\Desktop\\Test Edgelists\")"
   ],
   "metadata": {
    "collapsed": false
   }
  },
  {
   "cell_type": "code",
   "execution_count": 55,
   "outputs": [],
   "source": [
    "nodes = pd.DataFrame((list(G.nodes)), columns=['name'])\n",
    "edges = pd.DataFrame(np.array(list(G.edges)), columns=['source', 'target'])"
   ],
   "metadata": {
    "collapsed": false
   }
  },
  {
   "cell_type": "code",
   "execution_count": 56,
   "outputs": [
    {
     "data": {
      "text/plain": "['11', '6', '9']"
     },
     "execution_count": 56,
     "metadata": {},
     "output_type": "execute_result"
    }
   ],
   "source": [
    "note_groups = [n for n in nodes['name'] if n[0] == 'g' and n[1] in [str(i) for i in range(10)] + ['-'] ]\n",
    "\n",
    "not_group_nodes = [n for n in nodes['name'] if n not in note_groups]\n",
    "\n",
    "url = [n for n in not_group_nodes if n[:4] == 'http']\n",
    "program_nodes = []\n",
    "note_nodes = []\n",
    "for u in url:\n",
    "    if \"programs\" in u:\n",
    "        program_nodes.append(u)\n",
    "    elif \"notes\" in u:\n",
    "        note_nodes.append(u)\n",
    "    else:\n",
    "        print(u)\n",
    "\n",
    "name_nodes = [n for n in not_group_nodes if n[0] == '-']\n",
    "dur_nodes = [n for n in not_group_nodes if n[:3] == 'dur']\n",
    "vel_nodes = [n for n in not_group_nodes if n[:3] == 'vel']\n",
    "time_nodes = [n for n in not_group_nodes if n[:4] == 'time']\n",
    "tempo_nodes = [n for n in not_group_nodes if n not in set(dur_nodes).union(vel_nodes, time_nodes, name_nodes, url)]\n",
    "\n",
    "tempo_nodes"
   ],
   "metadata": {
    "collapsed": false
   }
  },
  {
   "cell_type": "code",
   "execution_count": 67,
   "outputs": [
    {
     "data": {
      "text/plain": "dict_keys(['note_group', 'pitch', 'program', 'MIDI', 'duration', 'velocity', 'time_sig', 'tempo'])"
     },
     "execution_count": 67,
     "metadata": {},
     "output_type": "execute_result"
    }
   ],
   "source": [
    "node_categories = {\"note_group\": note_groups,\n",
    "                    \"pitch\": note_nodes,\n",
    "                    \"program\": program_nodes,\n",
    "                    \"MIDI\": name_nodes,\n",
    "                    \"duration\": dur_nodes,\n",
    "                    \"velocity\": vel_nodes,\n",
    "                    \"time_sig\": time_nodes,\n",
    "                    \"tempo\": tempo_nodes\n",
    "                   }\n",
    "\n",
    "node_categories.keys()"
   ],
   "metadata": {
    "collapsed": false
   }
  },
  {
   "cell_type": "code",
   "execution_count": 68,
   "outputs": [],
   "source": [
    "def add_edge_names(edges_pd: pd.DataFrame, node_cat: dict) -> pd.DataFrame:\n",
    "    edge_type = []\n",
    "\n",
    "    edge_name_source = None\n",
    "    edge_name_target = None\n",
    "\n",
    "    augmented_edges_pd = edges_pd.copy()\n",
    "\n",
    "    for i in range(len(edges.index)):\n",
    "        for name in node_cat.keys():\n",
    "            if edges.iloc[i]['source'] in node_cat[name]:\n",
    "                edge_name_source = name + \"__\"\n",
    "                break\n",
    "        for name in node_cat.keys():\n",
    "            if edges.iloc[i]['target'] in node_cat[name]:\n",
    "                edge_name_target = name\n",
    "                break\n",
    "                \n",
    "        edge_name = edge_name_source + edge_name_target\n",
    "        edge_type.append(edge_name)\n",
    "        \n",
    "    augmented_edges_pd['edge_type'] = edge_type\n",
    "    return augmented_edges_pd\n"
   ],
   "metadata": {
    "collapsed": false
   }
  },
  {
   "cell_type": "code",
   "execution_count": 69,
   "outputs": [],
   "source": [
    "edges_2 = add_edge_names(edges, node_categories)\n"
   ],
   "metadata": {
    "collapsed": false
   }
  },
  {
   "cell_type": "code",
   "execution_count": 70,
   "outputs": [
    {
     "data": {
      "text/plain": "{'MIDI__note_group',\n 'MIDI__program',\n 'MIDI__tempo',\n 'MIDI__time_sig',\n 'duration__note_group',\n 'note_group__MIDI',\n 'note_group__duration',\n 'note_group__pitch',\n 'note_group__velocity',\n 'pitch__note_group',\n 'program__MIDI',\n 'time_sig__MIDI',\n 'velocity__note_group'}"
     },
     "execution_count": 70,
     "metadata": {},
     "output_type": "execute_result"
    }
   ],
   "source": [
    "set(edges_2['edge_type'])"
   ],
   "metadata": {
    "collapsed": false
   }
  },
  {
   "cell_type": "code",
   "execution_count": 61,
   "outputs": [
    {
     "data": {
      "text/plain": "                                     source  \\\n933    -Albert_King_-_Born_Under_A_Bad_Sign   \n934    -Albert_King_-_Born_Under_A_Bad_Sign   \n935    -Albert_King_-_Born_Under_A_Bad_Sign   \n9697       -B_B_King_-_How_Blue_Can_You_Get   \n9698       -B_B_King_-_How_Blue_Can_You_Get   \n9699       -B_B_King_-_How_Blue_Can_You_Get   \n9700       -B_B_King_-_How_Blue_Can_You_Get   \n9701       -B_B_King_-_How_Blue_Can_You_Get   \n9702       -B_B_King_-_How_Blue_Can_You_Get   \n9703       -B_B_King_-_How_Blue_Can_You_Get   \n18861              -B_B_King_-_Rock_Me_Baby   \n18862              -B_B_King_-_Rock_Me_Baby   \n18863              -B_B_King_-_Rock_Me_Baby   \n18864              -B_B_King_-_Rock_Me_Baby   \n\n                                    target  \n933    http://purl.org/midi-ld/programs/30  \n934     http://purl.org/midi-ld/programs/0  \n935    http://purl.org/midi-ld/programs/33  \n9697   http://purl.org/midi-ld/programs/17  \n9698    http://purl.org/midi-ld/programs/4  \n9699   http://purl.org/midi-ld/programs/26  \n9700   http://purl.org/midi-ld/programs/61  \n9701   http://purl.org/midi-ld/programs/56  \n9702   http://purl.org/midi-ld/programs/66  \n9703   http://purl.org/midi-ld/programs/35  \n18861   http://purl.org/midi-ld/programs/1  \n18862   http://purl.org/midi-ld/programs/2  \n18863  http://purl.org/midi-ld/programs/27  \n18864  http://purl.org/midi-ld/programs/61  ",
      "text/html": "<div>\n<style scoped>\n    .dataframe tbody tr th:only-of-type {\n        vertical-align: middle;\n    }\n\n    .dataframe tbody tr th {\n        vertical-align: top;\n    }\n\n    .dataframe thead th {\n        text-align: right;\n    }\n</style>\n<table border=\"1\" class=\"dataframe\">\n  <thead>\n    <tr style=\"text-align: right;\">\n      <th></th>\n      <th>source</th>\n      <th>target</th>\n    </tr>\n  </thead>\n  <tbody>\n    <tr>\n      <th>933</th>\n      <td>-Albert_King_-_Born_Under_A_Bad_Sign</td>\n      <td>http://purl.org/midi-ld/programs/30</td>\n    </tr>\n    <tr>\n      <th>934</th>\n      <td>-Albert_King_-_Born_Under_A_Bad_Sign</td>\n      <td>http://purl.org/midi-ld/programs/0</td>\n    </tr>\n    <tr>\n      <th>935</th>\n      <td>-Albert_King_-_Born_Under_A_Bad_Sign</td>\n      <td>http://purl.org/midi-ld/programs/33</td>\n    </tr>\n    <tr>\n      <th>9697</th>\n      <td>-B_B_King_-_How_Blue_Can_You_Get</td>\n      <td>http://purl.org/midi-ld/programs/17</td>\n    </tr>\n    <tr>\n      <th>9698</th>\n      <td>-B_B_King_-_How_Blue_Can_You_Get</td>\n      <td>http://purl.org/midi-ld/programs/4</td>\n    </tr>\n    <tr>\n      <th>9699</th>\n      <td>-B_B_King_-_How_Blue_Can_You_Get</td>\n      <td>http://purl.org/midi-ld/programs/26</td>\n    </tr>\n    <tr>\n      <th>9700</th>\n      <td>-B_B_King_-_How_Blue_Can_You_Get</td>\n      <td>http://purl.org/midi-ld/programs/61</td>\n    </tr>\n    <tr>\n      <th>9701</th>\n      <td>-B_B_King_-_How_Blue_Can_You_Get</td>\n      <td>http://purl.org/midi-ld/programs/56</td>\n    </tr>\n    <tr>\n      <th>9702</th>\n      <td>-B_B_King_-_How_Blue_Can_You_Get</td>\n      <td>http://purl.org/midi-ld/programs/66</td>\n    </tr>\n    <tr>\n      <th>9703</th>\n      <td>-B_B_King_-_How_Blue_Can_You_Get</td>\n      <td>http://purl.org/midi-ld/programs/35</td>\n    </tr>\n    <tr>\n      <th>18861</th>\n      <td>-B_B_King_-_Rock_Me_Baby</td>\n      <td>http://purl.org/midi-ld/programs/1</td>\n    </tr>\n    <tr>\n      <th>18862</th>\n      <td>-B_B_King_-_Rock_Me_Baby</td>\n      <td>http://purl.org/midi-ld/programs/2</td>\n    </tr>\n    <tr>\n      <th>18863</th>\n      <td>-B_B_King_-_Rock_Me_Baby</td>\n      <td>http://purl.org/midi-ld/programs/27</td>\n    </tr>\n    <tr>\n      <th>18864</th>\n      <td>-B_B_King_-_Rock_Me_Baby</td>\n      <td>http://purl.org/midi-ld/programs/61</td>\n    </tr>\n  </tbody>\n</table>\n</div>"
     },
     "execution_count": 61,
     "metadata": {},
     "output_type": "execute_result"
    }
   ],
   "source": [
    "edges_2.loc[edges_2['edge_type'] == 'MIDI__program', ['source', 'target']]"
   ],
   "metadata": {
    "collapsed": false
   }
  },
  {
   "cell_type": "code",
   "execution_count": 62,
   "outputs": [
    {
     "data": {
      "text/plain": "                                   source                            target\n7102  http://purl.org/midi-ld/programs/30          -B_B_King_-_Rock_Me_Baby\n7103   http://purl.org/midi-ld/programs/0  -B_B_King_-_How_Blue_Can_You_Get\n7104   http://purl.org/midi-ld/programs/0          -B_B_King_-_Rock_Me_Baby\n7105  http://purl.org/midi-ld/programs/33          -B_B_King_-_Rock_Me_Baby",
      "text/html": "<div>\n<style scoped>\n    .dataframe tbody tr th:only-of-type {\n        vertical-align: middle;\n    }\n\n    .dataframe tbody tr th {\n        vertical-align: top;\n    }\n\n    .dataframe thead th {\n        text-align: right;\n    }\n</style>\n<table border=\"1\" class=\"dataframe\">\n  <thead>\n    <tr style=\"text-align: right;\">\n      <th></th>\n      <th>source</th>\n      <th>target</th>\n    </tr>\n  </thead>\n  <tbody>\n    <tr>\n      <th>7102</th>\n      <td>http://purl.org/midi-ld/programs/30</td>\n      <td>-B_B_King_-_Rock_Me_Baby</td>\n    </tr>\n    <tr>\n      <th>7103</th>\n      <td>http://purl.org/midi-ld/programs/0</td>\n      <td>-B_B_King_-_How_Blue_Can_You_Get</td>\n    </tr>\n    <tr>\n      <th>7104</th>\n      <td>http://purl.org/midi-ld/programs/0</td>\n      <td>-B_B_King_-_Rock_Me_Baby</td>\n    </tr>\n    <tr>\n      <th>7105</th>\n      <td>http://purl.org/midi-ld/programs/33</td>\n      <td>-B_B_King_-_Rock_Me_Baby</td>\n    </tr>\n  </tbody>\n</table>\n</div>"
     },
     "execution_count": 62,
     "metadata": {},
     "output_type": "execute_result"
    }
   ],
   "source": [
    "edges_2.loc[edges_2['edge_type'] == 'program__MIDI', ['source', 'target']]"
   ],
   "metadata": {
    "collapsed": false
   }
  },
  {
   "cell_type": "code",
   "execution_count": 66,
   "outputs": [],
   "source": [
    "main_edge_types = [\"MIDI__has__tempo\",\n",
    "                   \"MIDI__in__time_sig\",\n",
    "                   \"MIDI__has__program\",\n",
    "                   \"MIDI__has__note_group\",\n",
    "                   \"note_group__has__velocity\",\n",
    "                   \"note_group__has__duration\",\n",
    "                   \"note_group__contains__pitch\"]\n",
    "\n",
    "\n",
    "# 'duration__note_group',\n",
    "# 'note__note_group',\n",
    "# 'velocity__note_group'\n",
    "\n",
    "# 'note_group__MIDI',\n",
    "# 'program__MIDI',\n",
    "# 'time_sig__MIDI',\n"
   ],
   "metadata": {
    "collapsed": false
   }
  },
  {
   "cell_type": "code",
   "execution_count": 98,
   "outputs": [],
   "source": [
    "def reverse_edge(df: pd.DataFrame, row: int, inplace: bool = False) -> Optional[pd.DataFrame]:\n",
    "    if inplace:\n",
    "        df.iloc[row]['source'], df.iloc[row]['target'] = df.iloc[row]['target'], df.iloc[row]['source']\n",
    "        return None\n",
    "    elif not inplace:\n",
    "        tmp = df.copy()\n",
    "        tmp.iloc[row]['source'], tmp.iloc[row]['target'] = tmp.iloc[row]['target'], tmp.iloc[row]['source']\n",
    "        return tmp\n",
    "\n",
    "\n",
    "def format_edge_name(source: str, target: str) -> str:\n",
    "    edge_name = \"\"\n",
    "\n",
    "    if source == \"MIDI\":\n",
    "        if target == \"tempo\":\n",
    "            edge_name = source + \"__has__\" + target\n",
    "        elif target == \"time_sig\":\n",
    "            edge_name = source + \"__in__\" + target\n",
    "        elif target == \"program\":\n",
    "            edge_name = source + \"__has__\" + target\n",
    "        elif target == \"note_group\":\n",
    "            edge_name = source + \"__has__\" + target\n",
    "    elif source == \"note_group\":\n",
    "        if target == \"velocity\":\n",
    "            edge_name = source + \"__has__\" + target\n",
    "        elif target == \"duration\":\n",
    "            edge_name = source + \"__has__\" + target\n",
    "        elif target == \"pitch\":\n",
    "            edge_name = source + \"__contains__\" + target\n",
    "    else:\n",
    "        edge_name = source + \"__?__\" + target\n",
    "        print(\"Not known edge detected: \" + edge_name)\n",
    "        return edge_name\n",
    "\n",
    "    return edge_name\n",
    "    \n",
    "\n",
    "def add_edge_names2(edges_df: pd.DataFrame, node_cat: dict) -> pd.DataFrame:\n",
    "    edge_type = []\n",
    "\n",
    "    edge_name_source = \"\"\n",
    "    edge_name_target = \"\"\n",
    "\n",
    "    augmented_edges_df = edges_df.copy()\n",
    "\n",
    "    for i in range(len(edges_df.index)):\n",
    "        for name in node_cat.keys():\n",
    "            if edges.iloc[i]['source'] in node_cat[name]:\n",
    "                edge_name_source = name\n",
    "                break\n",
    "        for name in node_cat.keys():\n",
    "            if edges.iloc[i]['target'] in node_cat[name]:\n",
    "                edge_name_target = name\n",
    "                break\n",
    "\n",
    "        if (edge_name_source not in (\"MIDI\", \"note_group\")) or (edge_name_source == \"note_group\" and edge_name_target == \"MIDI\"):\n",
    "            reverse_edge(augmented_edges_df, row=i, inplace=True)\n",
    "            edge_name_source, edge_name_target = edge_name_target, edge_name_source\n",
    "\n",
    "        edge_name = format_edge_name(edge_name_source, edge_name_target)\n",
    "        edge_type.append(edge_name)\n",
    "\n",
    "    augmented_edges_df['edge_type'] = edge_type\n",
    "    return augmented_edges_df\n"
   ],
   "metadata": {
    "collapsed": false
   }
  },
  {
   "cell_type": "code",
   "execution_count": 99,
   "outputs": [],
   "source": [
    "edges_3 = add_edge_names2(edges, node_categories)"
   ],
   "metadata": {
    "collapsed": false
   }
  },
  {
   "cell_type": "code",
   "execution_count": 100,
   "outputs": [
    {
     "data": {
      "text/plain": "{'MIDI__has__note_group',\n 'MIDI__has__program',\n 'MIDI__has__tempo',\n 'MIDI__in__time_sig',\n 'note_group__contains__pitch',\n 'note_group__has__duration',\n 'note_group__has__velocity'}"
     },
     "execution_count": 100,
     "metadata": {},
     "output_type": "execute_result"
    }
   ],
   "source": [
    "set(edges_3['edge_type'])"
   ],
   "metadata": {
    "collapsed": false
   }
  },
  {
   "cell_type": "code",
   "execution_count": 102,
   "outputs": [
    {
     "data": {
      "text/plain": "                                     source  \\\n933    -Albert_King_-_Born_Under_A_Bad_Sign   \n934    -Albert_King_-_Born_Under_A_Bad_Sign   \n935    -Albert_King_-_Born_Under_A_Bad_Sign   \n7102               -B_B_King_-_Rock_Me_Baby   \n7103       -B_B_King_-_How_Blue_Can_You_Get   \n7104               -B_B_King_-_Rock_Me_Baby   \n7105               -B_B_King_-_Rock_Me_Baby   \n9697       -B_B_King_-_How_Blue_Can_You_Get   \n9698       -B_B_King_-_How_Blue_Can_You_Get   \n9699       -B_B_King_-_How_Blue_Can_You_Get   \n9700       -B_B_King_-_How_Blue_Can_You_Get   \n9701       -B_B_King_-_How_Blue_Can_You_Get   \n9702       -B_B_King_-_How_Blue_Can_You_Get   \n9703       -B_B_King_-_How_Blue_Can_You_Get   \n18861              -B_B_King_-_Rock_Me_Baby   \n18862              -B_B_King_-_Rock_Me_Baby   \n18863              -B_B_King_-_Rock_Me_Baby   \n18864              -B_B_King_-_Rock_Me_Baby   \n\n                                    target  \n933    http://purl.org/midi-ld/programs/30  \n934     http://purl.org/midi-ld/programs/0  \n935    http://purl.org/midi-ld/programs/33  \n7102   http://purl.org/midi-ld/programs/30  \n7103    http://purl.org/midi-ld/programs/0  \n7104    http://purl.org/midi-ld/programs/0  \n7105   http://purl.org/midi-ld/programs/33  \n9697   http://purl.org/midi-ld/programs/17  \n9698    http://purl.org/midi-ld/programs/4  \n9699   http://purl.org/midi-ld/programs/26  \n9700   http://purl.org/midi-ld/programs/61  \n9701   http://purl.org/midi-ld/programs/56  \n9702   http://purl.org/midi-ld/programs/66  \n9703   http://purl.org/midi-ld/programs/35  \n18861   http://purl.org/midi-ld/programs/1  \n18862   http://purl.org/midi-ld/programs/2  \n18863  http://purl.org/midi-ld/programs/27  \n18864  http://purl.org/midi-ld/programs/61  ",
      "text/html": "<div>\n<style scoped>\n    .dataframe tbody tr th:only-of-type {\n        vertical-align: middle;\n    }\n\n    .dataframe tbody tr th {\n        vertical-align: top;\n    }\n\n    .dataframe thead th {\n        text-align: right;\n    }\n</style>\n<table border=\"1\" class=\"dataframe\">\n  <thead>\n    <tr style=\"text-align: right;\">\n      <th></th>\n      <th>source</th>\n      <th>target</th>\n    </tr>\n  </thead>\n  <tbody>\n    <tr>\n      <th>933</th>\n      <td>-Albert_King_-_Born_Under_A_Bad_Sign</td>\n      <td>http://purl.org/midi-ld/programs/30</td>\n    </tr>\n    <tr>\n      <th>934</th>\n      <td>-Albert_King_-_Born_Under_A_Bad_Sign</td>\n      <td>http://purl.org/midi-ld/programs/0</td>\n    </tr>\n    <tr>\n      <th>935</th>\n      <td>-Albert_King_-_Born_Under_A_Bad_Sign</td>\n      <td>http://purl.org/midi-ld/programs/33</td>\n    </tr>\n    <tr>\n      <th>7102</th>\n      <td>-B_B_King_-_Rock_Me_Baby</td>\n      <td>http://purl.org/midi-ld/programs/30</td>\n    </tr>\n    <tr>\n      <th>7103</th>\n      <td>-B_B_King_-_How_Blue_Can_You_Get</td>\n      <td>http://purl.org/midi-ld/programs/0</td>\n    </tr>\n    <tr>\n      <th>7104</th>\n      <td>-B_B_King_-_Rock_Me_Baby</td>\n      <td>http://purl.org/midi-ld/programs/0</td>\n    </tr>\n    <tr>\n      <th>7105</th>\n      <td>-B_B_King_-_Rock_Me_Baby</td>\n      <td>http://purl.org/midi-ld/programs/33</td>\n    </tr>\n    <tr>\n      <th>9697</th>\n      <td>-B_B_King_-_How_Blue_Can_You_Get</td>\n      <td>http://purl.org/midi-ld/programs/17</td>\n    </tr>\n    <tr>\n      <th>9698</th>\n      <td>-B_B_King_-_How_Blue_Can_You_Get</td>\n      <td>http://purl.org/midi-ld/programs/4</td>\n    </tr>\n    <tr>\n      <th>9699</th>\n      <td>-B_B_King_-_How_Blue_Can_You_Get</td>\n      <td>http://purl.org/midi-ld/programs/26</td>\n    </tr>\n    <tr>\n      <th>9700</th>\n      <td>-B_B_King_-_How_Blue_Can_You_Get</td>\n      <td>http://purl.org/midi-ld/programs/61</td>\n    </tr>\n    <tr>\n      <th>9701</th>\n      <td>-B_B_King_-_How_Blue_Can_You_Get</td>\n      <td>http://purl.org/midi-ld/programs/56</td>\n    </tr>\n    <tr>\n      <th>9702</th>\n      <td>-B_B_King_-_How_Blue_Can_You_Get</td>\n      <td>http://purl.org/midi-ld/programs/66</td>\n    </tr>\n    <tr>\n      <th>9703</th>\n      <td>-B_B_King_-_How_Blue_Can_You_Get</td>\n      <td>http://purl.org/midi-ld/programs/35</td>\n    </tr>\n    <tr>\n      <th>18861</th>\n      <td>-B_B_King_-_Rock_Me_Baby</td>\n      <td>http://purl.org/midi-ld/programs/1</td>\n    </tr>\n    <tr>\n      <th>18862</th>\n      <td>-B_B_King_-_Rock_Me_Baby</td>\n      <td>http://purl.org/midi-ld/programs/2</td>\n    </tr>\n    <tr>\n      <th>18863</th>\n      <td>-B_B_King_-_Rock_Me_Baby</td>\n      <td>http://purl.org/midi-ld/programs/27</td>\n    </tr>\n    <tr>\n      <th>18864</th>\n      <td>-B_B_King_-_Rock_Me_Baby</td>\n      <td>http://purl.org/midi-ld/programs/61</td>\n    </tr>\n  </tbody>\n</table>\n</div>"
     },
     "execution_count": 102,
     "metadata": {},
     "output_type": "execute_result"
    }
   ],
   "source": [
    "edges_3.loc[edges_3['edge_type'] == \"MIDI__has__program\", ['source', 'target', ]]"
   ],
   "metadata": {
    "collapsed": false
   }
  },
  {
   "cell_type": "code",
   "execution_count": null,
   "outputs": [],
   "source": [],
   "metadata": {
    "collapsed": false
   }
  }
 ],
 "metadata": {
  "kernelspec": {
   "display_name": "Python 3",
   "language": "python",
   "name": "python3"
  },
  "language_info": {
   "codemirror_mode": {
    "name": "ipython",
    "version": 2
   },
   "file_extension": ".py",
   "mimetype": "text/x-python",
   "name": "python",
   "nbconvert_exporter": "python",
   "pygments_lexer": "ipython2",
   "version": "2.7.6"
  }
 },
 "nbformat": 4,
 "nbformat_minor": 0
}
