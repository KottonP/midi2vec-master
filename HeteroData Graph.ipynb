{
 "cells": [
  {
   "cell_type": "code",
   "execution_count": 26,
   "metadata": {},
   "outputs": [
    {
     "name": "stdout",
     "output_type": "stream",
     "text": [
      "1.7.3\n",
      "3.6.2\n",
      "2.8.4\n"
     ]
    }
   ],
   "source": [
    "import time\n",
    "import scipy\n",
    "import numpy as np\n",
    "import pandas as pd\n",
    "import winsound\n",
    "\n",
    "import networkx as nx\n",
    "import matplotlib\n",
    "\n",
    "from sklearn.preprocessing import LabelEncoder\n",
    "import torch\n",
    "from torch_geometric.data import HeteroData\n",
    "\n",
    "from HeteroDataFunctions import Encoder, add_types, complete_graph, flatten_lol, node_cat_dict, midi_type\n",
    "\n",
    "print(scipy.__version__)\n",
    "print(matplotlib.__version__)\n",
    "print(nx.__version__)"
   ]
  },
  {
   "cell_type": "markdown",
   "source": [
    "# 3 Songs Example"
   ],
   "metadata": {
    "collapsed": false
   }
  },
  {
   "cell_type": "code",
   "execution_count": 2,
   "metadata": {},
   "outputs": [
    {
     "name": "stdout",
     "output_type": "stream",
     "text": [
      "loading edgelists...\n",
      "- full_edgelist.edgelist\n",
      "- notes.edgelist\n",
      "- program.edgelist\n",
      "- tempo.edgelist\n",
      "- time.signature.edgelist\n",
      "Nodes: 2703\n",
      "Edges: 19366\n"
     ]
    }
   ],
   "source": [
    "G = complete_graph(\".\\slac\\embeddings\\Test Edgelists\")"
   ]
  },
  {
   "cell_type": "code",
   "execution_count": 3,
   "metadata": {},
   "outputs": [],
   "source": [
    "nodes = pd.DataFrame((list(G.nodes)), columns=['name'])\n",
    "edges = pd.DataFrame(np.array(list(G.edges)), columns=['source', 'target'])"
   ]
  },
  {
   "cell_type": "code",
   "execution_count": 4,
   "metadata": {},
   "outputs": [
    {
     "name": "stdout",
     "output_type": "stream",
     "text": [
      "node_cat_dict took 0.01 secs to run\n"
     ]
    },
    {
     "data": {
      "text/plain": "dict_keys(['note_group', 'pitch', 'program', 'MIDI', 'duration', 'velocity', 'time_sig', 'tempo'])"
     },
     "execution_count": 4,
     "metadata": {},
     "output_type": "execute_result"
    }
   ],
   "source": [
    "node_categories = node_cat_dict(nodes)\n",
    "\n",
    "node_categories.keys()"
   ]
  },
  {
   "cell_type": "code",
   "execution_count": 5,
   "outputs": [
    {
     "data": {
      "text/plain": "['9', '6', '11']"
     },
     "execution_count": 5,
     "metadata": {},
     "output_type": "execute_result"
    }
   ],
   "source": [
    "node_categories['tempo']"
   ],
   "metadata": {
    "collapsed": false
   }
  },
  {
   "cell_type": "code",
   "execution_count": 6,
   "metadata": {},
   "outputs": [],
   "source": [
    "main_edge_types = [\"MIDI__has__tempo\",\n",
    "                   \"MIDI__in__time_sig\",\n",
    "                   \"MIDI__has__program\",\n",
    "                   \"MIDI__has__note_group\",\n",
    "                   \"note_group__has__velocity\",\n",
    "                   \"note_group__has__duration\",\n",
    "                   \"note_group__contains__pitch\"]\n",
    "\n"
   ]
  },
  {
   "cell_type": "code",
   "execution_count": 7,
   "metadata": {},
   "outputs": [
    {
     "name": "stdout",
     "output_type": "stream",
     "text": [
      "add_node_type took 0.54 secs to run\n",
      "add_edge_type took 3.01 secs to run\n",
      "add_types took 3.55 secs to run\n"
     ]
    }
   ],
   "source": [
    "nodes_f, edges_f = add_types(nodes, edges, node_categories)\n"
   ]
  },
  {
   "cell_type": "code",
   "execution_count": 8,
   "outputs": [
    {
     "data": {
      "text/plain": "                                     source        target\n0      -Albert_King_-_Born_Under_A_Bad_Sign      g1601074\n1      -Albert_King_-_Born_Under_A_Bad_Sign      g1577049\n2      -Albert_King_-_Born_Under_A_Bad_Sign      g1575127\n3      -Albert_King_-_Born_Under_A_Bad_Sign  g-1872221027\n4      -Albert_King_-_Born_Under_A_Bad_Sign    g795292196\n...                                     ...           ...\n18857              -B_B_King_-_Rock_Me_Baby      g1750992\n18858              -B_B_King_-_Rock_Me_Baby    g415858330\n18859              -B_B_King_-_Rock_Me_Baby      g1606844\n18860              -B_B_King_-_Rock_Me_Baby      g1605881\n18866              -B_B_King_-_Rock_Me_Baby      g1603959\n\n[2681 rows x 2 columns]",
      "text/html": "<div>\n<style scoped>\n    .dataframe tbody tr th:only-of-type {\n        vertical-align: middle;\n    }\n\n    .dataframe tbody tr th {\n        vertical-align: top;\n    }\n\n    .dataframe thead th {\n        text-align: right;\n    }\n</style>\n<table border=\"1\" class=\"dataframe\">\n  <thead>\n    <tr style=\"text-align: right;\">\n      <th></th>\n      <th>source</th>\n      <th>target</th>\n    </tr>\n  </thead>\n  <tbody>\n    <tr>\n      <th>0</th>\n      <td>-Albert_King_-_Born_Under_A_Bad_Sign</td>\n      <td>g1601074</td>\n    </tr>\n    <tr>\n      <th>1</th>\n      <td>-Albert_King_-_Born_Under_A_Bad_Sign</td>\n      <td>g1577049</td>\n    </tr>\n    <tr>\n      <th>2</th>\n      <td>-Albert_King_-_Born_Under_A_Bad_Sign</td>\n      <td>g1575127</td>\n    </tr>\n    <tr>\n      <th>3</th>\n      <td>-Albert_King_-_Born_Under_A_Bad_Sign</td>\n      <td>g-1872221027</td>\n    </tr>\n    <tr>\n      <th>4</th>\n      <td>-Albert_King_-_Born_Under_A_Bad_Sign</td>\n      <td>g795292196</td>\n    </tr>\n    <tr>\n      <th>...</th>\n      <td>...</td>\n      <td>...</td>\n    </tr>\n    <tr>\n      <th>18857</th>\n      <td>-B_B_King_-_Rock_Me_Baby</td>\n      <td>g1750992</td>\n    </tr>\n    <tr>\n      <th>18858</th>\n      <td>-B_B_King_-_Rock_Me_Baby</td>\n      <td>g415858330</td>\n    </tr>\n    <tr>\n      <th>18859</th>\n      <td>-B_B_King_-_Rock_Me_Baby</td>\n      <td>g1606844</td>\n    </tr>\n    <tr>\n      <th>18860</th>\n      <td>-B_B_King_-_Rock_Me_Baby</td>\n      <td>g1605881</td>\n    </tr>\n    <tr>\n      <th>18866</th>\n      <td>-B_B_King_-_Rock_Me_Baby</td>\n      <td>g1603959</td>\n    </tr>\n  </tbody>\n</table>\n<p>2681 rows × 2 columns</p>\n</div>"
     },
     "execution_count": 8,
     "metadata": {},
     "output_type": "execute_result"
    }
   ],
   "source": [
    "edges_f.loc[edges_f['edge_type'] == 'MIDI__has__note_group', ['source', 'target']]"
   ],
   "metadata": {
    "collapsed": false
   }
  },
  {
   "cell_type": "markdown",
   "metadata": {},
   "source": [
    "## Graph Build"
   ]
  },
  {
   "cell_type": "code",
   "execution_count": 9,
   "outputs": [],
   "source": [
    "data = HeteroData()\n",
    "\n",
    "data['MIDI'].x = node_categories['MIDI']\n",
    "data['note_group'].x = node_categories['note_group']\n",
    "\n",
    "data['MIDI', 'has', 'note_group'].edge_index = edges_f.loc[edges_f['edge_type'] == 'MIDI__has__note_group', ['source', 'target']]"
   ],
   "metadata": {
    "collapsed": false
   }
  },
  {
   "cell_type": "code",
   "execution_count": 10,
   "outputs": [
    {
     "data": {
      "text/plain": "(['MIDI', 'note_group'], [('MIDI', 'has', 'note_group')])"
     },
     "execution_count": 10,
     "metadata": {},
     "output_type": "execute_result"
    }
   ],
   "source": [
    "data.metadata()"
   ],
   "metadata": {
    "collapsed": false
   }
  },
  {
   "cell_type": "code",
   "execution_count": 11,
   "outputs": [
    {
     "data": {
      "text/plain": "{'x': ['-B_B_King_-_Rock_Me_Baby', '-Albert_King_-_Born_Under_A_Bad_Sign', '-B_B_King_-_How_Blue_Can_You_Get']}"
     },
     "execution_count": 11,
     "metadata": {},
     "output_type": "execute_result"
    }
   ],
   "source": [
    "data['MIDI']"
   ],
   "metadata": {
    "collapsed": false
   }
  },
  {
   "cell_type": "code",
   "execution_count": 12,
   "metadata": {},
   "outputs": [],
   "source": [
    "node_edge_categories = node_categories.copy()\n",
    "node_edge_categories['node_types'] = list(node_categories.keys())\n",
    "node_edge_categories['main_edge_types'] = main_edge_types  # Dictionary containing every string that may be found in our Dataframes"
   ]
  },
  {
   "cell_type": "code",
   "execution_count": 13,
   "outputs": [],
   "source": [
    "names_list = flatten_lol(node_edge_categories.values())\n"
   ],
   "metadata": {
    "collapsed": false
   }
  },
  {
   "cell_type": "code",
   "execution_count": 14,
   "outputs": [
    {
     "data": {
      "text/plain": "True"
     },
     "execution_count": 14,
     "metadata": {},
     "output_type": "execute_result"
    }
   ],
   "source": [
    "len(names_list) == len(set(names_list))"
   ],
   "metadata": {
    "collapsed": false
   }
  },
  {
   "cell_type": "code",
   "execution_count": 15,
   "outputs": [
    {
     "data": {
      "text/plain": "'-Albert_King_-_Born_Under_A_Bad_Sign'"
     },
     "execution_count": 15,
     "metadata": {},
     "output_type": "execute_result"
    }
   ],
   "source": [
    "nodes_f.iloc[0][0]"
   ],
   "metadata": {
    "collapsed": false
   }
  },
  {
   "cell_type": "code",
   "execution_count": 16,
   "outputs": [],
   "source": [
    "encoder = Encoder(names_list)"
   ],
   "metadata": {
    "collapsed": false
   }
  },
  {
   "cell_type": "code",
   "execution_count": 17,
   "outputs": [
    {
     "name": "stdout",
     "output_type": "stream",
     "text": [
      "encode_nodes took 0.48 secs to run\n"
     ]
    },
    {
     "data": {
      "text/plain": "array([[2639, 2706],\n       [   0, 2703],\n       [   1, 2703],\n       ...,\n       [2614, 2704],\n       [2554, 2704],\n       [2579, 2704]])"
     },
     "execution_count": 17,
     "metadata": {},
     "output_type": "execute_result"
    }
   ],
   "source": [
    "nodes_ten = encoder.encode_nodes(nodes_f)\n",
    "\n",
    "nodes_ten.numpy()"
   ],
   "metadata": {
    "collapsed": false
   }
  },
  {
   "cell_type": "code",
   "execution_count": 18,
   "outputs": [
    {
     "name": "stdout",
     "output_type": "stream",
     "text": [
      "encode_edges took 1.90 secs to run\n"
     ]
    },
    {
     "data": {
      "text/plain": "array([[2639,    0, 2714],\n       [2639,    1, 2714],\n       [2639,    2, 2714],\n       ...,\n       [2552, 2565, 2717],\n       [2553, 2609, 2717],\n       [2553, 2667, 2716]])"
     },
     "execution_count": 18,
     "metadata": {},
     "output_type": "execute_result"
    }
   ],
   "source": [
    "edges_ten = encoder.encode_edges(edges_f)\n",
    "edges_ten.numpy()"
   ],
   "metadata": {
    "collapsed": false
   }
  },
  {
   "cell_type": "code",
   "execution_count": 19,
   "outputs": [
    {
     "data": {
      "text/plain": "tensor([[2639,    0],\n        [2639,    1],\n        [2639,    2],\n        ...,\n        [2552, 2565],\n        [2553, 2609],\n        [2553, 2667]], dtype=torch.int32)"
     },
     "execution_count": 19,
     "metadata": {},
     "output_type": "execute_result"
    }
   ],
   "source": [
    "edges_ten[:, :2]"
   ],
   "metadata": {
    "collapsed": false
   }
  },
  {
   "cell_type": "code",
   "execution_count": 20,
   "metadata": {},
   "outputs": [],
   "source": [
    "node_type = nodes_f.iloc[:, 1]\n",
    "\n",
    "# Get the source and target indices from the edges tensor\n",
    "edge_index = edges_ten[:, :2]\n",
    "\n",
    "# Get the edge types from the edges tensor\n",
    "edge_type = edges_f.iloc[:, 2]\n"
   ]
  },
  {
   "cell_type": "code",
   "execution_count": 21,
   "outputs": [],
   "source": [
    "hetero_graph = HeteroData(x=nodes_ten, node_type=node_type, edge_index=edge_index, edge_type=edge_type)"
   ],
   "metadata": {
    "collapsed": false
   }
  },
  {
   "cell_type": "code",
   "execution_count": 22,
   "outputs": [
    {
     "name": "stdout",
     "output_type": "stream",
     "text": [
      "HeteroData(\n",
      "  x=[2703, 2],\n",
      "  node_type=0             MIDI\n",
      "1       note_group\n",
      "2       note_group\n",
      "3       note_group\n",
      "4       note_group\n",
      "           ...    \n",
      "2698       program\n",
      "2699         tempo\n",
      "2700         pitch\n",
      "2701         pitch\n",
      "2702         pitch\n",
      "Name: node_type, Length: 2703, dtype: object,\n",
      "  edge_index=[19366, 2],\n",
      "  edge_type=0              MIDI__has__note_group\n",
      "1              MIDI__has__note_group\n",
      "2              MIDI__has__note_group\n",
      "3              MIDI__has__note_group\n",
      "4              MIDI__has__note_group\n",
      "                    ...             \n",
      "19361      note_group__has__duration\n",
      "19362    note_group__contains__pitch\n",
      "19363    note_group__contains__pitch\n",
      "19364    note_group__contains__pitch\n",
      "19365      note_group__has__duration\n",
      "Name: edge_type, Length: 19366, dtype: object\n",
      ")\n"
     ]
    }
   ],
   "source": [
    "print(hetero_graph)"
   ],
   "metadata": {
    "collapsed": false
   }
  },
  {
   "cell_type": "markdown",
   "source": [
    "# Complete Dataset"
   ],
   "metadata": {
    "collapsed": false
   }
  },
  {
   "cell_type": "code",
   "execution_count": 2,
   "outputs": [
    {
     "name": "stdout",
     "output_type": "stream",
     "text": [
      "loading edgelists...\n",
      "- notes.edgelist\n",
      "- program.edgelist\n",
      "- tempo.edgelist\n",
      "- time.signature.edgelist\n",
      "Nodes: 93553\n",
      "Edges: 786635\n"
     ]
    }
   ],
   "source": [
    "C = complete_graph(\".\\slac\\embeddings\\\\all\")"
   ],
   "metadata": {
    "collapsed": false
   }
  },
  {
   "cell_type": "code",
   "execution_count": 3,
   "outputs": [],
   "source": [
    "nodes_c = pd.DataFrame((list(C.nodes)), columns=['name'])\n",
    "edges_c = pd.DataFrame(np.array(list(C.edges)), columns=['source', 'target'])"
   ],
   "metadata": {
    "collapsed": false
   }
  },
  {
   "cell_type": "code",
   "execution_count": 4,
   "outputs": [
    {
     "name": "stdout",
     "output_type": "stream",
     "text": [
      "node_cat_dict took 0.18 secs to run\n"
     ]
    }
   ],
   "source": [
    "node_categories_c = node_cat_dict(nodes_c)"
   ],
   "metadata": {
    "collapsed": false
   }
  },
  {
   "cell_type": "code",
   "execution_count": 5,
   "outputs": [
    {
     "data": {
      "text/plain": "dict_keys(['note_group', 'pitch', 'program', 'MIDI', 'duration', 'velocity', 'time_sig', 'tempo'])"
     },
     "execution_count": 5,
     "metadata": {},
     "output_type": "execute_result"
    }
   ],
   "source": [
    "node_categories_c.keys()"
   ],
   "metadata": {
    "collapsed": false
   }
  },
  {
   "cell_type": "code",
   "execution_count": 6,
   "outputs": [
    {
     "name": "stdout",
     "output_type": "stream",
     "text": [
      "Couldn't find program: 'false'\n"
     ]
    }
   ],
   "source": [
    "%%script false --no-raise-error\n",
    "\n",
    "nodes_full, edges_full = add_types(nodes_c, edges_c, node_categories_c)\n",
    "\n",
    "winsound.Beep(400, 700)\n",
    "\n",
    "nodes_full.to_csv('nodes_complete.csv')\n",
    "edges_full.to_csv('edges_complete.csv')"
   ],
   "metadata": {
    "collapsed": false
   }
  },
  {
   "cell_type": "code",
   "execution_count": 7,
   "outputs": [],
   "source": [
    "nodes_full = pd.read_csv('.\\slac\\Contents of Slac\\\\nodes_complete.csv')\n",
    "edges_full = pd.read_csv('.\\slac\\Contents of Slac\\edges_complete.csv')\n"
   ],
   "metadata": {
    "collapsed": false
   }
  },
  {
   "cell_type": "code",
   "execution_count": 8,
   "outputs": [],
   "source": [
    "main_edge_types = [\"MIDI__has__tempo\",\n",
    "                   \"MIDI__in__time_sig\",\n",
    "                   \"MIDI__has__program\",\n",
    "                   \"MIDI__has__note_group\",\n",
    "                   \"note_group__has__velocity\",\n",
    "                   \"note_group__has__duration\",\n",
    "                   \"note_group__contains__pitch\"]"
   ],
   "metadata": {
    "collapsed": false
   }
  },
  {
   "cell_type": "code",
   "execution_count": 9,
   "outputs": [
    {
     "data": {
      "text/plain": "       Unnamed: 0                                               name node_type\n0               0  Blues_-_Modern-Albert_King_-_Born_Under_A_Bad_...      MIDI\n1029         1029     Blues_-_Modern-B_B_King_-_How_Blue_Can_You_Get      MIDI\n2248         2248             Blues_-_Modern-B_B_King_-_Rock_Me_Baby      MIDI\n2686         2686       Blues_-_Modern-B_B_King_-_The_Thrill_Is_Gone      MIDI\n3738         3738   Blues_-_Modern-Buddy_Guy_-_Don't_Answer_the_Door      MIDI\n...           ...                                                ...       ...\n92865       92865  Rock_-_Metal-Rage_Against_the_Machine_-_Bulls_...      MIDI\n92925       92925  Rock_-_Metal-Rage_Against_the_Machine_-_Gueril...      MIDI\n93030       93030  Rock_-_Metal-Rage_Against_the_Machine_-_Killin...      MIDI\n93133       93133  Rock_-_Metal-Rage_Against_the_Machine_-_Know_Y...      MIDI\n93220       93220         Rock_-_Metal-White_Zombie_-_Black_Sunshine      MIDI\n\n[250 rows x 3 columns]",
      "text/html": "<div>\n<style scoped>\n    .dataframe tbody tr th:only-of-type {\n        vertical-align: middle;\n    }\n\n    .dataframe tbody tr th {\n        vertical-align: top;\n    }\n\n    .dataframe thead th {\n        text-align: right;\n    }\n</style>\n<table border=\"1\" class=\"dataframe\">\n  <thead>\n    <tr style=\"text-align: right;\">\n      <th></th>\n      <th>Unnamed: 0</th>\n      <th>name</th>\n      <th>node_type</th>\n    </tr>\n  </thead>\n  <tbody>\n    <tr>\n      <th>0</th>\n      <td>0</td>\n      <td>Blues_-_Modern-Albert_King_-_Born_Under_A_Bad_...</td>\n      <td>MIDI</td>\n    </tr>\n    <tr>\n      <th>1029</th>\n      <td>1029</td>\n      <td>Blues_-_Modern-B_B_King_-_How_Blue_Can_You_Get</td>\n      <td>MIDI</td>\n    </tr>\n    <tr>\n      <th>2248</th>\n      <td>2248</td>\n      <td>Blues_-_Modern-B_B_King_-_Rock_Me_Baby</td>\n      <td>MIDI</td>\n    </tr>\n    <tr>\n      <th>2686</th>\n      <td>2686</td>\n      <td>Blues_-_Modern-B_B_King_-_The_Thrill_Is_Gone</td>\n      <td>MIDI</td>\n    </tr>\n    <tr>\n      <th>3738</th>\n      <td>3738</td>\n      <td>Blues_-_Modern-Buddy_Guy_-_Don't_Answer_the_Door</td>\n      <td>MIDI</td>\n    </tr>\n    <tr>\n      <th>...</th>\n      <td>...</td>\n      <td>...</td>\n      <td>...</td>\n    </tr>\n    <tr>\n      <th>92865</th>\n      <td>92865</td>\n      <td>Rock_-_Metal-Rage_Against_the_Machine_-_Bulls_...</td>\n      <td>MIDI</td>\n    </tr>\n    <tr>\n      <th>92925</th>\n      <td>92925</td>\n      <td>Rock_-_Metal-Rage_Against_the_Machine_-_Gueril...</td>\n      <td>MIDI</td>\n    </tr>\n    <tr>\n      <th>93030</th>\n      <td>93030</td>\n      <td>Rock_-_Metal-Rage_Against_the_Machine_-_Killin...</td>\n      <td>MIDI</td>\n    </tr>\n    <tr>\n      <th>93133</th>\n      <td>93133</td>\n      <td>Rock_-_Metal-Rage_Against_the_Machine_-_Know_Y...</td>\n      <td>MIDI</td>\n    </tr>\n    <tr>\n      <th>93220</th>\n      <td>93220</td>\n      <td>Rock_-_Metal-White_Zombie_-_Black_Sunshine</td>\n      <td>MIDI</td>\n    </tr>\n  </tbody>\n</table>\n<p>250 rows × 3 columns</p>\n</div>"
     },
     "execution_count": 9,
     "metadata": {},
     "output_type": "execute_result"
    }
   ],
   "source": [
    "nodes_full[nodes_full['node_type'] == \"MIDI\"]"
   ],
   "metadata": {
    "collapsed": false
   }
  },
  {
   "cell_type": "code",
   "execution_count": 10,
   "outputs": [
    {
     "data": {
      "text/plain": "'Classical'"
     },
     "execution_count": 10,
     "metadata": {},
     "output_type": "execute_result"
    }
   ],
   "source": [
    "s = \"Classical_-_Romantic-Berlioz_-_Harold_In_Italy_Op_16\"\n",
    "s.split('_-_')[0]"
   ],
   "metadata": {
    "collapsed": false
   }
  },
  {
   "cell_type": "code",
   "execution_count": 11,
   "outputs": [
    {
     "data": {
      "text/plain": "True"
     },
     "execution_count": 11,
     "metadata": {},
     "output_type": "execute_result"
    }
   ],
   "source": [
    "full_categories = node_categories_c.copy()\n",
    "full_categories['node_types'] = list(node_categories_c.keys())\n",
    "full_categories['main_edge_types'] = main_edge_types  # Dictionary containing every string that may be found in our Dataframes\n",
    "names_list_full = flatten_lol(full_categories.values())\n",
    "\n",
    "len(names_list_full) == len(set(names_list_full))"
   ],
   "metadata": {
    "collapsed": false
   }
  },
  {
   "cell_type": "code",
   "execution_count": 12,
   "outputs": [],
   "source": [
    "encoder_f = Encoder(names_list_full)\n",
    "\n",
    "# nodes_ten_f = encoder_f.encode_nodes(nodes_full)\n",
    "\n",
    "# edges_ten_f = encoder_f.encode_edges(edges_full)\n",
    "\n",
    "winsound.Beep(400, 700)"
   ],
   "metadata": {
    "collapsed": false
   }
  },
  {
   "cell_type": "code",
   "execution_count": 13,
   "outputs": [
    {
     "data": {
      "text/plain": "                                                    name\n0      Blues_-_Modern-Albert_King_-_Born_Under_A_Bad_...\n1029      Blues_-_Modern-B_B_King_-_How_Blue_Can_You_Get\n2248              Blues_-_Modern-B_B_King_-_Rock_Me_Baby\n2686        Blues_-_Modern-B_B_King_-_The_Thrill_Is_Gone\n3738    Blues_-_Modern-Buddy_Guy_-_Don't_Answer_the_Door\n...                                                  ...\n92865  Rock_-_Metal-Rage_Against_the_Machine_-_Bulls_...\n92925  Rock_-_Metal-Rage_Against_the_Machine_-_Gueril...\n93030  Rock_-_Metal-Rage_Against_the_Machine_-_Killin...\n93133  Rock_-_Metal-Rage_Against_the_Machine_-_Know_Y...\n93220         Rock_-_Metal-White_Zombie_-_Black_Sunshine\n\n[250 rows x 1 columns]",
      "text/html": "<div>\n<style scoped>\n    .dataframe tbody tr th:only-of-type {\n        vertical-align: middle;\n    }\n\n    .dataframe tbody tr th {\n        vertical-align: top;\n    }\n\n    .dataframe thead th {\n        text-align: right;\n    }\n</style>\n<table border=\"1\" class=\"dataframe\">\n  <thead>\n    <tr style=\"text-align: right;\">\n      <th></th>\n      <th>name</th>\n    </tr>\n  </thead>\n  <tbody>\n    <tr>\n      <th>0</th>\n      <td>Blues_-_Modern-Albert_King_-_Born_Under_A_Bad_...</td>\n    </tr>\n    <tr>\n      <th>1029</th>\n      <td>Blues_-_Modern-B_B_King_-_How_Blue_Can_You_Get</td>\n    </tr>\n    <tr>\n      <th>2248</th>\n      <td>Blues_-_Modern-B_B_King_-_Rock_Me_Baby</td>\n    </tr>\n    <tr>\n      <th>2686</th>\n      <td>Blues_-_Modern-B_B_King_-_The_Thrill_Is_Gone</td>\n    </tr>\n    <tr>\n      <th>3738</th>\n      <td>Blues_-_Modern-Buddy_Guy_-_Don't_Answer_the_Door</td>\n    </tr>\n    <tr>\n      <th>...</th>\n      <td>...</td>\n    </tr>\n    <tr>\n      <th>92865</th>\n      <td>Rock_-_Metal-Rage_Against_the_Machine_-_Bulls_...</td>\n    </tr>\n    <tr>\n      <th>92925</th>\n      <td>Rock_-_Metal-Rage_Against_the_Machine_-_Gueril...</td>\n    </tr>\n    <tr>\n      <th>93030</th>\n      <td>Rock_-_Metal-Rage_Against_the_Machine_-_Killin...</td>\n    </tr>\n    <tr>\n      <th>93133</th>\n      <td>Rock_-_Metal-Rage_Against_the_Machine_-_Know_Y...</td>\n    </tr>\n    <tr>\n      <th>93220</th>\n      <td>Rock_-_Metal-White_Zombie_-_Black_Sunshine</td>\n    </tr>\n  </tbody>\n</table>\n<p>250 rows × 1 columns</p>\n</div>"
     },
     "execution_count": 13,
     "metadata": {},
     "output_type": "execute_result"
    }
   ],
   "source": [
    "nodes_full.loc[nodes_full['node_type'] == 'MIDI', ['name']]"
   ],
   "metadata": {
    "collapsed": false
   }
  },
  {
   "cell_type": "code",
   "execution_count": 14,
   "outputs": [
    {
     "data": {
      "text/plain": "tensor([[92833],\n        [92881],\n        [92693],\n        [92904],\n        [92868],\n        [92687],\n        [92768],\n        [92689],\n        [92878],\n        [92761],\n        [92830],\n        [92770],\n        [92837],\n        [92698],\n        [92802],\n        [92697],\n        [92883],\n        [92806],\n        [92757],\n        [92732],\n        [92726],\n        [92779],\n        [92842],\n        [92702],\n        [92788],\n        [92928],\n        [92867],\n        [92771],\n        [92713],\n        [92839],\n        [92845],\n        [92745],\n        [92816],\n        [92870],\n        [92852],\n        [92828],\n        [92776],\n        [92786],\n        [92755],\n        [92819],\n        [92840],\n        [92799],\n        [92901],\n        [92763],\n        [92921],\n        [92721],\n        [92930],\n        [92715],\n        [92703],\n        [92696],\n        [92794],\n        [92708],\n        [92710],\n        [92730],\n        [92926],\n        [92729],\n        [92720],\n        [92827],\n        [92835],\n        [92931],\n        [92929],\n        [92801],\n        [92861],\n        [92910],\n        [92818],\n        [92798],\n        [92780],\n        [92891],\n        [92920],\n        [92742],\n        [92932],\n        [92808],\n        [92695],\n        [92862],\n        [92809],\n        [92887],\n        [92923],\n        [92823],\n        [92743],\n        [92738],\n        [92712],\n        [92711],\n        [92847],\n        [92787],\n        [92919],\n        [92915],\n        [92750],\n        [92860],\n        [92749],\n        [92725],\n        [92853],\n        [92812],\n        [92765],\n        [92685],\n        [92803],\n        [92775],\n        [92848],\n        [92701],\n        [92905],\n        [92893],\n        [92873],\n        [92718],\n        [92876],\n        [92727],\n        [92706],\n        [92874],\n        [92777],\n        [92850],\n        [92740],\n        [92869],\n        [92906],\n        [92922],\n        [92805],\n        [92885],\n        [92880],\n        [92895],\n        [92858],\n        [92719],\n        [92751],\n        [92717],\n        [92705],\n        [92747],\n        [92917],\n        [92864],\n        [92773],\n        [92898],\n        [92764],\n        [92890],\n        [92753],\n        [92714],\n        [92724],\n        [92933],\n        [92735],\n        [92694],\n        [92739],\n        [92889],\n        [92731],\n        [92831],\n        [92892],\n        [92843],\n        [92741],\n        [92879],\n        [92754],\n        [92728],\n        [92756],\n        [92723],\n        [92857],\n        [92872],\n        [92912],\n        [92791],\n        [92796],\n        [92820],\n        [92722],\n        [92854],\n        [92784],\n        [92866],\n        [92716],\n        [92865],\n        [92900],\n        [92807],\n        [92902],\n        [92700],\n        [92821],\n        [92849],\n        [92734],\n        [92836],\n        [92792],\n        [92692],\n        [92896],\n        [92758],\n        [92709],\n        [92707],\n        [92907],\n        [92822],\n        [92785],\n        [92766],\n        [92888],\n        [92875],\n        [92790],\n        [92913],\n        [92752],\n        [92782],\n        [92772],\n        [92851],\n        [92783],\n        [92897],\n        [92863],\n        [92924],\n        [92769],\n        [92690],\n        [92817],\n        [92760],\n        [92844],\n        [92795],\n        [92688],\n        [92767],\n        [92899],\n        [92815],\n        [92810],\n        [92737],\n        [92859],\n        [92762],\n        [92886],\n        [92748],\n        [92824],\n        [92825],\n        [92882],\n        [92832],\n        [92911],\n        [92699],\n        [92908],\n        [92855],\n        [92813],\n        [92811],\n        [92934],\n        [92814],\n        [92871],\n        [92733],\n        [92903],\n        [92774],\n        [92846],\n        [92838],\n        [92856],\n        [92909],\n        [92877],\n        [92778],\n        [92691],\n        [92781],\n        [92884],\n        [92804],\n        [92800],\n        [92736],\n        [92826],\n        [92834],\n        [92704],\n        [92829],\n        [92744],\n        [92759],\n        [92918],\n        [92927],\n        [92925],\n        [92914],\n        [92841],\n        [92797],\n        [92686],\n        [92746],\n        [92916],\n        [92793],\n        [92789],\n        [92894]], dtype=torch.int32)"
     },
     "execution_count": 14,
     "metadata": {},
     "output_type": "execute_result"
    }
   ],
   "source": [
    "midi_ten = encoder_f.encode_nodes2(nodes_full.loc[nodes_full['node_type'] == 'MIDI', ['name']])\n",
    "midi_ten"
   ],
   "metadata": {
    "collapsed": false
   }
  },
  {
   "cell_type": "code",
   "execution_count": 15,
   "outputs": [
    {
     "data": {
      "text/plain": "['Blues',\n 'Blues',\n 'Blues',\n 'Blues',\n 'Blues',\n 'Blues',\n 'Blues',\n 'Blues',\n 'Blues',\n 'Blues',\n 'Blues',\n 'Blues',\n 'Blues',\n 'Blues',\n 'Blues',\n 'Blues',\n 'Blues',\n 'Blues',\n 'Blues',\n 'Blues',\n 'Blues',\n 'Blues',\n 'Blues',\n 'Blues',\n 'Blues',\n 'Blues',\n 'Blues',\n 'Blues',\n 'Blues',\n 'Blues',\n 'Blues',\n 'Blues',\n 'Blues',\n 'Blues',\n 'Blues',\n 'Blues',\n 'Blues',\n 'Blues',\n 'Blues',\n 'Blues',\n 'Blues',\n 'Blues',\n 'Blues',\n 'Blues',\n 'Blues',\n 'Blues',\n 'Blues',\n 'Blues',\n 'Blues',\n 'Blues',\n 'Classical',\n 'Classical',\n 'Classical',\n 'Classical',\n 'Classical',\n 'Classical',\n 'Classical',\n 'Classical',\n 'Classical',\n 'Classical',\n 'Classical',\n 'Classical',\n 'Classical',\n 'Classical',\n 'Classical',\n 'Classical',\n 'Classical',\n 'Classical',\n 'Classical',\n 'Classical',\n 'Classical',\n 'Classical',\n 'Classical',\n 'Classical',\n 'Classical',\n 'Classical',\n 'Classical',\n 'Classical',\n 'Classical',\n 'Classical',\n 'Classical',\n 'Classical',\n 'Classical',\n 'Classical',\n 'Classical',\n 'Classical',\n 'Classical',\n 'Classical',\n 'Classical',\n 'Classical',\n 'Classical',\n 'Classical',\n 'Classical',\n 'Classical',\n 'Classical',\n 'Classical',\n 'Classical',\n 'Classical',\n 'Classical',\n 'Classical',\n 'Jazz',\n 'Jazz',\n 'Jazz',\n 'Jazz',\n 'Jazz',\n 'Jazz',\n 'Jazz',\n 'Jazz',\n 'Jazz',\n 'Jazz',\n 'Jazz',\n 'Jazz',\n 'Jazz',\n 'Jazz',\n 'Jazz',\n 'Jazz',\n 'Jazz',\n 'Jazz',\n 'Jazz',\n 'Jazz',\n 'Jazz',\n 'Jazz',\n 'Jazz',\n 'Jazz',\n 'Jazz',\n 'Jazz',\n 'Jazz',\n 'Jazz',\n 'Jazz',\n 'Jazz',\n 'Jazz',\n 'Jazz',\n 'Jazz',\n 'Jazz',\n 'Jazz',\n 'Jazz',\n 'Jazz',\n 'Jazz',\n 'Jazz',\n 'Jazz',\n 'Jazz',\n 'Jazz',\n 'Jazz',\n 'Jazz',\n 'Jazz',\n 'Jazz',\n 'Jazz',\n 'Jazz',\n 'Jazz',\n 'Jazz',\n 'Rap',\n 'Rap',\n 'Rap',\n 'Rap',\n 'Rap',\n 'Rap',\n 'Rap',\n 'Rap',\n 'Rap',\n 'Rap',\n 'Rap',\n 'Rap',\n 'Rap',\n 'Rap',\n 'Rap',\n 'Rap',\n 'Rap',\n 'Rap',\n 'Rap',\n 'Rap',\n 'Rap',\n 'Rap',\n 'Rap',\n 'Rap',\n 'Rap',\n 'Rap',\n 'Rap',\n 'Rap',\n 'Rap',\n 'Rap',\n 'Rap',\n 'Rap',\n 'Rap',\n 'Rap',\n 'Rap',\n 'Rap',\n 'Rap',\n 'Rap',\n 'Rap',\n 'Rap',\n 'Rap',\n 'Rap',\n 'Rap',\n 'Rap',\n 'Rap',\n 'Rap',\n 'Rap',\n 'Rap',\n 'Rap',\n 'Rap',\n 'Rock',\n 'Rock',\n 'Rock',\n 'Rock',\n 'Rock',\n 'Rock',\n 'Rock',\n 'Rock',\n 'Rock',\n 'Rock',\n 'Rock',\n 'Rock',\n 'Rock',\n 'Rock',\n 'Rock',\n 'Rock',\n 'Rock',\n 'Rock',\n 'Rock',\n 'Rock',\n 'Rock',\n 'Rock',\n 'Rock',\n 'Rock',\n 'Rock',\n 'Rock',\n 'Rock',\n 'Rock',\n 'Rock',\n 'Rock',\n 'Rock',\n 'Rock',\n 'Rock',\n 'Rock',\n 'Rock',\n 'Rock',\n 'Rock',\n 'Rock',\n 'Rock',\n 'Rock',\n 'Rock',\n 'Rock',\n 'Rock',\n 'Rock',\n 'Rock',\n 'Rock',\n 'Rock',\n 'Rock',\n 'Rock',\n 'Rock']"
     },
     "execution_count": 15,
     "metadata": {},
     "output_type": "execute_result"
    }
   ],
   "source": [
    "for _, s in nodes_full.loc[nodes_full['node_type'] == 'MIDI', ['name']].items():\n",
    "    pass\n",
    "\n",
    "midi_class = [midi_type(st) for st in s.values]\n",
    "midi_class"
   ],
   "metadata": {
    "collapsed": false
   }
  },
  {
   "cell_type": "code",
   "execution_count": 27,
   "outputs": [
    {
     "data": {
      "text/plain": "array([0, 0, 0, 0, 0, 0, 0, 0, 0, 0, 0, 0, 0, 0, 0, 0, 0, 0, 0, 0, 0, 0,\n       0, 0, 0, 0, 0, 0, 0, 0, 0, 0, 0, 0, 0, 0, 0, 0, 0, 0, 0, 0, 0, 0,\n       0, 0, 0, 0, 0, 0, 1, 1, 1, 1, 1, 1, 1, 1, 1, 1, 1, 1, 1, 1, 1, 1,\n       1, 1, 1, 1, 1, 1, 1, 1, 1, 1, 1, 1, 1, 1, 1, 1, 1, 1, 1, 1, 1, 1,\n       1, 1, 1, 1, 1, 1, 1, 1, 1, 1, 1, 1, 2, 2, 2, 2, 2, 2, 2, 2, 2, 2,\n       2, 2, 2, 2, 2, 2, 2, 2, 2, 2, 2, 2, 2, 2, 2, 2, 2, 2, 2, 2, 2, 2,\n       2, 2, 2, 2, 2, 2, 2, 2, 2, 2, 2, 2, 2, 2, 2, 2, 2, 2, 3, 3, 3, 3,\n       3, 3, 3, 3, 3, 3, 3, 3, 3, 3, 3, 3, 3, 3, 3, 3, 3, 3, 3, 3, 3, 3,\n       3, 3, 3, 3, 3, 3, 3, 3, 3, 3, 3, 3, 3, 3, 3, 3, 3, 3, 3, 3, 3, 3,\n       3, 3, 4, 4, 4, 4, 4, 4, 4, 4, 4, 4, 4, 4, 4, 4, 4, 4, 4, 4, 4, 4,\n       4, 4, 4, 4, 4, 4, 4, 4, 4, 4, 4, 4, 4, 4, 4, 4, 4, 4, 4, 4, 4, 4,\n       4, 4, 4, 4, 4, 4, 4, 4], dtype=int64)"
     },
     "execution_count": 27,
     "metadata": {},
     "output_type": "execute_result"
    }
   ],
   "source": [
    "lb = LabelEncoder()\n",
    "y =  lb.fit_transform(midi_class)\n",
    "y"
   ],
   "metadata": {
    "collapsed": false
   }
  },
  {
   "cell_type": "code",
   "execution_count": 15,
   "outputs": [],
   "source": [
    "node_type = nodes_full.iloc[:, 1]\n",
    "\n",
    "# Get the source and target indices from the edges tensor\n",
    "edge_index = edges_ten_f[:, :2]\n",
    "\n",
    "# Get the edge types from the edges tensor\n",
    "edge_type = edges_full.iloc[:, 2]\n"
   ],
   "metadata": {
    "collapsed": false
   }
  },
  {
   "cell_type": "code",
   "execution_count": 16,
   "outputs": [],
   "source": [
    "full_hetero_graph = HeteroData(x=nodes_ten_f, node_type=node_type, edge_index=edge_index, edge_type=edge_type)"
   ],
   "metadata": {
    "collapsed": false
   }
  },
  {
   "cell_type": "code",
   "execution_count": 16,
   "outputs": [
    {
     "data": {
      "text/plain": "HeteroData(\n  x=[93553, 2],\n  node_type=0              MIDI\n1        note_group\n2             pitch\n3          duration\n4          velocity\n            ...    \n93548      time_sig\n93549      time_sig\n93550      time_sig\n93551      time_sig\n93552      time_sig\nName: node_type, Length: 93553, dtype: object,\n  edge_index=[786635, 2],\n  edge_type=0         MIDI__has__note_group\n1         MIDI__has__note_group\n2         MIDI__has__note_group\n3         MIDI__has__note_group\n4         MIDI__has__note_group\n                  ...          \n786630       MIDI__has__program\n786631       MIDI__has__program\n786632       MIDI__has__program\n786633         MIDI__has__tempo\n786634       MIDI__in__time_sig\nName: edge_type, Length: 786635, dtype: object\n)"
     },
     "execution_count": 16,
     "metadata": {},
     "output_type": "execute_result"
    }
   ],
   "source": [
    "full_hetero_graph"
   ],
   "metadata": {
    "collapsed": false
   }
  },
  {
   "cell_type": "code",
   "execution_count": 28,
   "outputs": [],
   "source": [
    "hetero_test = HeteroData({'MIDI': {'x': midi_ten, 'y': y}})"
   ],
   "metadata": {
    "collapsed": false
   }
  },
  {
   "cell_type": "code",
   "execution_count": 32,
   "outputs": [
    {
     "data": {
      "text/plain": "array([0, 0, 0, 0, 0, 0, 0, 0, 0, 0, 0, 0, 0, 0, 0, 0, 0, 0, 0, 0, 0, 0,\n       0, 0, 0, 0, 0, 0, 0, 0, 0, 0, 0, 0, 0, 0, 0, 0, 0, 0, 0, 0, 0, 0,\n       0, 0, 0, 0, 0, 0, 1, 1, 1, 1, 1, 1, 1, 1, 1, 1, 1, 1, 1, 1, 1, 1,\n       1, 1, 1, 1, 1, 1, 1, 1, 1, 1, 1, 1, 1, 1, 1, 1, 1, 1, 1, 1, 1, 1,\n       1, 1, 1, 1, 1, 1, 1, 1, 1, 1, 1, 1, 2, 2, 2, 2, 2, 2, 2, 2, 2, 2,\n       2, 2, 2, 2, 2, 2, 2, 2, 2, 2, 2, 2, 2, 2, 2, 2, 2, 2, 2, 2, 2, 2,\n       2, 2, 2, 2, 2, 2, 2, 2, 2, 2, 2, 2, 2, 2, 2, 2, 2, 2, 3, 3, 3, 3,\n       3, 3, 3, 3, 3, 3, 3, 3, 3, 3, 3, 3, 3, 3, 3, 3, 3, 3, 3, 3, 3, 3,\n       3, 3, 3, 3, 3, 3, 3, 3, 3, 3, 3, 3, 3, 3, 3, 3, 3, 3, 3, 3, 3, 3,\n       3, 3, 4, 4, 4, 4, 4, 4, 4, 4, 4, 4, 4, 4, 4, 4, 4, 4, 4, 4, 4, 4,\n       4, 4, 4, 4, 4, 4, 4, 4, 4, 4, 4, 4, 4, 4, 4, 4, 4, 4, 4, 4, 4, 4,\n       4, 4, 4, 4, 4, 4, 4, 4], dtype=int64)"
     },
     "execution_count": 32,
     "metadata": {},
     "output_type": "execute_result"
    }
   ],
   "source": [
    "hetero_test['MIDI'].y"
   ],
   "metadata": {
    "collapsed": false
   }
  },
  {
   "cell_type": "code",
   "execution_count": null,
   "outputs": [],
   "source": [],
   "metadata": {
    "collapsed": false
   }
  }
 ],
 "metadata": {
  "kernelspec": {
   "display_name": "Python 3 (ipykernel)",
   "language": "python",
   "name": "python3"
  },
  "language_info": {
   "codemirror_mode": {
    "name": "ipython",
    "version": 3
   },
   "file_extension": ".py",
   "mimetype": "text/x-python",
   "name": "python",
   "nbconvert_exporter": "python",
   "pygments_lexer": "ipython3",
   "version": "3.9.15"
  }
 },
 "nbformat": 4,
 "nbformat_minor": 1
}
