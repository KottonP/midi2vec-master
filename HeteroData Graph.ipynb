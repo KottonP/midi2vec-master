{
 "cells": [
  {
   "cell_type": "code",
   "execution_count": 1,
   "metadata": {},
   "outputs": [
    {
     "name": "stdout",
     "output_type": "stream",
     "text": [
      "1.7.3\n",
      "3.6.2\n",
      "2.8.4\n"
     ]
    }
   ],
   "source": [
    "import os\n",
    "from typing import Optional\n",
    "import timeit\n",
    "import itertools\n",
    "\n",
    "import scipy\n",
    "import numpy as np\n",
    "import pandas as pd\n",
    "\n",
    "import networkx as nx\n",
    "import matplotlib\n",
    "\n",
    "from sklearn.preprocessing import OneHotEncoder\n",
    "\n",
    "import torch\n",
    "from torch_geometric.data import HeteroData\n",
    "\n",
    "\n",
    "print(scipy.__version__)\n",
    "print(matplotlib.__version__)\n",
    "print(nx.__version__)"
   ]
  },
  {
   "cell_type": "code",
   "execution_count": 2,
   "metadata": {},
   "outputs": [],
   "source": [
    "def complete_graph(input_path) -> nx.Graph:\n",
    "    \"\"\"\n",
    "    Compile all edgelists in input_path directory into a nx.Graph instance.\n",
    "\n",
    "    :param input_path: Directory containing the edgelists to compile.\n",
    "    :return: Complete graph specified by the edgelists.\n",
    "    \"\"\"\n",
    "    edgelists = [qf for qf in os.listdir(input_path)\n",
    "                 if qf.endswith('.edgelist') and not qf.startswith('_')]\n",
    "    g = None\n",
    "\n",
    "    print('loading edgelists...')\n",
    "    for eg in edgelists:\n",
    "        print('- ' + eg)\n",
    "        h = nx.read_edgelist(os.path.join(input_path, eg), nodetype=str, create_using=nx.DiGraph(), delimiter=' ')\n",
    "        for edge in h.edges():\n",
    "            h[edge[0]][edge[1]]['weight'] = 1\n",
    "\n",
    "        g = h if g is None else nx.compose(g, h)\n",
    "\n",
    "    g = g.to_undirected()\n",
    "\n",
    "    print('Nodes: %d' % nx.number_of_nodes(g))\n",
    "    print('Edges: %d' % nx.number_of_edges(g))\n",
    "    return g\n"
   ]
  },
  {
   "cell_type": "code",
   "execution_count": 3,
   "metadata": {},
   "outputs": [
    {
     "name": "stdout",
     "output_type": "stream",
     "text": [
      "loading edgelists...\n",
      "- full_edgelist.edgelist\n",
      "- notes.edgelist\n",
      "- program.edgelist\n",
      "- tempo.edgelist\n",
      "- time.signature.edgelist\n",
      "Nodes: 2703\n",
      "Edges: 19366\n"
     ]
    }
   ],
   "source": [
    "G = complete_graph(\".\\slac\\embeddings\\Test Edgelists\")"
   ]
  },
  {
   "cell_type": "code",
   "execution_count": 4,
   "metadata": {},
   "outputs": [],
   "source": [
    "nodes = pd.DataFrame((list(G.nodes)), columns=['name'])\n",
    "edges = pd.DataFrame(np.array(list(G.edges)), columns=['source', 'target'])"
   ]
  },
  {
   "cell_type": "code",
   "execution_count": 5,
   "metadata": {},
   "outputs": [
    {
     "data": {
      "text/plain": "['11', '6', '9']"
     },
     "execution_count": 5,
     "metadata": {},
     "output_type": "execute_result"
    }
   ],
   "source": [
    "note_groups = [n for n in nodes['name'] if n[0] == 'g' and n[1] in [str(i) for i in range(10)] + ['-'] ]\n",
    "\n",
    "not_group_nodes = [n for n in nodes['name'] if n not in note_groups]\n",
    "\n",
    "url = [n for n in not_group_nodes if n[:4] == 'http']\n",
    "program_nodes = []\n",
    "note_nodes = []\n",
    "for u in url:\n",
    "    if \"programs\" in u:\n",
    "        program_nodes.append(u)\n",
    "    elif \"notes\" in u:\n",
    "        note_nodes.append(u)\n",
    "    else:\n",
    "        print(u)\n",
    "\n",
    "name_nodes = [n for n in not_group_nodes if n[0] == '-']\n",
    "dur_nodes = [n for n in not_group_nodes if n[:3] == 'dur']\n",
    "vel_nodes = [n for n in not_group_nodes if n[:3] == 'vel']\n",
    "time_nodes = [n for n in not_group_nodes if n[:4] == 'time']\n",
    "tempo_nodes = [n for n in not_group_nodes if n not in set(dur_nodes).union(vel_nodes, time_nodes, name_nodes, url)]\n",
    "\n",
    "tempo_nodes"
   ]
  },
  {
   "cell_type": "code",
   "execution_count": 6,
   "metadata": {},
   "outputs": [
    {
     "data": {
      "text/plain": "dict_keys(['note_group', 'pitch', 'program', 'MIDI', 'duration', 'velocity', 'time_sig', 'tempo'])"
     },
     "execution_count": 6,
     "metadata": {},
     "output_type": "execute_result"
    }
   ],
   "source": [
    "node_categories = {\"note_group\": note_groups,\n",
    "                    \"pitch\": note_nodes,\n",
    "                    \"program\": program_nodes,\n",
    "                    \"MIDI\": name_nodes,\n",
    "                    \"duration\": dur_nodes,\n",
    "                    \"velocity\": vel_nodes,\n",
    "                    \"time_sig\": time_nodes,\n",
    "                    \"tempo\": tempo_nodes\n",
    "                   }\n",
    "\n",
    "node_categories.keys()"
   ]
  },
  {
   "cell_type": "code",
   "execution_count": 7,
   "metadata": {},
   "outputs": [],
   "source": [
    "main_edge_types = [\"MIDI__has__tempo\",\n",
    "                   \"MIDI__in__time_sig\",\n",
    "                   \"MIDI__has__program\",\n",
    "                   \"MIDI__has__note_group\",\n",
    "                   \"note_group__has__velocity\",\n",
    "                   \"note_group__has__duration\",\n",
    "                   \"note_group__contains__pitch\"]\n",
    "\n"
   ]
  },
  {
   "cell_type": "code",
   "execution_count": 8,
   "metadata": {},
   "outputs": [],
   "source": [
    "def reverse_edge(df: pd.DataFrame, row: int, inplace: bool = False) -> Optional[pd.DataFrame]:\n",
    "    \"\"\"Reverse the source and target of a single edge(row) in the edge dataframe.\"\"\"\n",
    "    if inplace:\n",
    "        df.iloc[row]['source'], df.iloc[row]['target'] = df.iloc[row]['target'], df.iloc[row]['source']\n",
    "        return None\n",
    "    elif not inplace:\n",
    "        tmp = df.copy()\n",
    "        tmp.iloc[row]['source'], tmp.iloc[row]['target'] = tmp.iloc[row]['target'], tmp.iloc[row]['source']\n",
    "        return tmp\n",
    "\n",
    "\n",
    "def format_edge_name(source: str, target: str) -> str:\n",
    "    \"\"\"Combine source and target names in the correct form.\"\"\"\n",
    "    edge_name = \"\"\n",
    "\n",
    "    if source == \"MIDI\":\n",
    "        if target == \"tempo\":\n",
    "            edge_name = source + \"__has__\" + target\n",
    "        elif target == \"time_sig\":\n",
    "            edge_name = source + \"__in__\" + target\n",
    "        elif target == \"program\":\n",
    "            edge_name = source + \"__has__\" + target\n",
    "        elif target == \"note_group\":\n",
    "            edge_name = source + \"__has__\" + target\n",
    "    elif source == \"note_group\":\n",
    "        if target == \"velocity\":\n",
    "            edge_name = source + \"__has__\" + target\n",
    "        elif target == \"duration\":\n",
    "            edge_name = source + \"__has__\" + target\n",
    "        elif target == \"pitch\":\n",
    "            edge_name = source + \"__contains__\" + target\n",
    "    else:\n",
    "        edge_name = source + \"__?__\" + target\n",
    "        print(\"Not known edge detected: \" + edge_name)\n",
    "        return edge_name\n",
    "\n",
    "    return edge_name\n"
   ]
  },
  {
   "cell_type": "code",
   "execution_count": 9,
   "metadata": {},
   "outputs": [],
   "source": [
    "def add_node_type(nodes_df: pd.DataFrame, node_cat: dict) -> pd.DataFrame:\n",
    "    \"\"\"\n",
    "    Return input node Dataframe with a new column named \"node_type\", which specifies the type of the node.\n",
    "\n",
    "    :param nodes_df: Dataframe containing the original node Dataframe (without type column).\n",
    "    :param node_cat: Dictionary with keys: node names, values: nodes of specified category.\n",
    "    :return: Node Dataframe with the new \"node_type\" column.\n",
    "    \"\"\"\n",
    "    node_type = []\n",
    "    augmented_nodes_df = nodes_df.copy()\n",
    "    for i in range(len(nodes_df.index)):\n",
    "        for key in node_cat.keys():\n",
    "            if nodes.iloc[i]['name'] in node_cat[key]:\n",
    "                node_type.append(key)\n",
    "    augmented_nodes_df['node_type'] = node_type\n",
    "    \n",
    "    return augmented_nodes_df\n",
    "\n",
    "\n",
    "def add_edge_type(edges_df: pd.DataFrame, node_cat: dict) -> pd.DataFrame:\n",
    "    \"\"\"\n",
    "    Return input edge Dataframe with a new column named \"edge_type\", which specifies the type of the edge.\n",
    "\n",
    "    :param edges_df: Dataframe containing the original edge Dataframe (without type column).\n",
    "    :param node_cat: Dictionary with keys: node names, values: nodes of specified category.\n",
    "    :return: Edge Dataframe with the new \"edge_type\" column.\n",
    "    \"\"\"\n",
    "    edge_type = []\n",
    "\n",
    "    edge_name_source = \"\"\n",
    "    edge_name_target = \"\"\n",
    "\n",
    "    augmented_edges_df = edges_df.copy()\n",
    "\n",
    "    for i in range(len(edges_df.index)):\n",
    "        for name in node_cat.keys():\n",
    "            if edges_df.iloc[i]['source'] in node_cat[name]:\n",
    "                edge_name_source = name\n",
    "                break\n",
    "        for name in node_cat.keys():\n",
    "            if edges_df.iloc[i]['target'] in node_cat[name]:\n",
    "                edge_name_target = name\n",
    "                break\n",
    "\n",
    "        if (edge_name_source not in (\"MIDI\", \"note_group\")) or (edge_name_source == \"note_group\" and edge_name_target == \"MIDI\"):\n",
    "            reverse_edge(augmented_edges_df, row=i, inplace=True)\n",
    "            edge_name_source, edge_name_target = edge_name_target, edge_name_source\n",
    "\n",
    "        edge_name = format_edge_name(edge_name_source, edge_name_target)\n",
    "        edge_type.append(edge_name)\n",
    "\n",
    "    augmented_edges_df['edge_type'] = edge_type\n",
    "    return augmented_edges_df\n"
   ]
  },
  {
   "cell_type": "code",
   "execution_count": 10,
   "metadata": {},
   "outputs": [],
   "source": [
    "def add_types(nodes_df: pd.DataFrame, edges_df: pd.DataFrame, node_cat: dict) -> (pd.DataFrame, pd.DataFrame):\n",
    "    \"\"\"Execute add_node_type and add_edge_type, and return a tuple of the new Dataframes.\"\"\"\n",
    "    return add_node_type(nodes_df, node_cat), add_edge_type(edges_df, node_cat)\n"
   ]
  },
  {
   "cell_type": "code",
   "execution_count": 11,
   "metadata": {},
   "outputs": [],
   "source": [
    "nodes_f, edges_f = add_types(nodes, edges, node_categories)\n"
   ]
  },
  {
   "cell_type": "code",
   "execution_count": 20,
   "outputs": [
    {
     "data": {
      "text/plain": "                                     source        target\n0      -Albert_King_-_Born_Under_A_Bad_Sign      g1601074\n1      -Albert_King_-_Born_Under_A_Bad_Sign      g1577049\n2      -Albert_King_-_Born_Under_A_Bad_Sign      g1575127\n3      -Albert_King_-_Born_Under_A_Bad_Sign  g-1872221027\n4      -Albert_King_-_Born_Under_A_Bad_Sign    g795292196\n...                                     ...           ...\n18857              -B_B_King_-_Rock_Me_Baby      g1750992\n18858              -B_B_King_-_Rock_Me_Baby    g415858330\n18859              -B_B_King_-_Rock_Me_Baby      g1606844\n18860              -B_B_King_-_Rock_Me_Baby      g1605881\n18866              -B_B_King_-_Rock_Me_Baby      g1603959\n\n[2681 rows x 2 columns]",
      "text/html": "<div>\n<style scoped>\n    .dataframe tbody tr th:only-of-type {\n        vertical-align: middle;\n    }\n\n    .dataframe tbody tr th {\n        vertical-align: top;\n    }\n\n    .dataframe thead th {\n        text-align: right;\n    }\n</style>\n<table border=\"1\" class=\"dataframe\">\n  <thead>\n    <tr style=\"text-align: right;\">\n      <th></th>\n      <th>source</th>\n      <th>target</th>\n    </tr>\n  </thead>\n  <tbody>\n    <tr>\n      <th>0</th>\n      <td>-Albert_King_-_Born_Under_A_Bad_Sign</td>\n      <td>g1601074</td>\n    </tr>\n    <tr>\n      <th>1</th>\n      <td>-Albert_King_-_Born_Under_A_Bad_Sign</td>\n      <td>g1577049</td>\n    </tr>\n    <tr>\n      <th>2</th>\n      <td>-Albert_King_-_Born_Under_A_Bad_Sign</td>\n      <td>g1575127</td>\n    </tr>\n    <tr>\n      <th>3</th>\n      <td>-Albert_King_-_Born_Under_A_Bad_Sign</td>\n      <td>g-1872221027</td>\n    </tr>\n    <tr>\n      <th>4</th>\n      <td>-Albert_King_-_Born_Under_A_Bad_Sign</td>\n      <td>g795292196</td>\n    </tr>\n    <tr>\n      <th>...</th>\n      <td>...</td>\n      <td>...</td>\n    </tr>\n    <tr>\n      <th>18857</th>\n      <td>-B_B_King_-_Rock_Me_Baby</td>\n      <td>g1750992</td>\n    </tr>\n    <tr>\n      <th>18858</th>\n      <td>-B_B_King_-_Rock_Me_Baby</td>\n      <td>g415858330</td>\n    </tr>\n    <tr>\n      <th>18859</th>\n      <td>-B_B_King_-_Rock_Me_Baby</td>\n      <td>g1606844</td>\n    </tr>\n    <tr>\n      <th>18860</th>\n      <td>-B_B_King_-_Rock_Me_Baby</td>\n      <td>g1605881</td>\n    </tr>\n    <tr>\n      <th>18866</th>\n      <td>-B_B_King_-_Rock_Me_Baby</td>\n      <td>g1603959</td>\n    </tr>\n  </tbody>\n</table>\n<p>2681 rows × 2 columns</p>\n</div>"
     },
     "execution_count": 20,
     "metadata": {},
     "output_type": "execute_result"
    }
   ],
   "source": [
    "edges_f.loc[edges_f['edge_type'] == 'MIDI__has__note_group', ['source', 'target']]"
   ],
   "metadata": {
    "collapsed": false
   }
  },
  {
   "cell_type": "code",
   "execution_count": 36,
   "outputs": [
    {
     "data": {
      "text/plain": "Index(['source', 'target', 'edge_type'], dtype='object')"
     },
     "execution_count": 36,
     "metadata": {},
     "output_type": "execute_result"
    }
   ],
   "source": [
    "edges_f.columns"
   ],
   "metadata": {
    "collapsed": false
   }
  },
  {
   "cell_type": "markdown",
   "metadata": {},
   "source": [
    "# Graph Build"
   ]
  },
  {
   "cell_type": "code",
   "execution_count": 21,
   "outputs": [],
   "source": [
    "data = HeteroData()\n",
    "\n",
    "data['MIDI'].x = node_categories['MIDI']\n",
    "data['note_group'].x = node_categories['note_group']\n",
    "\n",
    "data['MIDI', 'has', 'note_group'].edge_index = edges_f.loc[edges_f['edge_type'] == 'MIDI__has__note_group', ['source', 'target']]"
   ],
   "metadata": {
    "collapsed": false
   }
  },
  {
   "cell_type": "code",
   "execution_count": 22,
   "outputs": [
    {
     "data": {
      "text/plain": "(['MIDI', 'note_group'], [('MIDI', 'has', 'note_group')])"
     },
     "execution_count": 22,
     "metadata": {},
     "output_type": "execute_result"
    }
   ],
   "source": [
    "data.metadata()"
   ],
   "metadata": {
    "collapsed": false
   }
  },
  {
   "cell_type": "code",
   "execution_count": 24,
   "outputs": [
    {
     "data": {
      "text/plain": "{'x': ['-Albert_King_-_Born_Under_A_Bad_Sign', '-B_B_King_-_How_Blue_Can_You_Get', '-B_B_King_-_Rock_Me_Baby']}"
     },
     "execution_count": 24,
     "metadata": {},
     "output_type": "execute_result"
    }
   ],
   "source": [
    "data['MIDI']"
   ],
   "metadata": {
    "collapsed": false
   }
  },
  {
   "cell_type": "code",
   "execution_count": 26,
   "metadata": {},
   "outputs": [],
   "source": [
    "node_edge_categories = node_categories.copy()\n",
    "node_edge_categories['node_types'] = list(node_categories.keys())\n",
    "node_edge_categories['main_edge_types'] = main_edge_types  # Dictionary containing every string that may be found in our Dataframes"
   ]
  },
  {
   "cell_type": "code",
   "execution_count": 27,
   "outputs": [],
   "source": [
    "def flatten_lol(lol: list) -> list:\n",
    "    \"\"\"Flatten list of lists (lol).\"\"\"\n",
    "    return list(itertools.chain( *list( lol ) ) )\n",
    "\n",
    "\n",
    "names_list = flatten_lol(node_edge_categories.values())\n"
   ],
   "metadata": {
    "collapsed": false
   }
  },
  {
   "cell_type": "code",
   "execution_count": 28,
   "outputs": [
    {
     "data": {
      "text/plain": "True"
     },
     "execution_count": 28,
     "metadata": {},
     "output_type": "execute_result"
    }
   ],
   "source": [
    "len(names_list) == len(set(names_list))"
   ],
   "metadata": {
    "collapsed": false
   }
  },
  {
   "cell_type": "code",
   "execution_count": 52,
   "outputs": [
    {
     "data": {
      "text/plain": "'-Albert_King_-_Born_Under_A_Bad_Sign'"
     },
     "execution_count": 52,
     "metadata": {},
     "output_type": "execute_result"
    }
   ],
   "source": [
    "nodes_f.iloc[0][0]"
   ],
   "metadata": {
    "collapsed": false
   }
  },
  {
   "cell_type": "code",
   "execution_count": 79,
   "metadata": {},
   "outputs": [],
   "source": [
    "#TODO: Make class for easier use\n",
    "class Encoder:\n",
    "    def __init__(self, str_list: list):\n",
    "        self.mapping = {string: i for i, string in enumerate(str_list)}\n",
    "\n",
    "    def encode_nodes(self, df: pd.DataFrame) -> torch.Tensor:\n",
    "        out = torch.zeros([len(df.index),2], dtype=torch.int32)\n",
    "\n",
    "        for i in range(len(df.index)):\n",
    "            out[i,0], out[i,1] = self.mapping[df.iloc[i]['name']], self.mapping[df.iloc[i]['node_type']]\n",
    "        return out\n",
    "\n",
    "    def encode_edges(self, df: pd.DataFrame) -> torch.Tensor:\n",
    "        out = torch.zeros([len(df.index),3], dtype=torch.int32)\n",
    "\n",
    "        for i in range(len(df.index)):\n",
    "            out[i,0], out[i,1], out[i,2] = self.mapping[df.iloc[i]['source']], self.mapping[df.iloc[i]['target']], self.mapping[df.iloc[i]['edge_type']]\n",
    "        return out\n",
    "\n",
    "\n",
    "    def decode_value(self, value: int) -> str:\n",
    "        return list(self.mapping.keys())[list(self.mapping.values()).index(value)]\n",
    "\n",
    "    def decode_df(self, ten: torch.Tensor):\n",
    "        out = pd.DataFrame(index=range(ten.size(0)),columns=range(ten.size(1)))\n",
    "        if ten.size(1) == 2:\n",
    "            for i in range(len(out.index)):\n",
    "                out.iloc[i][0], out.iloc[i][1]  = self.decode_value(ten[i][0].item()), self.decode_value(ten[i][1].item())\n",
    "        elif ten.size(1) == 3:\n",
    "            for i in range(len(out.index)):\n",
    "                out.iloc[i][0], out.iloc[i][1], out.iloc[i][2]  = \\\n",
    "                    self.decode_value(ten[i][0].item()), self.decode_value(ten[i][1].item()), self.decode_value(ten[i][2].item())\n",
    "\n",
    "        return out\n",
    "\n",
    "\n"
   ]
  },
  {
   "cell_type": "code",
   "execution_count": 61,
   "outputs": [],
   "source": [
    "encoder = Encoder(names_list)"
   ],
   "metadata": {
    "collapsed": false
   }
  },
  {
   "cell_type": "code",
   "execution_count": 73,
   "outputs": [
    {
     "data": {
      "text/plain": "array([[2638, 2706],\n       [   0, 2703],\n       [   1, 2703],\n       ...,\n       [2622, 2704],\n       [2623, 2704],\n       [2624, 2704]])"
     },
     "execution_count": 73,
     "metadata": {},
     "output_type": "execute_result"
    }
   ],
   "source": [
    "nodes_ten = encoder.encode_nodes(nodes_f)\n",
    "nodes_ten.numpy()"
   ],
   "metadata": {
    "collapsed": false
   }
  },
  {
   "cell_type": "code",
   "execution_count": 102,
   "metadata": {},
   "outputs": [
    {
     "ename": "TypeError",
     "evalue": "can't convert np.ndarray of type numpy.object_. The only supported types are: float64, float32, float16, complex64, complex128, int64, int32, int16, int8, uint8, and bool.",
     "output_type": "error",
     "traceback": [
      "\u001B[1;31m---------------------------------------------------------------------------\u001B[0m",
      "\u001B[1;31mTypeError\u001B[0m                                 Traceback (most recent call last)",
      "\u001B[1;32m~\\AppData\\Local\\Temp\\ipykernel_2604\\3282452279.py\u001B[0m in \u001B[0;36m<module>\u001B[1;34m\u001B[0m\n\u001B[0;32m      1\u001B[0m \u001B[1;31m# Convert the nodes dataframe to a PyTorch tensor\u001B[0m\u001B[1;33m\u001B[0m\u001B[1;33m\u001B[0m\u001B[0m\n\u001B[1;32m----> 2\u001B[1;33m \u001B[0mnodes_ten\u001B[0m \u001B[1;33m=\u001B[0m \u001B[0mtorch\u001B[0m\u001B[1;33m.\u001B[0m\u001B[0mtensor\u001B[0m\u001B[1;33m(\u001B[0m\u001B[0mnodes_f\u001B[0m\u001B[1;33m.\u001B[0m\u001B[0mvalues\u001B[0m\u001B[1;33m)\u001B[0m\u001B[1;33m\u001B[0m\u001B[1;33m\u001B[0m\u001B[0m\n\u001B[0m\u001B[0;32m      3\u001B[0m \u001B[1;33m\u001B[0m\u001B[0m\n\u001B[0;32m      4\u001B[0m \u001B[1;31m# Convert the edges dataframe to a PyTorch tensor\u001B[0m\u001B[1;33m\u001B[0m\u001B[1;33m\u001B[0m\u001B[0m\n\u001B[0;32m      5\u001B[0m \u001B[0medges_ten\u001B[0m \u001B[1;33m=\u001B[0m \u001B[0mtorch\u001B[0m\u001B[1;33m.\u001B[0m\u001B[0mtensor\u001B[0m\u001B[1;33m(\u001B[0m\u001B[0medges_f\u001B[0m\u001B[1;33m.\u001B[0m\u001B[0mvalues\u001B[0m\u001B[1;33m)\u001B[0m\u001B[1;33m\u001B[0m\u001B[1;33m\u001B[0m\u001B[0m\n",
      "\u001B[1;31mTypeError\u001B[0m: can't convert np.ndarray of type numpy.object_. The only supported types are: float64, float32, float16, complex64, complex128, int64, int32, int16, int8, uint8, and bool."
     ]
    }
   ],
   "source": [
    "# Convert the nodes dataframe to a PyTorch tensor\n",
    "nodes_ten = torch.tensor(nodes_f.values)\n",
    "\n",
    "# Convert the edges dataframe to a PyTorch tensor\n",
    "edges_ten = torch.tensor(edges_f.values)\n",
    "\n",
    "# Get the source and target indices from the edges tensor\n",
    "edge_index = edges[:, :2]\n",
    "\n",
    "# Get the edge types from the edges tensor\n",
    "edge_type = edges[:, 2]\n"
   ]
  },
  {
   "cell_type": "markdown",
   "metadata": {},
   "source": [
    "# Old Functions; Not used."
   ]
  },
  {
   "cell_type": "code",
   "execution_count": 84,
   "metadata": {},
   "outputs": [],
   "source": [
    "def add_edge_type2(edges_pd: pd.DataFrame, node_cat: dict) -> pd.DataFrame:\n",
    "    \"\"\"Not working correctly (making more types than wanted); Do not use\"\"\"\n",
    "    edge_type = []\n",
    "\n",
    "    edge_name_source = None\n",
    "    edge_name_target = None\n",
    "\n",
    "    augmented_edges_pd = edges_pd.copy()\n",
    "\n",
    "    for i in range(len(edges.index)):\n",
    "        for name in node_cat.keys():\n",
    "            if edges.iloc[i]['source'] in node_cat[name]:\n",
    "                edge_name_source = name + \"__\"\n",
    "                break\n",
    "        for name in node_cat.keys():\n",
    "            if edges.iloc[i]['target'] in node_cat[name]:\n",
    "                edge_name_target = name\n",
    "                break\n",
    "\n",
    "        edge_name = edge_name_source + edge_name_target\n",
    "        edge_type.append(edge_name)\n",
    "\n",
    "    augmented_edges_pd['edge_type'] = edge_type\n",
    "    return augmented_edges_pd\n",
    "\n",
    "\n",
    "def add_types2(nodes_df: pd.DataFrame, edges_df: pd.DataFrame, node_cat: dict) -> (pd.DataFrame, pd.DataFrame):\n",
    "    \"\"\"Too long to execute; do not use.\"\"\"\n",
    "    edge_type = []\n",
    "\n",
    "    augmented_nodes_df = add_node_type(nodes_df, node_cat)  # Node dataframe with the categories column\n",
    "    augmented_edges_df = edges_df.copy() # Edge dataframe with the categories column\n",
    "\n",
    "    for i in range(len(edges_df.index)):\n",
    "        source = edges_df.iloc[i]['source']\n",
    "        edge_name_source = augmented_nodes_df.loc[augmented_nodes_df['name'] == source, ['node_type']].iloc[0]['node_type']\n",
    "\n",
    "        target = edges_df.iloc[i]['target']\n",
    "        edge_name_target = augmented_nodes_df.loc[augmented_nodes_df['name'] == target, ['node_type']].iloc[0]['node_type']\n",
    "\n",
    "        if (edge_name_source not in (\"MIDI\", \"note_group\")) or (edge_name_source == \"note_group\" and edge_name_target == \"MIDI\"):\n",
    "            reverse_edge(augmented_edges_df, row=i, inplace=True)\n",
    "            edge_name_source, edge_name_target = edge_name_target, edge_name_source\n",
    "\n",
    "        edge_name = format_edge_name(edge_name_source, edge_name_target)\n",
    "        edge_type.append(edge_name)\n",
    "\n",
    "    augmented_edges_df['edge_type'] = edge_type\n",
    "    return augmented_nodes_df, augmented_edges_df\n"
   ]
  },
  {
   "cell_type": "code",
   "execution_count": null,
   "metadata": {},
   "outputs": [],
   "source": [
    "edges_test = add_edge_type2(edges, node_categories)\n",
    "\n",
    "edges_test.loc[edges_test['edge_type'] == 'MIDI__program', ['source', 'target']]"
   ]
  },
  {
   "cell_type": "code",
   "execution_count": 89,
   "metadata": {},
   "outputs": [
    {
     "name": "stdout",
     "output_type": "stream",
     "text": [
      "Double iteration function:  3.470187100000203\n",
      "Nodes and check function:  21.959933399999954\n"
     ]
    }
   ],
   "source": [
    "print(\"Double iteration function: \", timeit.timeit(lambda: add_types(nodes, edges, node_categories), number=1))\n",
    "print(\"Nodes and check function: \", timeit.timeit(lambda: add_types2(nodes, edges, node_categories), number=1))\n"
   ]
  }
 ],
 "metadata": {
  "kernelspec": {
   "display_name": "Python 3 (ipykernel)",
   "language": "python",
   "name": "python3"
  },
  "language_info": {
   "codemirror_mode": {
    "name": "ipython",
    "version": 3
   },
   "file_extension": ".py",
   "mimetype": "text/x-python",
   "name": "python",
   "nbconvert_exporter": "python",
   "pygments_lexer": "ipython3",
   "version": "3.9.15"
  }
 },
 "nbformat": 4,
 "nbformat_minor": 1
}
