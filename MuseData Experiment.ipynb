{
 "cells": [
  {
   "cell_type": "markdown",
   "source": [
    "# Imports"
   ],
   "metadata": {
    "collapsed": false
   }
  },
  {
   "cell_type": "code",
   "execution_count": 1,
   "metadata": {
    "collapsed": true
   },
   "outputs": [
    {
     "name": "stdout",
     "output_type": "stream",
     "text": [
      "2.9.1\n",
      "2.9.0\n"
     ]
    }
   ],
   "source": [
    "import os\n",
    "import numpy as np\n",
    "import pandas as pd\n",
    "from gensim.models import KeyedVectors\n",
    "import networkx as nx\n",
    "from tqdm.notebook import tqdm\n",
    "\n",
    "import tensorflow as tf\n",
    "from tensorflow import keras\n",
    "from keras import layers\n",
    "from scikeras.wrappers import KerasClassifier  # old version: from keras.wrappers.scikit_learn import KerasClassifier\n",
    "\n",
    "from sklearn.metrics import ConfusionMatrixDisplay\n",
    "from sklearn.model_selection import cross_val_score, cross_val_predict, cross_validate, KFold\n",
    "from sklearn.preprocessing import LabelBinarizer\n",
    "\n",
    "from utils import clean_and_filter as caf\n",
    "\n",
    "print(tf.__version__)\n",
    "print(tf.keras.__version__)"
   ]
  },
  {
   "cell_type": "markdown",
   "source": [
    "# Data Load and Cleaning"
   ],
   "metadata": {
    "collapsed": false
   }
  },
  {
   "cell_type": "code",
   "execution_count": 4,
   "outputs": [
    {
     "data": {
      "text/plain": "            mvt     genre instrument composer                           id\n0        Choral   cantata        O+V     Bach   bach-bg-cant-0001-midi1-01\n1    Recitativo   cantata        O+V     Bach   bach-bg-cant-0001-midi1-02\n2          Aria   cantata        O+V     Bach   bach-bg-cant-0001-midi1-03\n3    Recitativo   cantata        O+V     Bach   bach-bg-cant-0001-midi1-04\n4        Choral   cantata        O+V     Bach   bach-bg-cant-0001-midi1-06\n..          ...       ...        ...      ...                          ...\n433     Allegro  symphony          O   Mozart  mozart-bh-sym-k550-midi1-04\n434     Allegro  symphony          O   Mozart  mozart-bh-sym-k551-midi1-01\n435     Andante  symphony          O   Mozart  mozart-bh-sym-k551-midi1-02\n436    Minuetto  symphony          O   Mozart  mozart-bh-sym-k551-midi1-03\n437     Allegro  symphony          O   Mozart  mozart-bh-sym-k551-midi1-04\n\n[438 rows x 5 columns]",
      "text/html": "<div>\n<style scoped>\n    .dataframe tbody tr th:only-of-type {\n        vertical-align: middle;\n    }\n\n    .dataframe tbody tr th {\n        vertical-align: top;\n    }\n\n    .dataframe thead th {\n        text-align: right;\n    }\n</style>\n<table border=\"1\" class=\"dataframe\">\n  <thead>\n    <tr style=\"text-align: right;\">\n      <th></th>\n      <th>mvt</th>\n      <th>genre</th>\n      <th>instrument</th>\n      <th>composer</th>\n      <th>id</th>\n    </tr>\n  </thead>\n  <tbody>\n    <tr>\n      <th>0</th>\n      <td>Choral</td>\n      <td>cantata</td>\n      <td>O+V</td>\n      <td>Bach</td>\n      <td>bach-bg-cant-0001-midi1-01</td>\n    </tr>\n    <tr>\n      <th>1</th>\n      <td>Recitativo</td>\n      <td>cantata</td>\n      <td>O+V</td>\n      <td>Bach</td>\n      <td>bach-bg-cant-0001-midi1-02</td>\n    </tr>\n    <tr>\n      <th>2</th>\n      <td>Aria</td>\n      <td>cantata</td>\n      <td>O+V</td>\n      <td>Bach</td>\n      <td>bach-bg-cant-0001-midi1-03</td>\n    </tr>\n    <tr>\n      <th>3</th>\n      <td>Recitativo</td>\n      <td>cantata</td>\n      <td>O+V</td>\n      <td>Bach</td>\n      <td>bach-bg-cant-0001-midi1-04</td>\n    </tr>\n    <tr>\n      <th>4</th>\n      <td>Choral</td>\n      <td>cantata</td>\n      <td>O+V</td>\n      <td>Bach</td>\n      <td>bach-bg-cant-0001-midi1-06</td>\n    </tr>\n    <tr>\n      <th>...</th>\n      <td>...</td>\n      <td>...</td>\n      <td>...</td>\n      <td>...</td>\n      <td>...</td>\n    </tr>\n    <tr>\n      <th>433</th>\n      <td>Allegro</td>\n      <td>symphony</td>\n      <td>O</td>\n      <td>Mozart</td>\n      <td>mozart-bh-sym-k550-midi1-04</td>\n    </tr>\n    <tr>\n      <th>434</th>\n      <td>Allegro</td>\n      <td>symphony</td>\n      <td>O</td>\n      <td>Mozart</td>\n      <td>mozart-bh-sym-k551-midi1-01</td>\n    </tr>\n    <tr>\n      <th>435</th>\n      <td>Andante</td>\n      <td>symphony</td>\n      <td>O</td>\n      <td>Mozart</td>\n      <td>mozart-bh-sym-k551-midi1-02</td>\n    </tr>\n    <tr>\n      <th>436</th>\n      <td>Minuetto</td>\n      <td>symphony</td>\n      <td>O</td>\n      <td>Mozart</td>\n      <td>mozart-bh-sym-k551-midi1-03</td>\n    </tr>\n    <tr>\n      <th>437</th>\n      <td>Allegro</td>\n      <td>symphony</td>\n      <td>O</td>\n      <td>Mozart</td>\n      <td>mozart-bh-sym-k551-midi1-04</td>\n    </tr>\n  </tbody>\n</table>\n<p>438 rows × 5 columns</p>\n</div>"
     },
     "execution_count": 4,
     "metadata": {},
     "output_type": "execute_result"
    }
   ],
   "source": [
    "df = pd.read_csv('./musedata/Contents of MuseData/musedata.csv', usecols = ['id', 'composer', 'genre', 'mvt', 'instrument'])\n",
    "ids = df.id.to_list()\n",
    "\n",
    "df\n"
   ],
   "metadata": {
    "collapsed": false
   }
  },
  {
   "cell_type": "code",
   "execution_count": 3,
   "outputs": [],
   "source": [
    "emb = KeyedVectors.load_word2vec_format('./musedata/embeddings/musedata.bin')\n"
   ],
   "metadata": {
    "collapsed": false
   }
  },
  {
   "cell_type": "code",
   "execution_count": 5,
   "outputs": [],
   "source": [
    "data = np.array([emb[i] for i in ids])"
   ],
   "metadata": {
    "collapsed": false
   }
  },
  {
   "cell_type": "code",
   "execution_count": 15,
   "outputs": [
    {
     "data": {
      "text/plain": "                                            Unnamed: 0  \\\n0    /Users/pasquale/Dropbox/musedata/midi/bach-bg-...   \n1    /Users/pasquale/Dropbox/musedata/midi/bach-bg-...   \n2    /Users/pasquale/Dropbox/musedata/midi/bach-bg-...   \n3    /Users/pasquale/Dropbox/musedata/midi/bach-bg-...   \n4    /Users/pasquale/Dropbox/musedata/midi/bach-bg-...   \n..                                                 ...   \n434  /Users/pasquale/Dropbox/musedata/midi/mozart-b...   \n435  /Users/pasquale/Dropbox/musedata/midi/mozart-b...   \n436  /Users/pasquale/Dropbox/musedata/midi/mozart-b...   \n437  /Users/pasquale/Dropbox/musedata/midi/mozart-b...   \n438  /Users/pasquale/Dropbox/musedata/midi/mozart-b...   \n\n     Basic_Pitch_Histogram_0  Basic_Pitch_Histogram_1  \\\n0                        0.0                      0.0   \n1                        0.0                      0.0   \n2                        0.0                      0.0   \n3                        0.0                      0.0   \n4                        0.0                      0.0   \n..                       ...                      ...   \n434                      0.0                      0.0   \n435                      0.0                      0.0   \n436                      0.0                      0.0   \n437                      0.0                      0.0   \n438                      0.0                      0.0   \n\n     Basic_Pitch_Histogram_2  Basic_Pitch_Histogram_3  \\\n0                        0.0                      0.0   \n1                        0.0                      0.0   \n2                        0.0                      0.0   \n3                        0.0                      0.0   \n4                        0.0                      0.0   \n..                       ...                      ...   \n434                      0.0                      0.0   \n435                      0.0                      0.0   \n436                      0.0                      0.0   \n437                      0.0                      0.0   \n438                      0.0                      0.0   \n\n     Basic_Pitch_Histogram_4  Basic_Pitch_Histogram_5  \\\n0                        0.0                      0.0   \n1                        0.0                      0.0   \n2                        0.0                      0.0   \n3                        0.0                      0.0   \n4                        0.0                      0.0   \n..                       ...                      ...   \n434                      0.0                      0.0   \n435                      0.0                      0.0   \n436                      0.0                      0.0   \n437                      0.0                      0.0   \n438                      0.0                      0.0   \n\n     Basic_Pitch_Histogram_6  Basic_Pitch_Histogram_7  \\\n0                        0.0                      0.0   \n1                        0.0                      0.0   \n2                        0.0                      0.0   \n3                        0.0                      0.0   \n4                        0.0                      0.0   \n..                       ...                      ...   \n434                      0.0                      0.0   \n435                      0.0                      0.0   \n436                      0.0                      0.0   \n437                      0.0                      0.0   \n438                      0.0                      0.0   \n\n     Basic_Pitch_Histogram_8  ...  Parallel_Motion  Similar_Motion  \\\n0                        0.0  ...          0.04540          0.1804   \n1                        0.0  ...          0.01818          0.1709   \n2                        0.0  ...          0.08216          0.1455   \n3                        0.0  ...          0.04397          0.1319   \n4                        0.0  ...          0.14570          0.3072   \n..                       ...  ...              ...             ...   \n434                      0.0  ...          0.14200          0.2163   \n435                      0.0  ...          0.10110          0.2679   \n436                      0.0  ...          0.11340          0.1842   \n437                      0.0  ...          0.20960          0.1924   \n438                      0.0  ...          0.12700          0.2492   \n\n     Contrary_Motion  Oblique_Motion  Parallel_Fifths  Parallel_Octaves  \\\n0            0.25520          0.5190         0.001227          0.000000   \n1            0.23270          0.5782         0.000000          0.003636   \n2            0.22180          0.5505         0.001174          0.000000   \n3            0.13190          0.6922         0.000000          0.001629   \n4            0.22870          0.3184         0.000000          0.026910   \n..               ...             ...              ...               ...   \n434          0.11330          0.5283         0.000771          0.069000   \n435          0.09344          0.5376         0.001586          0.049890   \n436          0.11740          0.5850         0.004660          0.054050   \n437          0.06883          0.5292         0.002251          0.092210   \n438          0.08986          0.5340         0.002392          0.064070   \n\n     Dynamic_Range  Variation_of_Dynamics  \\\n0              0.0                  0.000   \n1              0.0                  0.000   \n2              0.0                  0.000   \n3              0.0                  0.000   \n4              0.0                  0.000   \n..             ...                    ...   \n434           90.0                  0.976   \n435          120.0                 14.270   \n436          120.0                 15.140   \n437          120.0                 14.730   \n438          120.0                 14.660   \n\n     Variation_of_Dynamics_In_Each_Voice  \\\n0                                0.00000   \n1                                0.00000   \n2                                0.00000   \n3                                0.00000   \n4                                0.00000   \n..                                   ...   \n434                              0.07558   \n435                              0.13230   \n436                              0.04367   \n437                              0.09983   \n438                              0.09263   \n\n     Average_Note_to_Note_Change_in_Dynamics  \n0                                    0.00000  \n1                                    0.00000  \n2                                    0.00000  \n3                                    0.00000  \n4                                    0.00000  \n..                                       ...  \n434                                  0.01816  \n435                                  0.02830  \n436                                  0.01208  \n437                                  0.03240  \n438                                  0.02103  \n\n[439 rows x 1496 columns]",
      "text/html": "<div>\n<style scoped>\n    .dataframe tbody tr th:only-of-type {\n        vertical-align: middle;\n    }\n\n    .dataframe tbody tr th {\n        vertical-align: top;\n    }\n\n    .dataframe thead th {\n        text-align: right;\n    }\n</style>\n<table border=\"1\" class=\"dataframe\">\n  <thead>\n    <tr style=\"text-align: right;\">\n      <th></th>\n      <th>Unnamed: 0</th>\n      <th>Basic_Pitch_Histogram_0</th>\n      <th>Basic_Pitch_Histogram_1</th>\n      <th>Basic_Pitch_Histogram_2</th>\n      <th>Basic_Pitch_Histogram_3</th>\n      <th>Basic_Pitch_Histogram_4</th>\n      <th>Basic_Pitch_Histogram_5</th>\n      <th>Basic_Pitch_Histogram_6</th>\n      <th>Basic_Pitch_Histogram_7</th>\n      <th>Basic_Pitch_Histogram_8</th>\n      <th>...</th>\n      <th>Parallel_Motion</th>\n      <th>Similar_Motion</th>\n      <th>Contrary_Motion</th>\n      <th>Oblique_Motion</th>\n      <th>Parallel_Fifths</th>\n      <th>Parallel_Octaves</th>\n      <th>Dynamic_Range</th>\n      <th>Variation_of_Dynamics</th>\n      <th>Variation_of_Dynamics_In_Each_Voice</th>\n      <th>Average_Note_to_Note_Change_in_Dynamics</th>\n    </tr>\n  </thead>\n  <tbody>\n    <tr>\n      <th>0</th>\n      <td>/Users/pasquale/Dropbox/musedata/midi/bach-bg-...</td>\n      <td>0.0</td>\n      <td>0.0</td>\n      <td>0.0</td>\n      <td>0.0</td>\n      <td>0.0</td>\n      <td>0.0</td>\n      <td>0.0</td>\n      <td>0.0</td>\n      <td>0.0</td>\n      <td>...</td>\n      <td>0.04540</td>\n      <td>0.1804</td>\n      <td>0.25520</td>\n      <td>0.5190</td>\n      <td>0.001227</td>\n      <td>0.000000</td>\n      <td>0.0</td>\n      <td>0.000</td>\n      <td>0.00000</td>\n      <td>0.00000</td>\n    </tr>\n    <tr>\n      <th>1</th>\n      <td>/Users/pasquale/Dropbox/musedata/midi/bach-bg-...</td>\n      <td>0.0</td>\n      <td>0.0</td>\n      <td>0.0</td>\n      <td>0.0</td>\n      <td>0.0</td>\n      <td>0.0</td>\n      <td>0.0</td>\n      <td>0.0</td>\n      <td>0.0</td>\n      <td>...</td>\n      <td>0.01818</td>\n      <td>0.1709</td>\n      <td>0.23270</td>\n      <td>0.5782</td>\n      <td>0.000000</td>\n      <td>0.003636</td>\n      <td>0.0</td>\n      <td>0.000</td>\n      <td>0.00000</td>\n      <td>0.00000</td>\n    </tr>\n    <tr>\n      <th>2</th>\n      <td>/Users/pasquale/Dropbox/musedata/midi/bach-bg-...</td>\n      <td>0.0</td>\n      <td>0.0</td>\n      <td>0.0</td>\n      <td>0.0</td>\n      <td>0.0</td>\n      <td>0.0</td>\n      <td>0.0</td>\n      <td>0.0</td>\n      <td>0.0</td>\n      <td>...</td>\n      <td>0.08216</td>\n      <td>0.1455</td>\n      <td>0.22180</td>\n      <td>0.5505</td>\n      <td>0.001174</td>\n      <td>0.000000</td>\n      <td>0.0</td>\n      <td>0.000</td>\n      <td>0.00000</td>\n      <td>0.00000</td>\n    </tr>\n    <tr>\n      <th>3</th>\n      <td>/Users/pasquale/Dropbox/musedata/midi/bach-bg-...</td>\n      <td>0.0</td>\n      <td>0.0</td>\n      <td>0.0</td>\n      <td>0.0</td>\n      <td>0.0</td>\n      <td>0.0</td>\n      <td>0.0</td>\n      <td>0.0</td>\n      <td>0.0</td>\n      <td>...</td>\n      <td>0.04397</td>\n      <td>0.1319</td>\n      <td>0.13190</td>\n      <td>0.6922</td>\n      <td>0.000000</td>\n      <td>0.001629</td>\n      <td>0.0</td>\n      <td>0.000</td>\n      <td>0.00000</td>\n      <td>0.00000</td>\n    </tr>\n    <tr>\n      <th>4</th>\n      <td>/Users/pasquale/Dropbox/musedata/midi/bach-bg-...</td>\n      <td>0.0</td>\n      <td>0.0</td>\n      <td>0.0</td>\n      <td>0.0</td>\n      <td>0.0</td>\n      <td>0.0</td>\n      <td>0.0</td>\n      <td>0.0</td>\n      <td>0.0</td>\n      <td>...</td>\n      <td>0.14570</td>\n      <td>0.3072</td>\n      <td>0.22870</td>\n      <td>0.3184</td>\n      <td>0.000000</td>\n      <td>0.026910</td>\n      <td>0.0</td>\n      <td>0.000</td>\n      <td>0.00000</td>\n      <td>0.00000</td>\n    </tr>\n    <tr>\n      <th>...</th>\n      <td>...</td>\n      <td>...</td>\n      <td>...</td>\n      <td>...</td>\n      <td>...</td>\n      <td>...</td>\n      <td>...</td>\n      <td>...</td>\n      <td>...</td>\n      <td>...</td>\n      <td>...</td>\n      <td>...</td>\n      <td>...</td>\n      <td>...</td>\n      <td>...</td>\n      <td>...</td>\n      <td>...</td>\n      <td>...</td>\n      <td>...</td>\n      <td>...</td>\n      <td>...</td>\n    </tr>\n    <tr>\n      <th>434</th>\n      <td>/Users/pasquale/Dropbox/musedata/midi/mozart-b...</td>\n      <td>0.0</td>\n      <td>0.0</td>\n      <td>0.0</td>\n      <td>0.0</td>\n      <td>0.0</td>\n      <td>0.0</td>\n      <td>0.0</td>\n      <td>0.0</td>\n      <td>0.0</td>\n      <td>...</td>\n      <td>0.14200</td>\n      <td>0.2163</td>\n      <td>0.11330</td>\n      <td>0.5283</td>\n      <td>0.000771</td>\n      <td>0.069000</td>\n      <td>90.0</td>\n      <td>0.976</td>\n      <td>0.07558</td>\n      <td>0.01816</td>\n    </tr>\n    <tr>\n      <th>435</th>\n      <td>/Users/pasquale/Dropbox/musedata/midi/mozart-b...</td>\n      <td>0.0</td>\n      <td>0.0</td>\n      <td>0.0</td>\n      <td>0.0</td>\n      <td>0.0</td>\n      <td>0.0</td>\n      <td>0.0</td>\n      <td>0.0</td>\n      <td>0.0</td>\n      <td>...</td>\n      <td>0.10110</td>\n      <td>0.2679</td>\n      <td>0.09344</td>\n      <td>0.5376</td>\n      <td>0.001586</td>\n      <td>0.049890</td>\n      <td>120.0</td>\n      <td>14.270</td>\n      <td>0.13230</td>\n      <td>0.02830</td>\n    </tr>\n    <tr>\n      <th>436</th>\n      <td>/Users/pasquale/Dropbox/musedata/midi/mozart-b...</td>\n      <td>0.0</td>\n      <td>0.0</td>\n      <td>0.0</td>\n      <td>0.0</td>\n      <td>0.0</td>\n      <td>0.0</td>\n      <td>0.0</td>\n      <td>0.0</td>\n      <td>0.0</td>\n      <td>...</td>\n      <td>0.11340</td>\n      <td>0.1842</td>\n      <td>0.11740</td>\n      <td>0.5850</td>\n      <td>0.004660</td>\n      <td>0.054050</td>\n      <td>120.0</td>\n      <td>15.140</td>\n      <td>0.04367</td>\n      <td>0.01208</td>\n    </tr>\n    <tr>\n      <th>437</th>\n      <td>/Users/pasquale/Dropbox/musedata/midi/mozart-b...</td>\n      <td>0.0</td>\n      <td>0.0</td>\n      <td>0.0</td>\n      <td>0.0</td>\n      <td>0.0</td>\n      <td>0.0</td>\n      <td>0.0</td>\n      <td>0.0</td>\n      <td>0.0</td>\n      <td>...</td>\n      <td>0.20960</td>\n      <td>0.1924</td>\n      <td>0.06883</td>\n      <td>0.5292</td>\n      <td>0.002251</td>\n      <td>0.092210</td>\n      <td>120.0</td>\n      <td>14.730</td>\n      <td>0.09983</td>\n      <td>0.03240</td>\n    </tr>\n    <tr>\n      <th>438</th>\n      <td>/Users/pasquale/Dropbox/musedata/midi/mozart-b...</td>\n      <td>0.0</td>\n      <td>0.0</td>\n      <td>0.0</td>\n      <td>0.0</td>\n      <td>0.0</td>\n      <td>0.0</td>\n      <td>0.0</td>\n      <td>0.0</td>\n      <td>0.0</td>\n      <td>...</td>\n      <td>0.12700</td>\n      <td>0.2492</td>\n      <td>0.08986</td>\n      <td>0.5340</td>\n      <td>0.002392</td>\n      <td>0.064070</td>\n      <td>120.0</td>\n      <td>14.660</td>\n      <td>0.09263</td>\n      <td>0.02103</td>\n    </tr>\n  </tbody>\n</table>\n<p>439 rows × 1496 columns</p>\n</div>"
     },
     "execution_count": 15,
     "metadata": {},
     "output_type": "execute_result"
    }
   ],
   "source": [
    "js_df = pd.read_csv('./musedata/Contents of MuseData/musedata_jsymbolic.csv')\n",
    "js_df"
   ],
   "metadata": {
    "collapsed": false
   }
  },
  {
   "cell_type": "code",
   "execution_count": 16,
   "outputs": [],
   "source": [
    "data_jsymbolic = []\n",
    "names_jsymbolic = []\n",
    "for i, x in js_df.iterrows():\n",
    "    d = x.tolist()\n",
    "    name = d[0].split('musedata/midi/')[1].replace('/', '-').rsplit('.', 1)[0]\n",
    "    names_jsymbolic.append(name)\n",
    "    data_jsymbolic.append([float(k) for k in d[1:]])\n",
    "data_jsymbolic = np.array(data_jsymbolic)"
   ],
   "metadata": {
    "collapsed": false
   }
  },
  {
   "cell_type": "code",
   "execution_count": 17,
   "outputs": [],
   "source": [
    "data_jsymbolic = np.array([data_jsymbolic[names_jsymbolic.index(i)] for i in ids])\n",
    "data_jsymbolic = np.nan_to_num(data_jsymbolic)\n"
   ],
   "metadata": {
    "collapsed": false
   }
  },
  {
   "cell_type": "code",
   "execution_count": 18,
   "outputs": [
    {
     "data": {
      "text/plain": "<Figure size 2000x600 with 1 Axes>",
      "image/png": "[encoded data removed]"
     },
     "metadata": {},
     "output_type": "display_data"
    }
   ],
   "source": [
    "genres_filtered = caf(data, df.genre, 0)"
   ],
   "metadata": {
    "collapsed": false
   }
  },
  {
   "cell_type": "markdown",
   "source": [
    "# Encoding"
   ],
   "metadata": {
    "collapsed": false
   }
  },
  {
   "cell_type": "code",
   "execution_count": 19,
   "outputs": [],
   "source": [
    "lb = LabelBinarizer()\n",
    "oh_labels = lb.fit_transform(df.genre.to_list())\n"
   ],
   "metadata": {
    "collapsed": false
   }
  },
  {
   "cell_type": "code",
   "execution_count": 21,
   "outputs": [
    {
     "data": {
      "text/plain": "array(['cantata', 'concerto', 'concerto grosso', 'duo', 'mass', 'motet',\n       'prelude', 'prelude and fugue', 'quartet', 'symphony'],\n      dtype='<U17')"
     },
     "execution_count": 21,
     "metadata": {},
     "output_type": "execute_result"
    }
   ],
   "source": [
    "lb.classes_"
   ],
   "metadata": {
    "collapsed": false
   }
  },
  {
   "cell_type": "code",
   "execution_count": 22,
   "outputs": [
    {
     "data": {
      "text/plain": "(438, 10)"
     },
     "execution_count": 22,
     "metadata": {},
     "output_type": "execute_result"
    }
   ],
   "source": [
    "oh_labels.shape"
   ],
   "metadata": {
    "collapsed": false
   }
  },
  {
   "cell_type": "code",
   "execution_count": 26,
   "outputs": [
    {
     "data": {
      "text/plain": "(100, 10)"
     },
     "execution_count": 26,
     "metadata": {},
     "output_type": "execute_result"
    }
   ],
   "source": [
    "num_input, num_output = data.shape[1], oh_labels.shape[1]\n",
    "num_input, num_output"
   ],
   "metadata": {
    "collapsed": false
   }
  },
  {
   "cell_type": "markdown",
   "source": [
    "# Network"
   ],
   "metadata": {
    "collapsed": false
   }
  },
  {
   "cell_type": "markdown",
   "source": [
    "## Build"
   ],
   "metadata": {
    "collapsed": false
   }
  },
  {
   "cell_type": "code",
   "execution_count": 28,
   "outputs": [],
   "source": [
    "def create_model(num_in, num_out):\n",
    "    def m():\n",
    "        model = tf.keras.Sequential()\n",
    "\n",
    "        model.add(layers.Dense(100, activation='relu', input_shape=(num_in,)))\n",
    "        model.add(layers.Dense(100, activation='relu'))\n",
    "        model.add(layers.Dense(num_out, activation='sigmoid'))\n",
    "\n",
    "        model.compile(optimizer=keras.optimizers.Adam(learning_rate=.01),\n",
    "                    loss=keras.losses.CategoricalCrossentropy(from_logits=False),\n",
    "                    metrics=[keras.metrics.CategoricalAccuracy(name='accuracy')])\n",
    "\n",
    "        return model\n",
    "    return m\n"
   ],
   "metadata": {
    "collapsed": false
   }
  },
  {
   "cell_type": "code",
   "execution_count": 32,
   "outputs": [],
   "source": [
    "neural_network = KerasClassifier(model=create_model(num_input, num_output),\n",
    "                                 epochs=10,\n",
    "                                 batch_size=32,\n",
    "                                 verbose=0)"
   ],
   "metadata": {
    "collapsed": false
   }
  },
  {
   "cell_type": "markdown",
   "source": [
    "## Train and Results"
   ],
   "metadata": {
    "collapsed": false
   }
  },
  {
   "cell_type": "code",
   "execution_count": 34,
   "outputs": [
    {
     "name": "stdout",
     "output_type": "stream",
     "text": [
      "[0.63636364 0.84090909 0.68181818 0.72727273 0.61363636 0.70454545\n",
      " 0.75       0.72727273 0.8372093  0.74418605]\n"
     ]
    },
    {
     "data": {
      "text/plain": "0.7263213530655392"
     },
     "execution_count": 34,
     "metadata": {},
     "output_type": "execute_result"
    }
   ],
   "source": [
    "random_state = 2111\n",
    "scores = cross_val_score(neural_network, data, oh_labels,\n",
    "                         cv=KFold(10, shuffle=True, random_state=random_state), n_jobs=-1, verbose=0)\n",
    "print(scores)\n",
    "scores_genre = np.mean(scores)\n",
    "scores_genre\n"
   ],
   "metadata": {
    "collapsed": false
   }
  },
  {
   "cell_type": "code",
   "execution_count": 36,
   "outputs": [
    {
     "name": "stdout",
     "output_type": "stream",
     "text": [
      "0.726 +- 0.070\n"
     ]
    }
   ],
   "source": [
    "print(\"{mean:.3f} +- {std:.3f}\".format(mean=scores_genre,std=np.std(scores)))"
   ],
   "metadata": {
    "collapsed": false
   }
  },
  {
   "cell_type": "code",
   "execution_count": null,
   "outputs": [],
   "source": [],
   "metadata": {
    "collapsed": false
   }
  }
 ],
 "metadata": {
  "kernelspec": {
   "display_name": "Python 3",
   "language": "python",
   "name": "python3"
  },
  "language_info": {
   "codemirror_mode": {
    "name": "ipython",
    "version": 2
   },
   "file_extension": ".py",
   "mimetype": "text/x-python",
   "name": "python",
   "nbconvert_exporter": "python",
   "pygments_lexer": "ipython2",
   "version": "2.7.6"
  }
 },
 "nbformat": 4,
 "nbformat_minor": 0
}
