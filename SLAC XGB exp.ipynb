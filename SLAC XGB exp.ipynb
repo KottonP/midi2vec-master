{
 "cells": [
  {
   "cell_type": "code",
   "execution_count": 42,
   "metadata": {
    "collapsed": true
   },
   "outputs": [
    {
     "name": "stdout",
     "output_type": "stream",
     "text": [
      "2.11.0\n",
      "2.9.0\n"
     ]
    }
   ],
   "source": [
    "import os\n",
    "\n",
    "import matplotlib.pyplot as plt\n",
    "import math\n",
    "import networkx as nx\n",
    "import numpy as np\n",
    "import pandas as pd\n",
    "from gensim.models import KeyedVectors\n",
    "from sklearnex import patch_sklearn\n",
    "from tqdm.notebook import tqdm\n",
    "\n",
    "# patch_sklearn()\n",
    "\n",
    "import tensorflow as tf\n",
    "from tensorflow import keras\n",
    "from keras import layers\n",
    "from scikeras.wrappers import KerasClassifier\n",
    "\n",
    "from sklearn import metrics\n",
    "from sklearn.metrics import ConfusionMatrixDisplay\n",
    "from sklearn.model_selection import cross_val_score, cross_val_predict, KFold, StratifiedKFold, \\\n",
    "    train_test_split, GridSearchCV\n",
    "from sklearn.preprocessing import LabelBinarizer\n",
    "from utils import OneHotEncoder\n",
    "\n",
    "from xgboost import XGBClassifier\n",
    "\n",
    "print(tf.__version__)\n",
    "print(tf.keras.__version__)\n",
    "random_state = 2111"
   ]
  },
  {
   "cell_type": "code",
   "execution_count": 2,
   "outputs": [],
   "source": [
    "df = pd.read_csv('./slac/Contents of SLAC/slac.csv', usecols=['id','genre', 'subgenre', 'title'])\n",
    "ids = df.id.tolist()\n",
    "path = './slac/embeddings/'\n",
    "emb = KeyedVectors.load_word2vec_format(path+'slac.bin')\n",
    "data = np.array([emb[i] for i in ids])\n",
    "emb_sets = {\n",
    "    'ALL' : data,\n",
    "}"
   ],
   "metadata": {
    "collapsed": false
   }
  },
  {
   "cell_type": "code",
   "execution_count": 3,
   "outputs": [
    {
     "name": "stdout",
     "output_type": "stream",
     "text": [
      "genre.shape=(250, 1)\n",
      "lb.classes_=['Blues' 'Classical' 'Jazz' 'Rap' 'Rock']\n",
      "data.shape=(250, 100)\n",
      "lb_labels.shape=(250, 5)\n",
      "(num_input, num_output)=(100, 5)\n"
     ]
    }
   ],
   "source": [
    "genre = np.array(df.genre).reshape(-1, 1)\n",
    "\n",
    "lb = LabelBinarizer()\n",
    "lb_labels = lb.fit_transform(genre)\n",
    "\n",
    "num_input, num_output = data.shape[1], lb_labels.shape[1]\n",
    "\n",
    "print(f'genre.shape={genre.shape}',\n",
    "      f'lb.classes_={lb.classes_}',\n",
    "      f'data.shape={data.shape}',\n",
    "      f'lb_labels.shape={lb_labels.shape}',\n",
    "      f'(num_input, num_output)={(num_input, num_output)}', sep='\\n')\n"
   ],
   "metadata": {
    "collapsed": false
   }
  },
  {
   "cell_type": "code",
   "execution_count": 4,
   "outputs": [
    {
     "data": {
      "text/plain": "(array([38.,  0., 40.,  0.,  0., 41.,  0., 43.,  0., 38.]),\n array([0. , 0.4, 0.8, 1.2, 1.6, 2. , 2.4, 2.8, 3.2, 3.6, 4. ]),\n <BarContainer object of 10 artists>)"
     },
     "execution_count": 4,
     "metadata": {},
     "output_type": "execute_result"
    },
    {
     "data": {
      "text/plain": "<Figure size 640x480 with 1 Axes>",
      "image/png": "[encoded data removed]"
     },
     "metadata": {},
     "output_type": "display_data"
    }
   ],
   "source": [
    "# Paper does not split data; Cross val score without split is (with alpha_rate=.2) ~0.876 > 0.864\n",
    "\n",
    "X_train, X_test, y_train, y_test = train_test_split(\n",
    "    data, lb_labels, test_size=0.20, random_state=random_state)\n",
    "\n",
    "plt.hist(lb.inverse_transform(y_train))"
   ],
   "metadata": {
    "collapsed": false
   }
  },
  {
   "cell_type": "code",
   "execution_count": 28,
   "outputs": [
    {
     "name": "stdout",
     "output_type": "stream",
     "text": [
      "[0.35 0.5  0.3  0.4  0.35 0.25 0.25 0.5  0.3  0.4 ]\n",
      "Accuracy: 0.360 (0.086)\n"
     ]
    }
   ],
   "source": [
    "xgb = XGBClassifier(predictor='cpu_predictor')\n",
    "\n",
    "\n",
    "scores_xgb = cross_val_score(xgb, X_train, y_train,\n",
    "                              cv=KFold(10, shuffle=True, random_state=random_state), n_jobs=-1, verbose=0)\n",
    "\n",
    "print(scores_xgb)\n",
    "m_xgb = np.mean(scores_xgb)\n",
    "s_xgb = np.std(scores_xgb)\n",
    "print('Accuracy: %.3f (%.3f)' % (m_xgb, s_xgb))"
   ],
   "metadata": {
    "collapsed": false
   }
  },
  {
   "cell_type": "code",
   "execution_count": 47,
   "outputs": [
    {
     "name": "stdout",
     "output_type": "stream",
     "text": [
      "Fitting 10 folds for each of 27 candidates, totalling 270 fits\n"
     ]
    },
    {
     "data": {
      "text/plain": "GridSearchCV(cv=<generator object _BaseKFold.split at 0x0000026BC4BC2350>,\n             estimator=XGBClassifier(base_score=None, booster=None,\n                                     callbacks=None, colsample_bylevel=None,\n                                     colsample_bynode=None,\n                                     colsample_bytree=None,\n                                     early_stopping_rounds=None,\n                                     enable_categorical=False, eval_metric=None,\n                                     feature_types=None, gamma=None,\n                                     gpu_id=None, grow_policy=None,\n                                     importance_type=N...\n                                     max_cat_to_onehot=None,\n                                     max_delta_step=None, max_depth=None,\n                                     max_leaves=None, min_child_weight=None,\n                                     missing=nan, monotone_constraints=None,\n                                     n_estimators=100, n_jobs=None,\n                                     num_parallel_tree=None,\n                                     predictor='cpu_predictor',\n                                     random_state=None, ...),\n             n_jobs=4,\n             param_grid={'learning_rate': [0.05, 0.1, 0.3],\n                         'max_depth': [3, 5, 10],\n                         'n_estimators': [500, 1000, 2000]},\n             scoring='accuracy', verbose=2)"
     },
     "execution_count": 47,
     "metadata": {},
     "output_type": "execute_result"
    }
   ],
   "source": [
    "X_train2, X_val, y_train2, y_val = train_test_split(X_train, y_train, test_size=.2, random_state=random_state)\n",
    "\n",
    "parameters1 = {\"n_estimators\" : [500, 1000, 2000], \"learning_rate\" : [0.05 , 0.1, 0.3], \"max_depth\" : [3 , 5 , 10]}\n",
    "\n",
    "# fit_params = {\"early_stopping_rounds\" : 20, \"eval_set\" : [(X_val, y_val)]}\n",
    "\n",
    "clf = GridSearchCV(xgb, parameters1, scoring='accuracy', n_jobs=4, verbose=2, cv=KFold(10, shuffle=True, random_state=random_state).split(X_train2, y_train2))\n",
    "\n",
    "clf.fit(X_train, y_train)\n"
   ],
   "metadata": {
    "collapsed": false
   }
  },
  {
   "cell_type": "code",
   "execution_count": 48,
   "outputs": [
    {
     "name": "stdout",
     "output_type": "stream",
     "text": [
      "{'learning_rate': 0.05, 'max_depth': 3, 'n_estimators': 500} 0.30625\n"
     ]
    }
   ],
   "source": [
    "print(clf.best_params_, clf.best_score_)"
   ],
   "metadata": {
    "collapsed": false
   }
  },
  {
   "cell_type": "code",
   "execution_count": null,
   "outputs": [],
   "source": [
    "xgb_f = clf.best_estimator_\n",
    "\n"
   ],
   "metadata": {
    "collapsed": false
   }
  }
 ],
 "metadata": {
  "kernelspec": {
   "display_name": "Python 3",
   "language": "python",
   "name": "python3"
  },
  "language_info": {
   "codemirror_mode": {
    "name": "ipython",
    "version": 2
   },
   "file_extension": ".py",
   "mimetype": "text/x-python",
   "name": "python",
   "nbconvert_exporter": "python",
   "pygments_lexer": "ipython2",
   "version": "2.7.6"
  }
 },
 "nbformat": 4,
 "nbformat_minor": 0
}
