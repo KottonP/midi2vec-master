{
 "cells": [
  {
   "cell_type": "code",
   "execution_count": 25,
   "metadata": {
    "collapsed": true,
    "ExecuteTime": {
     "end_time": "2023-06-18T00:14:46.764571100Z",
     "start_time": "2023-06-18T00:14:45.558041400Z"
    }
   },
   "outputs": [],
   "source": [
    "import os\n",
    "import ray"
   ]
  },
  {
   "cell_type": "code",
   "execution_count": 20,
   "outputs": [],
   "source": [
    "def search_files_with_prefix(folder_path, thresehold = 10):\n",
    "    found_names = {}\n",
    "    for filename in os.listdir(folder_path):\n",
    "        name = filename.split(',')[0] + ',' + filename.split(',')[1]\n",
    "        if name in found_names.keys():\n",
    "            found_names[name] += 1\n",
    "        else:\n",
    "            found_names[name] = 1\n",
    "\n",
    "    final_names = found_names.copy()\n",
    "    for n in found_names.keys():\n",
    "        if found_names[n] <= thresehold:\n",
    "            del final_names[n]\n",
    "    return final_names"
   ],
   "metadata": {
    "collapsed": false,
    "ExecuteTime": {
     "end_time": "2023-06-17T22:44:43.230168800Z",
     "start_time": "2023-06-17T22:44:43.220160100Z"
    }
   }
  },
  {
   "cell_type": "code",
   "execution_count": 24,
   "outputs": [
    {
     "data": {
      "text/plain": "{'Bach, Johann Sebastian': 129,\n 'Beethoven, Ludwig van': 76,\n 'Carbajo, Víctor': 77,\n 'Chopin, Frédéric': 96,\n 'Czerny, Carl': 58,\n 'Handel, George Frideric': 57,\n 'Haydn, Joseph': 54,\n 'Liszt, Franz': 141,\n 'Mozart, Wolfgang Amadeus': 72,\n 'Rebikov, Vladimir': 54,\n 'Satie, Erik': 52,\n 'Scarlatti, Domenico': 140,\n 'Schubert, Franz': 96,\n 'Scriabin, Aleksandr': 67,\n 'Simpson, Daniel Léo': 69}"
     },
     "execution_count": 24,
     "metadata": {},
     "output_type": "execute_result"
    }
   ],
   "source": [
    "folder_path = 'C:/Users/vamvp/Downloads/surname_checked_midis_v1.2/surname_checked_midis'  # Replace with the actual folder path\n",
    "\n",
    "found_names = search_files_with_prefix(folder_path,50)\n",
    "\n",
    "found_names"
   ],
   "metadata": {
    "collapsed": false,
    "ExecuteTime": {
     "end_time": "2023-06-17T22:46:06.983473700Z",
     "start_time": "2023-06-17T22:46:06.961453200Z"
    }
   }
  },
  {
   "cell_type": "code",
   "execution_count": 17,
   "outputs": [],
   "source": [],
   "metadata": {
    "collapsed": false,
    "ExecuteTime": {
     "end_time": "2023-06-17T22:42:46.819462Z",
     "start_time": "2023-06-17T22:42:46.804130600Z"
    }
   }
  },
  {
   "cell_type": "code",
   "execution_count": null,
   "outputs": [],
   "source": [
    "for name, count in found_names.items():\n",
    "    print(f\"{name}: {count} files\")\n"
   ],
   "metadata": {
    "collapsed": false
   }
  },
  {
   "cell_type": "code",
   "execution_count": 26,
   "outputs": [],
   "source": [
    "@ray.remote\n",
    "def test1(num):\n",
    "    a =[]\n",
    "    for i in range(num):\n",
    "        a.append(i)\n",
    "    return a\n",
    "\n",
    "@ray.remote\n",
    "def test2(num):\n",
    "    b =[]\n",
    "    for i in range(num):\n",
    "        b.append(i+1)\n",
    "    return b"
   ],
   "metadata": {
    "collapsed": false,
    "ExecuteTime": {
     "end_time": "2023-06-18T00:16:19.106121800Z",
     "start_time": "2023-06-18T00:16:19.090931Z"
    }
   }
  },
  {
   "cell_type": "code",
   "execution_count": 27,
   "outputs": [
    {
     "name": "stderr",
     "output_type": "stream",
     "text": [
      "2023-06-18 03:17:01,598\tINFO worker.py:1636 -- Started a local Ray instance.\n"
     ]
    }
   ],
   "source": [
    "ret_id1 = test1.remote(10)\n",
    "ret_id2 = test2.remote(10)\n",
    "ret1, ret2 = ray.get([ret_id1, ret_id2])"
   ],
   "metadata": {
    "collapsed": false,
    "ExecuteTime": {
     "end_time": "2023-06-18T00:17:04.762835100Z",
     "start_time": "2023-06-18T00:16:57.111461100Z"
    }
   }
  },
  {
   "cell_type": "code",
   "execution_count": 29,
   "outputs": [
    {
     "data": {
      "text/plain": "[1, 2, 3, 4, 5, 6, 7, 8, 9, 10]"
     },
     "execution_count": 29,
     "metadata": {},
     "output_type": "execute_result"
    }
   ],
   "source": [
    "ret2"
   ],
   "metadata": {
    "collapsed": false,
    "ExecuteTime": {
     "end_time": "2023-06-18T00:17:26.880637700Z",
     "start_time": "2023-06-18T00:17:26.866578Z"
    }
   }
  }
 ],
 "metadata": {
  "kernelspec": {
   "display_name": "Python 3",
   "language": "python",
   "name": "python3"
  },
  "language_info": {
   "codemirror_mode": {
    "name": "ipython",
    "version": 2
   },
   "file_extension": ".py",
   "mimetype": "text/x-python",
   "name": "python",
   "nbconvert_exporter": "python",
   "pygments_lexer": "ipython2",
   "version": "2.7.6"
  }
 },
 "nbformat": 4,
 "nbformat_minor": 0
}
