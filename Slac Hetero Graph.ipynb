{
 "cells": [
  {
   "cell_type": "code",
   "execution_count": 30,
   "outputs": [
    {
     "name": "stdout",
     "output_type": "stream",
     "text": [
      "1.7.3\n",
      "3.6.2\n",
      "2.8.4\n"
     ]
    }
   ],
   "source": [
    "import time\n",
    "import scipy\n",
    "import numpy as np\n",
    "import pandas as pd\n",
    "import winsound\n",
    "\n",
    "import networkx as nx\n",
    "import matplotlib\n",
    "\n",
    "from sklearn.preprocessing import LabelEncoder\n",
    "import torch\n",
    "\n",
    "from torch_geometric.data import HeteroData\n",
    "import torch_geometric.transforms as T\n",
    "from torch_geometric.nn import HGTConv, SAGEConv, GATConv, Linear, to_hetero\n",
    "from torch.nn.functional import cross_entropy\n",
    "\n",
    "from HeteroDataFunctions import Encoder, add_types, complete_graph, flatten_lol, node_cat_dict, midi_type\n",
    "\n",
    "print(scipy.__version__)\n",
    "print(matplotlib.__version__)\n",
    "print(nx.__version__)"
   ],
   "metadata": {
    "collapsed": false
   }
  },
  {
   "cell_type": "code",
   "execution_count": 2,
   "metadata": {
    "collapsed": true
   },
   "outputs": [
    {
     "name": "stdout",
     "output_type": "stream",
     "text": [
      "loading edgelists...\n",
      "- notes.edgelist\n",
      "- program.edgelist\n",
      "- tempo.edgelist\n",
      "- time.signature.edgelist\n",
      "Nodes: 93553\n",
      "Edges: 786635\n"
     ]
    }
   ],
   "source": [
    "# Complete Dataset\n",
    "G = complete_graph(\".\\slac\\embeddings\\\\all\")"
   ]
  },
  {
   "cell_type": "code",
   "execution_count": 3,
   "outputs": [],
   "source": [
    "nodes = pd.DataFrame((list(G.nodes)), columns=['name'])\n",
    "edges = pd.DataFrame(np.array(list(G.edges)), columns=['source', 'target'])"
   ],
   "metadata": {
    "collapsed": false
   }
  },
  {
   "cell_type": "code",
   "execution_count": 4,
   "outputs": [
    {
     "name": "stdout",
     "output_type": "stream",
     "text": [
      "node_cat_dict took 0.18 secs to run\n"
     ]
    },
    {
     "data": {
      "text/plain": "dict_keys(['note_group', 'pitch', 'program', 'MIDI', 'duration', 'velocity', 'time_sig', 'tempo'])"
     },
     "execution_count": 4,
     "metadata": {},
     "output_type": "execute_result"
    }
   ],
   "source": [
    "node_categories = node_cat_dict(nodes)\n",
    "node_categories.keys()"
   ],
   "metadata": {
    "collapsed": false
   }
  },
  {
   "cell_type": "code",
   "execution_count": 5,
   "outputs": [
    {
     "name": "stdout",
     "output_type": "stream",
     "text": [
      "Couldn't find program: 'false'\n"
     ]
    }
   ],
   "source": [
    "%%script false --no- raise -error\n",
    "\n",
    "nodes_df_complete, edges_df_complete = add_types(nodes, edges, node_categories)\n",
    "\n",
    "winsound.Beep(400, 700)\n",
    "\n",
    "nodes_df_complete.to_csv('nodes_complete.csv')\n",
    "edges_df_complete.to_csv('edges_complete.csv')"
   ],
   "metadata": {
    "collapsed": false
   }
  },
  {
   "cell_type": "code",
   "execution_count": 6,
   "outputs": [
    {
     "name": "stdout",
     "output_type": "stream",
     "text": [
      "Done\n"
     ]
    }
   ],
   "source": [
    "nodes_df_complete = pd.read_csv('.\\slac\\Contents of Slac\\\\nodes_complete.csv')\n",
    "edges_df_complete = pd.read_csv('.\\slac\\Contents of Slac\\edges_complete.csv')\n",
    "print('Done')"
   ],
   "metadata": {
    "collapsed": false
   }
  },
  {
   "cell_type": "code",
   "execution_count": 7,
   "outputs": [
    {
     "data": {
      "text/plain": "{'MIDI',\n 'duration',\n 'note_group',\n 'pitch',\n 'program',\n 'tempo',\n 'time_sig',\n 'velocity'}"
     },
     "execution_count": 7,
     "metadata": {},
     "output_type": "execute_result"
    }
   ],
   "source": [
    "node_types = set(nodes_df_complete['node_type'])\n",
    "node_types\n"
   ],
   "metadata": {
    "collapsed": false
   }
  },
  {
   "cell_type": "code",
   "execution_count": 8,
   "outputs": [],
   "source": [
    "edge_types = [\"MIDI__has__tempo\",\n",
    "                   \"MIDI__in__time_sig\",\n",
    "                   \"MIDI__has__program\",\n",
    "                   \"MIDI__has__note_group\",\n",
    "                   \"note_group__has__velocity\",\n",
    "                   \"note_group__has__duration\",\n",
    "                   \"note_group__contains__pitch\"]"
   ],
   "metadata": {
    "collapsed": false
   }
  },
  {
   "cell_type": "code",
   "execution_count": 9,
   "outputs": [],
   "source": [
    "names_list = flatten_lol(node_categories.values())\n"
   ],
   "metadata": {
    "collapsed": false
   }
  },
  {
   "cell_type": "code",
   "execution_count": 10,
   "outputs": [],
   "source": [
    "encoder = Encoder(names_list, n_labels=5)\n"
   ],
   "metadata": {
    "collapsed": false
   }
  },
  {
   "cell_type": "code",
   "execution_count": 11,
   "outputs": [
    {
     "name": "stdout",
     "output_type": "stream",
     "text": [
      "encode_nodes took 0.02 secs to run\n",
      "encode_nodes took 0.00 secs to run\n",
      "encode_nodes took 0.02 secs to run\n",
      "encode_nodes took 0.00 secs to run\n",
      "encode_nodes took 0.00 secs to run\n",
      "encode_nodes took 3.43 secs to run\n",
      "encode_nodes took 0.00 secs to run\n",
      "encode_nodes took 0.01 secs to run\n"
     ]
    }
   ],
   "source": [
    "input_node_dict = {node_type: {'x': encoder.\n",
    "                    encode_nodes(nodes_df_complete.\n",
    "                    loc[nodes_df_complete['node_type'] == node_type, ['name']])}\n",
    "                    for node_type in node_types}"
   ],
   "metadata": {
    "collapsed": false
   }
  },
  {
   "cell_type": "code",
   "execution_count": 12,
   "outputs": [],
   "source": [
    "node_enc_to_idx = {node_type: {encoder.decode_value(node_enc.item()): i for i, node_enc in enumerate(input_node_dict[node_type]['x'])} for node_type in node_types}"
   ],
   "metadata": {
    "collapsed": false
   }
  },
  {
   "cell_type": "code",
   "execution_count": 14,
   "outputs": [],
   "source": [
    "input_edge_dict1 = dict()\n",
    "for edge_type in edge_types:\n",
    "    node_type_s, node_type_t = edge_type.split('__')[0], edge_type.split('__')[2]\n",
    "\n",
    "    edge_df = edges_df_complete.loc[edges_df_complete['edge_type'] == edge_type, ['source', 'target']].copy()\n",
    "\n",
    "    edge_df['source'], edge_df['target'] = edge_df['source'].map(node_enc_to_idx[node_type_s]), edge_df['target'].map(node_enc_to_idx[node_type_t])\n",
    "\n",
    "    input_edge_dict1[edge_type] = {'edge_index': torch.tensor(edge_df.values).T}\n"
   ],
   "metadata": {
    "collapsed": false
   }
  },
  {
   "cell_type": "code",
   "execution_count": 15,
   "outputs": [
    {
     "data": {
      "text/plain": "{'MIDI__has__tempo': {'edge_index': tensor([[  0,   1,   2,   3,   4,   5,   6,   7,   8,   9,  10,  11,  12,  13,\n            14,  15,  16,  17,  18,  19,  20,  21,  22,  23,  24,  25,  26,  27,\n            28,  29,  30,  31,  32,  33,  34,  35,  36,  37,  38,  39,  40,  41,\n            42,  43,  44,  45,  46,  47,  48,  49,  50,  51,  52,  53,  54,  55,\n            56,  57,  58,  59,  60,  61,  62,  63,  64,  65,  66,  67,  68,  69,\n            70,  71,  72,  73,  74,  75,  76,  77,  78,  79,  80,  81,  82,  83,\n            84,  85,  86,  87,  88,  89,  90,  91,  92,  93,  94,  95,  96,  97,\n            98,  99, 100, 101, 102, 103, 104, 105, 106, 107, 108, 109, 110, 111,\n           112, 113, 114, 115, 116, 117, 118, 119, 120, 121, 122, 123, 124, 125,\n           126, 127, 128, 129, 130, 131, 132, 133, 134, 135, 136, 137, 138, 139,\n           140, 141, 142, 143, 144, 145, 146, 147, 148, 149, 150, 151, 152, 153,\n           154, 155, 156, 157, 158, 159, 160, 161, 162, 163, 164, 165, 166, 167,\n           168, 169, 170, 171, 172, 173, 174, 175, 176, 177, 178, 179, 180, 181,\n           182, 183, 184, 185, 186, 187, 188, 189, 190, 191, 192, 193, 194, 195,\n           196, 197, 198, 199, 200, 201, 202, 203, 204, 205, 206, 207, 208, 209,\n           210, 211, 212, 213, 214, 215, 216, 217, 218, 219, 220, 221, 222, 223,\n           224, 225, 226, 227, 228, 229, 230, 231, 232, 233, 234, 235, 236, 237,\n           238, 239, 240, 241, 242, 243, 244, 245, 246, 247, 248, 249],\n          [  0,   1,   2,   2,   3,   4,   2,   2,   3,   3,   5,   1,   6,   7,\n             8,   6,   9,   9,   2,   0,   9,  10,   5,  11,   6,   6,  11,   2,\n             6,  12,  12,  12,  13,   8,   6,  13,   6,  12,   2,   2,  11,  14,\n            12,   6,  12,   0,   6,  12,  12,  12,  12,   7,   7,  12,   7,  12,\n             8,   8,  14,   0,   0,  12,   6,  15,  11,  12,  16,   0,   6,   6,\n             6,   2,  12,   6,   9,  16,  14,   7,   5,   1,  12,   0,   6,  17,\n            13,  13,   8,  11,   5,   8,   1,   7,   6,   2,   6,  12,  12,  16,\n             2,   1,   6,  18,  19,  18,  20,  20,  19,   6,   9,  21,   4,   9,\n            20,   4,   4,  14,  11,  14,  14,  15,  15,  10,   5,  15,  18,   8,\n            13,  19,   6,  19,   6,   7,   1,  13,   9,  12,   9,   6,  20,   6,\n             5,   6,  21,  16,  13,  13,   9,   9,  11,   6,   8,  14,   7,  12,\n             2,   9,   2,  12,   6,   6,   0,  14,   2,  12,   6,   7,   2,   1,\n             2,   2,  12,   2,  12,   6,   2,   2,   2,   6,   7,   7,   8,  14,\n             6,   2,  16,   0,  12,  12,  12,   2,   7,  12,   2,   0,   7,   6,\n            12,   0,  12,   6,   6,   8,  12,   2,   6,  14,   0,  14,   7,  12,\n            12,  13,   6,   6,  12,   9,   6,   9,   7,   3,   6,  13,   6,   6,\n            12,   2,   2,  16,  10,  16,  14,   0,   0,   2,  16,  14,  14,  15,\n             9,   5,   8,  22,   6,   7,   6,   7,   0,   6,   7,  11]])},\n 'MIDI__in__time_sig': {'edge_index': tensor([[  0,   1,   2,   3,   4,   5,   6,   7,   8,   9,  10,  11,  12,  13,\n            14,  15,  16,  17,  18,  19,  20,  21,  22,  23,  24,  26,  27,  28,\n            29,  30,  31,  32,  33,  34,  35,  37,  38,  39,  40,  41,  42,  43,\n            44,  45,  46,  47,  48,  50,  52,  53,  54,  55,  56,  57,  58,  59,\n            60,  61,  62,  66,  71,  72,  73,  74,  75,  76,  77,  78,  79,  80,\n            81,  82,  83,  84,  85,  86,  87,  88,  89,  90,  91,  92,  93,  94,\n            95,  96,  97,  98,  99, 100, 101, 102, 103, 104, 105, 106, 107, 108,\n           109, 110, 111, 112, 113, 114, 115, 116, 117, 118, 119, 120, 121, 122,\n           123, 124, 125, 126, 127, 128, 129, 130, 131, 132, 133, 134, 135, 136,\n           137, 138, 139, 140, 141, 142, 143, 144, 145, 146, 147, 148, 149, 150,\n           151, 152, 153, 154, 155, 156, 157, 158, 159, 160, 161, 162, 163, 164,\n           165, 166, 167, 168, 169, 170, 171, 172, 173, 174, 175, 176, 177, 178,\n           179, 180, 181, 182, 183, 184, 185, 186, 187, 188, 189, 190, 191, 192,\n           193, 194, 195, 196, 197, 198, 199, 200, 201, 202, 203, 204, 205, 206,\n           207, 208, 209, 210, 211, 212, 213, 214, 215, 216, 217, 218, 219, 220,\n           221, 222, 223, 224, 225, 226, 227, 228, 229, 230, 231, 232, 233, 234,\n           235, 236, 237, 238, 239, 240, 241, 242, 243, 244, 245, 246, 247, 248,\n           249],\n          [  0,   0,   0,   0,   0,   0,   0,   0,   0,   0,   0,   0,   0,   0,\n             1,   0,   0,   0,   1,   0,   2,   0,   1,   3,   0,   0,   0,   0,\n             0,   0,   0,   0,   0,   0,   0,   0,   1,   0,   0,   0,   1,   0,\n             0,   0,   0,   0,   0,   0,   0,   1,   0,   1,   0,   0,   4,   0,\n             5,   0,   0,   0,   4,   0,   0,   0,   0,   4,   6,   0,   0,   4,\n             3,   0,   7,   0,   8,   0,   1,   0,   3,   3,   4,   3,   3,   0,\n             0,   9,  10,   0,   0,   0,   0,   0,   0,   0,   0,   0,   0,   0,\n             0,   0,   0,   0,   0,   0,   0,   0,   0,   0,   0,   0,   0,   0,\n             0,   0,   0,   0,   0,   0,   0,   0,   0,   0,   0,   0,   0,   0,\n             0,   0,   0,   0,   0,  11,   0,   0,   0,   0,   0,   0,   0,   0,\n             0,   0,   0,   0,   0,   0,   0,   0,   0,   0,   0,   0,   0,   0,\n             0,   0,   0,   0,  12,   0,   0,   0,   0,   0,   0,   0,   0,   0,\n             0,   0,   0,   0,   0,   0,   0,   0,   0,   0,   0,   0,   0,   0,\n             0,   0,   0,   0,   0,   0,   0,   0,   0,   0,   0,   0,   0,   0,\n             0,   9,   0,   0,   0,   0,   0,   0,   9,   9,   0,   0,   9,   0,\n             0,   0,   0,   0,   0,   0,   0,   0,   0,   0,   0,   0,   0,   0,\n             0,   0,   0,   9,   0,   7,   0,   0,   0,   0,  13,   0,   0,   0,\n             2]])},\n 'MIDI__has__program': {'edge_index': tensor([[  0,   0,   0,  ..., 249, 249, 249],\n          [  0,   1,   2,  ...,   0,  29,   1]])},\n 'MIDI__has__note_group': {'edge_index': tensor([[    0,     0,     0,  ...,   249,   249,   249],\n          [    0,     1,     2,  ..., 92481, 92482, 92483]])},\n 'note_group__has__velocity': {'edge_index': tensor([[    0,     0,     0,  ..., 91942, 91944, 91945],\n          [    0,     2,     6,  ...,    10,    10,    10]])},\n 'note_group__has__duration': {'edge_index': tensor([[    0,     1,     2,  ..., 86767, 86973, 89091],\n          [    0,     0,     0,  ...,   567,   568,   569]])},\n 'note_group__contains__pitch': {'edge_index': tensor([[    0,     4,    12,  ..., 78871, 83188, 83214],\n          [    0,     0,     0,  ...,    91,    92,    92]])}}"
     },
     "execution_count": 15,
     "metadata": {},
     "output_type": "execute_result"
    }
   ],
   "source": [
    "input_edge_dict1"
   ],
   "metadata": {
    "collapsed": false
   }
  },
  {
   "cell_type": "code",
   "execution_count": 19,
   "outputs": [
    {
     "data": {
      "text/plain": "array(['Blues', 'Classical', 'Jazz', 'Rap', 'Rock'], dtype='<U9')"
     },
     "execution_count": 19,
     "metadata": {},
     "output_type": "execute_result"
    }
   ],
   "source": [
    "# Extract the label of each Midi.\n",
    "midi_val = nodes_df_complete.loc[nodes_df_complete['node_type'] == 'MIDI', ['name']].values\n",
    "midi_class = [midi_type(s[0]) for s in midi_val]\n",
    "\n",
    "lb = LabelEncoder()\n",
    "y = torch.from_numpy(lb.fit_transform(midi_class)) # .type(torch.LongTensor)\n",
    "\n",
    "lb.classes_"
   ],
   "metadata": {
    "collapsed": false
   }
  },
  {
   "cell_type": "code",
   "execution_count": 20,
   "outputs": [],
   "source": [
    "input_node_dict['MIDI']['y'] = y"
   ],
   "metadata": {
    "collapsed": false
   }
  },
  {
   "cell_type": "code",
   "execution_count": 21,
   "outputs": [],
   "source": [
    "H = HeteroData(input_node_dict, **input_edge_dict1)"
   ],
   "metadata": {
    "collapsed": false
   }
  },
  {
   "cell_type": "code",
   "execution_count": 22,
   "outputs": [
    {
     "name": "stdout",
     "output_type": "stream",
     "text": [
      "HeteroData(\n",
      "  \u001B[1mvelocity\u001B[0m={ x=[11, 1] },\n",
      "  \u001B[1mprogram\u001B[0m={ x=[108, 1] },\n",
      "  \u001B[1mduration\u001B[0m={ x=[570, 1] },\n",
      "  \u001B[1mpitch\u001B[0m={ x=[93, 1] },\n",
      "  \u001B[1mtempo\u001B[0m={ x=[23, 1] },\n",
      "  \u001B[1mnote_group\u001B[0m={ x=[92484, 1] },\n",
      "  \u001B[1mtime_sig\u001B[0m={ x=[14, 1] },\n",
      "  \u001B[1mMIDI\u001B[0m={\n",
      "    x=[250, 1],\n",
      "    y=[250]\n",
      "  },\n",
      "  \u001B[1m(MIDI, has, tempo)\u001B[0m={ edge_index=[2, 250] },\n",
      "  \u001B[1m(MIDI, in, time_sig)\u001B[0m={ edge_index=[2, 239] },\n",
      "  \u001B[1m(MIDI, has, program)\u001B[0m={ edge_index=[2, 1392] },\n",
      "  \u001B[1m(MIDI, has, note_group)\u001B[0m={ edge_index=[2, 135160] },\n",
      "  \u001B[1m(note_group, has, velocity)\u001B[0m={ edge_index=[2, 118626] },\n",
      "  \u001B[1m(note_group, has, duration)\u001B[0m={ edge_index=[2, 92484] },\n",
      "  \u001B[1m(note_group, contains, pitch)\u001B[0m={ edge_index=[2, 438484] }\n",
      ")\n"
     ]
    }
   ],
   "source": [
    "print(H)"
   ],
   "metadata": {
    "collapsed": false
   }
  },
  {
   "cell_type": "code",
   "execution_count": 23,
   "outputs": [],
   "source": [
    "H = T.ToUndirected()(H)"
   ],
   "metadata": {
    "collapsed": false
   }
  },
  {
   "cell_type": "markdown",
   "source": [
    "# GNN"
   ],
   "metadata": {
    "collapsed": false
   }
  },
  {
   "cell_type": "code",
   "execution_count": 24,
   "outputs": [],
   "source": [
    "class GNN(torch.nn.Module):\n",
    "    def __init__(self, hidden_channels, out_channels):\n",
    "        super().__init__()\n",
    "        self.conv1 = SAGEConv((-1, -1), hidden_channels)\n",
    "        self.conv2 = SAGEConv((-1, -1), out_channels)\n",
    "\n",
    "    def forward(self, x, edge_index):\n",
    "        x = self.conv1(x, edge_index).relu()\n",
    "        x = self.conv2(x, edge_index)\n",
    "        return x\n",
    "\n",
    "\n",
    "model = GNN(hidden_channels=64, out_channels=len(set(lb.classes_)))\n",
    "model = to_hetero(model, H.metadata(), aggr='sum')"
   ],
   "metadata": {
    "collapsed": false
   }
  },
  {
   "cell_type": "code",
   "execution_count": 25,
   "outputs": [],
   "source": [
    "optimizer_name = \"Adam\"\n",
    "lr = 1e-1\n",
    "optimizer = torch.optim.Adam(model.parameters(), lr=0.01)\n",
    "# optimizer = getattr(torch.optim, optimizer_name)(model.parameters(), lr=lr)\n"
   ],
   "metadata": {
    "collapsed": false
   }
  },
  {
   "cell_type": "code",
   "execution_count": 31,
   "outputs": [],
   "source": [
    "def train():\n",
    "    model.train()\n",
    "    optimizer.zero_grad()\n",
    "    out = model(H.x_dict, H.edge_index_dict)\n",
    "    # mask = H['MIDI'].train_mask\n",
    "    # loss = F.cross_entropy(out['MIDI'][mask], H['MIDI'].y[mask])\n",
    "    loss = cross_entropy(out['MIDI'], H['MIDI'].y)\n",
    "    loss.backward()\n",
    "    optimizer.step()\n",
    "    return float(loss)"
   ],
   "metadata": {
    "collapsed": false
   }
  },
  {
   "cell_type": "code",
   "execution_count": 32,
   "outputs": [
    {
     "data": {
      "text/plain": "203271.25"
     },
     "execution_count": 32,
     "metadata": {},
     "output_type": "execute_result"
    }
   ],
   "source": [
    "train()"
   ],
   "metadata": {
    "collapsed": false
   }
  },
  {
   "cell_type": "markdown",
   "source": [
    " # Old Implementation"
   ],
   "metadata": {
    "collapsed": false
   }
  },
  {
   "cell_type": "code",
   "execution_count": null,
   "outputs": [],
   "source": [
    "# nodes_ten_ = encoder.encode_nodes(nodes_df_complete)\n",
    "# edges_ten_ = encoder.encode_edges(edges_df_complete)\n",
    "\n",
    "# node_type_ = nodes_df_complete.iloc[:, 1]\n",
    "\n",
    "# Get the source and target indices from the edges tensor\n",
    "# edge_index = edges_ten_[:, :2]\n",
    "\n",
    "## Get the edge types from the edges tensor\n",
    "#edge_type_ = edges_df_complete.iloc[:, 2]\n",
    "\n",
    "#full_hetero_graph = HeteroData(x=nodes_ten_, node_type=node_type_, edge_index=edge_index, edge_type=edge_type_)"
   ],
   "metadata": {
    "collapsed": false
   }
  },
  {
   "cell_type": "code",
   "execution_count": null,
   "outputs": [],
   "source": [
    "# edges_df_complete.loc[edges_df_complete['edge_type'] == 'MIDI__has__tempo', ['source', 'target']]"
   ],
   "metadata": {
    "collapsed": false
   }
  },
  {
   "cell_type": "code",
   "execution_count": null,
   "outputs": [],
   "source": [
    "# full_categories = node_categories.copy()\n",
    "# full_categories['node_types'] = list(node_categories.keys())\n",
    "# full_categories['edge_types'] = edge_types  # Dictionary containing every string that may be found in our Dataframes\n",
    "# names_list_full = flatten_lol(full_categories.values())"
   ],
   "metadata": {
    "collapsed": false
   }
  },
  {
   "cell_type": "code",
   "execution_count": 18,
   "outputs": [],
   "source": [
    "# input_edge_dict = {edge_type: {'edge_index': encoder.encode_edges(edges_df_complete.loc[\n",
    "#                    edges_df_complete['edge_type'] == edge_type, ['source', 'target']])} for edge_type in edge_types}\n",
    "# for key in input_edge_dict.keys():\n",
    "#     input_edge_dict[key]['edge_index'] = input_edge_dict[key]['edge_index'].T.to(torch.int64)\n"
   ],
   "metadata": {
    "collapsed": false
   }
  }
 ],
 "metadata": {
  "kernelspec": {
   "display_name": "Python 3",
   "language": "python",
   "name": "python3"
  },
  "language_info": {
   "codemirror_mode": {
    "name": "ipython",
    "version": 2
   },
   "file_extension": ".py",
   "mimetype": "text/x-python",
   "name": "python",
   "nbconvert_exporter": "python",
   "pygments_lexer": "ipython2",
   "version": "2.7.6"
  }
 },
 "nbformat": 4,
 "nbformat_minor": 0
}
