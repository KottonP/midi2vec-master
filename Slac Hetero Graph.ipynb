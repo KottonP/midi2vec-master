{
 "cells": [
  {
   "cell_type": "code",
   "execution_count": 26,
   "outputs": [
    {
     "name": "stdout",
     "output_type": "stream",
     "text": [
      "1.7.3\n",
      "3.6.2\n",
      "2.8.4\n"
     ]
    }
   ],
   "source": [
    "import time\n",
    "import scipy\n",
    "import numpy as np\n",
    "import pandas as pd\n",
    "import winsound\n",
    "\n",
    "import networkx as nx\n",
    "import matplotlib\n",
    "\n",
    "from sklearn.preprocessing import LabelEncoder\n",
    "import torch\n",
    "\n",
    "from torch_geometric.data import HeteroData\n",
    "import torch_geometric.transforms as T\n",
    "from torch_geometric.nn import SAGEConv, GATConv, Linear, to_hetero\n",
    "import torch_geometric.nn.functional as F\n",
    "\n",
    "from HeteroDataFunctions import Encoder, add_types, complete_graph, flatten_lol, node_cat_dict, midi_type\n",
    "\n",
    "print(scipy.__version__)\n",
    "print(matplotlib.__version__)\n",
    "print(nx.__version__)"
   ],
   "metadata": {
    "collapsed": false
   }
  },
  {
   "cell_type": "code",
   "execution_count": 27,
   "metadata": {
    "collapsed": true
   },
   "outputs": [
    {
     "name": "stdout",
     "output_type": "stream",
     "text": [
      "loading edgelists...\n",
      "- notes.edgelist\n",
      "- program.edgelist\n",
      "- tempo.edgelist\n",
      "- time.signature.edgelist\n",
      "Nodes: 93553\n",
      "Edges: 786635\n"
     ]
    }
   ],
   "source": [
    "# Complete Dataset\n",
    "G = complete_graph(\".\\slac\\embeddings\\\\all\")"
   ]
  },
  {
   "cell_type": "code",
   "execution_count": 28,
   "outputs": [],
   "source": [
    "nodes = pd.DataFrame((list(G.nodes)), columns=['name'])\n",
    "edges = pd.DataFrame(np.array(list(G.edges)), columns=['source', 'target'])"
   ],
   "metadata": {
    "collapsed": false
   }
  },
  {
   "cell_type": "code",
   "execution_count": 29,
   "outputs": [
    {
     "name": "stdout",
     "output_type": "stream",
     "text": [
      "node_cat_dict took 0.17 secs to run\n"
     ]
    },
    {
     "data": {
      "text/plain": "dict_keys(['note_group', 'pitch', 'program', 'MIDI', 'duration', 'velocity', 'time_sig', 'tempo'])"
     },
     "execution_count": 29,
     "metadata": {},
     "output_type": "execute_result"
    }
   ],
   "source": [
    "node_categories = node_cat_dict(nodes)\n",
    "node_categories.keys()"
   ],
   "metadata": {
    "collapsed": false
   }
  },
  {
   "cell_type": "code",
   "execution_count": 30,
   "outputs": [
    {
     "name": "stdout",
     "output_type": "stream",
     "text": [
      "Couldn't find program: 'false'\n"
     ]
    }
   ],
   "source": [
    "%%script false --no- raise -error\n",
    "\n",
    "nodes_df_complete, edges_df_complete = add_types(nodes, edges, node_categories)\n",
    "\n",
    "winsound.Beep(400, 700)\n",
    "\n",
    "nodes_df_complete.to_csv('nodes_complete.csv')\n",
    "edges_df_complete.to_csv('edges_complete.csv')"
   ],
   "metadata": {
    "collapsed": false
   }
  },
  {
   "cell_type": "code",
   "execution_count": 140,
   "outputs": [
    {
     "name": "stdout",
     "output_type": "stream",
     "text": [
      "Done\n"
     ]
    }
   ],
   "source": [
    "nodes_df_complete = pd.read_csv('.\\slac\\Contents of Slac\\\\nodes_complete.csv')\n",
    "edges_df_complete = pd.read_csv('.\\slac\\Contents of Slac\\edges_complete.csv')\n",
    "print('Done')"
   ],
   "metadata": {
    "collapsed": false
   }
  },
  {
   "cell_type": "code",
   "execution_count": 141,
   "outputs": [],
   "source": [
    "edge_types = [\"MIDI__has__tempo\",\n",
    "                   \"MIDI__in__time_sig\",\n",
    "                   \"MIDI__has__program\",\n",
    "                   \"MIDI__has__note_group\",\n",
    "                   \"note_group__has__velocity\",\n",
    "                   \"note_group__has__duration\",\n",
    "                   \"note_group__contains__pitch\"]"
   ],
   "metadata": {
    "collapsed": false
   }
  },
  {
   "cell_type": "code",
   "execution_count": 142,
   "outputs": [
    {
     "data": {
      "text/plain": "True"
     },
     "execution_count": 142,
     "metadata": {},
     "output_type": "execute_result"
    }
   ],
   "source": [
    "full_categories = node_categories.copy()\n",
    "full_categories['node_types'] = list(node_categories.keys())\n",
    "full_categories['edge_types'] = edge_types  # Dictionary containing every string that may be found in our Dataframes\n",
    "names_list_full = flatten_lol(full_categories.values())\n",
    "\n",
    "len(names_list_full) == len(set(names_list_full))"
   ],
   "metadata": {
    "collapsed": false
   }
  },
  {
   "cell_type": "code",
   "execution_count": 143,
   "outputs": [
    {
     "data": {
      "text/plain": "'g1601074'"
     },
     "execution_count": 143,
     "metadata": {},
     "output_type": "execute_result"
    }
   ],
   "source": [
    "encoder = Encoder(names_list_full, n_labels=5)\n",
    "\n",
    "encoder.decode_value(5)"
   ],
   "metadata": {
    "collapsed": false
   }
  },
  {
   "cell_type": "code",
   "execution_count": 144,
   "outputs": [
    {
     "data": {
      "text/plain": "{'MIDI',\n 'duration',\n 'note_group',\n 'pitch',\n 'program',\n 'tempo',\n 'time_sig',\n 'velocity'}"
     },
     "execution_count": 144,
     "metadata": {},
     "output_type": "execute_result"
    }
   ],
   "source": [
    "node_types = set(nodes_df_complete['node_type'])\n",
    "node_types"
   ],
   "metadata": {
    "collapsed": false
   }
  },
  {
   "cell_type": "code",
   "execution_count": 145,
   "outputs": [
    {
     "name": "stdout",
     "output_type": "stream",
     "text": [
      "encode_nodes took 0.01 secs to run\n",
      "encode_nodes took 0.00 secs to run\n",
      "encode_nodes took 0.00 secs to run\n",
      "encode_nodes took 0.00 secs to run\n",
      "encode_nodes took 0.00 secs to run\n",
      "encode_nodes took 0.02 secs to run\n",
      "encode_nodes took 3.14 secs to run\n",
      "encode_nodes took 0.00 secs to run\n"
     ]
    }
   ],
   "source": [
    "input_node_dict = {node_type: {'x': encoder.\n",
    "                    encode_nodes(nodes_df_complete.\n",
    "                    loc[nodes_df_complete['node_type'] == node_type, ['name']])}\n",
    "                    for node_type in node_types}"
   ],
   "metadata": {
    "collapsed": false
   }
  },
  {
   "cell_type": "code",
   "execution_count": 146,
   "outputs": [
    {
     "data": {
      "text/plain": "['MIDI__has__tempo',\n 'MIDI__in__time_sig',\n 'MIDI__has__program',\n 'MIDI__has__note_group',\n 'note_group__has__velocity',\n 'note_group__has__duration',\n 'note_group__contains__pitch']"
     },
     "execution_count": 146,
     "metadata": {},
     "output_type": "execute_result"
    }
   ],
   "source": [
    "edge_types"
   ],
   "metadata": {
    "collapsed": false
   }
  },
  {
   "cell_type": "code",
   "execution_count": 147,
   "outputs": [
    {
     "data": {
      "text/plain": "                                                   source target\n936     Blues_-_Modern-Albert_King_-_Born_Under_A_Bad_...     11\n571698     Blues_-_Modern-B_B_King_-_How_Blue_Can_You_Get      6\n658833             Blues_-_Modern-B_B_King_-_Rock_Me_Baby      9\n662826       Blues_-_Modern-B_B_King_-_The_Thrill_Is_Gone      9\n666395   Blues_-_Modern-Buddy_Guy_-_Don't_Answer_the_Door      5\n...                                                   ...    ...\n786125  Rock_-_Metal-Rage_Against_the_Machine_-_Bulls_...      8\n786237  Rock_-_Metal-Rage_Against_the_Machine_-_Gueril...     11\n786347  Rock_-_Metal-Rage_Against_the_Machine_-_Killin...     12\n786441  Rock_-_Metal-Rage_Against_the_Machine_-_Know_Y...      8\n786633         Rock_-_Metal-White_Zombie_-_Black_Sunshine     17\n\n[250 rows x 2 columns]",
      "text/html": "<div>\n<style scoped>\n    .dataframe tbody tr th:only-of-type {\n        vertical-align: middle;\n    }\n\n    .dataframe tbody tr th {\n        vertical-align: top;\n    }\n\n    .dataframe thead th {\n        text-align: right;\n    }\n</style>\n<table border=\"1\" class=\"dataframe\">\n  <thead>\n    <tr style=\"text-align: right;\">\n      <th></th>\n      <th>source</th>\n      <th>target</th>\n    </tr>\n  </thead>\n  <tbody>\n    <tr>\n      <th>936</th>\n      <td>Blues_-_Modern-Albert_King_-_Born_Under_A_Bad_...</td>\n      <td>11</td>\n    </tr>\n    <tr>\n      <th>571698</th>\n      <td>Blues_-_Modern-B_B_King_-_How_Blue_Can_You_Get</td>\n      <td>6</td>\n    </tr>\n    <tr>\n      <th>658833</th>\n      <td>Blues_-_Modern-B_B_King_-_Rock_Me_Baby</td>\n      <td>9</td>\n    </tr>\n    <tr>\n      <th>662826</th>\n      <td>Blues_-_Modern-B_B_King_-_The_Thrill_Is_Gone</td>\n      <td>9</td>\n    </tr>\n    <tr>\n      <th>666395</th>\n      <td>Blues_-_Modern-Buddy_Guy_-_Don't_Answer_the_Door</td>\n      <td>5</td>\n    </tr>\n    <tr>\n      <th>...</th>\n      <td>...</td>\n      <td>...</td>\n    </tr>\n    <tr>\n      <th>786125</th>\n      <td>Rock_-_Metal-Rage_Against_the_Machine_-_Bulls_...</td>\n      <td>8</td>\n    </tr>\n    <tr>\n      <th>786237</th>\n      <td>Rock_-_Metal-Rage_Against_the_Machine_-_Gueril...</td>\n      <td>11</td>\n    </tr>\n    <tr>\n      <th>786347</th>\n      <td>Rock_-_Metal-Rage_Against_the_Machine_-_Killin...</td>\n      <td>12</td>\n    </tr>\n    <tr>\n      <th>786441</th>\n      <td>Rock_-_Metal-Rage_Against_the_Machine_-_Know_Y...</td>\n      <td>8</td>\n    </tr>\n    <tr>\n      <th>786633</th>\n      <td>Rock_-_Metal-White_Zombie_-_Black_Sunshine</td>\n      <td>17</td>\n    </tr>\n  </tbody>\n</table>\n<p>250 rows × 2 columns</p>\n</div>"
     },
     "execution_count": 147,
     "metadata": {},
     "output_type": "execute_result"
    }
   ],
   "source": [
    "edges_df_complete.loc[edges_df_complete['edge_type'] == 'MIDI__has__tempo', ['source', 'target']]"
   ],
   "metadata": {
    "collapsed": false
   }
  },
  {
   "cell_type": "code",
   "execution_count": 148,
   "outputs": [
    {
     "name": "stdout",
     "output_type": "stream",
     "text": [
      "encode_edges took 0.02 secs to run\n",
      "encode_edges took 0.02 secs to run\n",
      "encode_edges took 0.09 secs to run\n",
      "encode_edges took 8.36 secs to run\n",
      "encode_edges took 7.25 secs to run\n",
      "encode_edges took 5.60 secs to run\n",
      "encode_edges took 26.60 secs to run\n"
     ]
    }
   ],
   "source": [
    "input_edge_dict = {edge_type: {'edge_index': encoder.encode_edges(edges_df_complete.loc[\n",
    "                    edges_df_complete['edge_type'] == edge_type, ['source', 'target']])} for edge_type in edge_types}"
   ],
   "metadata": {
    "collapsed": false
   }
  },
  {
   "cell_type": "code",
   "execution_count": 149,
   "outputs": [],
   "source": [
    "for key in input_edge_dict.keys():\n",
    "    dim1 = input_edge_dict[key]['edge_index'].shape[0]\n",
    "    input_edge_dict[key]['edge_index'] = input_edge_dict[key]['edge_index'].reshape(-1, dim1)"
   ],
   "metadata": {
    "collapsed": false
   }
  },
  {
   "cell_type": "code",
   "execution_count": 150,
   "outputs": [
    {
     "data": {
      "text/plain": "array(['Blues', 'Classical', 'Jazz', 'Rap', 'Rock'], dtype='<U9')"
     },
     "execution_count": 150,
     "metadata": {},
     "output_type": "execute_result"
    }
   ],
   "source": [
    "# Extract the label of each Midi.\n",
    "midi_val = nodes_df_complete.loc[nodes_df_complete['node_type'] == 'MIDI', ['name']].values\n",
    "midi_class = [midi_type(s[0]) for s in midi_val]\n",
    "\n",
    "lb = LabelEncoder()\n",
    "y = torch.from_numpy(lb.fit_transform(midi_class))\n",
    "\n",
    "lb.classes_"
   ],
   "metadata": {
    "collapsed": false
   }
  },
  {
   "cell_type": "code",
   "execution_count": 151,
   "outputs": [],
   "source": [
    "input_node_dict['MIDI']['y'] = y"
   ],
   "metadata": {
    "collapsed": false
   }
  },
  {
   "cell_type": "code",
   "execution_count": 152,
   "outputs": [
    {
     "data": {
      "text/plain": "{'edge_index': tensor([[92762, 93541, 92801, 93549, 92790, 93545, 92888, 93545, 92783, 93542,\n         92714, 93537, 92692, 93545, 92886, 93545, 92805, 93542, 92875, 93542,\n         92710, 93539, 92766, 93549, 92905, 93535, 92760, 93557, 92730, 93543,\n         92785, 93535, 92939, 93540, 92738, 93540, 92774, 93545, 92919, 93541,\n         92814, 93540, 92836, 93556, 92928, 93539, 92789, 93554, 92797, 93535,\n         92757, 93535, 92731, 93554, 92866, 93545, 92834, 93535, 92773, 93555,\n         92898, 93555, 92713, 93555, 92896, 93546, 92907, 93543, 92744, 93535,\n         92852, 93546, 92817, 93535, 92846, 93555, 92703, 93545, 92761, 93545,\n         92911, 93554, 92860, 93538, 92763, 93555, 92903, 93535, 92858, 93555,\n         92767, 93541, 92829, 93535, 92853, 93555, 92862, 93555, 92930, 93555,\n         92882, 93555, 92743, 93557, 92802, 93557, 92927, 93555, 92709, 93557,\n         92865, 93555, 92804, 93543, 92742, 93543, 92782, 93538, 92818, 93541,\n         92741, 93541, 92778, 93555, 92807, 93535, 92899, 93551, 92895, 93554,\n         92913, 93555, 92727, 93544, 92937, 93541, 92736, 93535, 92931, 93535,\n         92874, 93535, 92745, 93545, 92775, 93555, 92701, 93535, 92740, 93540,\n         92776, 93544, 92900, 93538, 92706, 93557, 92816, 93539, 92697, 93549,\n         92889, 93555, 92917, 93541, 92768, 93535, 92798, 93553, 92750, 93546,\n         92721, 93546, 92700, 93543, 92753, 93554, 92794, 93539, 92868, 93543,\n         92878, 93549, 92918, 93557, 92693, 93535, 92718, 93545, 92883, 93535,\n         92821, 93555, 92825, 93555, 92925, 93544, 92820, 93545, 92781, 93549,\n         92755, 93535, 92764, 93536, 92732, 93550, 92929, 93536, 92879, 93552,\n         92844, 93552, 92916, 93550, 92906, 93535, 92822, 93540, 92734, 93547,\n         92787, 93537, 92838, 93540, 92904, 93552, 92847, 93537, 92810, 93537,\n         92915, 93538, 92848, 93554, 92909, 93538, 92779, 93538, 92935, 93551,\n         92841, 93551, 92839, 93556, 92861, 93539, 92784, 93551, 92733, 93536],\n        [92815, 93543, 92786, 93546, 92843, 93550, 92819, 93535, 92840, 93550,\n         92857, 93535, 92887, 93557, 92735, 93549, 92933, 93546, 92809, 93540,\n         92694, 93555, 92914, 93540, 92698, 93535, 92912, 93552, 92696, 93535,\n         92726, 93539, 92932, 93535, 92748, 93547, 92885, 93544, 92827, 93546,\n         92771, 93546, 92910, 93540, 92803, 93540, 92812, 93554, 92872, 93535,\n         92855, 93543, 92832, 93538, 92880, 93557, 92823, 93555, 92897, 93545,\n         92695, 93540, 92830, 93545, 92722, 93555, 92708, 93535, 92792, 93535,\n         92690, 93541, 92849, 93538, 92793, 93545, 92715, 93555, 92894, 93535,\n         92705, 93557, 92746, 93545, 92924, 93549, 92826, 93545, 92876, 93545,\n         92756, 93555, 92725, 93545, 92758, 93555, 92717, 93535, 92867, 93545,\n         92747, 93545, 92729, 93545, 92811, 93535, 92934, 93557, 92892, 93557,\n         92923, 93543, 92813, 93538, 92871, 93535, 92869, 93545, 92926, 93544,\n         92800, 93541, 92791, 93555, 92891, 93555, 92759, 93555, 92824, 93545,\n         92796, 93557, 92908, 93555, 92752, 93545, 92788, 93541, 92751, 93557,\n         92859, 93535, 92772, 93555, 92938, 93541, 92728, 93555, 92922, 93535,\n         92835, 93535, 92808, 93543, 92864, 93555, 92777, 93545, 92799, 93535,\n         92716, 93538, 92702, 93541, 92890, 93538, 92902, 93557, 92691, 93555,\n         92754, 93555, 92850, 93546, 92881, 93535, 92712, 93535, 92724, 93555,\n         92863, 93540, 92837, 93535, 92707, 93540, 92831, 93557, 92893, 93542,\n         92901, 93535, 92780, 93546, 92870, 93535, 92749, 93535, 92851, 93555,\n         92723, 93545, 92854, 93545, 92770, 93544, 92873, 93556, 92877, 93544,\n         92806, 93538, 92795, 93541, 92739, 93541, 92921, 93545, 92920, 93544,\n         92704, 93538, 92711, 93538, 92936, 93551, 92769, 93540, 92884, 93539,\n         92828, 93543, 92842, 93548, 92845, 93535, 92765, 93557, 92720, 93535,\n         92833, 93557, 92737, 93541, 92856, 93535, 92699, 93557, 92719, 93554]],\n       dtype=torch.int32)}"
     },
     "execution_count": 152,
     "metadata": {},
     "output_type": "execute_result"
    }
   ],
   "source": [
    "H = HeteroData(input_node_dict, **input_edge_dict)\n",
    "H['MIDI', 'has', 'tempo']"
   ],
   "metadata": {
    "collapsed": false
   }
  },
  {
   "cell_type": "code",
   "execution_count": 153,
   "outputs": [
    {
     "data": {
      "text/plain": "torch.Size([2, 50])"
     },
     "execution_count": 153,
     "metadata": {},
     "output_type": "execute_result"
    }
   ],
   "source": [
    "write_from = torch.tensor(np.random.choice(10, 50, replace=True))\n",
    "write_to = torch.tensor(np.random.choice(20, 50, replace=True))\n",
    "write = torch.concat((write_from, write_to)).reshape(-1,50).shape\n",
    "write"
   ],
   "metadata": {
    "collapsed": false
   }
  },
  {
   "cell_type": "code",
   "execution_count": 154,
   "outputs": [
    {
     "data": {
      "text/plain": "tensor([[92762, 93541, 92801, 93549, 92790, 93545, 92888, 93545, 92783, 93542,\n         92714, 93537, 92692, 93545, 92886, 93545, 92805, 93542, 92875, 93542,\n         92710, 93539, 92766, 93549, 92905, 93535, 92760, 93557, 92730, 93543,\n         92785, 93535, 92939, 93540, 92738, 93540, 92774, 93545, 92919, 93541,\n         92814, 93540, 92836, 93556, 92928, 93539, 92789, 93554, 92797, 93535,\n         92757, 93535, 92731, 93554, 92866, 93545, 92834, 93535, 92773, 93555,\n         92898, 93555, 92713, 93555, 92896, 93546, 92907, 93543, 92744, 93535,\n         92852, 93546, 92817, 93535, 92846, 93555, 92703, 93545, 92761, 93545,\n         92911, 93554, 92860, 93538, 92763, 93555, 92903, 93535, 92858, 93555,\n         92767, 93541, 92829, 93535, 92853, 93555, 92862, 93555, 92930, 93555,\n         92882, 93555, 92743, 93557, 92802, 93557, 92927, 93555, 92709, 93557,\n         92865, 93555, 92804, 93543, 92742, 93543, 92782, 93538, 92818, 93541,\n         92741, 93541, 92778, 93555, 92807, 93535, 92899, 93551, 92895, 93554,\n         92913, 93555, 92727, 93544, 92937, 93541, 92736, 93535, 92931, 93535,\n         92874, 93535, 92745, 93545, 92775, 93555, 92701, 93535, 92740, 93540,\n         92776, 93544, 92900, 93538, 92706, 93557, 92816, 93539, 92697, 93549,\n         92889, 93555, 92917, 93541, 92768, 93535, 92798, 93553, 92750, 93546,\n         92721, 93546, 92700, 93543, 92753, 93554, 92794, 93539, 92868, 93543,\n         92878, 93549, 92918, 93557, 92693, 93535, 92718, 93545, 92883, 93535,\n         92821, 93555, 92825, 93555, 92925, 93544, 92820, 93545, 92781, 93549,\n         92755, 93535, 92764, 93536, 92732, 93550, 92929, 93536, 92879, 93552,\n         92844, 93552, 92916, 93550, 92906, 93535, 92822, 93540, 92734, 93547,\n         92787, 93537, 92838, 93540, 92904, 93552, 92847, 93537, 92810, 93537,\n         92915, 93538, 92848, 93554, 92909, 93538, 92779, 93538, 92935, 93551,\n         92841, 93551, 92839, 93556, 92861, 93539, 92784, 93551, 92733, 93536],\n        [92815, 93543, 92786, 93546, 92843, 93550, 92819, 93535, 92840, 93550,\n         92857, 93535, 92887, 93557, 92735, 93549, 92933, 93546, 92809, 93540,\n         92694, 93555, 92914, 93540, 92698, 93535, 92912, 93552, 92696, 93535,\n         92726, 93539, 92932, 93535, 92748, 93547, 92885, 93544, 92827, 93546,\n         92771, 93546, 92910, 93540, 92803, 93540, 92812, 93554, 92872, 93535,\n         92855, 93543, 92832, 93538, 92880, 93557, 92823, 93555, 92897, 93545,\n         92695, 93540, 92830, 93545, 92722, 93555, 92708, 93535, 92792, 93535,\n         92690, 93541, 92849, 93538, 92793, 93545, 92715, 93555, 92894, 93535,\n         92705, 93557, 92746, 93545, 92924, 93549, 92826, 93545, 92876, 93545,\n         92756, 93555, 92725, 93545, 92758, 93555, 92717, 93535, 92867, 93545,\n         92747, 93545, 92729, 93545, 92811, 93535, 92934, 93557, 92892, 93557,\n         92923, 93543, 92813, 93538, 92871, 93535, 92869, 93545, 92926, 93544,\n         92800, 93541, 92791, 93555, 92891, 93555, 92759, 93555, 92824, 93545,\n         92796, 93557, 92908, 93555, 92752, 93545, 92788, 93541, 92751, 93557,\n         92859, 93535, 92772, 93555, 92938, 93541, 92728, 93555, 92922, 93535,\n         92835, 93535, 92808, 93543, 92864, 93555, 92777, 93545, 92799, 93535,\n         92716, 93538, 92702, 93541, 92890, 93538, 92902, 93557, 92691, 93555,\n         92754, 93555, 92850, 93546, 92881, 93535, 92712, 93535, 92724, 93555,\n         92863, 93540, 92837, 93535, 92707, 93540, 92831, 93557, 92893, 93542,\n         92901, 93535, 92780, 93546, 92870, 93535, 92749, 93535, 92851, 93555,\n         92723, 93545, 92854, 93545, 92770, 93544, 92873, 93556, 92877, 93544,\n         92806, 93538, 92795, 93541, 92739, 93541, 92921, 93545, 92920, 93544,\n         92704, 93538, 92711, 93538, 92936, 93551, 92769, 93540, 92884, 93539,\n         92828, 93543, 92842, 93548, 92845, 93535, 92765, 93557, 92720, 93535,\n         92833, 93557, 92737, 93541, 92856, 93535, 92699, 93557, 92719, 93554]],\n       dtype=torch.int32)"
     },
     "execution_count": 154,
     "metadata": {},
     "output_type": "execute_result"
    }
   ],
   "source": [
    "input_edge_dict['MIDI__has__tempo']['edge_index']"
   ],
   "metadata": {
    "collapsed": false
   }
  },
  {
   "cell_type": "code",
   "execution_count": 155,
   "outputs": [
    {
     "data": {
      "text/plain": "[{'edge_index': tensor([[92762, 93541, 92801, 93549, 92790, 93545, 92888, 93545, 92783, 93542,\n          92714, 93537, 92692, 93545, 92886, 93545, 92805, 93542, 92875, 93542,\n          92710, 93539, 92766, 93549, 92905, 93535, 92760, 93557, 92730, 93543,\n          92785, 93535, 92939, 93540, 92738, 93540, 92774, 93545, 92919, 93541,\n          92814, 93540, 92836, 93556, 92928, 93539, 92789, 93554, 92797, 93535,\n          92757, 93535, 92731, 93554, 92866, 93545, 92834, 93535, 92773, 93555,\n          92898, 93555, 92713, 93555, 92896, 93546, 92907, 93543, 92744, 93535,\n          92852, 93546, 92817, 93535, 92846, 93555, 92703, 93545, 92761, 93545,\n          92911, 93554, 92860, 93538, 92763, 93555, 92903, 93535, 92858, 93555,\n          92767, 93541, 92829, 93535, 92853, 93555, 92862, 93555, 92930, 93555,\n          92882, 93555, 92743, 93557, 92802, 93557, 92927, 93555, 92709, 93557,\n          92865, 93555, 92804, 93543, 92742, 93543, 92782, 93538, 92818, 93541,\n          92741, 93541, 92778, 93555, 92807, 93535, 92899, 93551, 92895, 93554,\n          92913, 93555, 92727, 93544, 92937, 93541, 92736, 93535, 92931, 93535,\n          92874, 93535, 92745, 93545, 92775, 93555, 92701, 93535, 92740, 93540,\n          92776, 93544, 92900, 93538, 92706, 93557, 92816, 93539, 92697, 93549,\n          92889, 93555, 92917, 93541, 92768, 93535, 92798, 93553, 92750, 93546,\n          92721, 93546, 92700, 93543, 92753, 93554, 92794, 93539, 92868, 93543,\n          92878, 93549, 92918, 93557, 92693, 93535, 92718, 93545, 92883, 93535,\n          92821, 93555, 92825, 93555, 92925, 93544, 92820, 93545, 92781, 93549,\n          92755, 93535, 92764, 93536, 92732, 93550, 92929, 93536, 92879, 93552,\n          92844, 93552, 92916, 93550, 92906, 93535, 92822, 93540, 92734, 93547,\n          92787, 93537, 92838, 93540, 92904, 93552, 92847, 93537, 92810, 93537,\n          92915, 93538, 92848, 93554, 92909, 93538, 92779, 93538, 92935, 93551,\n          92841, 93551, 92839, 93556, 92861, 93539, 92784, 93551, 92733, 93536],\n         [92815, 93543, 92786, 93546, 92843, 93550, 92819, 93535, 92840, 93550,\n          92857, 93535, 92887, 93557, 92735, 93549, 92933, 93546, 92809, 93540,\n          92694, 93555, 92914, 93540, 92698, 93535, 92912, 93552, 92696, 93535,\n          92726, 93539, 92932, 93535, 92748, 93547, 92885, 93544, 92827, 93546,\n          92771, 93546, 92910, 93540, 92803, 93540, 92812, 93554, 92872, 93535,\n          92855, 93543, 92832, 93538, 92880, 93557, 92823, 93555, 92897, 93545,\n          92695, 93540, 92830, 93545, 92722, 93555, 92708, 93535, 92792, 93535,\n          92690, 93541, 92849, 93538, 92793, 93545, 92715, 93555, 92894, 93535,\n          92705, 93557, 92746, 93545, 92924, 93549, 92826, 93545, 92876, 93545,\n          92756, 93555, 92725, 93545, 92758, 93555, 92717, 93535, 92867, 93545,\n          92747, 93545, 92729, 93545, 92811, 93535, 92934, 93557, 92892, 93557,\n          92923, 93543, 92813, 93538, 92871, 93535, 92869, 93545, 92926, 93544,\n          92800, 93541, 92791, 93555, 92891, 93555, 92759, 93555, 92824, 93545,\n          92796, 93557, 92908, 93555, 92752, 93545, 92788, 93541, 92751, 93557,\n          92859, 93535, 92772, 93555, 92938, 93541, 92728, 93555, 92922, 93535,\n          92835, 93535, 92808, 93543, 92864, 93555, 92777, 93545, 92799, 93535,\n          92716, 93538, 92702, 93541, 92890, 93538, 92902, 93557, 92691, 93555,\n          92754, 93555, 92850, 93546, 92881, 93535, 92712, 93535, 92724, 93555,\n          92863, 93540, 92837, 93535, 92707, 93540, 92831, 93557, 92893, 93542,\n          92901, 93535, 92780, 93546, 92870, 93535, 92749, 93535, 92851, 93555,\n          92723, 93545, 92854, 93545, 92770, 93544, 92873, 93556, 92877, 93544,\n          92806, 93538, 92795, 93541, 92739, 93541, 92921, 93545, 92920, 93544,\n          92704, 93538, 92711, 93538, 92936, 93551, 92769, 93540, 92884, 93539,\n          92828, 93543, 92842, 93548, 92845, 93535, 92765, 93557, 92720, 93535,\n          92833, 93557, 92737, 93541, 92856, 93535, 92699, 93557, 92719, 93554]],\n        dtype=torch.int32)},\n {'edge_index': tensor([[92762, 93534, 92801, 93534, 92790, 93534, 92888, 93534, 92783, 93534,\n          92714, 93534, 92692, 93534, 92886, 93534, 92805, 93534, 92875, 93534,\n          92710, 93534, 92766, 93534, 92905, 93534, 92760, 93534, 92730, 93530,\n          92785, 93534, 92939, 93534, 92738, 93534, 92774, 93530, 92919, 93534,\n          92814, 93528, 92836, 93534, 92928, 93530, 92789, 93523, 92797, 93534,\n          92731, 93534, 92866, 93534, 92834, 93534, 92773, 93534, 92898, 93534,\n          92713, 93534, 92896, 93534, 92907, 93534, 92744, 93534, 92852, 93534,\n          92846, 93534, 92703, 93530, 92761, 93534, 92911, 93534, 92860, 93534,\n          92763, 93530, 92903, 93534, 92858, 93534, 92767, 93534, 92829, 93534,\n          92853, 93534, 92862, 93534, 92882, 93534, 92802, 93534, 92927, 93530,\n          92709, 93534, 92865, 93530, 92804, 93534, 92742, 93534, 92782, 93521,\n          92818, 93534, 92741, 93524, 92778, 93534, 92807, 93534, 92727, 93534,\n          92745, 93521, 92775, 93534, 92701, 93534, 92740, 93534, 92776, 93534,\n          92900, 93521, 92706, 93531, 92816, 93534, 92697, 93534, 92889, 93521,\n          92917, 93523, 92768, 93534, 92798, 93533, 92750, 93534, 92721, 93529,\n          92700, 93534, 92753, 93530, 92794, 93534, 92868, 93523, 92878, 93523,\n          92918, 93521, 92693, 93523, 92718, 93523, 92883, 93534, 92821, 93534,\n          92825, 93525, 92925, 93526, 92820, 93534, 92781, 93534, 92755, 93534,\n          92764, 93534, 92732, 93534, 92929, 93534, 92879, 93534, 92844, 93534,\n          92916, 93534, 92906, 93534, 92822, 93534, 92734, 93534, 92787, 93534,\n          92838, 93534, 92904, 93534, 92847, 93534, 92810, 93534, 92915, 93534,\n          92848, 93534, 92909, 93534, 92779, 93534, 92935, 93534, 92841, 93534,\n          92839, 93534, 92861, 93534, 92784, 93534, 92733, 93534, 92815, 93534,\n          92786, 93534, 92843, 93534, 92819, 93534, 92840, 93534, 92857],\n         [93534, 92887, 93534, 92735, 93534, 92933, 93534, 92809, 93534, 92694,\n          93534, 92914, 93534, 92698, 93534, 92912, 93534, 92696, 93534, 92726,\n          93534, 92932, 93534, 92748, 93522, 92885, 93534, 92827, 93534, 92771,\n          93534, 92910, 93534, 92803, 93534, 92812, 93534, 92872, 93534, 92855,\n          93534, 92832, 93534, 92880, 93534, 92823, 93534, 92897, 93534, 92695,\n          93534, 92830, 93534, 92722, 93534, 92708, 93534, 92792, 93534, 92690,\n          93534, 92849, 93534, 92793, 93534, 92715, 93534, 92894, 93534, 92705,\n          93534, 92746, 93534, 92924, 93534, 92826, 93534, 92876, 93532, 92756,\n          93534, 92725, 93534, 92758, 93534, 92717, 93534, 92867, 93534, 92747,\n          93534, 92729, 93534, 92811, 93534, 92934, 93534, 92892, 93534, 92923,\n          93534, 92813, 93534, 92871, 93534, 92869, 93534, 92926, 93534, 92800,\n          93534, 92791, 93534, 92891, 93534, 92759, 93534, 92824, 93534, 92796,\n          93534, 92908, 93534, 92752, 93534, 92788, 93534, 92751, 93534, 92859,\n          93534, 92772, 93534, 92938, 93534, 92728, 93534, 92922, 93534, 92835,\n          93534, 92808, 93534, 92864, 93534, 92777, 93534, 92799, 93534, 92716,\n          93534, 92702, 93534, 92890, 93534, 92902, 93525, 92691, 93534, 92754,\n          93534, 92850, 93534, 92881, 93534, 92712, 93534, 92724, 93534, 92863,\n          93525, 92837, 93525, 92707, 93534, 92831, 93534, 92893, 93525, 92901,\n          93534, 92780, 93534, 92870, 93534, 92749, 93534, 92851, 93534, 92723,\n          93534, 92854, 93534, 92770, 93534, 92873, 93534, 92877, 93534, 92806,\n          93534, 92795, 93534, 92739, 93534, 92921, 93534, 92920, 93534, 92704,\n          93534, 92711, 93534, 92936, 93534, 92769, 93525, 92884, 93534, 92828,\n          93533, 92842, 93534, 92845, 93534, 92765, 93534, 92720, 93534, 92833,\n          93527, 92737, 93534, 92856, 93534, 92699, 93534, 92719, 93528]],\n        dtype=torch.int32)},\n {'edge_index': tensor([[92762, 92672, 92762,  ..., 92609, 92912, 92633],\n         [92912, 92661, 92696,  ..., 92618, 92719, 92613]], dtype=torch.int32)},\n {'edge_index': tensor([[92762,     5, 92762,  ..., 32765, 92697, 32766],\n         [92697, 32767, 92697,  ..., 92487, 92719, 92488]], dtype=torch.int32)},\n {'edge_index': tensor([[    5, 93510,     5,  ..., 93516,  3645, 93516],\n         [ 3646, 93516,  3647,  ..., 93519, 91950, 93519]], dtype=torch.int32)},\n {'edge_index': tensor([[    5, 92994,     6,  ..., 93010, 79350, 93010],\n         [79355, 93010, 79358,  ..., 93199, 89096, 93386]], dtype=torch.int32)},\n {'edge_index': tensor([[    5, 92578,     9,  ..., 92489, 46943, 92489],\n         [46955, 92489, 46956,  ..., 92539, 83219, 92539]], dtype=torch.int32)}]"
     },
     "execution_count": 155,
     "metadata": {},
     "output_type": "execute_result"
    }
   ],
   "source": [
    "H.edge_stores"
   ],
   "metadata": {
    "collapsed": false
   }
  },
  {
   "cell_type": "code",
   "execution_count": 156,
   "outputs": [
    {
     "ename": "RuntimeError",
     "evalue": "result type Float can't be cast to the desired output type __int64",
     "output_type": "error",
     "traceback": [
      "\u001B[1;31m---------------------------------------------------------------------------\u001B[0m",
      "\u001B[1;31mRuntimeError\u001B[0m                              Traceback (most recent call last)",
      "\u001B[1;32m~\\AppData\\Local\\Temp\\ipykernel_9228\\421159696.py\u001B[0m in \u001B[0;36m<module>\u001B[1;34m\u001B[0m\n\u001B[0;32m      1\u001B[0m \u001B[0mH_und\u001B[0m \u001B[1;33m=\u001B[0m \u001B[0mT\u001B[0m\u001B[1;33m.\u001B[0m\u001B[0mToUndirected\u001B[0m\u001B[1;33m(\u001B[0m\u001B[1;33m)\u001B[0m\u001B[1;33m(\u001B[0m\u001B[0mH\u001B[0m\u001B[1;33m)\u001B[0m\u001B[1;33m\u001B[0m\u001B[1;33m\u001B[0m\u001B[0m\n\u001B[1;32m----> 2\u001B[1;33m \u001B[0mH_und\u001B[0m \u001B[1;33m=\u001B[0m \u001B[0mT\u001B[0m\u001B[1;33m.\u001B[0m\u001B[0mNormalizeFeatures\u001B[0m\u001B[1;33m(\u001B[0m\u001B[1;33m)\u001B[0m\u001B[1;33m(\u001B[0m\u001B[0mH_und\u001B[0m\u001B[1;33m)\u001B[0m\u001B[1;33m\u001B[0m\u001B[1;33m\u001B[0m\u001B[0m\n\u001B[0m",
      "\u001B[1;32mD:\\anaconda3\\envs\\midi2vec\\lib\\site-packages\\torch_geometric\\transforms\\normalize_features.py\u001B[0m in \u001B[0;36m__call__\u001B[1;34m(self, data)\u001B[0m\n\u001B[0;32m     25\u001B[0m             \u001B[1;32mfor\u001B[0m \u001B[0mkey\u001B[0m\u001B[1;33m,\u001B[0m \u001B[0mvalue\u001B[0m \u001B[1;32min\u001B[0m \u001B[0mstore\u001B[0m\u001B[1;33m.\u001B[0m\u001B[0mitems\u001B[0m\u001B[1;33m(\u001B[0m\u001B[1;33m*\u001B[0m\u001B[0mself\u001B[0m\u001B[1;33m.\u001B[0m\u001B[0mattrs\u001B[0m\u001B[1;33m)\u001B[0m\u001B[1;33m:\u001B[0m\u001B[1;33m\u001B[0m\u001B[1;33m\u001B[0m\u001B[0m\n\u001B[0;32m     26\u001B[0m                 \u001B[0mvalue\u001B[0m \u001B[1;33m=\u001B[0m \u001B[0mvalue\u001B[0m \u001B[1;33m-\u001B[0m \u001B[0mvalue\u001B[0m\u001B[1;33m.\u001B[0m\u001B[0mmin\u001B[0m\u001B[1;33m(\u001B[0m\u001B[1;33m)\u001B[0m\u001B[1;33m\u001B[0m\u001B[1;33m\u001B[0m\u001B[0m\n\u001B[1;32m---> 27\u001B[1;33m                 \u001B[0mvalue\u001B[0m\u001B[1;33m.\u001B[0m\u001B[0mdiv_\u001B[0m\u001B[1;33m(\u001B[0m\u001B[0mvalue\u001B[0m\u001B[1;33m.\u001B[0m\u001B[0msum\u001B[0m\u001B[1;33m(\u001B[0m\u001B[0mdim\u001B[0m\u001B[1;33m=\u001B[0m\u001B[1;33m-\u001B[0m\u001B[1;36m1\u001B[0m\u001B[1;33m,\u001B[0m \u001B[0mkeepdim\u001B[0m\u001B[1;33m=\u001B[0m\u001B[1;32mTrue\u001B[0m\u001B[1;33m)\u001B[0m\u001B[1;33m.\u001B[0m\u001B[0mclamp_\u001B[0m\u001B[1;33m(\u001B[0m\u001B[0mmin\u001B[0m\u001B[1;33m=\u001B[0m\u001B[1;36m1.\u001B[0m\u001B[1;33m)\u001B[0m\u001B[1;33m)\u001B[0m\u001B[1;33m\u001B[0m\u001B[1;33m\u001B[0m\u001B[0m\n\u001B[0m\u001B[0;32m     28\u001B[0m                 \u001B[0mstore\u001B[0m\u001B[1;33m[\u001B[0m\u001B[0mkey\u001B[0m\u001B[1;33m]\u001B[0m \u001B[1;33m=\u001B[0m \u001B[0mvalue\u001B[0m\u001B[1;33m\u001B[0m\u001B[1;33m\u001B[0m\u001B[0m\n\u001B[0;32m     29\u001B[0m         \u001B[1;32mreturn\u001B[0m \u001B[0mdata\u001B[0m\u001B[1;33m\u001B[0m\u001B[1;33m\u001B[0m\u001B[0m\n",
      "\u001B[1;31mRuntimeError\u001B[0m: result type Float can't be cast to the desired output type __int64"
     ]
    }
   ],
   "source": [
    "H_und = T.ToUndirected()(H)\n",
    "H_und = T.NormalizeFeatures()(H_und)"
   ],
   "metadata": {
    "collapsed": false
   }
  },
  {
   "cell_type": "markdown",
   "source": [
    "# GNN"
   ],
   "metadata": {
    "collapsed": false
   }
  },
  {
   "cell_type": "code",
   "execution_count": 136,
   "outputs": [],
   "source": [
    "class GNN(torch.nn.Module):\n",
    "    def __init__(self, hidden_channels, out_channels):\n",
    "        super().__init__()\n",
    "        self.conv1 = SAGEConv((-1, -1), hidden_channels)\n",
    "        self.conv2 = SAGEConv((-1, -1), out_channels)\n",
    "\n",
    "    def forward(self, x, edge_index):\n",
    "        x = self.conv1(x, edge_index).relu()\n",
    "        x = self.conv2(x, edge_index)\n",
    "        return x\n",
    "\n",
    "model = GNN(hidden_channels=64, out_channels=len(lb.classes_))\n",
    "model = to_hetero(model, H_und.metadata(), aggr='sum')"
   ],
   "metadata": {
    "collapsed": false
   }
  },
  {
   "cell_type": "code",
   "execution_count": 137,
   "outputs": [],
   "source": [
    "optimizer_name = \"Adam\"\n",
    "lr = 1e-1\n",
    "optimizer = getattr(torch.optim, optimizer_name)(model.parameters(), lr=lr)\n"
   ],
   "metadata": {
    "collapsed": false
   }
  },
  {
   "cell_type": "code",
   "execution_count": 138,
   "outputs": [],
   "source": [
    "def train():\n",
    "    model.train()\n",
    "    optimizer.zero_grad()\n",
    "    out = model(H_und.x_dict, H_und.edge_index_dict)\n",
    "    mask = H_und['MIDI'].train_mask\n",
    "    loss = F.cross_entropy(out['paper'][mask], H_und['MIDI'].y[mask])\n",
    "    loss.backward()\n",
    "    optimizer.step()\n",
    "    return float(loss)"
   ],
   "metadata": {
    "collapsed": false
   }
  },
  {
   "cell_type": "code",
   "execution_count": 139,
   "outputs": [
    {
     "ename": "ValueError",
     "evalue": "Found indices in 'edge_index' that are larger than 249 (got 93557). Please ensure that all indices in 'edge_index' point to valid indices in the interval [0, 250) in your node feature matrix and try again.",
     "output_type": "error",
     "traceback": [
      "\u001B[1;31m---------------------------------------------------------------------------\u001B[0m",
      "\u001B[1;31mIndexError\u001B[0m                                Traceback (most recent call last)",
      "\u001B[1;32mD:\\anaconda3\\envs\\midi2vec\\lib\\site-packages\\torch_geometric\\nn\\conv\\message_passing.py\u001B[0m in \u001B[0;36m__lift__\u001B[1;34m(self, src, edge_index, dim)\u001B[0m\n\u001B[0;32m    238\u001B[0m                 \u001B[0mindex\u001B[0m \u001B[1;33m=\u001B[0m \u001B[0medge_index\u001B[0m\u001B[1;33m[\u001B[0m\u001B[0mdim\u001B[0m\u001B[1;33m]\u001B[0m\u001B[1;33m\u001B[0m\u001B[1;33m\u001B[0m\u001B[0m\n\u001B[1;32m--> 239\u001B[1;33m                 \u001B[1;32mreturn\u001B[0m \u001B[0msrc\u001B[0m\u001B[1;33m.\u001B[0m\u001B[0mindex_select\u001B[0m\u001B[1;33m(\u001B[0m\u001B[0mself\u001B[0m\u001B[1;33m.\u001B[0m\u001B[0mnode_dim\u001B[0m\u001B[1;33m,\u001B[0m \u001B[0mindex\u001B[0m\u001B[1;33m)\u001B[0m\u001B[1;33m\u001B[0m\u001B[1;33m\u001B[0m\u001B[0m\n\u001B[0m\u001B[0;32m    240\u001B[0m             \u001B[1;32mexcept\u001B[0m \u001B[1;33m(\u001B[0m\u001B[0mIndexError\u001B[0m\u001B[1;33m,\u001B[0m \u001B[0mRuntimeError\u001B[0m\u001B[1;33m)\u001B[0m \u001B[1;32mas\u001B[0m \u001B[0me\u001B[0m\u001B[1;33m:\u001B[0m\u001B[1;33m\u001B[0m\u001B[1;33m\u001B[0m\u001B[0m\n",
      "\u001B[1;31mIndexError\u001B[0m: index out of range in self",
      "\nDuring handling of the above exception, another exception occurred:\n",
      "\u001B[1;31mValueError\u001B[0m                                Traceback (most recent call last)",
      "\u001B[1;32m~\\AppData\\Local\\Temp\\ipykernel_9228\\3436069154.py\u001B[0m in \u001B[0;36m<module>\u001B[1;34m\u001B[0m\n\u001B[1;32m----> 1\u001B[1;33m \u001B[0mtrain\u001B[0m\u001B[1;33m(\u001B[0m\u001B[1;33m)\u001B[0m\u001B[1;33m\u001B[0m\u001B[1;33m\u001B[0m\u001B[0m\n\u001B[0m",
      "\u001B[1;32m~\\AppData\\Local\\Temp\\ipykernel_9228\\1278226134.py\u001B[0m in \u001B[0;36mtrain\u001B[1;34m()\u001B[0m\n\u001B[0;32m      2\u001B[0m     \u001B[0mmodel\u001B[0m\u001B[1;33m.\u001B[0m\u001B[0mtrain\u001B[0m\u001B[1;33m(\u001B[0m\u001B[1;33m)\u001B[0m\u001B[1;33m\u001B[0m\u001B[1;33m\u001B[0m\u001B[0m\n\u001B[0;32m      3\u001B[0m     \u001B[0moptimizer\u001B[0m\u001B[1;33m.\u001B[0m\u001B[0mzero_grad\u001B[0m\u001B[1;33m(\u001B[0m\u001B[1;33m)\u001B[0m\u001B[1;33m\u001B[0m\u001B[1;33m\u001B[0m\u001B[0m\n\u001B[1;32m----> 4\u001B[1;33m     \u001B[0mout\u001B[0m \u001B[1;33m=\u001B[0m \u001B[0mmodel\u001B[0m\u001B[1;33m(\u001B[0m\u001B[0mH_und\u001B[0m\u001B[1;33m.\u001B[0m\u001B[0mx_dict\u001B[0m\u001B[1;33m,\u001B[0m \u001B[0mH_und\u001B[0m\u001B[1;33m.\u001B[0m\u001B[0medge_index_dict\u001B[0m\u001B[1;33m)\u001B[0m\u001B[1;33m\u001B[0m\u001B[1;33m\u001B[0m\u001B[0m\n\u001B[0m\u001B[0;32m      5\u001B[0m     \u001B[0mmask\u001B[0m \u001B[1;33m=\u001B[0m \u001B[0mH_und\u001B[0m\u001B[1;33m[\u001B[0m\u001B[1;34m'MIDI'\u001B[0m\u001B[1;33m]\u001B[0m\u001B[1;33m.\u001B[0m\u001B[0mtrain_mask\u001B[0m\u001B[1;33m\u001B[0m\u001B[1;33m\u001B[0m\u001B[0m\n\u001B[0;32m      6\u001B[0m     \u001B[0mloss\u001B[0m \u001B[1;33m=\u001B[0m \u001B[0mF\u001B[0m\u001B[1;33m.\u001B[0m\u001B[0mcross_entropy\u001B[0m\u001B[1;33m(\u001B[0m\u001B[0mout\u001B[0m\u001B[1;33m[\u001B[0m\u001B[1;34m'paper'\u001B[0m\u001B[1;33m]\u001B[0m\u001B[1;33m[\u001B[0m\u001B[0mmask\u001B[0m\u001B[1;33m]\u001B[0m\u001B[1;33m,\u001B[0m \u001B[0mH_und\u001B[0m\u001B[1;33m[\u001B[0m\u001B[1;34m'MIDI'\u001B[0m\u001B[1;33m]\u001B[0m\u001B[1;33m.\u001B[0m\u001B[0my\u001B[0m\u001B[1;33m[\u001B[0m\u001B[0mmask\u001B[0m\u001B[1;33m]\u001B[0m\u001B[1;33m)\u001B[0m\u001B[1;33m\u001B[0m\u001B[1;33m\u001B[0m\u001B[0m\n",
      "\u001B[1;32mD:\\anaconda3\\envs\\midi2vec\\lib\\site-packages\\torch\\fx\\graph_module.py\u001B[0m in \u001B[0;36mcall_wrapped\u001B[1;34m(self, *args, **kwargs)\u001B[0m\n\u001B[0;32m    656\u001B[0m \u001B[1;33m\u001B[0m\u001B[0m\n\u001B[0;32m    657\u001B[0m         \u001B[1;32mdef\u001B[0m \u001B[0mcall_wrapped\u001B[0m\u001B[1;33m(\u001B[0m\u001B[0mself\u001B[0m\u001B[1;33m,\u001B[0m \u001B[1;33m*\u001B[0m\u001B[0margs\u001B[0m\u001B[1;33m,\u001B[0m \u001B[1;33m**\u001B[0m\u001B[0mkwargs\u001B[0m\u001B[1;33m)\u001B[0m\u001B[1;33m:\u001B[0m\u001B[1;33m\u001B[0m\u001B[1;33m\u001B[0m\u001B[0m\n\u001B[1;32m--> 658\u001B[1;33m             \u001B[1;32mreturn\u001B[0m \u001B[0mself\u001B[0m\u001B[1;33m.\u001B[0m\u001B[0m_wrapped_call\u001B[0m\u001B[1;33m(\u001B[0m\u001B[0mself\u001B[0m\u001B[1;33m,\u001B[0m \u001B[1;33m*\u001B[0m\u001B[0margs\u001B[0m\u001B[1;33m,\u001B[0m \u001B[1;33m**\u001B[0m\u001B[0mkwargs\u001B[0m\u001B[1;33m)\u001B[0m\u001B[1;33m\u001B[0m\u001B[1;33m\u001B[0m\u001B[0m\n\u001B[0m\u001B[0;32m    659\u001B[0m \u001B[1;33m\u001B[0m\u001B[0m\n\u001B[0;32m    660\u001B[0m         \u001B[0mcls\u001B[0m\u001B[1;33m.\u001B[0m\u001B[0m__call__\u001B[0m \u001B[1;33m=\u001B[0m \u001B[0mcall_wrapped\u001B[0m\u001B[1;33m\u001B[0m\u001B[1;33m\u001B[0m\u001B[0m\n",
      "\u001B[1;32mD:\\anaconda3\\envs\\midi2vec\\lib\\site-packages\\torch\\fx\\graph_module.py\u001B[0m in \u001B[0;36m__call__\u001B[1;34m(self, obj, *args, **kwargs)\u001B[0m\n\u001B[0;32m    275\u001B[0m                 \u001B[1;32mraise\u001B[0m \u001B[0me\u001B[0m\u001B[1;33m.\u001B[0m\u001B[0mwith_traceback\u001B[0m\u001B[1;33m(\u001B[0m\u001B[1;32mNone\u001B[0m\u001B[1;33m)\u001B[0m\u001B[1;33m\u001B[0m\u001B[1;33m\u001B[0m\u001B[0m\n\u001B[0;32m    276\u001B[0m             \u001B[1;32melse\u001B[0m\u001B[1;33m:\u001B[0m\u001B[1;33m\u001B[0m\u001B[1;33m\u001B[0m\u001B[0m\n\u001B[1;32m--> 277\u001B[1;33m                 \u001B[1;32mraise\u001B[0m \u001B[0me\u001B[0m\u001B[1;33m\u001B[0m\u001B[1;33m\u001B[0m\u001B[0m\n\u001B[0m\u001B[0;32m    278\u001B[0m \u001B[1;33m\u001B[0m\u001B[0m\n\u001B[0;32m    279\u001B[0m \u001B[1;33m@\u001B[0m\u001B[0mcompatibility\u001B[0m\u001B[1;33m(\u001B[0m\u001B[0mis_backward_compatible\u001B[0m\u001B[1;33m=\u001B[0m\u001B[1;32mTrue\u001B[0m\u001B[1;33m)\u001B[0m\u001B[1;33m\u001B[0m\u001B[1;33m\u001B[0m\u001B[0m\n",
      "\u001B[1;32mD:\\anaconda3\\envs\\midi2vec\\lib\\site-packages\\torch\\fx\\graph_module.py\u001B[0m in \u001B[0;36m__call__\u001B[1;34m(self, obj, *args, **kwargs)\u001B[0m\n\u001B[0;32m    265\u001B[0m                 \u001B[1;32mreturn\u001B[0m \u001B[0mself\u001B[0m\u001B[1;33m.\u001B[0m\u001B[0mcls_call\u001B[0m\u001B[1;33m(\u001B[0m\u001B[0mobj\u001B[0m\u001B[1;33m,\u001B[0m \u001B[1;33m*\u001B[0m\u001B[0margs\u001B[0m\u001B[1;33m,\u001B[0m \u001B[1;33m**\u001B[0m\u001B[0mkwargs\u001B[0m\u001B[1;33m)\u001B[0m\u001B[1;33m\u001B[0m\u001B[1;33m\u001B[0m\u001B[0m\n\u001B[0;32m    266\u001B[0m             \u001B[1;32melse\u001B[0m\u001B[1;33m:\u001B[0m\u001B[1;33m\u001B[0m\u001B[1;33m\u001B[0m\u001B[0m\n\u001B[1;32m--> 267\u001B[1;33m                 \u001B[1;32mreturn\u001B[0m \u001B[0msuper\u001B[0m\u001B[1;33m(\u001B[0m\u001B[0mself\u001B[0m\u001B[1;33m.\u001B[0m\u001B[0mcls\u001B[0m\u001B[1;33m,\u001B[0m \u001B[0mobj\u001B[0m\u001B[1;33m)\u001B[0m\u001B[1;33m.\u001B[0m\u001B[0m__call__\u001B[0m\u001B[1;33m(\u001B[0m\u001B[1;33m*\u001B[0m\u001B[0margs\u001B[0m\u001B[1;33m,\u001B[0m \u001B[1;33m**\u001B[0m\u001B[0mkwargs\u001B[0m\u001B[1;33m)\u001B[0m  \u001B[1;31m# type: ignore[misc]\u001B[0m\u001B[1;33m\u001B[0m\u001B[1;33m\u001B[0m\u001B[0m\n\u001B[0m\u001B[0;32m    268\u001B[0m         \u001B[1;32mexcept\u001B[0m \u001B[0mException\u001B[0m \u001B[1;32mas\u001B[0m \u001B[0me\u001B[0m\u001B[1;33m:\u001B[0m\u001B[1;33m\u001B[0m\u001B[1;33m\u001B[0m\u001B[0m\n\u001B[0;32m    269\u001B[0m             \u001B[1;32massert\u001B[0m \u001B[0me\u001B[0m\u001B[1;33m.\u001B[0m\u001B[0m__traceback__\u001B[0m\u001B[1;33m\u001B[0m\u001B[1;33m\u001B[0m\u001B[0m\n",
      "\u001B[1;32mD:\\anaconda3\\envs\\midi2vec\\lib\\site-packages\\torch\\nn\\modules\\module.py\u001B[0m in \u001B[0;36m_call_impl\u001B[1;34m(self, *input, **kwargs)\u001B[0m\n\u001B[0;32m   1192\u001B[0m         if not (self._backward_hooks or self._forward_hooks or self._forward_pre_hooks or _global_backward_hooks\n\u001B[0;32m   1193\u001B[0m                 or _global_forward_hooks or _global_forward_pre_hooks):\n\u001B[1;32m-> 1194\u001B[1;33m             \u001B[1;32mreturn\u001B[0m \u001B[0mforward_call\u001B[0m\u001B[1;33m(\u001B[0m\u001B[1;33m*\u001B[0m\u001B[0minput\u001B[0m\u001B[1;33m,\u001B[0m \u001B[1;33m**\u001B[0m\u001B[0mkwargs\u001B[0m\u001B[1;33m)\u001B[0m\u001B[1;33m\u001B[0m\u001B[1;33m\u001B[0m\u001B[0m\n\u001B[0m\u001B[0;32m   1195\u001B[0m         \u001B[1;31m# Do not call functions when jit is used\u001B[0m\u001B[1;33m\u001B[0m\u001B[1;33m\u001B[0m\u001B[0m\n\u001B[0;32m   1196\u001B[0m         \u001B[0mfull_backward_hooks\u001B[0m\u001B[1;33m,\u001B[0m \u001B[0mnon_full_backward_hooks\u001B[0m \u001B[1;33m=\u001B[0m \u001B[1;33m[\u001B[0m\u001B[1;33m]\u001B[0m\u001B[1;33m,\u001B[0m \u001B[1;33m[\u001B[0m\u001B[1;33m]\u001B[0m\u001B[1;33m\u001B[0m\u001B[1;33m\u001B[0m\u001B[0m\n",
      "\u001B[1;32m<eval_with_key>.2\u001B[0m in \u001B[0;36mforward\u001B[1;34m(self, x, edge_index)\u001B[0m\n\u001B[0;32m     27\u001B[0m     \u001B[0medge_index__duration__rev_has__note_group\u001B[0m \u001B[1;33m=\u001B[0m \u001B[0medge_index_dict\u001B[0m\u001B[1;33m.\u001B[0m\u001B[0mget\u001B[0m\u001B[1;33m(\u001B[0m\u001B[1;33m(\u001B[0m\u001B[1;34m'duration'\u001B[0m\u001B[1;33m,\u001B[0m \u001B[1;34m'rev_has'\u001B[0m\u001B[1;33m,\u001B[0m \u001B[1;34m'note_group'\u001B[0m\u001B[1;33m)\u001B[0m\u001B[1;33m,\u001B[0m \u001B[1;32mNone\u001B[0m\u001B[1;33m)\u001B[0m\u001B[1;33m\u001B[0m\u001B[1;33m\u001B[0m\u001B[0m\n\u001B[0;32m     28\u001B[0m     \u001B[0medge_index__pitch__rev_contains__note_group\u001B[0m \u001B[1;33m=\u001B[0m \u001B[0medge_index_dict\u001B[0m\u001B[1;33m.\u001B[0m\u001B[0mget\u001B[0m\u001B[1;33m(\u001B[0m\u001B[1;33m(\u001B[0m\u001B[1;34m'pitch'\u001B[0m\u001B[1;33m,\u001B[0m \u001B[1;34m'rev_contains'\u001B[0m\u001B[1;33m,\u001B[0m \u001B[1;34m'note_group'\u001B[0m\u001B[1;33m)\u001B[0m\u001B[1;33m,\u001B[0m \u001B[1;32mNone\u001B[0m\u001B[1;33m)\u001B[0m\u001B[1;33m;\u001B[0m  \u001B[0medge_index_dict\u001B[0m \u001B[1;33m=\u001B[0m \u001B[1;32mNone\u001B[0m\u001B[1;33m\u001B[0m\u001B[1;33m\u001B[0m\u001B[0m\n\u001B[1;32m---> 29\u001B[1;33m     \u001B[0mconv1__tempo\u001B[0m \u001B[1;33m=\u001B[0m \u001B[0mself\u001B[0m\u001B[1;33m.\u001B[0m\u001B[0mconv1\u001B[0m\u001B[1;33m.\u001B[0m\u001B[0mMIDI__has__tempo\u001B[0m\u001B[1;33m(\u001B[0m\u001B[1;33m(\u001B[0m\u001B[0mx__MIDI\u001B[0m\u001B[1;33m,\u001B[0m \u001B[0mx__tempo\u001B[0m\u001B[1;33m)\u001B[0m\u001B[1;33m,\u001B[0m \u001B[0medge_index__MIDI__has__tempo\u001B[0m\u001B[1;33m)\u001B[0m\u001B[1;33m\u001B[0m\u001B[1;33m\u001B[0m\u001B[0m\n\u001B[0m\u001B[0;32m     30\u001B[0m     \u001B[0mconv1__time_sig\u001B[0m \u001B[1;33m=\u001B[0m \u001B[0mself\u001B[0m\u001B[1;33m.\u001B[0m\u001B[0mconv1\u001B[0m\u001B[1;33m.\u001B[0m\u001B[0mMIDI__in__time_sig\u001B[0m\u001B[1;33m(\u001B[0m\u001B[1;33m(\u001B[0m\u001B[0mx__MIDI\u001B[0m\u001B[1;33m,\u001B[0m \u001B[0mx__time_sig\u001B[0m\u001B[1;33m)\u001B[0m\u001B[1;33m,\u001B[0m \u001B[0medge_index__MIDI__in__time_sig\u001B[0m\u001B[1;33m)\u001B[0m\u001B[1;33m\u001B[0m\u001B[1;33m\u001B[0m\u001B[0m\n\u001B[0;32m     31\u001B[0m     \u001B[0mconv1__program\u001B[0m \u001B[1;33m=\u001B[0m \u001B[0mself\u001B[0m\u001B[1;33m.\u001B[0m\u001B[0mconv1\u001B[0m\u001B[1;33m.\u001B[0m\u001B[0mMIDI__has__program\u001B[0m\u001B[1;33m(\u001B[0m\u001B[1;33m(\u001B[0m\u001B[0mx__MIDI\u001B[0m\u001B[1;33m,\u001B[0m \u001B[0mx__program\u001B[0m\u001B[1;33m)\u001B[0m\u001B[1;33m,\u001B[0m \u001B[0medge_index__MIDI__has__program\u001B[0m\u001B[1;33m)\u001B[0m\u001B[1;33m\u001B[0m\u001B[1;33m\u001B[0m\u001B[0m\n",
      "\u001B[1;32mD:\\anaconda3\\envs\\midi2vec\\lib\\site-packages\\torch\\nn\\modules\\module.py\u001B[0m in \u001B[0;36m_call_impl\u001B[1;34m(self, *input, **kwargs)\u001B[0m\n\u001B[0;32m   1192\u001B[0m         if not (self._backward_hooks or self._forward_hooks or self._forward_pre_hooks or _global_backward_hooks\n\u001B[0;32m   1193\u001B[0m                 or _global_forward_hooks or _global_forward_pre_hooks):\n\u001B[1;32m-> 1194\u001B[1;33m             \u001B[1;32mreturn\u001B[0m \u001B[0mforward_call\u001B[0m\u001B[1;33m(\u001B[0m\u001B[1;33m*\u001B[0m\u001B[0minput\u001B[0m\u001B[1;33m,\u001B[0m \u001B[1;33m**\u001B[0m\u001B[0mkwargs\u001B[0m\u001B[1;33m)\u001B[0m\u001B[1;33m\u001B[0m\u001B[1;33m\u001B[0m\u001B[0m\n\u001B[0m\u001B[0;32m   1195\u001B[0m         \u001B[1;31m# Do not call functions when jit is used\u001B[0m\u001B[1;33m\u001B[0m\u001B[1;33m\u001B[0m\u001B[0m\n\u001B[0;32m   1196\u001B[0m         \u001B[0mfull_backward_hooks\u001B[0m\u001B[1;33m,\u001B[0m \u001B[0mnon_full_backward_hooks\u001B[0m \u001B[1;33m=\u001B[0m \u001B[1;33m[\u001B[0m\u001B[1;33m]\u001B[0m\u001B[1;33m,\u001B[0m \u001B[1;33m[\u001B[0m\u001B[1;33m]\u001B[0m\u001B[1;33m\u001B[0m\u001B[1;33m\u001B[0m\u001B[0m\n",
      "\u001B[1;32mD:\\anaconda3\\envs\\midi2vec\\lib\\site-packages\\torch_geometric\\nn\\conv\\sage_conv.py\u001B[0m in \u001B[0;36mforward\u001B[1;34m(self, x, edge_index, size)\u001B[0m\n\u001B[0;32m    129\u001B[0m \u001B[1;33m\u001B[0m\u001B[0m\n\u001B[0;32m    130\u001B[0m         \u001B[1;31m# propagate_type: (x: OptPairTensor)\u001B[0m\u001B[1;33m\u001B[0m\u001B[1;33m\u001B[0m\u001B[0m\n\u001B[1;32m--> 131\u001B[1;33m         \u001B[0mout\u001B[0m \u001B[1;33m=\u001B[0m \u001B[0mself\u001B[0m\u001B[1;33m.\u001B[0m\u001B[0mpropagate\u001B[0m\u001B[1;33m(\u001B[0m\u001B[0medge_index\u001B[0m\u001B[1;33m,\u001B[0m \u001B[0mx\u001B[0m\u001B[1;33m=\u001B[0m\u001B[0mx\u001B[0m\u001B[1;33m,\u001B[0m \u001B[0msize\u001B[0m\u001B[1;33m=\u001B[0m\u001B[0msize\u001B[0m\u001B[1;33m)\u001B[0m\u001B[1;33m\u001B[0m\u001B[1;33m\u001B[0m\u001B[0m\n\u001B[0m\u001B[0;32m    132\u001B[0m         \u001B[0mout\u001B[0m \u001B[1;33m=\u001B[0m \u001B[0mself\u001B[0m\u001B[1;33m.\u001B[0m\u001B[0mlin_l\u001B[0m\u001B[1;33m(\u001B[0m\u001B[0mout\u001B[0m\u001B[1;33m)\u001B[0m\u001B[1;33m\u001B[0m\u001B[1;33m\u001B[0m\u001B[0m\n\u001B[0;32m    133\u001B[0m \u001B[1;33m\u001B[0m\u001B[0m\n",
      "\u001B[1;32mD:\\anaconda3\\envs\\midi2vec\\lib\\site-packages\\torch_geometric\\nn\\conv\\message_passing.py\u001B[0m in \u001B[0;36mpropagate\u001B[1;34m(self, edge_index, size, **kwargs)\u001B[0m\n\u001B[0;32m    427\u001B[0m                         \u001B[0mkwargs\u001B[0m\u001B[1;33m[\u001B[0m\u001B[0marg\u001B[0m\u001B[1;33m]\u001B[0m \u001B[1;33m=\u001B[0m \u001B[0mdecomp_kwargs\u001B[0m\u001B[1;33m[\u001B[0m\u001B[0marg\u001B[0m\u001B[1;33m]\u001B[0m\u001B[1;33m[\u001B[0m\u001B[0mi\u001B[0m\u001B[1;33m]\u001B[0m\u001B[1;33m\u001B[0m\u001B[1;33m\u001B[0m\u001B[0m\n\u001B[0;32m    428\u001B[0m \u001B[1;33m\u001B[0m\u001B[0m\n\u001B[1;32m--> 429\u001B[1;33m                 coll_dict = self.__collect__(self.__user_args__, edge_index,\n\u001B[0m\u001B[0;32m    430\u001B[0m                                              size, kwargs)\n\u001B[0;32m    431\u001B[0m \u001B[1;33m\u001B[0m\u001B[0m\n",
      "\u001B[1;32mD:\\anaconda3\\envs\\midi2vec\\lib\\site-packages\\torch_geometric\\nn\\conv\\message_passing.py\u001B[0m in \u001B[0;36m__collect__\u001B[1;34m(self, args, edge_index, size, kwargs)\u001B[0m\n\u001B[0;32m    299\u001B[0m                 \u001B[1;32mif\u001B[0m \u001B[0misinstance\u001B[0m\u001B[1;33m(\u001B[0m\u001B[0mdata\u001B[0m\u001B[1;33m,\u001B[0m \u001B[0mTensor\u001B[0m\u001B[1;33m)\u001B[0m\u001B[1;33m:\u001B[0m\u001B[1;33m\u001B[0m\u001B[1;33m\u001B[0m\u001B[0m\n\u001B[0;32m    300\u001B[0m                     \u001B[0mself\u001B[0m\u001B[1;33m.\u001B[0m\u001B[0m__set_size__\u001B[0m\u001B[1;33m(\u001B[0m\u001B[0msize\u001B[0m\u001B[1;33m,\u001B[0m \u001B[0mdim\u001B[0m\u001B[1;33m,\u001B[0m \u001B[0mdata\u001B[0m\u001B[1;33m)\u001B[0m\u001B[1;33m\u001B[0m\u001B[1;33m\u001B[0m\u001B[0m\n\u001B[1;32m--> 301\u001B[1;33m                     \u001B[0mdata\u001B[0m \u001B[1;33m=\u001B[0m \u001B[0mself\u001B[0m\u001B[1;33m.\u001B[0m\u001B[0m__lift__\u001B[0m\u001B[1;33m(\u001B[0m\u001B[0mdata\u001B[0m\u001B[1;33m,\u001B[0m \u001B[0medge_index\u001B[0m\u001B[1;33m,\u001B[0m \u001B[0mdim\u001B[0m\u001B[1;33m)\u001B[0m\u001B[1;33m\u001B[0m\u001B[1;33m\u001B[0m\u001B[0m\n\u001B[0m\u001B[0;32m    302\u001B[0m \u001B[1;33m\u001B[0m\u001B[0m\n\u001B[0;32m    303\u001B[0m                 \u001B[0mout\u001B[0m\u001B[1;33m[\u001B[0m\u001B[0marg\u001B[0m\u001B[1;33m]\u001B[0m \u001B[1;33m=\u001B[0m \u001B[0mdata\u001B[0m\u001B[1;33m\u001B[0m\u001B[1;33m\u001B[0m\u001B[0m\n",
      "\u001B[1;32mD:\\anaconda3\\envs\\midi2vec\\lib\\site-packages\\torch_geometric\\nn\\conv\\message_passing.py\u001B[0m in \u001B[0;36m__lift__\u001B[1;34m(self, src, edge_index, dim)\u001B[0m\n\u001B[0;32m    256\u001B[0m                 if (index.numel() > 0\n\u001B[0;32m    257\u001B[0m                         and index.max() >= src.size(self.node_dim)):\n\u001B[1;32m--> 258\u001B[1;33m                     raise ValueError(\n\u001B[0m\u001B[0;32m    259\u001B[0m                         \u001B[1;34mf\"Found indices in 'edge_index' that are larger \"\u001B[0m\u001B[1;33m\u001B[0m\u001B[1;33m\u001B[0m\u001B[0m\n\u001B[0;32m    260\u001B[0m                         \u001B[1;34mf\"than {src.size(self.node_dim) - 1} (got \"\u001B[0m\u001B[1;33m\u001B[0m\u001B[1;33m\u001B[0m\u001B[0m\n",
      "\u001B[1;31mValueError\u001B[0m: Found indices in 'edge_index' that are larger than 249 (got 93557). Please ensure that all indices in 'edge_index' point to valid indices in the interval [0, 250) in your node feature matrix and try again."
     ]
    }
   ],
   "source": [
    "train()"
   ],
   "metadata": {
    "collapsed": false
   }
  },
  {
   "cell_type": "markdown",
   "source": [
    " # Old Implementation"
   ],
   "metadata": {
    "collapsed": false
   }
  },
  {
   "cell_type": "code",
   "execution_count": null,
   "outputs": [],
   "source": [
    "# nodes_ten_ = encoder.encode_nodes(nodes_df_complete)\n",
    "# edges_ten_ = encoder.encode_edges(edges_df_complete)\n",
    "\n",
    "# node_type_ = nodes_df_complete.iloc[:, 1]\n",
    "\n",
    "# Get the source and target indices from the edges tensor\n",
    "# edge_index = edges_ten_[:, :2]\n",
    "\n",
    "## Get the edge types from the edges tensor\n",
    "#edge_type_ = edges_df_complete.iloc[:, 2]\n",
    "\n",
    "#full_hetero_graph = HeteroData(x=nodes_ten_, node_type=node_type_, edge_index=edge_index, edge_type=edge_type_)"
   ],
   "metadata": {
    "collapsed": false
   }
  }
 ],
 "metadata": {
  "kernelspec": {
   "display_name": "Python 3",
   "language": "python",
   "name": "python3"
  },
  "language_info": {
   "codemirror_mode": {
    "name": "ipython",
    "version": 2
   },
   "file_extension": ".py",
   "mimetype": "text/x-python",
   "name": "python",
   "nbconvert_exporter": "python",
   "pygments_lexer": "ipython2",
   "version": "2.7.6"
  }
 },
 "nbformat": 4,
 "nbformat_minor": 0
}
