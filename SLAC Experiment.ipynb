{
 "cells": [
  {
   "cell_type": "markdown",
   "source": [
    "# Imports"
   ],
   "metadata": {
    "collapsed": false
   }
  },
  {
   "cell_type": "code",
   "execution_count": 4,
   "outputs": [
    {
     "name": "stderr",
     "output_type": "stream",
     "text": [
      "Intel(R) Extension for Scikit-learn* enabled (https://github.com/intel/scikit-learn-intelex)\n"
     ]
    },
    {
     "name": "stdout",
     "output_type": "stream",
     "text": [
      "2.11.0\n",
      "2.9.0\n"
     ]
    }
   ],
   "source": [
    "import os\n",
    "import networkx as nx\n",
    "import numpy as np\n",
    "import pandas as pd\n",
    "import matplotlib.pyplot as plt\n",
    "from gensim.models import KeyedVectors\n",
    "from tqdm.notebook import tqdm\n",
    "\n",
    "from sklearnex import patch_sklearn\n",
    "patch_sklearn()\n",
    "\n",
    "import tensorflow as tf\n",
    "from tensorflow import keras\n",
    "from keras import layers\n",
    "# from keras.wrappers.scikit_learn import KerasClassifier\n",
    "from scikeras.wrappers import KerasClassifier\n",
    "\n",
    "from sklearn.metrics import ConfusionMatrixDisplay\n",
    "from sklearn.model_selection import cross_val_score, cross_val_predict, cross_validate, KFold, RepeatedKFold\n",
    "from sklearn.preprocessing import LabelBinarizer\n",
    "from utils import OneHotEncoder\n",
    "\n",
    "\n",
    "print(tf.__version__)\n",
    "print(tf.keras.__version__)"
   ],
   "metadata": {
    "collapsed": false
   }
  },
  {
   "cell_type": "markdown",
   "source": [
    "# Data Load"
   ],
   "metadata": {
    "collapsed": false
   }
  },
  {
   "cell_type": "code",
   "execution_count": 5,
   "outputs": [],
   "source": [
    "df = pd.read_csv('./slac/Contents of SLAC/slac.csv', usecols=['id','genre', 'subgenre', 'title'])\n",
    "ids = df.id.tolist()"
   ],
   "metadata": {
    "collapsed": false
   }
  },
  {
   "cell_type": "code",
   "execution_count": 6,
   "outputs": [],
   "source": [
    "path = './slac/embeddings/'\n",
    "emb = KeyedVectors.load_word2vec_format(path+'slac.bin')\n",
    "emb_notes = KeyedVectors.load_word2vec_format(path+'slac+notes.bin')\n",
    "emb_program = KeyedVectors.load_word2vec_format(path+'slac+program.bin')\n",
    "emb_tempo = KeyedVectors.load_word2vec_format(path+'slac+tempo.bin')\n",
    "emb_ts = KeyedVectors.load_word2vec_format(path+'slac+ts.bin')\n",
    "emb_300 = KeyedVectors.load_word2vec_format(path+'slac_300.bin')"
   ],
   "metadata": {
    "collapsed": false
   }
  },
  {
   "cell_type": "code",
   "execution_count": 7,
   "outputs": [],
   "source": [
    "data = np.array([emb[i] for i in ids])\n",
    "data_notes = np.array([emb_notes[i] for i in ids])\n",
    "data_program = np.array([emb_program[i] for i in ids])\n",
    "data_tempo = np.array([emb_tempo[i] for i in ids])\n",
    "data_ts = np.array([emb_ts[i] if i in emb_ts else np.zeros(100) for i in ids ])\n",
    "data_300 = np.array([emb_300[i] for i in ids])"
   ],
   "metadata": {
    "collapsed": false
   }
  },
  {
   "cell_type": "code",
   "execution_count": 8,
   "outputs": [
    {
     "data": {
      "text/plain": "  0%|          | 0/10 [00:00<?, ?it/s]",
      "application/vnd.jupyter.widget-view+json": {
       "version_major": 2,
       "version_minor": 0,
       "model_id": "6daedada63774bd2a7db69395a01acd3"
      }
     },
     "metadata": {},
     "output_type": "display_data"
    }
   ],
   "source": [
    "emb_x = [KeyedVectors.load_word2vec_format(path+f'slac{i}.bin') for i in tqdm(range(10))]"
   ],
   "metadata": {
    "collapsed": false
   }
  },
  {
   "cell_type": "code",
   "execution_count": 9,
   "outputs": [
    {
     "data": {
      "text/plain": "  0%|          | 0/10 [00:00<?, ?it/s]",
      "application/vnd.jupyter.widget-view+json": {
       "version_major": 2,
       "version_minor": 0,
       "model_id": "37edff2d4a5d4a6f9d435c7d1f2333d8"
      }
     },
     "metadata": {},
     "output_type": "display_data"
    }
   ],
   "source": [
    "data_x = []\n",
    "for j in tqdm(range(10)):\n",
    "    cur = emb_x[j]\n",
    "    train_index = [i for i in ids if i in cur]\n",
    "    test_index = [i for i in ids if i not in cur]\n",
    "\n",
    "    trX = cur[train_index]\n",
    "    trY = df[df.id.isin(train_index)]\n",
    "\n",
    "    edg_folder = path+f'edgelist{j}_test'\n",
    "    edgelists = [qf for qf in os.listdir(edg_folder)\n",
    "                 if qf.endswith('.edgelist') and not qf.startswith('_')]\n",
    "\n",
    "    g = None\n",
    "    for eg in edgelists:\n",
    "        h = nx.read_edgelist(os.path.join(edg_folder, eg), nodetype=str, create_using=nx.DiGraph(), delimiter=' ')\n",
    "        for edge in h.edges():\n",
    "            h[edge[0]][edge[1]]['weight'] = 1\n",
    "\n",
    "        g = h if g is None else nx.compose(g, h)\n",
    "\n",
    "    g = g.to_undirected()\n",
    "\n",
    "    teX = []\n",
    "    for x in test_index:\n",
    "        connections = [e[1] for e in list(g.edges(x))]\n",
    "        vecs = np.array([(emb_x[j][e], 0.4 if e.startswith('g') else (0.2 if not e.startswith('http') else 1))\n",
    "                         for e in connections if e in emb_x[j]], dtype=object)\n",
    "        vec = np.average(vecs[:,0], weights=vecs[:,1], axis=0)\n",
    "        teX.append(vec)\n",
    "    teY = df[df.id.isin(test_index)]\n",
    "\n",
    "    data_x.append((trX,trY,teX,teY))\n"
   ],
   "metadata": {
    "collapsed": false
   }
  },
  {
   "cell_type": "code",
   "execution_count": 10,
   "outputs": [],
   "source": [
    "emb_sets = {\n",
    "    'ALL' : data,\n",
    "    '+N': data_notes,\n",
    "    '+P': data_program,\n",
    "    '+T': data_tempo,\n",
    "    '+TS': data_ts,\n",
    "    '300': data_300\n",
    "}"
   ],
   "metadata": {
    "collapsed": false
   }
  },
  {
   "cell_type": "markdown",
   "source": [
    "# Encoding"
   ],
   "metadata": {
    "collapsed": false
   }
  },
  {
   "cell_type": "code",
   "execution_count": 11,
   "outputs": [
    {
     "data": {
      "text/plain": "(250, 1)"
     },
     "execution_count": 11,
     "metadata": {},
     "output_type": "execute_result"
    }
   ],
   "source": [
    "genre = np.array(df.genre).reshape(-1,1)\n",
    "genre.shape"
   ],
   "metadata": {
    "collapsed": false
   }
  },
  {
   "cell_type": "code",
   "execution_count": 12,
   "outputs": [],
   "source": [
    "lb = LabelBinarizer()\n",
    "lb_labels = lb.fit_transform(genre)"
   ],
   "metadata": {
    "collapsed": false
   }
  },
  {
   "cell_type": "code",
   "execution_count": 13,
   "outputs": [
    {
     "data": {
      "text/plain": "array(['Blues', 'Classical', 'Jazz', 'Rap', 'Rock'], dtype='<U9')"
     },
     "execution_count": 13,
     "metadata": {},
     "output_type": "execute_result"
    }
   ],
   "source": [
    "lb.classes_"
   ],
   "metadata": {
    "collapsed": false
   }
  },
  {
   "cell_type": "code",
   "execution_count": 14,
   "outputs": [
    {
     "data": {
      "text/plain": "(250, 100)"
     },
     "execution_count": 14,
     "metadata": {},
     "output_type": "execute_result"
    }
   ],
   "source": [
    "data.shape"
   ],
   "metadata": {
    "collapsed": false
   }
  },
  {
   "cell_type": "code",
   "execution_count": 15,
   "outputs": [
    {
     "data": {
      "text/plain": "(250, 5)"
     },
     "execution_count": 15,
     "metadata": {},
     "output_type": "execute_result"
    }
   ],
   "source": [
    "lb_labels.shape"
   ],
   "metadata": {
    "collapsed": false
   }
  },
  {
   "cell_type": "code",
   "execution_count": 16,
   "outputs": [
    {
     "data": {
      "text/plain": "(100, 5)"
     },
     "execution_count": 16,
     "metadata": {},
     "output_type": "execute_result"
    }
   ],
   "source": [
    "num_input, num_output = data.shape[1], lb_labels.shape[1]\n",
    "num_input, num_output"
   ],
   "metadata": {
    "collapsed": false
   }
  },
  {
   "cell_type": "markdown",
   "source": [
    "# Network"
   ],
   "metadata": {
    "collapsed": false
   }
  },
  {
   "cell_type": "markdown",
   "source": [
    "## Build"
   ],
   "metadata": {
    "collapsed": false
   }
  },
  {
   "cell_type": "code",
   "execution_count": 17,
   "outputs": [],
   "source": [
    "def create_model():\n",
    "    model = keras.Sequential()\n",
    "\n",
    "    model.add(layers.Dense(100, activation='relu', input_shape=(num_input,)))\n",
    "    model.add(layers.Dense(100, activation='relu'))\n",
    "    model.add(layers.Dense(num_output, activation='sigmoid'))\n",
    "\n",
    "    model.compile(optimizer=keras.optimizers.Adam(learning_rate=.01),\n",
    "                  loss=keras.losses.CategoricalCrossentropy(from_logits=False),\n",
    "                  metrics=[keras.metrics.CategoricalAccuracy(name='accuracy')])\n",
    "\n",
    "    return model"
   ],
   "metadata": {
    "collapsed": false
   }
  },
  {
   "cell_type": "code",
   "execution_count": 18,
   "outputs": [],
   "source": [
    "neural_network = KerasClassifier(model=create_model,\n",
    "                                 epochs=10,\n",
    "                                 batch_size=50,\n",
    "                                 verbose=0)"
   ],
   "metadata": {
    "collapsed": false
   }
  },
  {
   "cell_type": "markdown",
   "source": [
    "## Train and Results"
   ],
   "metadata": {
    "collapsed": false
   }
  },
  {
   "cell_type": "markdown",
   "source": [
    "### Genres"
   ],
   "metadata": {
    "collapsed": false
   }
  },
  {
   "cell_type": "code",
   "execution_count": 19,
   "outputs": [
    {
     "data": {
      "text/plain": "  0%|          | 0/6 [00:00<?, ?it/s]",
      "application/vnd.jupyter.widget-view+json": {
       "version_major": 2,
       "version_minor": 0,
       "model_id": "c8ec4b142c334c408a3e12b516f49527"
      }
     },
     "metadata": {},
     "output_type": "display_data"
    },
    {
     "name": "stdout",
     "output_type": "stream",
     "text": [
      "ALL\n",
      "[0.92 1.   0.84 0.8  0.88 0.92 0.68 0.92 0.84 0.68]\n",
      "+N\n",
      "[0.88 0.8  0.8  0.88 0.76 0.92 0.8  0.56 0.56 0.68]\n",
      "+P\n",
      "[0.8  0.8  0.72 0.76 0.8  0.76 0.8  0.88 0.84 0.88]\n",
      "+T\n",
      "[0.28 0.24 0.24 0.08 0.32 0.36 0.16 0.4  0.2  0.24]\n",
      "+TS\n",
      "[0.32 0.16 0.36 0.28 0.32 0.4  0.24 0.36 0.2  0.36]\n",
      "300\n",
      "[0.92 0.88 0.84 0.84 0.84 0.92 0.72 0.76 0.6  0.72]\n"
     ]
    },
    {
     "data": {
      "text/plain": "{'ALL': 0.8480000000000001,\n '+N': 0.764,\n '+P': 0.804,\n '+T': 0.25200000000000006,\n '+TS': 0.3,\n '300': 0.804}"
     },
     "execution_count": 19,
     "metadata": {},
     "output_type": "execute_result"
    }
   ],
   "source": [
    "random_state = 2111\n",
    "scores_5c = {}\n",
    "scores_5c_all = {}\n",
    "for name, d in tqdm(emb_sets.items()):\n",
    "    print(name)\n",
    "    scores = cross_val_score(neural_network, d, lb_labels,\n",
    "                             cv=KFold(10, shuffle=True, random_state=random_state), n_jobs=-1, verbose=0)\n",
    "    print(scores)\n",
    "    scores_5c[name] = np.mean(scores)\n",
    "    scores_5c_all[name] = scores\n",
    "\n",
    "scores_5c"
   ],
   "metadata": {
    "collapsed": false
   }
  },
  {
   "cell_type": "code",
   "execution_count": 17,
   "outputs": [
    {
     "name": "stdout",
     "output_type": "stream",
     "text": [
      "ALL 0.840 +- 0.100\n",
      "+N 0.788 +- 0.080\n",
      "+P 0.800 +- 0.057\n",
      "+T 0.260 +- 0.076\n",
      "+TS 0.304 +- 0.078\n",
      "300 0.800 +- 0.095\n"
     ]
    }
   ],
   "source": [
    "for name in scores_5c_all:\n",
    "    print(name,\"{mean:.3f} +- {std:.3f}\".format(mean=scores_5c[name],std=np.std(scores_5c_all[name])))"
   ],
   "metadata": {
    "collapsed": false
   }
  },
  {
   "cell_type": "code",
   "execution_count": 18,
   "outputs": [],
   "source": [
    "# significance test\n",
    "n_splits=10\n",
    "n_repeats=10\n",
    "\n",
    "cv = RepeatedKFold(n_splits=n_splits, n_repeats=n_repeats, random_state=1)\n",
    "a = cross_val_score(neural_network, data_notes, lb_labels, cv=cv, n_jobs=-1)\n",
    "b = cross_val_score(neural_network, data, lb_labels, cv=cv, n_jobs=-1)\n",
    "\n"
   ],
   "metadata": {
    "collapsed": false
   }
  },
  {
   "cell_type": "code",
   "execution_count": 19,
   "outputs": [
    {
     "name": "stdout",
     "output_type": "stream",
     "text": [
      "Accuracy of A: 0.784 (0.07776888838089432)\n",
      "Accuracy of B: 0.8312000000000002 (0.07055891155623079)\n",
      "T statistic: 1.660913436111504\n",
      "p-value 0.09989477271001279\n",
      "Accept null hypothesis that the means are equal.\n"
     ]
    },
    {
     "data": {
      "text/plain": "True"
     },
     "execution_count": 19,
     "metadata": {},
     "output_type": "execute_result"
    }
   ],
   "source": [
    "from scipy.stats import t\n",
    "\n",
    "def significance_test(a_in, b_in, alpha=.05, verbose=True):\n",
    "    if verbose:\n",
    "        print(f'Accuracy of A: {np.mean(a_in)} ({np.std(a_in)})')\n",
    "        print(f'Accuracy of B: {np.mean(b_in)} ({np.std(b_in)})')\n",
    "\n",
    "    x_temp = np.diff((a_in, b_in), axis=0)\n",
    "\n",
    "\n",
    "    n2 = len(data)/n_splits\n",
    "    n1 = n2*(n_splits-1)\n",
    "    m_temp = np.mean(x_temp)\n",
    "    s2 = np.std(x_temp) ** 2\n",
    "    kr = n_splits * n_repeats\n",
    "    t_stat = m_temp / np.sqrt((1/kr + n2/n1) * s2)\n",
    "\n",
    "    if verbose:\n",
    "        print(f'T statistic: {t_stat}')\n",
    "\n",
    "    # degrees of freedom\n",
    "    df_temp = kr - 1\n",
    "    #     cv = t.ppf(1.0 - alpha, df)\n",
    "    # calculate the p-value\n",
    "    p = (1 - t.cdf(abs(t_stat), df_temp)) * 2\n",
    "\n",
    "    if verbose:\n",
    "        print(f'p-value {p}')\n",
    "\n",
    "    # interpret via p-value\n",
    "    if verbose:\n",
    "        if p > alpha:\n",
    "            print('Accept null hypothesis that the means are equal.')\n",
    "        else:\n",
    "            print('Reject the null hypothesis that the means are equal.')\n",
    "    return p > alpha\n",
    "\n",
    "significance_test(a, b)"
   ],
   "metadata": {
    "collapsed": false
   }
  },
  {
   "cell_type": "code",
   "execution_count": 20,
   "outputs": [
    {
     "name": "stdout",
     "output_type": "stream",
     "text": [
      "Done\n"
     ]
    }
   ],
   "source": [
    "predicted = cross_val_predict(neural_network, data, lb_labels,\n",
    "                              cv=KFold(10, shuffle=True, random_state=random_state), n_jobs=-1, verbose=0)\n",
    "print(\"Done\")"
   ],
   "metadata": {
    "collapsed": false
   }
  },
  {
   "cell_type": "code",
   "execution_count": 21,
   "outputs": [
    {
     "data": {
      "text/plain": "<Figure size 640x480 with 2 Axes>",
      "image/png": "[encoded data removed]"
     },
     "metadata": {},
     "output_type": "display_data"
    }
   ],
   "source": [
    "disp = ConfusionMatrixDisplay.from_predictions(y_true=lb.inverse_transform(lb_labels), y_pred=lb.inverse_transform(predicted), cmap='bone', normalize='true')\n",
    "\n",
    "disp.ax_.set_title('SLAC Genre')\n",
    "plt.show()"
   ],
   "metadata": {
    "collapsed": false
   }
  },
  {
   "cell_type": "markdown",
   "source": [
    "### Genres (Split)"
   ],
   "metadata": {
    "collapsed": false
   }
  },
  {
   "cell_type": "code",
   "execution_count": 22,
   "outputs": [
    {
     "data": {
      "text/plain": "  0%|          | 0/10 [00:00<?, ?it/s]",
      "application/vnd.jupyter.widget-view+json": {
       "version_major": 2,
       "version_minor": 0,
       "model_id": "2e109011b1dc4e3c9234c0428351f526"
      }
     },
     "metadata": {},
     "output_type": "display_data"
    }
   ],
   "source": [
    "for j in tqdm(range(10)):\n",
    "    trainX, trainY, testX, testY = data_x[j]\n"
   ],
   "metadata": {
    "collapsed": false
   }
  },
  {
   "cell_type": "code",
   "execution_count": 23,
   "outputs": [
    {
     "data": {
      "text/plain": "  0%|          | 0/10 [00:00<?, ?it/s]",
      "application/vnd.jupyter.widget-view+json": {
       "version_major": 2,
       "version_minor": 0,
       "model_id": "207d4f53237e42f5a55b542e94c6ff4f"
      }
     },
     "metadata": {},
     "output_type": "display_data"
    }
   ],
   "source": [
    "for j in tqdm(range(10)):\n",
    "    trainX, trainY, testX, testY = data_x[j]"
   ],
   "metadata": {
    "collapsed": false
   }
  },
  {
   "cell_type": "code",
   "execution_count": 24,
   "outputs": [
    {
     "data": {
      "text/plain": "  0%|          | 0/10 [00:00<?, ?it/s]",
      "application/vnd.jupyter.widget-view+json": {
       "version_major": 2,
       "version_minor": 0,
       "model_id": "f389d2be8b8d41d1a6d90c2ab276bc1a"
      }
     },
     "metadata": {},
     "output_type": "display_data"
    },
    {
     "name": "stdout",
     "output_type": "stream",
     "text": [
      "WARNING:tensorflow:5 out of the last 5 calls to <function Model.make_predict_function.<locals>.predict_function at 0x000001E9DADE1CA0> triggered tf.function retracing. Tracing is expensive and the excessive number of tracings could be due to (1) creating @tf.function repeatedly in a loop, (2) passing tensors with different shapes, (3) passing Python objects instead of tensors. For (1), please define your @tf.function outside of the loop. For (2), @tf.function has reduce_retracing=True option that can avoid unnecessary retracing. For (3), please refer to https://www.tensorflow.org/guide/function#controlling_retracing and https://www.tensorflow.org/api_docs/python/tf/function for  more details.\n",
      "WARNING:tensorflow:6 out of the last 6 calls to <function Model.make_predict_function.<locals>.predict_function at 0x000001E9DDEE0940> triggered tf.function retracing. Tracing is expensive and the excessive number of tracings could be due to (1) creating @tf.function repeatedly in a loop, (2) passing tensors with different shapes, (3) passing Python objects instead of tensors. For (1), please define your @tf.function outside of the loop. For (2), @tf.function has reduce_retracing=True option that can avoid unnecessary retracing. For (3), please refer to https://www.tensorflow.org/guide/function#controlling_retracing and https://www.tensorflow.org/api_docs/python/tf/function for  more details.\n",
      "[0.36666666666666664, 0.5333333333333333, 0.7666666666666667, 0.6333333333333333, 0.6333333333333333, 0.8, 0.75, 0.9, 0.85, 0.6]\n",
      "Accuracy: 0.683 (0.153)\n"
     ]
    }
   ],
   "source": [
    "scores_5c_split = []\n",
    "\n",
    "t_stat_s ={}\n",
    "for j in tqdm(range(10)):\n",
    "    trainX, trainY, testX, testY = data_x[j]\n",
    "    trainY_genres = trainY.genre.tolist()\n",
    "    oh = OneHotEncoder(trainY_genres)\n",
    "\n",
    "    neural_network.fit(trainX, oh.labels, shuffle=True, verbose=0)\n",
    "\n",
    "    testX = np.array(testX)\n",
    "    testY_genres = testY.genre.tolist()\n",
    "    testY = oh.encoder.transform(testY_genres)\n",
    "    accuracy = neural_network.score(testX, testY)\n",
    "\n",
    "    scores_5c_split.append(accuracy)\n",
    "\n",
    "print(scores_5c_split)\n",
    "m = np.mean(scores_5c_split)\n",
    "s = np.std(scores_5c_split)\n",
    "print('Accuracy: %.3f (%.3f)' % (m, s))"
   ],
   "metadata": {
    "collapsed": false
   }
  },
  {
   "cell_type": "markdown",
   "source": [
    "### Subgenres"
   ],
   "metadata": {
    "collapsed": false
   }
  },
  {
   "cell_type": "code",
   "execution_count": 25,
   "outputs": [],
   "source": [
    "onehot = OneHotEncoder(df.subgenre.tolist())"
   ],
   "metadata": {
    "collapsed": false
   }
  },
  {
   "cell_type": "code",
   "execution_count": 30,
   "outputs": [
    {
     "data": {
      "text/plain": "array(['Traditional', 'Traditional', 'Traditional', 'Traditional',\n       'Traditional', 'Alternative', 'Traditional', 'Traditional',\n       'Traditional', 'Traditional'], dtype='<U12')"
     },
     "execution_count": 30,
     "metadata": {},
     "output_type": "execute_result"
    }
   ],
   "source": [
    "onehot.get(onehot.labels)"
   ],
   "metadata": {
    "collapsed": false
   }
  },
  {
   "cell_type": "code",
   "execution_count": 26,
   "outputs": [
    {
     "data": {
      "text/plain": "(100, 10)"
     },
     "execution_count": 26,
     "metadata": {},
     "output_type": "execute_result"
    }
   ],
   "source": [
    "num_output = onehot.labels.shape[1]\n",
    "\n",
    "num_input, num_output"
   ],
   "metadata": {
    "collapsed": false
   }
  },
  {
   "cell_type": "code",
   "execution_count": 27,
   "outputs": [],
   "source": [
    "neural_network = KerasClassifier(model=create_model,\n",
    "                                 epochs=100,\n",
    "                                 batch_size=32,\n",
    "                                 verbose=0)\n"
   ],
   "metadata": {
    "collapsed": false
   }
  },
  {
   "cell_type": "code",
   "execution_count": 28,
   "outputs": [
    {
     "data": {
      "text/plain": "  0%|          | 0/6 [00:00<?, ?it/s]",
      "application/vnd.jupyter.widget-view+json": {
       "version_major": 2,
       "version_minor": 0,
       "model_id": "b145ba4a0170421987b3d2f7feea38ce"
      }
     },
     "metadata": {},
     "output_type": "display_data"
    },
    {
     "name": "stdout",
     "output_type": "stream",
     "text": [
      "ALL\n",
      "[0.72 0.6  0.6  0.6  0.64 0.72 0.76 0.64 0.52 0.56]\n",
      "+N\n",
      "[0.52 0.6  0.64 0.84 0.72 0.6  0.52 0.52 0.4  0.64]\n",
      "+P\n",
      "[0.52 0.72 0.6  0.48 0.68 0.52 0.72 0.48 0.56 0.44]\n",
      "+T\n",
      "[0.16 0.08 0.2  0.12 0.28 0.24 0.16 0.16 0.16 0.12]\n",
      "+TS\n",
      "[0.08 0.04 0.08 0.24 0.16 0.28 0.08 0.24 0.12 0.2 ]\n",
      "300\n",
      "[0.72 0.64 0.56 0.44 0.6  0.72 0.56 0.36 0.36 0.52]\n"
     ]
    },
    {
     "data": {
      "text/plain": "{'ALL': 0.6359999999999999,\n '+N': 0.6,\n '+P': 0.5720000000000002,\n '+T': 0.168,\n '+TS': 0.15199999999999997,\n '300': 0.548}"
     },
     "execution_count": 28,
     "metadata": {},
     "output_type": "execute_result"
    }
   ],
   "source": [
    "scores_10c = {}\n",
    "scores_10c_std = {}\n",
    "for name, d in tqdm(emb_sets.items()):\n",
    "    print(name)\n",
    "    scores = cross_val_score(neural_network, d, onehot.labels,\n",
    "                             cv=KFold(10, shuffle=True, random_state=random_state), verbose=0, n_jobs=-1)\n",
    "    print(scores)\n",
    "    scores_10c[name] = np.mean(scores)\n",
    "    scores_10c_std[name] = np.std(scores)\n",
    "scores_10c"
   ],
   "metadata": {
    "collapsed": false
   }
  },
  {
   "cell_type": "code",
   "execution_count": 28,
   "outputs": [],
   "source": [],
   "metadata": {
    "collapsed": false
   }
  }
 ],
 "metadata": {
  "kernelspec": {
   "display_name": "Python 3 (ipykernel)",
   "language": "python",
   "name": "python3"
  },
  "language_info": {
   "codemirror_mode": {
    "name": "ipython",
    "version": 3
   },
   "file_extension": ".py",
   "mimetype": "text/x-python",
   "name": "python",
   "nbconvert_exporter": "python",
   "pygments_lexer": "ipython3",
   "version": "3.9.15"
  }
 },
 "nbformat": 4,
 "nbformat_minor": 5
}
