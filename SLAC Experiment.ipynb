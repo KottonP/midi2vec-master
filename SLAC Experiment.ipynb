{
 "cells": [
  {
   "cell_type": "markdown",
   "source": [
    "# Imports"
   ],
   "metadata": {
    "collapsed": false
   }
  },
  {
   "cell_type": "code",
   "execution_count": null,
   "outputs": [],
   "source": [
    "import os\n",
    "import networkx as nx\n",
    "import numpy as np\n",
    "import pandas as pd\n",
    "import matplotlib.pyplot as plt\n",
    "from gensim.models import KeyedVectors\n",
    "from tqdm.notebook import tqdm\n",
    "\n",
    "import tensorflow as tf\n",
    "from tensorflow import keras\n",
    "from keras import layers\n",
    "# from keras.wrappers.scikit_learn import KerasClassifier\n",
    "from scikeras.wrappers import KerasClassifier\n",
    "\n",
    "from sklearn.metrics import ConfusionMatrixDisplay\n",
    "from sklearn.model_selection import cross_val_score, cross_val_predict, cross_validate, KFold, RepeatedKFold\n",
    "from sklearn.preprocessing import LabelBinarizer\n",
    "\n",
    "\n",
    "print(tf.__version__)\n",
    "print(tf.keras.__version__)"
   ],
   "metadata": {
    "collapsed": false
   }
  },
  {
   "cell_type": "markdown",
   "source": [
    "# Data Load"
   ],
   "metadata": {
    "collapsed": false
   }
  },
  {
   "cell_type": "code",
   "execution_count": 82,
   "outputs": [],
   "source": [
    "df = pd.read_csv('./slac/Contents of SLAC/slac.csv', usecols=['id','genre', 'subgenre', 'title'])\n",
    "ids = df.id.tolist()"
   ],
   "metadata": {
    "collapsed": false
   }
  },
  {
   "cell_type": "code",
   "execution_count": 98,
   "outputs": [],
   "source": [
    "path = './slac/embeddings/'\n",
    "emb = KeyedVectors.load_word2vec_format(path+'slac.bin')\n",
    "emb_notes = KeyedVectors.load_word2vec_format(path+'slac+notes.bin')\n",
    "emb_program = KeyedVectors.load_word2vec_format(path+'slac+program.bin')\n",
    "emb_tempo = KeyedVectors.load_word2vec_format(path+'slac+tempo.bin')\n",
    "emb_ts = KeyedVectors.load_word2vec_format(path+'slac+ts.bin')\n",
    "emb_300 = KeyedVectors.load_word2vec_format(path+'slac_300.bin')"
   ],
   "metadata": {
    "collapsed": false
   }
  },
  {
   "cell_type": "code",
   "execution_count": 84,
   "outputs": [],
   "source": [
    "data = np.array([emb[i] for i in ids])\n",
    "data_notes = np.array([emb_notes[i] for i in ids])\n",
    "data_program = np.array([emb_program[i] for i in ids])\n",
    "data_tempo = np.array([emb_tempo[i] for i in ids])\n",
    "data_ts = np.array([emb_ts[i] if i in emb_ts else np.zeros(100) for i in ids ])\n",
    "data_300 = np.array([emb_300[i] for i in ids])"
   ],
   "metadata": {
    "collapsed": false
   }
  },
  {
   "cell_type": "code",
   "execution_count": 85,
   "outputs": [],
   "source": [
    "emb_sets = {\n",
    "    'ALL' : data,\n",
    "    '+N': data_notes,\n",
    "    '+P': data_program,\n",
    "    '+T': data_tempo,\n",
    "    '+TS': data_ts,\n",
    "    '300': data_300\n",
    "}"
   ],
   "metadata": {
    "collapsed": false
   }
  },
  {
   "cell_type": "markdown",
   "source": [
    "# Encoding"
   ],
   "metadata": {
    "collapsed": false
   }
  },
  {
   "cell_type": "code",
   "execution_count": 86,
   "outputs": [
    {
     "data": {
      "text/plain": "(250, 1)"
     },
     "execution_count": 86,
     "metadata": {},
     "output_type": "execute_result"
    }
   ],
   "source": [
    "genre = np.array(df.genre).reshape(-1,1)\n",
    "genre.shape"
   ],
   "metadata": {
    "collapsed": false
   }
  },
  {
   "cell_type": "code",
   "execution_count": 87,
   "outputs": [],
   "source": [
    "lb = LabelBinarizer()\n",
    "oh_labels = lb.fit_transform(genre)"
   ],
   "metadata": {
    "collapsed": false
   }
  },
  {
   "cell_type": "code",
   "execution_count": 88,
   "outputs": [
    {
     "data": {
      "text/plain": "array(['Blues', 'Classical', 'Jazz', 'Rap', 'Rock'], dtype='<U9')"
     },
     "execution_count": 88,
     "metadata": {},
     "output_type": "execute_result"
    }
   ],
   "source": [
    "lb.classes_"
   ],
   "metadata": {
    "collapsed": false
   }
  },
  {
   "cell_type": "code",
   "execution_count": 89,
   "outputs": [
    {
     "data": {
      "text/plain": "(250, 100)"
     },
     "execution_count": 89,
     "metadata": {},
     "output_type": "execute_result"
    }
   ],
   "source": [
    "data.shape"
   ],
   "metadata": {
    "collapsed": false
   }
  },
  {
   "cell_type": "code",
   "execution_count": 90,
   "outputs": [
    {
     "data": {
      "text/plain": "(250, 5)"
     },
     "execution_count": 90,
     "metadata": {},
     "output_type": "execute_result"
    }
   ],
   "source": [
    "oh_labels.shape"
   ],
   "metadata": {
    "collapsed": false
   }
  },
  {
   "cell_type": "code",
   "execution_count": 91,
   "outputs": [
    {
     "data": {
      "text/plain": "(100, 5)"
     },
     "execution_count": 91,
     "metadata": {},
     "output_type": "execute_result"
    }
   ],
   "source": [
    "num_input, num_output = data.shape[1], oh_labels.shape[1]\n",
    "num_input, num_output"
   ],
   "metadata": {
    "collapsed": false
   }
  },
  {
   "cell_type": "markdown",
   "source": [
    "# Network"
   ],
   "metadata": {
    "collapsed": false
   }
  },
  {
   "cell_type": "markdown",
   "source": [
    "## Build"
   ],
   "metadata": {
    "collapsed": false
   }
  },
  {
   "cell_type": "code",
   "execution_count": 92,
   "outputs": [],
   "source": [
    "def create_model():\n",
    "    model = keras.Sequential()\n",
    "\n",
    "    model.add(layers.Dense(100, activation='relu', input_shape=(num_input,)))\n",
    "    model.add(layers.Dense(100, activation='relu'))\n",
    "    model.add(layers.Dense(num_output, activation='sigmoid'))\n",
    "\n",
    "    model.compile(optimizer=keras.optimizers.Adam(learning_rate=.01),\n",
    "                  loss=keras.losses.CategoricalCrossentropy(from_logits=False),\n",
    "                  metrics=[keras.metrics.CategoricalAccuracy(name='accuracy')])\n",
    "\n",
    "    return model"
   ],
   "metadata": {
    "collapsed": false
   }
  },
  {
   "cell_type": "code",
   "execution_count": 93,
   "outputs": [],
   "source": [
    "neural_network = KerasClassifier(model=create_model,\n",
    "                                 epochs=10,\n",
    "                                 batch_size=50,\n",
    "                                 verbose=0)"
   ],
   "metadata": {
    "collapsed": false
   }
  },
  {
   "cell_type": "markdown",
   "source": [
    "## Train and Results"
   ],
   "metadata": {
    "collapsed": false
   }
  },
  {
   "cell_type": "code",
   "execution_count": 94,
   "outputs": [
    {
     "data": {
      "text/plain": "  0%|          | 0/6 [00:00<?, ?it/s]",
      "application/vnd.jupyter.widget-view+json": {
       "version_major": 2,
       "version_minor": 0,
       "model_id": "29e5f19c6a014b43a19e35b509d82398"
      }
     },
     "metadata": {},
     "output_type": "display_data"
    },
    {
     "name": "stdout",
     "output_type": "stream",
     "text": [
      "ALL\n",
      "[0.92 0.88 0.88 0.76 0.8  0.92 0.84 0.88 0.72 0.88]\n",
      "+N\n",
      "[0.84 0.76 0.76 0.88 0.72 0.88 0.68 0.76 0.64 0.76]\n",
      "+P\n",
      "[0.84 0.76 0.68 0.84 0.72 0.76 0.8  0.84 0.8  0.88]\n",
      "+T\n",
      "[0.28 0.28 0.4  0.08 0.24 0.44 0.08 0.44 0.24 0.24]\n",
      "+TS\n",
      "[0.32 0.2  0.36 0.24 0.32 0.4  0.16 0.36 0.32 0.36]\n",
      "300\n",
      "[0.92 0.84 0.8  0.68 0.84 0.92 0.72 0.8  0.64 0.6 ]\n"
     ]
    },
    {
     "data": {
      "text/plain": "{'ALL': 0.8480000000000001,\n '+N': 0.768,\n '+P': 0.792,\n '+T': 0.2720000000000001,\n '+TS': 0.304,\n '300': 0.776}"
     },
     "execution_count": 94,
     "metadata": {},
     "output_type": "execute_result"
    }
   ],
   "source": [
    "random_state = 2111\n",
    "scores_5c = {}\n",
    "scores_5c_all = {}\n",
    "for name, d in tqdm(emb_sets.items()):\n",
    "    print(name)\n",
    "    scores = cross_val_score(neural_network, d, oh_labels,\n",
    "                             cv=KFold(10, shuffle=True, random_state=random_state), n_jobs=-1, verbose=0)\n",
    "    print(scores)\n",
    "    scores_5c[name] = np.mean(scores)\n",
    "    scores_5c_all[name] = scores\n",
    "\n",
    "scores_5c"
   ],
   "metadata": {
    "collapsed": false
   }
  },
  {
   "cell_type": "code",
   "execution_count": 95,
   "outputs": [
    {
     "name": "stdout",
     "output_type": "stream",
     "text": [
      "ALL 0.848 +- 0.064\n",
      "+N 0.768 +- 0.075\n",
      "+P 0.792 +- 0.059\n",
      "+T 0.272 +- 0.122\n",
      "+TS 0.304 +- 0.074\n",
      "300 0.776 +- 0.106\n"
     ]
    }
   ],
   "source": [
    "for name in scores_5c_all:\n",
    "    print(name,\"{mean:.3f} +- {std:.3f}\".format(mean=scores_5c[name],std=np.std(scores_5c_all[name])))"
   ],
   "metadata": {
    "collapsed": false
   }
  },
  {
   "cell_type": "code",
   "execution_count": 96,
   "outputs": [
    {
     "name": "stdout",
     "output_type": "stream",
     "text": [
      "Done\n"
     ]
    }
   ],
   "source": [
    "predicted = cross_val_predict(neural_network, data, oh_labels,\n",
    "                              cv=KFold(10, shuffle=True, random_state=random_state), n_jobs=-1,verbose=0)\n",
    "print(\"Done\")"
   ],
   "metadata": {
    "collapsed": false
   }
  },
  {
   "cell_type": "code",
   "execution_count": 97,
   "outputs": [
    {
     "data": {
      "text/plain": "<Figure size 640x480 with 2 Axes>",
      "image/png": "[encoded data removed]"
     },
     "metadata": {},
     "output_type": "display_data"
    }
   ],
   "source": [
    "disp = ConfusionMatrixDisplay.from_predictions(y_true=lb.inverse_transform(oh_labels), y_pred=lb.inverse_transform(predicted), cmap='bone', normalize='true')\n",
    "\n",
    "disp.ax_.set_title('SLAC Genre')\n",
    "plt.show()"
   ],
   "metadata": {
    "collapsed": false
   }
  },
  {
   "cell_type": "code",
   "execution_count": 97,
   "outputs": [],
   "source": [],
   "metadata": {
    "collapsed": false
   }
  }
 ],
 "metadata": {
  "kernelspec": {
   "display_name": "Python 3 (ipykernel)",
   "language": "python",
   "name": "python3"
  },
  "language_info": {
   "codemirror_mode": {
    "name": "ipython",
    "version": 3
   },
   "file_extension": ".py",
   "mimetype": "text/x-python",
   "name": "python",
   "nbconvert_exporter": "python",
   "pygments_lexer": "ipython3",
   "version": "3.9.15"
  }
 },
 "nbformat": 4,
 "nbformat_minor": 5
}
