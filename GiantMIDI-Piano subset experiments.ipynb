{
 "cells": [
  {
   "cell_type": "code",
   "execution_count": 132,
   "metadata": {
    "collapsed": true,
    "ExecuteTime": {
     "end_time": "2023-06-18T15:25:31.332138500Z",
     "start_time": "2023-06-18T15:25:31.194469800Z"
    }
   },
   "outputs": [
    {
     "name": "stdout",
     "output_type": "stream",
     "text": [
      "2.0.0+cu118\n"
     ]
    }
   ],
   "source": [
    "import time\n",
    "import scipy\n",
    "import numpy as np\n",
    "import pandas as pd\n",
    "import winsound\n",
    "\n",
    "import ray\n",
    "\n",
    "import networkx as nx\n",
    "import matplotlib.pyplot as plt\n",
    "from sklearn.metrics import ConfusionMatrixDisplay, precision_score, recall_score\n",
    "\n",
    "from sklearn.preprocessing import LabelEncoder\n",
    "\n",
    "import torch\n",
    "import torch.nn as nn\n",
    "import torch.nn.functional as F\n",
    "\n",
    "import torch_geometric\n",
    "import torch_geometric.transforms as T\n",
    "from torch_geometric.data import HeteroData\n",
    "from torch_geometric.nn import HGTConv, SAGEConv, GATConv, Linear, to_hetero\n",
    "\n",
    "from HeteroDataFunctions import Encoder, add_types, complete_graph, flatten_lol, node_cat_dict, midi_type, plot_graph, plot_4graphs\n",
    "\n",
    "# print(scipy.__version__)\n",
    "# print(matplotlib.__version__)\n",
    "# print(nx.__version__)\n",
    "print(torch.__version__)"
   ]
  },
  {
   "cell_type": "code",
   "execution_count": 133,
   "outputs": [
    {
     "name": "stdout",
     "output_type": "stream",
     "text": [
      "Using device: cuda\n",
      "\n",
      "NVIDIA GeForce GTX 960\n",
      "Memory Usage:\n",
      "Allocated: 0.9 GB\n",
      "Cached:    1.5 GB\n"
     ]
    }
   ],
   "source": [
    "# setting device on GPU if available, else CPU\n",
    "device = torch.device('cuda' if torch.cuda.is_available() else 'cpu')\n",
    "print('Using device:', device)\n",
    "print()\n",
    "\n",
    "#Additional Info when using cuda\n",
    "if device.type == 'cuda':\n",
    "    print(torch.cuda.get_device_name(0))\n",
    "    print('Memory Usage:')\n",
    "    print('Allocated:', round(torch.cuda.memory_allocated(0)/1024**3,1), 'GB')\n",
    "    print('Cached:   ', round(torch.cuda.memory_reserved(0)/1024**3,1), 'GB')"
   ],
   "metadata": {
    "collapsed": false,
    "ExecuteTime": {
     "end_time": "2023-06-18T15:25:31.337143800Z",
     "start_time": "2023-06-18T15:25:31.212486800Z"
    }
   }
  },
  {
   "cell_type": "code",
   "execution_count": 134,
   "outputs": [],
   "source": [
    "# ray.init()"
   ],
   "metadata": {
    "collapsed": false,
    "ExecuteTime": {
     "end_time": "2023-06-18T15:25:31.337143800Z",
     "start_time": "2023-06-18T15:25:31.227500400Z"
    }
   }
  },
  {
   "cell_type": "code",
   "execution_count": 135,
   "outputs": [
    {
     "name": "stdout",
     "output_type": "stream",
     "text": [
      "loading edgelists...\n",
      "- notes.edgelist\n",
      "- program.edgelist\n"
     ]
    },
    {
     "ename": "KeyboardInterrupt",
     "evalue": "",
     "output_type": "error",
     "traceback": [
      "\u001B[1;31m---------------------------------------------------------------------------\u001B[0m",
      "\u001B[1;31mKeyboardInterrupt\u001B[0m                         Traceback (most recent call last)",
      "\u001B[1;32m~\\AppData\\Local\\Temp\\ipykernel_17776\\3860937907.py\u001B[0m in \u001B[0;36m<module>\u001B[1;34m\u001B[0m\n\u001B[0;32m      1\u001B[0m \u001B[1;31m# Load the complete graph\u001B[0m\u001B[1;33m\u001B[0m\u001B[1;33m\u001B[0m\u001B[0m\n\u001B[1;32m----> 2\u001B[1;33m \u001B[0mG\u001B[0m \u001B[1;33m=\u001B[0m \u001B[0mcomplete_graph\u001B[0m\u001B[1;33m(\u001B[0m\u001B[1;34m\".\\giantmidi-piano\\edgelist\"\u001B[0m\u001B[1;33m)\u001B[0m\u001B[1;33m\u001B[0m\u001B[1;33m\u001B[0m\u001B[0m\n\u001B[0m",
      "\u001B[1;32m~\\Documents\\GitHub\\midi2vec-master\\HeteroDataFunctions.py\u001B[0m in \u001B[0;36mcomplete_graph\u001B[1;34m(input_path)\u001B[0m\n\u001B[0;32m     53\u001B[0m             \u001B[0mh\u001B[0m\u001B[1;33m[\u001B[0m\u001B[0medge\u001B[0m\u001B[1;33m[\u001B[0m\u001B[1;36m0\u001B[0m\u001B[1;33m]\u001B[0m\u001B[1;33m]\u001B[0m\u001B[1;33m[\u001B[0m\u001B[0medge\u001B[0m\u001B[1;33m[\u001B[0m\u001B[1;36m1\u001B[0m\u001B[1;33m]\u001B[0m\u001B[1;33m]\u001B[0m\u001B[1;33m[\u001B[0m\u001B[1;34m'weight'\u001B[0m\u001B[1;33m]\u001B[0m \u001B[1;33m=\u001B[0m \u001B[1;36m1\u001B[0m\u001B[1;33m\u001B[0m\u001B[1;33m\u001B[0m\u001B[0m\n\u001B[0;32m     54\u001B[0m \u001B[1;33m\u001B[0m\u001B[0m\n\u001B[1;32m---> 55\u001B[1;33m         \u001B[0mg\u001B[0m \u001B[1;33m=\u001B[0m \u001B[0mh\u001B[0m \u001B[1;32mif\u001B[0m \u001B[0mg\u001B[0m \u001B[1;32mis\u001B[0m \u001B[1;32mNone\u001B[0m \u001B[1;32melse\u001B[0m \u001B[0mnx\u001B[0m\u001B[1;33m.\u001B[0m\u001B[0mcompose\u001B[0m\u001B[1;33m(\u001B[0m\u001B[0mg\u001B[0m\u001B[1;33m,\u001B[0m \u001B[0mh\u001B[0m\u001B[1;33m)\u001B[0m\u001B[1;33m\u001B[0m\u001B[1;33m\u001B[0m\u001B[0m\n\u001B[0m\u001B[0;32m     56\u001B[0m \u001B[1;33m\u001B[0m\u001B[0m\n\u001B[0;32m     57\u001B[0m     \u001B[0mg\u001B[0m \u001B[1;33m=\u001B[0m \u001B[0mg\u001B[0m\u001B[1;33m.\u001B[0m\u001B[0mto_undirected\u001B[0m\u001B[1;33m(\u001B[0m\u001B[1;33m)\u001B[0m\u001B[1;33m\u001B[0m\u001B[1;33m\u001B[0m\u001B[0m\n",
      "\u001B[1;32mD:\\anaconda3\\envs\\midi2vec\\lib\\site-packages\\networkx\\algorithms\\operators\\binary.py\u001B[0m in \u001B[0;36mcompose\u001B[1;34m(G, H)\u001B[0m\n\u001B[0;32m    340\u001B[0m     \u001B[1;36m100.0\u001B[0m\u001B[1;33m\u001B[0m\u001B[1;33m\u001B[0m\u001B[0m\n\u001B[0;32m    341\u001B[0m     \"\"\"\n\u001B[1;32m--> 342\u001B[1;33m     \u001B[1;32mreturn\u001B[0m \u001B[0mnx\u001B[0m\u001B[1;33m.\u001B[0m\u001B[0mcompose_all\u001B[0m\u001B[1;33m(\u001B[0m\u001B[1;33m[\u001B[0m\u001B[0mG\u001B[0m\u001B[1;33m,\u001B[0m \u001B[0mH\u001B[0m\u001B[1;33m]\u001B[0m\u001B[1;33m)\u001B[0m\u001B[1;33m\u001B[0m\u001B[1;33m\u001B[0m\u001B[0m\n\u001B[0m\u001B[0;32m    343\u001B[0m \u001B[1;33m\u001B[0m\u001B[0m\n\u001B[0;32m    344\u001B[0m \u001B[1;33m\u001B[0m\u001B[0m\n",
      "\u001B[1;32mD:\\anaconda3\\envs\\midi2vec\\lib\\site-packages\\networkx\\algorithms\\operators\\all.py\u001B[0m in \u001B[0;36mcompose_all\u001B[1;34m(graphs)\u001B[0m\n\u001B[0;32m    201\u001B[0m     \u001B[1;32melse\u001B[0m\u001B[1;33m:\u001B[0m\u001B[1;33m\u001B[0m\u001B[1;33m\u001B[0m\u001B[0m\n\u001B[0;32m    202\u001B[0m         \u001B[1;32mfor\u001B[0m \u001B[0mG\u001B[0m \u001B[1;32min\u001B[0m \u001B[0mgraphs\u001B[0m\u001B[1;33m:\u001B[0m\u001B[1;33m\u001B[0m\u001B[1;33m\u001B[0m\u001B[0m\n\u001B[1;32m--> 203\u001B[1;33m             \u001B[0mR\u001B[0m\u001B[1;33m.\u001B[0m\u001B[0madd_edges_from\u001B[0m\u001B[1;33m(\u001B[0m\u001B[0mG\u001B[0m\u001B[1;33m.\u001B[0m\u001B[0medges\u001B[0m\u001B[1;33m(\u001B[0m\u001B[0mdata\u001B[0m\u001B[1;33m=\u001B[0m\u001B[1;32mTrue\u001B[0m\u001B[1;33m)\u001B[0m\u001B[1;33m)\u001B[0m\u001B[1;33m\u001B[0m\u001B[1;33m\u001B[0m\u001B[0m\n\u001B[0m\u001B[0;32m    204\u001B[0m     \u001B[1;32mreturn\u001B[0m \u001B[0mR\u001B[0m\u001B[1;33m\u001B[0m\u001B[1;33m\u001B[0m\u001B[0m\n\u001B[0;32m    205\u001B[0m \u001B[1;33m\u001B[0m\u001B[0m\n",
      "\u001B[1;32mD:\\anaconda3\\envs\\midi2vec\\lib\\site-packages\\networkx\\classes\\digraph.py\u001B[0m in \u001B[0;36madd_edges_from\u001B[1;34m(self, ebunch_to_add, **attr)\u001B[0m\n\u001B[0;32m    705\u001B[0m             \u001B[0mdatadict\u001B[0m \u001B[1;33m=\u001B[0m \u001B[0mself\u001B[0m\u001B[1;33m.\u001B[0m\u001B[0m_adj\u001B[0m\u001B[1;33m[\u001B[0m\u001B[0mu\u001B[0m\u001B[1;33m]\u001B[0m\u001B[1;33m.\u001B[0m\u001B[0mget\u001B[0m\u001B[1;33m(\u001B[0m\u001B[0mv\u001B[0m\u001B[1;33m,\u001B[0m \u001B[0mself\u001B[0m\u001B[1;33m.\u001B[0m\u001B[0medge_attr_dict_factory\u001B[0m\u001B[1;33m(\u001B[0m\u001B[1;33m)\u001B[0m\u001B[1;33m)\u001B[0m\u001B[1;33m\u001B[0m\u001B[1;33m\u001B[0m\u001B[0m\n\u001B[0;32m    706\u001B[0m             \u001B[0mdatadict\u001B[0m\u001B[1;33m.\u001B[0m\u001B[0mupdate\u001B[0m\u001B[1;33m(\u001B[0m\u001B[0mattr\u001B[0m\u001B[1;33m)\u001B[0m\u001B[1;33m\u001B[0m\u001B[1;33m\u001B[0m\u001B[0m\n\u001B[1;32m--> 707\u001B[1;33m             \u001B[0mdatadict\u001B[0m\u001B[1;33m.\u001B[0m\u001B[0mupdate\u001B[0m\u001B[1;33m(\u001B[0m\u001B[0mdd\u001B[0m\u001B[1;33m)\u001B[0m\u001B[1;33m\u001B[0m\u001B[1;33m\u001B[0m\u001B[0m\n\u001B[0m\u001B[0;32m    708\u001B[0m             \u001B[0mself\u001B[0m\u001B[1;33m.\u001B[0m\u001B[0m_succ\u001B[0m\u001B[1;33m[\u001B[0m\u001B[0mu\u001B[0m\u001B[1;33m]\u001B[0m\u001B[1;33m[\u001B[0m\u001B[0mv\u001B[0m\u001B[1;33m]\u001B[0m \u001B[1;33m=\u001B[0m \u001B[0mdatadict\u001B[0m\u001B[1;33m\u001B[0m\u001B[1;33m\u001B[0m\u001B[0m\n\u001B[0;32m    709\u001B[0m             \u001B[0mself\u001B[0m\u001B[1;33m.\u001B[0m\u001B[0m_pred\u001B[0m\u001B[1;33m[\u001B[0m\u001B[0mv\u001B[0m\u001B[1;33m]\u001B[0m\u001B[1;33m[\u001B[0m\u001B[0mu\u001B[0m\u001B[1;33m]\u001B[0m \u001B[1;33m=\u001B[0m \u001B[0mdatadict\u001B[0m\u001B[1;33m\u001B[0m\u001B[1;33m\u001B[0m\u001B[0m\n",
      "\u001B[1;31mKeyboardInterrupt\u001B[0m: "
     ]
    }
   ],
   "source": [
    "# Load the complete graph\n",
    "G = complete_graph(\".\\giantmidi-piano\\edgelist\")"
   ],
   "metadata": {
    "collapsed": false,
    "ExecuteTime": {
     "end_time": "2023-06-18T15:26:09.268064400Z",
     "start_time": "2023-06-18T15:25:31.243058900Z"
    }
   }
  },
  {
   "cell_type": "code",
   "execution_count": null,
   "outputs": [],
   "source": [
    "nodes = pd.DataFrame((list(G.nodes)), columns=['name'])\n",
    "edges = pd.DataFrame(np.array(list(G.edges)), columns=['source', 'target'])"
   ],
   "metadata": {
    "collapsed": false
   }
  },
  {
   "cell_type": "code",
   "execution_count": null,
   "outputs": [],
   "source": [
    "matches = nodes['name'].str.match(r'^-?\\d+(\\.\\d+)?$')\n",
    "\n",
    "nodes[matches]"
   ],
   "metadata": {
    "collapsed": false
   }
  },
  {
   "cell_type": "code",
   "execution_count": null,
   "outputs": [],
   "source": [
    "def node_cat_dict_giant(nodes: pd.DataFrame) -> dict:\n",
    "    \"\"\"Compile all nodes in the nodes Dataframe in a dictionary.\"\"\"\n",
    "    note_groups = [n for n in nodes['name'] if n[0] == 'g' and n[1] in [str(i) for i in range(10)] + ['-']]\n",
    "\n",
    "    # not_group_nodes = [n for n in nodes['name'] if n not in note_groups]\n",
    "    not_group_nodes = list(set(nodes['name']) - set(note_groups))\n",
    "\n",
    "    url = [n for n in not_group_nodes if n[:4] == 'http']\n",
    "    program_nodes = []\n",
    "    note_nodes = []\n",
    "    for u in url:\n",
    "        if \"programs\" in u:\n",
    "            program_nodes.append(u)\n",
    "        elif \"notes\" in u:\n",
    "            note_nodes.append(u)\n",
    "        else:\n",
    "            print(u)\n",
    "\n",
    "    # name_nodes = [n for n in not_group_nodes if '_-_' in n]\n",
    "    # dur_nodes = [n for n in not_group_nodes if n[:3] == 'dur']\n",
    "    # vel_nodes = [n for n in not_group_nodes if n[:3] == 'vel']\n",
    "    # time_nodes = [n for n in not_group_nodes if n[:4] == 'time']\n",
    "    # tempo_nodes = list(set(not_group_nodes) - set(dur_nodes).union(vel_nodes, time_nodes, name_nodes, url))\n",
    "\n",
    "    not_group_url_nodes = list(set(not_group_nodes) - set(url))\n",
    "    name_nodes = []\n",
    "    dur_nodes = []\n",
    "    vel_nodes = []\n",
    "    time_nodes = []\n",
    "    tempo_nodes = []\n",
    "    for n in not_group_url_nodes:\n",
    "        if n[0] == '-' :\n",
    "            name_nodes.append(n)\n",
    "        elif n[:3] == 'dur':\n",
    "            dur_nodes.append(n)\n",
    "        elif n[:3] == 'vel':\n",
    "            vel_nodes.append(n)\n",
    "        elif n[:4] == 'time':\n",
    "            time_nodes.append(n)\n",
    "        else:\n",
    "            tempo_nodes.append(n)\n",
    "\n",
    "    node_categories = {\"note_group\": note_groups,\n",
    "                       \"pitch\": note_nodes,\n",
    "                       \"program\": program_nodes,\n",
    "                       \"MIDI\": name_nodes,\n",
    "                       \"duration\": dur_nodes,\n",
    "                       \"velocity\": vel_nodes,\n",
    "                       \"time_sig\": time_nodes,\n",
    "                       \"tempo\": tempo_nodes\n",
    "                       }\n",
    "    return node_categories\n"
   ],
   "metadata": {
    "collapsed": false
   }
  },
  {
   "cell_type": "code",
   "execution_count": null,
   "outputs": [],
   "source": [
    "node_categories = node_cat_dict_giant(nodes)\n",
    "node_categories.keys()"
   ],
   "metadata": {
    "collapsed": false
   }
  },
  {
   "cell_type": "code",
   "execution_count": null,
   "outputs": [],
   "source": [
    "nodes_df_complete = pd.read_csv('.\\giantmidi-piano\\complete_csv\\\\nodes_complete.csv')\n",
    "edges_df_complete = pd.read_csv('.\\giantmidi-piano\\complete_csv\\edges_complete.csv')\n",
    "print('Done')"
   ],
   "metadata": {
    "collapsed": false
   }
  },
  {
   "cell_type": "code",
   "execution_count": null,
   "outputs": [],
   "source": [
    "nodes_df_complete"
   ],
   "metadata": {
    "collapsed": false
   }
  },
  {
   "cell_type": "code",
   "execution_count": null,
   "outputs": [],
   "source": [
    "list(set(edges_df_complete['edge_type']))"
   ],
   "metadata": {
    "collapsed": false
   }
  },
  {
   "cell_type": "code",
   "execution_count": null,
   "outputs": [],
   "source": [
    "node_types = set(nodes_df_complete['node_type'])\n",
    "node_types"
   ],
   "metadata": {
    "collapsed": false
   }
  },
  {
   "cell_type": "code",
   "execution_count": null,
   "outputs": [],
   "source": [
    "edge_types = [\"MIDI__has__tempo\",\n",
    "              \"MIDI__in__time_sig\",\n",
    "              \"MIDI__has__program\",\n",
    "              \"MIDI__has__note_group\",\n",
    "              \"note_group__has__velocity\",\n",
    "              \"note_group__has__duration\",\n",
    "              \"note_group__contains__pitch\"]"
   ],
   "metadata": {
    "collapsed": false
   }
  },
  {
   "cell_type": "code",
   "execution_count": null,
   "outputs": [],
   "source": [
    "names_list = flatten_lol(node_categories.values())"
   ],
   "metadata": {
    "collapsed": false
   }
  },
  {
   "cell_type": "code",
   "execution_count": null,
   "outputs": [],
   "source": [
    "encoder = Encoder(names_list, n_labels=15)"
   ],
   "metadata": {
    "collapsed": false
   }
  },
  {
   "cell_type": "code",
   "execution_count": null,
   "outputs": [],
   "source": [
    "input_node_dict = {node_type: {'x': encoder.\n",
    "                    encode_nodes(nodes_df_complete.\n",
    "                    loc[nodes_df_complete['node_type'] == node_type, ['name']])}\n",
    "                    for node_type in node_types}"
   ],
   "metadata": {
    "collapsed": false
   }
  },
  {
   "cell_type": "code",
   "execution_count": null,
   "outputs": [],
   "source": [
    "node_enc_to_idx = {node_type: {encoder.decode_value(node_enc.item()): i for i, node_enc in enumerate(input_node_dict[node_type]['x'])} for node_type in node_types}"
   ],
   "metadata": {
    "collapsed": false
   }
  },
  {
   "cell_type": "code",
   "execution_count": null,
   "outputs": [],
   "source": [
    "input_edge_dict = dict()\n",
    "for edge_type in edge_types:\n",
    "    node_type_s, node_type_t = edge_type.split('__')[0], edge_type.split('__')[2]\n",
    "\n",
    "    edge_df = edges_df_complete.loc[edges_df_complete['edge_type'] == edge_type, ['source', 'target']].copy()\n",
    "\n",
    "    edge_df['source'], edge_df['target'] = edge_df['source'].map(node_enc_to_idx[node_type_s]), edge_df['target'].map(node_enc_to_idx[node_type_t])\n",
    "\n",
    "    input_edge_dict[edge_type] = {'edge_index': torch.tensor(edge_df.values).T}\n"
   ],
   "metadata": {
    "collapsed": false
   }
  },
  {
   "cell_type": "code",
   "execution_count": null,
   "outputs": [],
   "source": [
    "# Extract the label of each Midi.\n",
    "midi_val = nodes_df_complete.loc[nodes_df_complete['node_type'] == 'MIDI', ['name']].values"
   ],
   "metadata": {
    "collapsed": false
   }
  },
  {
   "cell_type": "code",
   "execution_count": null,
   "outputs": [],
   "source": [
    "def midi_composer(midi_name: str) -> str:\n",
    "        return midi_name.split('+_')[0].replace('-', \"\")\n"
   ],
   "metadata": {
    "collapsed": false
   }
  },
  {
   "cell_type": "code",
   "execution_count": null,
   "outputs": [],
   "source": [
    "midi_classes = [midi_composer(s[0]) for s in midi_val]\n"
   ],
   "metadata": {
    "collapsed": false
   }
  },
  {
   "cell_type": "code",
   "execution_count": null,
   "outputs": [],
   "source": [
    "lb = LabelEncoder()\n",
    "y = torch.from_numpy(lb.fit_transform(midi_classes)) # .type(torch.LongTensor)\n",
    "\n",
    "lb.classes_"
   ],
   "metadata": {
    "collapsed": false
   }
  },
  {
   "cell_type": "code",
   "execution_count": null,
   "outputs": [],
   "source": [
    "input_node_dict['MIDI']['y'] = y\n"
   ],
   "metadata": {
    "collapsed": false
   }
  },
  {
   "cell_type": "code",
   "execution_count": null,
   "outputs": [],
   "source": [
    "H = HeteroData(input_node_dict, **input_edge_dict).to(device)"
   ],
   "metadata": {
    "collapsed": false
   }
  },
  {
   "cell_type": "code",
   "execution_count": null,
   "outputs": [],
   "source": [
    "print(H)"
   ],
   "metadata": {
    "collapsed": false
   }
  },
  {
   "cell_type": "code",
   "execution_count": null,
   "outputs": [],
   "source": [
    "# To enable 2-way message passing\n",
    "H = T.ToUndirected()(H)"
   ],
   "metadata": {
    "collapsed": false
   }
  },
  {
   "cell_type": "code",
   "execution_count": null,
   "outputs": [],
   "source": [
    "H = T.RandomNodeSplit(num_val=0.1, num_test=0.2)(H)"
   ],
   "metadata": {
    "collapsed": false
   }
  },
  {
   "cell_type": "code",
   "execution_count": null,
   "outputs": [],
   "source": [
    "print(H)"
   ],
   "metadata": {
    "collapsed": false
   }
  },
  {
   "cell_type": "markdown",
   "source": [
    "# GNN"
   ],
   "metadata": {
    "collapsed": false
   }
  },
  {
   "cell_type": "code",
   "execution_count": 172,
   "outputs": [
    {
     "data": {
      "text/plain": "GraphModule(\n  (conv2): ModuleDict(\n    (MIDI__has__tempo): SAGEConv((-1, -1), 64, aggr=mean)\n    (MIDI__in__time_sig): SAGEConv((-1, -1), 64, aggr=mean)\n    (MIDI__has__program): SAGEConv((-1, -1), 64, aggr=mean)\n    (MIDI__has__note_group): SAGEConv((-1, -1), 64, aggr=mean)\n    (note_group__has__velocity): SAGEConv((-1, -1), 64, aggr=mean)\n    (note_group__has__duration): SAGEConv((-1, -1), 64, aggr=mean)\n    (note_group__contains__pitch): SAGEConv((-1, -1), 64, aggr=mean)\n    (tempo__rev_has__MIDI): SAGEConv((-1, -1), 64, aggr=mean)\n    (time_sig__rev_in__MIDI): SAGEConv((-1, -1), 64, aggr=mean)\n    (program__rev_has__MIDI): SAGEConv((-1, -1), 64, aggr=mean)\n    (note_group__rev_has__MIDI): SAGEConv((-1, -1), 64, aggr=mean)\n    (velocity__rev_has__note_group): SAGEConv((-1, -1), 64, aggr=mean)\n    (duration__rev_has__note_group): SAGEConv((-1, -1), 64, aggr=mean)\n    (pitch__rev_contains__note_group): SAGEConv((-1, -1), 64, aggr=mean)\n  )\n  (conv1): ModuleDict(\n    (MIDI__has__tempo): SAGEConv((-1, -1), 64, aggr=mean)\n    (MIDI__in__time_sig): SAGEConv((-1, -1), 64, aggr=mean)\n    (MIDI__has__program): SAGEConv((-1, -1), 64, aggr=mean)\n    (MIDI__has__note_group): SAGEConv((-1, -1), 64, aggr=mean)\n    (note_group__has__velocity): SAGEConv((-1, -1), 64, aggr=mean)\n    (note_group__has__duration): SAGEConv((-1, -1), 64, aggr=mean)\n    (note_group__contains__pitch): SAGEConv((-1, -1), 64, aggr=mean)\n    (tempo__rev_has__MIDI): SAGEConv((-1, -1), 64, aggr=mean)\n    (time_sig__rev_in__MIDI): SAGEConv((-1, -1), 64, aggr=mean)\n    (program__rev_has__MIDI): SAGEConv((-1, -1), 64, aggr=mean)\n    (note_group__rev_has__MIDI): SAGEConv((-1, -1), 64, aggr=mean)\n    (velocity__rev_has__note_group): SAGEConv((-1, -1), 64, aggr=mean)\n    (duration__rev_has__note_group): SAGEConv((-1, -1), 64, aggr=mean)\n    (pitch__rev_contains__note_group): SAGEConv((-1, -1), 64, aggr=mean)\n  )\n  (lin): Linear(64, 15, bias=True)\n)"
     },
     "execution_count": 172,
     "metadata": {},
     "output_type": "execute_result"
    }
   ],
   "source": [
    "class GCN(torch.nn.Module):\n",
    "    def __init__(self, hidden_channels, out_channels, drop_layer: bool=False, drop_rate: float=0.5):\n",
    "        super().__init__()\n",
    "        self.conv1 = SAGEConv((-1, -1), hidden_channels)\n",
    "        self.conv2 = SAGEConv((-1, -1), hidden_channels)\n",
    "        self.lin = Linear(hidden_channels, out_channels)\n",
    "        self.drop = drop_layer\n",
    "        self.drop_rate = drop_rate\n",
    "\n",
    "    def forward(self, x, edge_index):\n",
    "        if self.drop:\n",
    "            x = F.dropout(x, p=self.drop_rate, training=self.training)\n",
    "            x = self.conv2(x, edge_index).relu()\n",
    "            x = F.dropout(x, p=self.drop_rate, training=self.training)\n",
    "            x = self.conv1(x, edge_index)\n",
    "\n",
    "        else:\n",
    "            x = self.conv1(x, edge_index).relu()\n",
    "            x = self.conv2(x, edge_index)\n",
    "        return x\n",
    "\n",
    "    def _init_weights(self):\n",
    "        # Custom weight initialization\n",
    "        nn.init.kaiming_normal_(self.conv1.weight)\n",
    "        nn.init.zeros_(self.conv1.bias)\n",
    "        nn.init.kaiming_normal_(self.conv2.weight)\n",
    "        nn.init.zeros_(self.conv2.bias)\n",
    "\n",
    "model = GCN(hidden_channels=64, out_channels=len(set(lb.classes_)), drop_layer=True, drop_rate = .5)\n",
    "model = to_hetero(model, H.metadata(), aggr='sum')\n",
    "model.to(device)"
   ],
   "metadata": {
    "collapsed": false,
    "ExecuteTime": {
     "end_time": "2023-06-18T15:46:45.438655600Z",
     "start_time": "2023-06-18T15:46:45.373489600Z"
    }
   }
  },
  {
   "cell_type": "code",
   "execution_count": 173,
   "outputs": [],
   "source": [
    "optimizer_name = \"Adam\"\n",
    "optimizer = torch.optim.Adam(model.parameters(), lr=0.01)"
   ],
   "metadata": {
    "collapsed": false,
    "ExecuteTime": {
     "end_time": "2023-06-18T15:46:45.438655600Z",
     "start_time": "2023-06-18T15:46:45.415633900Z"
    }
   }
  },
  {
   "cell_type": "code",
   "execution_count": 174,
   "outputs": [],
   "source": [
    "def train():\n",
    "    model.train()\n",
    "    optimizer.zero_grad()\n",
    "    out = model(H.x_dict, H.edge_index_dict)\n",
    "    mask = H['MIDI'].train_mask\n",
    "    loss = F.cross_entropy(out['MIDI'][mask], H['MIDI'].y[mask])\n",
    "    loss.backward()\n",
    "    optimizer.step()\n",
    "    return float(loss)"
   ],
   "metadata": {
    "collapsed": false,
    "ExecuteTime": {
     "end_time": "2023-06-18T15:46:45.438655600Z",
     "start_time": "2023-06-18T15:46:45.416635300Z"
    }
   }
  },
  {
   "cell_type": "code",
   "execution_count": 175,
   "outputs": [],
   "source": [
    "@torch.no_grad()\n",
    "def test():\n",
    "    model.eval()\n",
    "    pred = model(H.x_dict, H.edge_index_dict)['MIDI'].argmax(dim=-1)\n",
    "\n",
    "    accs = []\n",
    "\n",
    "    for mask in [H['MIDI'].train_mask, H['MIDI'].val_mask, H['MIDI'].test_mask]:\n",
    "        accs.append(int((pred[mask] == H['MIDI'].y[mask]).sum()) / int(mask.sum()))\n",
    "    return accs"
   ],
   "metadata": {
    "collapsed": false,
    "ExecuteTime": {
     "end_time": "2023-06-18T15:46:45.450667100Z",
     "start_time": "2023-06-18T15:46:45.432649800Z"
    }
   }
  },
  {
   "cell_type": "code",
   "execution_count": 176,
   "outputs": [
    {
     "name": "stdout",
     "output_type": "stream",
     "text": [
      "Epoch: 001, Loss: 1741170.7500, Train: 0.0648, Val: 0.0400, Test: 0.0333\n",
      "Epoch: 002, Loss: 1143071.5000, Train: 0.0800, Val: 0.0933, Test: 0.0533\n",
      "Epoch: 003, Loss: 1385146.3750, Train: 0.0533, Val: 0.0533, Test: 0.0467\n",
      "Epoch: 004, Loss: 1306945.7500, Train: 0.0724, Val: 0.0533, Test: 0.0933\n",
      "Epoch: 005, Loss: 1148028.3750, Train: 0.0667, Val: 0.0533, Test: 0.0800\n",
      "Epoch: 006, Loss: 1615086.5000, Train: 0.0667, Val: 0.0533, Test: 0.0800\n",
      "Epoch: 007, Loss: 1053155.8750, Train: 0.0705, Val: 0.0533, Test: 0.1067\n",
      "Epoch: 008, Loss: 1026227.3125, Train: 0.0610, Val: 0.0933, Test: 0.0600\n",
      "Epoch: 009, Loss: 1616230.5000, Train: 0.0590, Val: 0.1200, Test: 0.0533\n",
      "Epoch: 010, Loss: 1567386.2500, Train: 0.0781, Val: 0.0800, Test: 0.0533\n",
      "Epoch: 011, Loss: 1026355.9375, Train: 0.0743, Val: 0.1333, Test: 0.0600\n",
      "Epoch: 012, Loss: 903541.0625, Train: 0.0743, Val: 0.0933, Test: 0.0467\n",
      "Epoch: 013, Loss: 554898.9375, Train: 0.0743, Val: 0.0933, Test: 0.0467\n",
      "Epoch: 014, Loss: 1183483.0000, Train: 0.0800, Val: 0.0800, Test: 0.0600\n",
      "Epoch: 015, Loss: 1354740.0000, Train: 0.0724, Val: 0.0267, Test: 0.0600\n",
      "Epoch: 016, Loss: 1046834.2500, Train: 0.0743, Val: 0.0800, Test: 0.0533\n",
      "Epoch: 017, Loss: 960228.4375, Train: 0.0819, Val: 0.0800, Test: 0.1000\n",
      "Epoch: 018, Loss: 1051798.6250, Train: 0.0762, Val: 0.0800, Test: 0.0733\n",
      "Epoch: 019, Loss: 1161938.2500, Train: 0.0705, Val: 0.0400, Test: 0.1000\n",
      "Epoch: 020, Loss: 1042190.7500, Train: 0.0914, Val: 0.0133, Test: 0.1067\n",
      "Epoch: 021, Loss: 633050.8125, Train: 0.0724, Val: 0.0400, Test: 0.0800\n",
      "Epoch: 022, Loss: 732046.8125, Train: 0.0838, Val: 0.0400, Test: 0.0733\n",
      "Epoch: 023, Loss: 1268288.6250, Train: 0.0800, Val: 0.0933, Test: 0.0400\n",
      "Epoch: 024, Loss: 835461.2500, Train: 0.0686, Val: 0.0400, Test: 0.0733\n",
      "Epoch: 025, Loss: 1048531.6250, Train: 0.0914, Val: 0.1600, Test: 0.1200\n",
      "Epoch: 026, Loss: 548230.6875, Train: 0.0724, Val: 0.0400, Test: 0.0733\n",
      "Epoch: 027, Loss: 958056.5625, Train: 0.0781, Val: 0.0800, Test: 0.0733\n",
      "Epoch: 028, Loss: 840238.4375, Train: 0.0724, Val: 0.0533, Test: 0.0733\n",
      "Epoch: 029, Loss: 848769.5625, Train: 0.0610, Val: 0.0400, Test: 0.0600\n",
      "Epoch: 030, Loss: 635902.8750, Train: 0.0648, Val: 0.0800, Test: 0.0667\n",
      "Epoch: 031, Loss: 964613.8750, Train: 0.0705, Val: 0.0933, Test: 0.0600\n",
      "Epoch: 032, Loss: 760242.6875, Train: 0.0952, Val: 0.1333, Test: 0.0800\n",
      "Epoch: 033, Loss: 1105426.5000, Train: 0.0800, Val: 0.0800, Test: 0.0600\n",
      "Epoch: 034, Loss: 676651.8125, Train: 0.0724, Val: 0.1067, Test: 0.0867\n",
      "Epoch: 035, Loss: 1203289.7500, Train: 0.0724, Val: 0.0800, Test: 0.0467\n",
      "Epoch: 036, Loss: 740640.5000, Train: 0.0686, Val: 0.0533, Test: 0.0800\n",
      "Epoch: 037, Loss: 1132123.6250, Train: 0.0800, Val: 0.0667, Test: 0.0600\n",
      "Epoch: 038, Loss: 1206448.6250, Train: 0.0895, Val: 0.0667, Test: 0.0933\n",
      "Epoch: 039, Loss: 809146.1875, Train: 0.0590, Val: 0.0533, Test: 0.0867\n",
      "Epoch: 040, Loss: 701073.6250, Train: 0.1067, Val: 0.0933, Test: 0.0867\n",
      "Epoch: 041, Loss: 975241.2500, Train: 0.0667, Val: 0.0267, Test: 0.0867\n",
      "Epoch: 042, Loss: 837934.9375, Train: 0.0590, Val: 0.0267, Test: 0.0667\n",
      "Epoch: 043, Loss: 833910.4375, Train: 0.0952, Val: 0.0400, Test: 0.0733\n",
      "Epoch: 044, Loss: 935010.4375, Train: 0.1067, Val: 0.0800, Test: 0.0867\n",
      "Epoch: 045, Loss: 365444.3438, Train: 0.0819, Val: 0.0800, Test: 0.1000\n",
      "Epoch: 046, Loss: 625825.0625, Train: 0.1048, Val: 0.1333, Test: 0.1200\n",
      "Epoch: 047, Loss: 655917.8750, Train: 0.0990, Val: 0.0800, Test: 0.0800\n",
      "Epoch: 048, Loss: 411671.8438, Train: 0.0724, Val: 0.0800, Test: 0.1200\n",
      "Epoch: 049, Loss: 596989.8750, Train: 0.0686, Val: 0.1067, Test: 0.0533\n",
      "Epoch: 050, Loss: 523098.5625, Train: 0.0686, Val: 0.1067, Test: 0.0867\n",
      "Epoch: 051, Loss: 1085514.7500, Train: 0.1200, Val: 0.0400, Test: 0.0933\n",
      "Epoch: 052, Loss: 828210.3125, Train: 0.1048, Val: 0.0533, Test: 0.1133\n",
      "Epoch: 053, Loss: 679413.1875, Train: 0.1105, Val: 0.1333, Test: 0.1000\n",
      "Epoch: 054, Loss: 510301.7812, Train: 0.1219, Val: 0.1067, Test: 0.1400\n",
      "Epoch: 055, Loss: 560983.8750, Train: 0.1295, Val: 0.1067, Test: 0.1200\n",
      "Epoch: 056, Loss: 619883.0625, Train: 0.1162, Val: 0.1200, Test: 0.1067\n",
      "Epoch: 057, Loss: 428705.3438, Train: 0.1181, Val: 0.1200, Test: 0.1133\n",
      "Epoch: 058, Loss: 817071.6875, Train: 0.0990, Val: 0.1067, Test: 0.1133\n",
      "Epoch: 059, Loss: 500805.0625, Train: 0.0667, Val: 0.0933, Test: 0.0733\n",
      "Epoch: 060, Loss: 761780.5625, Train: 0.1143, Val: 0.0933, Test: 0.1067\n",
      "Epoch: 061, Loss: 754205.6250, Train: 0.1295, Val: 0.1333, Test: 0.1533\n",
      "Epoch: 062, Loss: 626451.5000, Train: 0.1086, Val: 0.0933, Test: 0.1000\n"
     ]
    },
    {
     "ename": "KeyboardInterrupt",
     "evalue": "",
     "output_type": "error",
     "traceback": [
      "\u001B[1;31m---------------------------------------------------------------------------\u001B[0m",
      "\u001B[1;31mKeyboardInterrupt\u001B[0m                         Traceback (most recent call last)",
      "\u001B[1;32m~\\AppData\\Local\\Temp\\ipykernel_17776\\1247691125.py\u001B[0m in \u001B[0;36m<module>\u001B[1;34m\u001B[0m\n\u001B[0;32m      4\u001B[0m \u001B[1;32mfor\u001B[0m \u001B[0mepoch\u001B[0m \u001B[1;32min\u001B[0m \u001B[0mrange\u001B[0m\u001B[1;33m(\u001B[0m\u001B[1;36m1\u001B[0m\u001B[1;33m,\u001B[0m \u001B[1;36m801\u001B[0m\u001B[1;33m)\u001B[0m\u001B[1;33m:\u001B[0m\u001B[1;33m\u001B[0m\u001B[1;33m\u001B[0m\u001B[0m\n\u001B[0;32m      5\u001B[0m     \u001B[0mloss\u001B[0m \u001B[1;33m=\u001B[0m \u001B[0mtrain\u001B[0m\u001B[1;33m(\u001B[0m\u001B[1;33m)\u001B[0m\u001B[1;33m\u001B[0m\u001B[1;33m\u001B[0m\u001B[0m\n\u001B[1;32m----> 6\u001B[1;33m     \u001B[0mtrain_acc\u001B[0m\u001B[1;33m,\u001B[0m \u001B[0mval_acc\u001B[0m\u001B[1;33m,\u001B[0m \u001B[0mtest_acc\u001B[0m \u001B[1;33m=\u001B[0m \u001B[0mtest\u001B[0m\u001B[1;33m(\u001B[0m\u001B[1;33m)\u001B[0m\u001B[1;33m\u001B[0m\u001B[1;33m\u001B[0m\u001B[0m\n\u001B[0m\u001B[0;32m      7\u001B[0m \u001B[1;33m\u001B[0m\u001B[0m\n\u001B[0;32m      8\u001B[0m     \u001B[0mloss_list\u001B[0m\u001B[1;33m.\u001B[0m\u001B[0mappend\u001B[0m\u001B[1;33m(\u001B[0m\u001B[0mloss\u001B[0m\u001B[1;33m)\u001B[0m\u001B[1;33m\u001B[0m\u001B[1;33m\u001B[0m\u001B[0m\n",
      "\u001B[1;32mD:\\anaconda3\\envs\\midi2vec\\lib\\site-packages\\torch\\utils\\_contextlib.py\u001B[0m in \u001B[0;36mdecorate_context\u001B[1;34m(*args, **kwargs)\u001B[0m\n\u001B[0;32m    113\u001B[0m     \u001B[1;32mdef\u001B[0m \u001B[0mdecorate_context\u001B[0m\u001B[1;33m(\u001B[0m\u001B[1;33m*\u001B[0m\u001B[0margs\u001B[0m\u001B[1;33m,\u001B[0m \u001B[1;33m**\u001B[0m\u001B[0mkwargs\u001B[0m\u001B[1;33m)\u001B[0m\u001B[1;33m:\u001B[0m\u001B[1;33m\u001B[0m\u001B[1;33m\u001B[0m\u001B[0m\n\u001B[0;32m    114\u001B[0m         \u001B[1;32mwith\u001B[0m \u001B[0mctx_factory\u001B[0m\u001B[1;33m(\u001B[0m\u001B[1;33m)\u001B[0m\u001B[1;33m:\u001B[0m\u001B[1;33m\u001B[0m\u001B[1;33m\u001B[0m\u001B[0m\n\u001B[1;32m--> 115\u001B[1;33m             \u001B[1;32mreturn\u001B[0m \u001B[0mfunc\u001B[0m\u001B[1;33m(\u001B[0m\u001B[1;33m*\u001B[0m\u001B[0margs\u001B[0m\u001B[1;33m,\u001B[0m \u001B[1;33m**\u001B[0m\u001B[0mkwargs\u001B[0m\u001B[1;33m)\u001B[0m\u001B[1;33m\u001B[0m\u001B[1;33m\u001B[0m\u001B[0m\n\u001B[0m\u001B[0;32m    116\u001B[0m \u001B[1;33m\u001B[0m\u001B[0m\n\u001B[0;32m    117\u001B[0m     \u001B[1;32mreturn\u001B[0m \u001B[0mdecorate_context\u001B[0m\u001B[1;33m\u001B[0m\u001B[1;33m\u001B[0m\u001B[0m\n",
      "\u001B[1;32m~\\AppData\\Local\\Temp\\ipykernel_17776\\190595971.py\u001B[0m in \u001B[0;36mtest\u001B[1;34m()\u001B[0m\n\u001B[0;32m      7\u001B[0m \u001B[1;33m\u001B[0m\u001B[0m\n\u001B[0;32m      8\u001B[0m     \u001B[1;32mfor\u001B[0m \u001B[0mmask\u001B[0m \u001B[1;32min\u001B[0m \u001B[1;33m[\u001B[0m\u001B[0mH\u001B[0m\u001B[1;33m[\u001B[0m\u001B[1;34m'MIDI'\u001B[0m\u001B[1;33m]\u001B[0m\u001B[1;33m.\u001B[0m\u001B[0mtrain_mask\u001B[0m\u001B[1;33m,\u001B[0m \u001B[0mH\u001B[0m\u001B[1;33m[\u001B[0m\u001B[1;34m'MIDI'\u001B[0m\u001B[1;33m]\u001B[0m\u001B[1;33m.\u001B[0m\u001B[0mval_mask\u001B[0m\u001B[1;33m,\u001B[0m \u001B[0mH\u001B[0m\u001B[1;33m[\u001B[0m\u001B[1;34m'MIDI'\u001B[0m\u001B[1;33m]\u001B[0m\u001B[1;33m.\u001B[0m\u001B[0mtest_mask\u001B[0m\u001B[1;33m]\u001B[0m\u001B[1;33m:\u001B[0m\u001B[1;33m\u001B[0m\u001B[1;33m\u001B[0m\u001B[0m\n\u001B[1;32m----> 9\u001B[1;33m         \u001B[0maccs\u001B[0m\u001B[1;33m.\u001B[0m\u001B[0mappend\u001B[0m\u001B[1;33m(\u001B[0m\u001B[0mint\u001B[0m\u001B[1;33m(\u001B[0m\u001B[1;33m(\u001B[0m\u001B[0mpred\u001B[0m\u001B[1;33m[\u001B[0m\u001B[0mmask\u001B[0m\u001B[1;33m]\u001B[0m \u001B[1;33m==\u001B[0m \u001B[0mH\u001B[0m\u001B[1;33m[\u001B[0m\u001B[1;34m'MIDI'\u001B[0m\u001B[1;33m]\u001B[0m\u001B[1;33m.\u001B[0m\u001B[0my\u001B[0m\u001B[1;33m[\u001B[0m\u001B[0mmask\u001B[0m\u001B[1;33m]\u001B[0m\u001B[1;33m)\u001B[0m\u001B[1;33m.\u001B[0m\u001B[0msum\u001B[0m\u001B[1;33m(\u001B[0m\u001B[1;33m)\u001B[0m\u001B[1;33m)\u001B[0m \u001B[1;33m/\u001B[0m \u001B[0mint\u001B[0m\u001B[1;33m(\u001B[0m\u001B[0mmask\u001B[0m\u001B[1;33m.\u001B[0m\u001B[0msum\u001B[0m\u001B[1;33m(\u001B[0m\u001B[1;33m)\u001B[0m\u001B[1;33m)\u001B[0m\u001B[1;33m)\u001B[0m\u001B[1;33m\u001B[0m\u001B[1;33m\u001B[0m\u001B[0m\n\u001B[0m\u001B[0;32m     10\u001B[0m     \u001B[1;32mreturn\u001B[0m \u001B[0maccs\u001B[0m\u001B[1;33m\u001B[0m\u001B[1;33m\u001B[0m\u001B[0m\n",
      "\u001B[1;31mKeyboardInterrupt\u001B[0m: "
     ]
    }
   ],
   "source": [
    "acc_lists = {'train': [], 'val': [], 'test': []}\n",
    "loss_list = []\n",
    "\n",
    "for epoch in range(1, 801):\n",
    "    loss = train()\n",
    "    train_acc, val_acc, test_acc = test()\n",
    "\n",
    "    loss_list.append(loss)\n",
    "\n",
    "    acc_lists['train'].append(train_acc)\n",
    "    acc_lists['val'].append(val_acc)\n",
    "    acc_lists['test'].append(test_acc)\n",
    "\n",
    "    print(f'Epoch: {epoch:03d}, Loss: {loss:.4f}, Train: {train_acc:.4f}, '\n",
    "          f'Val: {val_acc:.4f}, Test: {test_acc:.4f}')"
   ],
   "metadata": {
    "collapsed": false,
    "ExecuteTime": {
     "end_time": "2023-06-18T15:51:22.270553800Z",
     "start_time": "2023-06-18T15:46:45.450667100Z"
    }
   }
  },
  {
   "cell_type": "code",
   "execution_count": null,
   "outputs": [],
   "source": [
    "plot_4graphs(loss_list, acc_lists)"
   ],
   "metadata": {
    "collapsed": false
   }
  },
  {
   "cell_type": "code",
   "execution_count": null,
   "outputs": [],
   "source": [
    "mask = H['MIDI'].test_mask\n",
    "\n",
    "predicted = model(H.x_dict, H.edge_index_dict)['MIDI'].argmax(dim=-1)[mask]\n",
    "\n",
    "predicted"
   ],
   "metadata": {
    "collapsed": false
   }
  },
  {
   "cell_type": "code",
   "execution_count": null,
   "outputs": [],
   "source": [
    "\n",
    "disp = ConfusionMatrixDisplay.from_predictions(y_true=lb.inverse_transform(H['MIDI'].y[mask].to('cpu')), y_pred=lb.inverse_transform(predicted.to('cpu')), cmap='bone', normalize='true')\n",
    "\n",
    "disp.figure_.set_size_inches(20, 16)\n",
    "disp.ax_.set_title('GiantMIDI-Piano Composer')\n",
    "\n",
    "disp.figure_.savefig(\".\\giantmidi-piano\\giantmidi_conf_matrix1.png\")\n",
    "plt.show()"
   ],
   "metadata": {
    "collapsed": false
   }
  },
  {
   "cell_type": "code",
   "execution_count": null,
   "outputs": [],
   "source": [
    "winsound.Beep(400, 700)"
   ],
   "metadata": {
    "collapsed": false
   }
  },
  {
   "cell_type": "code",
   "execution_count": null,
   "outputs": [],
   "source": [],
   "metadata": {
    "collapsed": false
   }
  }
 ],
 "metadata": {
  "kernelspec": {
   "display_name": "Python 3",
   "language": "python",
   "name": "python3"
  },
  "language_info": {
   "codemirror_mode": {
    "name": "ipython",
    "version": 2
   },
   "file_extension": ".py",
   "mimetype": "text/x-python",
   "name": "python",
   "nbconvert_exporter": "python",
   "pygments_lexer": "ipython2",
   "version": "2.7.6"
  }
 },
 "nbformat": 4,
 "nbformat_minor": 0
}
