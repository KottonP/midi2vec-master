{
 "cells": [
  {
   "cell_type": "code",
   "execution_count": 26,
   "metadata": {},
   "outputs": [
    {
     "name": "stdout",
     "output_type": "stream",
     "text": [
      "1.7.3\n",
      "3.6.2\n",
      "2.8.4\n"
     ]
    }
   ],
   "source": [
    "import time\n",
    "import scipy\n",
    "import numpy as np\n",
    "import pandas as pd\n",
    "import winsound\n",
    "\n",
    "import networkx as nx\n",
    "import matplotlib\n",
    "\n",
    "from sklearn.preprocessing import LabelEncoder\n",
    "import torch\n",
    "from torch_geometric.data import HeteroData\n",
    "\n",
    "from HeteroDataFunctions import Encoder, add_types, complete_graph, flatten_lol, node_cat_dict, midi_type\n",
    "\n",
    "print(scipy.__version__)\n",
    "print(matplotlib.__version__)\n",
    "print(nx.__version__)"
   ]
  },
  {
   "cell_type": "markdown",
   "source": [
    "# 3 Songs Example"
   ],
   "metadata": {
    "collapsed": false
   }
  },
  {
   "cell_type": "code",
   "execution_count": 2,
   "metadata": {},
   "outputs": [
    {
     "name": "stdout",
     "output_type": "stream",
     "text": [
      "loading edgelists...\n",
      "- full_edgelist.edgelist\n",
      "- notes.edgelist\n",
      "- program.edgelist\n",
      "- tempo.edgelist\n",
      "- time.signature.edgelist\n",
      "Nodes: 2703\n",
      "Edges: 19366\n"
     ]
    }
   ],
   "source": [
    "G = complete_graph(\".\\slac\\embeddings\\Test Edgelists\")"
   ]
  },
  {
   "cell_type": "code",
   "execution_count": 3,
   "metadata": {},
   "outputs": [],
   "source": [
    "nodes = pd.DataFrame((list(G.nodes)), columns=['name'])\n",
    "edges = pd.DataFrame(np.array(list(G.edges)), columns=['source', 'target'])"
   ]
  },
  {
   "cell_type": "code",
   "execution_count": 4,
   "metadata": {},
   "outputs": [
    {
     "name": "stdout",
     "output_type": "stream",
     "text": [
      "node_cat_dict took 0.01 secs to run\n"
     ]
    },
    {
     "data": {
      "text/plain": "dict_keys(['note_group', 'pitch', 'program', 'MIDI', 'duration', 'velocity', 'time_sig', 'tempo'])"
     },
     "execution_count": 4,
     "metadata": {},
     "output_type": "execute_result"
    }
   ],
   "source": [
    "node_categories = node_cat_dict(nodes)\n",
    "\n",
    "node_categories.keys()"
   ]
  },
  {
   "cell_type": "code",
   "execution_count": 5,
   "outputs": [
    {
     "data": {
      "text/plain": "['9', '6', '11']"
     },
     "execution_count": 5,
     "metadata": {},
     "output_type": "execute_result"
    }
   ],
   "source": [
    "node_categories['tempo']"
   ],
   "metadata": {
    "collapsed": false
   }
  },
  {
   "cell_type": "code",
   "execution_count": 6,
   "metadata": {},
   "outputs": [],
   "source": [
    "main_edge_types = [\"MIDI__has__tempo\",\n",
    "                   \"MIDI__in__time_sig\",\n",
    "                   \"MIDI__has__program\",\n",
    "                   \"MIDI__has__note_group\",\n",
    "                   \"note_group__has__velocity\",\n",
    "                   \"note_group__has__duration\",\n",
    "                   \"note_group__contains__pitch\"]\n",
    "\n"
   ]
  },
  {
   "cell_type": "code",
   "execution_count": 7,
   "metadata": {},
   "outputs": [
    {
     "name": "stdout",
     "output_type": "stream",
     "text": [
      "add_node_type took 0.54 secs to run\n",
      "add_edge_type took 3.01 secs to run\n",
      "add_types took 3.55 secs to run\n"
     ]
    }
   ],
   "source": [
    "nodes_f, edges_f = add_types(nodes, edges, node_categories)\n"
   ]
  },
  {
   "cell_type": "code",
   "execution_count": 8,
   "outputs": [
    {
     "data": {
      "text/plain": "                                     source        target\n0      -Albert_King_-_Born_Under_A_Bad_Sign      g1601074\n1      -Albert_King_-_Born_Under_A_Bad_Sign      g1577049\n2      -Albert_King_-_Born_Under_A_Bad_Sign      g1575127\n3      -Albert_King_-_Born_Under_A_Bad_Sign  g-1872221027\n4      -Albert_King_-_Born_Under_A_Bad_Sign    g795292196\n...                                     ...           ...\n18857              -B_B_King_-_Rock_Me_Baby      g1750992\n18858              -B_B_King_-_Rock_Me_Baby    g415858330\n18859              -B_B_King_-_Rock_Me_Baby      g1606844\n18860              -B_B_King_-_Rock_Me_Baby      g1605881\n18866              -B_B_King_-_Rock_Me_Baby      g1603959\n\n[2681 rows x 2 columns]",
      "text/html": "<div>\n<style scoped>\n    .dataframe tbody tr th:only-of-type {\n        vertical-align: middle;\n    }\n\n    .dataframe tbody tr th {\n        vertical-align: top;\n    }\n\n    .dataframe thead th {\n        text-align: right;\n    }\n</style>\n<table border=\"1\" class=\"dataframe\">\n  <thead>\n    <tr style=\"text-align: right;\">\n      <th></th>\n      <th>source</th>\n      <th>target</th>\n    </tr>\n  </thead>\n  <tbody>\n    <tr>\n      <th>0</th>\n      <td>-Albert_King_-_Born_Under_A_Bad_Sign</td>\n      <td>g1601074</td>\n    </tr>\n    <tr>\n      <th>1</th>\n      <td>-Albert_King_-_Born_Under_A_Bad_Sign</td>\n      <td>g1577049</td>\n    </tr>\n    <tr>\n      <th>2</th>\n      <td>-Albert_King_-_Born_Under_A_Bad_Sign</td>\n      <td>g1575127</td>\n    </tr>\n    <tr>\n      <th>3</th>\n      <td>-Albert_King_-_Born_Under_A_Bad_Sign</td>\n      <td>g-1872221027</td>\n    </tr>\n    <tr>\n      <th>4</th>\n      <td>-Albert_King_-_Born_Under_A_Bad_Sign</td>\n      <td>g795292196</td>\n    </tr>\n    <tr>\n      <th>...</th>\n      <td>...</td>\n      <td>...</td>\n    </tr>\n    <tr>\n      <th>18857</th>\n      <td>-B_B_King_-_Rock_Me_Baby</td>\n      <td>g1750992</td>\n    </tr>\n    <tr>\n      <th>18858</th>\n      <td>-B_B_King_-_Rock_Me_Baby</td>\n      <td>g415858330</td>\n    </tr>\n    <tr>\n      <th>18859</th>\n      <td>-B_B_King_-_Rock_Me_Baby</td>\n      <td>g1606844</td>\n    </tr>\n    <tr>\n      <th>18860</th>\n      <td>-B_B_King_-_Rock_Me_Baby</td>\n      <td>g1605881</td>\n    </tr>\n    <tr>\n      <th>18866</th>\n      <td>-B_B_King_-_Rock_Me_Baby</td>\n      <td>g1603959</td>\n    </tr>\n  </tbody>\n</table>\n<p>2681 rows × 2 columns</p>\n</div>"
     },
     "execution_count": 8,
     "metadata": {},
     "output_type": "execute_result"
    }
   ],
   "source": [
    "edges_f.loc[edges_f['edge_type'] == 'MIDI__has__note_group', ['source', 'target']]"
   ],
   "metadata": {
    "collapsed": false
   }
  },
  {
   "cell_type": "markdown",
   "metadata": {},
   "source": [
    "## Graph Build"
   ]
  },
  {
   "cell_type": "code",
   "execution_count": 9,
   "outputs": [],
   "source": [
    "data = HeteroData()\n",
    "\n",
    "data['MIDI'].x = node_categories['MIDI']\n",
    "data['note_group'].x = node_categories['note_group']\n",
    "\n",
    "data['MIDI', 'has', 'note_group'].edge_index = edges_f.loc[edges_f['edge_type'] == 'MIDI__has__note_group', ['source', 'target']]"
   ],
   "metadata": {
    "collapsed": false
   }
  },
  {
   "cell_type": "code",
   "execution_count": 10,
   "outputs": [
    {
     "data": {
      "text/plain": "(['MIDI', 'note_group'], [('MIDI', 'has', 'note_group')])"
     },
     "execution_count": 10,
     "metadata": {},
     "output_type": "execute_result"
    }
   ],
   "source": [
    "data.metadata()"
   ],
   "metadata": {
    "collapsed": false
   }
  },
  {
   "cell_type": "code",
   "execution_count": 11,
   "outputs": [
    {
     "data": {
      "text/plain": "{'x': ['-B_B_King_-_Rock_Me_Baby', '-Albert_King_-_Born_Under_A_Bad_Sign', '-B_B_King_-_How_Blue_Can_You_Get']}"
     },
     "execution_count": 11,
     "metadata": {},
     "output_type": "execute_result"
    }
   ],
   "source": [
    "data['MIDI']"
   ],
   "metadata": {
    "collapsed": false
   }
  },
  {
   "cell_type": "code",
   "execution_count": 12,
   "metadata": {},
   "outputs": [],
   "source": [
    "node_edge_categories = node_categories.copy()\n",
    "node_edge_categories['node_types'] = list(node_categories.keys())\n",
    "node_edge_categories['main_edge_types'] = main_edge_types  # Dictionary containing every string that may be found in our Dataframes"
   ]
  },
  {
   "cell_type": "code",
   "execution_count": 13,
   "outputs": [],
   "source": [
    "names_list = flatten_lol(node_edge_categories.values())\n"
   ],
   "metadata": {
    "collapsed": false
   }
  },
  {
   "cell_type": "code",
   "execution_count": 14,
   "outputs": [
    {
     "data": {
      "text/plain": "True"
     },
     "execution_count": 14,
     "metadata": {},
     "output_type": "execute_result"
    }
   ],
   "source": [
    "len(names_list) == len(set(names_list))"
   ],
   "metadata": {
    "collapsed": false
   }
  },
  {
   "cell_type": "code",
   "execution_count": 15,
   "outputs": [
    {
     "data": {
      "text/plain": "'-Albert_King_-_Born_Under_A_Bad_Sign'"
     },
     "execution_count": 15,
     "metadata": {},
     "output_type": "execute_result"
    }
   ],
   "source": [
    "nodes_f.iloc[0][0]"
   ],
   "metadata": {
    "collapsed": false
   }
  },
  {
   "cell_type": "code",
   "execution_count": 16,
   "outputs": [],
   "source": [
    "encoder = Encoder(names_list)"
   ],
   "metadata": {
    "collapsed": false
   }
  },
  {
   "cell_type": "code",
   "execution_count": 17,
   "outputs": [
    {
     "name": "stdout",
     "output_type": "stream",
     "text": [
      "encode_nodes took 0.48 secs to run\n"
     ]
    },
    {
     "data": {
      "text/plain": "array([[2639, 2706],\n       [   0, 2703],\n       [   1, 2703],\n       ...,\n       [2614, 2704],\n       [2554, 2704],\n       [2579, 2704]])"
     },
     "execution_count": 17,
     "metadata": {},
     "output_type": "execute_result"
    }
   ],
   "source": [
    "nodes_ten = encoder.encode_nodes(nodes_f)\n",
    "\n",
    "nodes_ten.numpy()"
   ],
   "metadata": {
    "collapsed": false
   }
  },
  {
   "cell_type": "code",
   "execution_count": 18,
   "outputs": [
    {
     "name": "stdout",
     "output_type": "stream",
     "text": [
      "encode_edges took 1.90 secs to run\n"
     ]
    },
    {
     "data": {
      "text/plain": "array([[2639,    0, 2714],\n       [2639,    1, 2714],\n       [2639,    2, 2714],\n       ...,\n       [2552, 2565, 2717],\n       [2553, 2609, 2717],\n       [2553, 2667, 2716]])"
     },
     "execution_count": 18,
     "metadata": {},
     "output_type": "execute_result"
    }
   ],
   "source": [
    "edges_ten = encoder.encode_edges(edges_f)\n",
    "edges_ten.numpy()"
   ],
   "metadata": {
    "collapsed": false
   }
  },
  {
   "cell_type": "code",
   "execution_count": 19,
   "outputs": [
    {
     "data": {
      "text/plain": "tensor([[2639,    0],\n        [2639,    1],\n        [2639,    2],\n        ...,\n        [2552, 2565],\n        [2553, 2609],\n        [2553, 2667]], dtype=torch.int32)"
     },
     "execution_count": 19,
     "metadata": {},
     "output_type": "execute_result"
    }
   ],
   "source": [
    "edges_ten[:, :2]"
   ],
   "metadata": {
    "collapsed": false
   }
  },
  {
   "cell_type": "code",
   "execution_count": 20,
   "metadata": {},
   "outputs": [],
   "source": [
    "node_type = nodes_f.iloc[:, 1]\n",
    "\n",
    "# Get the source and target indices from the edges tensor\n",
    "edge_index = edges_ten[:, :2]\n",
    "\n",
    "# Get the edge types from the edges tensor\n",
    "edge_type = edges_f.iloc[:, 2]\n"
   ]
  },
  {
   "cell_type": "code",
   "execution_count": 21,
   "outputs": [],
   "source": [
    "hetero_graph = HeteroData(x=nodes_ten, node_type=node_type, edge_index=edge_index, edge_type=edge_type)"
   ],
   "metadata": {
    "collapsed": false
   }
  },
  {
   "cell_type": "code",
   "execution_count": 22,
   "outputs": [
    {
     "name": "stdout",
     "output_type": "stream",
     "text": [
      "HeteroData(\n",
      "  x=[2703, 2],\n",
      "  node_type=0             MIDI\n",
      "1       note_group\n",
      "2       note_group\n",
      "3       note_group\n",
      "4       note_group\n",
      "           ...    \n",
      "2698       program\n",
      "2699         tempo\n",
      "2700         pitch\n",
      "2701         pitch\n",
      "2702         pitch\n",
      "Name: node_type, Length: 2703, dtype: object,\n",
      "  edge_index=[19366, 2],\n",
      "  edge_type=0              MIDI__has__note_group\n",
      "1              MIDI__has__note_group\n",
      "2              MIDI__has__note_group\n",
      "3              MIDI__has__note_group\n",
      "4              MIDI__has__note_group\n",
      "                    ...             \n",
      "19361      note_group__has__duration\n",
      "19362    note_group__contains__pitch\n",
      "19363    note_group__contains__pitch\n",
      "19364    note_group__contains__pitch\n",
      "19365      note_group__has__duration\n",
      "Name: edge_type, Length: 19366, dtype: object\n",
      ")\n"
     ]
    }
   ],
   "source": [
    "print(hetero_graph)"
   ],
   "metadata": {
    "collapsed": false
   }
  },
  {
   "cell_type": "code",
   "execution_count": null,
   "outputs": [],
   "source": [],
   "metadata": {
    "collapsed": false
   }
  }
 ],
 "metadata": {
  "kernelspec": {
   "display_name": "Python 3 (ipykernel)",
   "language": "python",
   "name": "python3"
  },
  "language_info": {
   "codemirror_mode": {
    "name": "ipython",
    "version": 3
   },
   "file_extension": ".py",
   "mimetype": "text/x-python",
   "name": "python",
   "nbconvert_exporter": "python",
   "pygments_lexer": "ipython3",
   "version": "3.9.15"
  }
 },
 "nbformat": 4,
 "nbformat_minor": 1
}
